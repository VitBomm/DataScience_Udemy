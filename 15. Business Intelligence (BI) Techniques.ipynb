{
 "cells": [
  {
   "cell_type": "markdown",
   "metadata": {},
   "source": [
    "# 15. Business Intelligence (BI) Techniques\n",
    "\n",
    "Information -> business intelligence (BI) analysis <br>\n",
    "Data skills + business knowledge & intuition explain past performance<br>\n",
    "What happened?<br>\n",
    "When did it happen?<br>\n",
    "How many units did we sell?<br>\n",
    "In which region did we sell the most goods?<br>"
   ]
  }
 ],
 "metadata": {
  "kernelspec": {
   "display_name": "Python 3",
   "language": "python",
   "name": "python3"
  },
  "language_info": {
   "codemirror_mode": {
    "name": "ipython",
    "version": 3
   },
   "file_extension": ".py",
   "mimetype": "text/x-python",
   "name": "python",
   "nbconvert_exporter": "python",
   "pygments_lexer": "ipython3",
   "version": "3.8.3"
  }
 },
 "nbformat": 4,
 "nbformat_minor": 4
}
