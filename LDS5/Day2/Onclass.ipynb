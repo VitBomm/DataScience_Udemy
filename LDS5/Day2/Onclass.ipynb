{
 "cells": [
  {
   "cell_type": "markdown",
   "metadata": {},
   "source": [
    "# Day2.\n",
    "## Data-preprocessing - Data Exploration"
   ]
  },
  {
   "cell_type": "markdown",
   "metadata": {},
   "source": [
    "Model = Data + ML <br>\n",
    "Accuracy ~ 95% <br>\n",
    "**Step for prepare data:**\n",
    "1. Variable Identification\n",
    "2. Univariate analysis\n",
    "3. Bi-variate analysis\n",
    "4. Missing values\n",
    "5. Outlier values\n",
    "\n",
    "## Variable identificationn\n",
    "\n",
    "tìm hiểu các kỹ thuật để khám phá và phân tích dữ liệu bằng cách xác định thuộc tính hữu ich kinh tế, tiếp thị phân tích các chỉ số hiệu suất chính( **KPIs- Key performance indicators**)\n",
    "* Xác định thuộc tính\n",
    "* Xác định Input/Predictor and Output/Target\n",
    "* Xác định kiểu dữ liệu của các biến\n",
    "<br>\n",
    "\n",
    "    1. Numerical Data <br>\n",
    "     1.1 Continuous: height, weight, salary, temparature, interest rates<br>\n",
    "     1.2 Discrete: units sold, number of languages spoken, number of students\n",
    "    2. Text <br>\n",
    "     Paper, Text, Mail\n",
    "    3. Categorical <br>\n",
    "     3.1 Nominal <br>\n",
    "     3.2 Ordinal <br>\n",
    "    4. Time series <br>\n",
    "    \n",
    "# continous variables\n",
    "Mean, median, mode, min, max <br>\n",
    "IQR = khoảng cách dữ liệu từ 25% -> 75% <br>\n",
    "IQR = Q₃ − Q₁.<br>\n",
    "max = Q3 + 1.5 IQR <br>\n",
    "min = Q1 - 1.5 IQR <br>\n",
    "\n",
    "# categorical variables\n",
    "value_counts()\n",
    "\n",
    "# Phân tích 2 biến\n",
    "\n",
    "## continuos - continuos -> scatterplot -> theo 1 trật tự -> linear or curvilinear. <br>\n",
    "\n",
    "## categorical - categorical: <br>\n",
    "* two-way table \n",
    "* stacked column chart\n",
    "* Chi-square test"
   ]
  },
  {
   "cell_type": "code",
   "execution_count": 1,
   "metadata": {},
   "outputs": [],
   "source": [
    "import pandas as pd\n",
    "import numpy as np\n",
    "import matplotlib.pyplot as plt\n",
    "import seaborn as sns"
   ]
  },
  {
   "cell_type": "code",
   "execution_count": 2,
   "metadata": {},
   "outputs": [
    {
     "name": "stdout",
     "output_type": "stream",
     "text": [
      "Onclass.ipynb  titanic.csv\r\n"
     ]
    }
   ],
   "source": [
    "ls"
   ]
  },
  {
   "cell_type": "code",
   "execution_count": 3,
   "metadata": {},
   "outputs": [],
   "source": [
    "df = pd.read_csv('titanic.csv')"
   ]
  },
  {
   "cell_type": "code",
   "execution_count": 5,
   "metadata": {},
   "outputs": [
    {
     "data": {
      "text/html": [
       "<div>\n",
       "<style scoped>\n",
       "    .dataframe tbody tr th:only-of-type {\n",
       "        vertical-align: middle;\n",
       "    }\n",
       "\n",
       "    .dataframe tbody tr th {\n",
       "        vertical-align: top;\n",
       "    }\n",
       "\n",
       "    .dataframe thead th {\n",
       "        text-align: right;\n",
       "    }\n",
       "</style>\n",
       "<table border=\"1\" class=\"dataframe\">\n",
       "  <thead>\n",
       "    <tr style=\"text-align: right;\">\n",
       "      <th></th>\n",
       "      <th>Pclass</th>\n",
       "      <th>Sex</th>\n",
       "      <th>Fare</th>\n",
       "    </tr>\n",
       "  </thead>\n",
       "  <tbody>\n",
       "    <tr>\n",
       "      <th>0</th>\n",
       "      <td>3</td>\n",
       "      <td>male</td>\n",
       "      <td>7.2500</td>\n",
       "    </tr>\n",
       "    <tr>\n",
       "      <th>1</th>\n",
       "      <td>1</td>\n",
       "      <td>female</td>\n",
       "      <td>71.2833</td>\n",
       "    </tr>\n",
       "    <tr>\n",
       "      <th>2</th>\n",
       "      <td>3</td>\n",
       "      <td>female</td>\n",
       "      <td>7.9250</td>\n",
       "    </tr>\n",
       "    <tr>\n",
       "      <th>3</th>\n",
       "      <td>1</td>\n",
       "      <td>female</td>\n",
       "      <td>53.1000</td>\n",
       "    </tr>\n",
       "    <tr>\n",
       "      <th>4</th>\n",
       "      <td>3</td>\n",
       "      <td>male</td>\n",
       "      <td>8.0500</td>\n",
       "    </tr>\n",
       "  </tbody>\n",
       "</table>\n",
       "</div>"
      ],
      "text/plain": [
       "   Pclass     Sex     Fare\n",
       "0       3    male   7.2500\n",
       "1       1  female  71.2833\n",
       "2       3  female   7.9250\n",
       "3       1  female  53.1000\n",
       "4       3    male   8.0500"
      ]
     },
     "execution_count": 5,
     "metadata": {},
     "output_type": "execute_result"
    }
   ],
   "source": [
    "d_melt = df[['Pclass', 'Sex', 'Fare']]\n",
    "d_melt.head()"
   ]
  },
  {
   "cell_type": "code",
   "execution_count": 6,
   "metadata": {},
   "outputs": [
    {
     "data": {
      "image/png": "[encoded data removed]",
      "text/plain": [
       "<Figure size 864x720 with 1 Axes>"
      ]
     },
     "metadata": {
      "needs_background": "light"
     },
     "output_type": "display_data"
    }
   ],
   "source": [
    "plt.figure(figsize=(12,10))\n",
    "sns.boxplot(x=\"Sex\", y=\"Fare\",hue=\"Pclass\",data=d_melt, palette=\"Set3\")\n",
    "plt.show()"
   ]
  }
 ],
 "metadata": {
  "kernelspec": {
   "display_name": "Python 3",
   "language": "python",
   "name": "python3"
  },
  "language_info": {
   "codemirror_mode": {
    "name": "ipython",
    "version": 3
   },
   "file_extension": ".py",
   "mimetype": "text/x-python",
   "name": "python",
   "nbconvert_exporter": "python",
   "pygments_lexer": "ipython3",
   "version": "3.8.3"
  }
 },
 "nbformat": 4,
 "nbformat_minor": 4
}
