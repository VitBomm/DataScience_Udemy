{
 "cells": [
  {
   "cell_type": "markdown",
   "metadata": {},
   "source": [
    "<a href=\"https://archive.ics.uci.edu/ml/datasets/wine+quality\"><img src=\"https://archive.ics.uci.edu/ml/assets/logo.gif\" width=\"400\" align=\"center\"></a>\n",
    "\n",
    "<h1 align=\"center\"><font size=\"5\">Project: Automobile - Predict \"Price\"</font></h1>\n",
    "<h2 align=\"center\"><font size=\"5\">Deadline (Version 1.0): 2020-12-03 17:00:00</font></h2>\n",
    "<h3 align=\"center\"><font size=\"5\"> Total marks: 4.0</font></h3>"
   ]
  },
  {
   "cell_type": "markdown",
   "metadata": {},
   "source": [
    "### Your information:\n",
    "- Fullname:\n",
    "- Date of birth:\n",
    "- Place of birth:\n",
    "- Email:\n",
    "- Mobile phone:"
   ]
  },
  {
   "cell_type": "markdown",
   "metadata": {},
   "source": [
    "In this notebook, we practice all the knowledge and skills that we learned in this course.\n",
    "\n",
    "We apply the **Linear Algorithm** to predict: \"price of car\" by accuracy evaluation methods."
   ]
  },
  {
   "cell_type": "markdown",
   "metadata": {},
   "source": [
    "Please read [Automobile information](https://archive.ics.uci.edu/ml/datasets/Automobile) carefully before you do this project!"
   ]
  },
  {
   "cell_type": "markdown",
   "metadata": {},
   "source": [
    "Dataset: imports_85.csv"
   ]
  },
  {
   "cell_type": "markdown",
   "metadata": {},
   "source": [
    "#### Attribute Information:\n",
    "Attribute: Attribute Range\n",
    "1. symboling: -3, -2, -1, 0, 1, 2, 3.\n",
    "2. normalized-losses: continuous from 65 to 256.\n",
    "3. make:\n",
    "alfa-romero, audi, bmw, chevrolet, dodge, honda,\n",
    "isuzu, jaguar, mazda, mercedes-benz, mercury,\n",
    "mitsubishi, nissan, peugot, plymouth, porsche,\n",
    "renault, saab, subaru, toyota, volkswagen, volvo\n",
    "\n",
    "4. fuel-type: diesel, gas.\n",
    "5. aspiration: std, turbo.\n",
    "6. num-of-doors: four, two.\n",
    "7. body-style: hardtop, wagon, sedan, hatchback, convertible.\n",
    "8. drive-wheels: 4wd, fwd, rwd.\n",
    "9. engine-location: front, rear.\n",
    "10. wheel-base: continuous from 86.6 120.9.\n",
    "11. length: continuous from 141.1 to 208.1.\n",
    "12. width: continuous from 60.3 to 72.3.\n",
    "13. height: continuous from 47.8 to 59.8.\n",
    "14. curb-weight: continuous from 1488 to 4066.\n",
    "15. engine-type: dohc, dohcv, l, ohc, ohcf, ohcv, rotor.\n",
    "16. num-of-cylinders: eight, five, four, six, three, twelve, two.\n",
    "17. engine-size: continuous from 61 to 326.\n",
    "18. fuel-system: 1bbl, 2bbl, 4bbl, idi, mfi, mpfi, spdi, spfi.\n",
    "19. bore: continuous from 2.54 to 3.94.\n",
    "20. stroke: continuous from 2.07 to 4.17.\n",
    "21. compression-ratio: continuous from 7 to 23.\n",
    "22. horsepower: continuous from 48 to 288.\n",
    "23. peak-rpm: continuous from 4150 to 6600.\n",
    "24. city-mpg: continuous from 13 to 49.\n",
    "25. highway-mpg: continuous from 16 to 54.\n",
    "26. price: continuous from 5118 to 45400."
   ]
  },
  {
   "cell_type": "markdown",
   "metadata": {},
   "source": [
    "### Requirements:"
   ]
  },
  {
   "cell_type": "markdown",
   "metadata": {},
   "source": [
    "- Data exploration\n",
    "- Data visualization\n",
    "- Pre-processing: Feature selection/extraction\n",
    "- Linear Regression\n",
    "    - Model Evaluation using Test set\n",
    "    - Report"
   ]
  },
  {
   "cell_type": "code",
   "execution_count": 1,
   "metadata": {},
   "outputs": [],
   "source": [
    "import pandas as pd\n",
    "import numpy as np\n",
    "import matplotlib.pyplot as plt\n",
    "import seaborn as sns\n",
    "import scipy\n",
    "import time"
   ]
  },
  {
   "cell_type": "code",
   "execution_count": 2,
   "metadata": {},
   "outputs": [],
   "source": [
    "data = pd.read_csv(\"imports_85.csv\")"
   ]
  },
  {
   "cell_type": "code",
   "execution_count": 3,
   "metadata": {
    "scrolled": true
   },
   "outputs": [
    {
     "data": {
      "text/html": [
       "<div>\n",
       "<style scoped>\n",
       "    .dataframe tbody tr th:only-of-type {\n",
       "        vertical-align: middle;\n",
       "    }\n",
       "\n",
       "    .dataframe tbody tr th {\n",
       "        vertical-align: top;\n",
       "    }\n",
       "\n",
       "    .dataframe thead th {\n",
       "        text-align: right;\n",
       "    }\n",
       "</style>\n",
       "<table border=\"1\" class=\"dataframe\">\n",
       "  <thead>\n",
       "    <tr style=\"text-align: right;\">\n",
       "      <th></th>\n",
       "      <th>3</th>\n",
       "      <th>?</th>\n",
       "      <th>alfa-romero</th>\n",
       "      <th>gas</th>\n",
       "      <th>std</th>\n",
       "      <th>two</th>\n",
       "      <th>convertible</th>\n",
       "      <th>rwd</th>\n",
       "      <th>front</th>\n",
       "      <th>88.60</th>\n",
       "      <th>...</th>\n",
       "      <th>130</th>\n",
       "      <th>mpfi</th>\n",
       "      <th>3.47</th>\n",
       "      <th>2.68</th>\n",
       "      <th>9.00</th>\n",
       "      <th>111</th>\n",
       "      <th>5000</th>\n",
       "      <th>21</th>\n",
       "      <th>27</th>\n",
       "      <th>13495</th>\n",
       "    </tr>\n",
       "  </thead>\n",
       "  <tbody>\n",
       "    <tr>\n",
       "      <th>0</th>\n",
       "      <td>3</td>\n",
       "      <td>?</td>\n",
       "      <td>alfa-romero</td>\n",
       "      <td>gas</td>\n",
       "      <td>std</td>\n",
       "      <td>two</td>\n",
       "      <td>convertible</td>\n",
       "      <td>rwd</td>\n",
       "      <td>front</td>\n",
       "      <td>88.6</td>\n",
       "      <td>...</td>\n",
       "      <td>130</td>\n",
       "      <td>mpfi</td>\n",
       "      <td>3.47</td>\n",
       "      <td>2.68</td>\n",
       "      <td>9.0</td>\n",
       "      <td>111</td>\n",
       "      <td>5000</td>\n",
       "      <td>21</td>\n",
       "      <td>27</td>\n",
       "      <td>16500</td>\n",
       "    </tr>\n",
       "    <tr>\n",
       "      <th>1</th>\n",
       "      <td>1</td>\n",
       "      <td>?</td>\n",
       "      <td>alfa-romero</td>\n",
       "      <td>gas</td>\n",
       "      <td>std</td>\n",
       "      <td>two</td>\n",
       "      <td>hatchback</td>\n",
       "      <td>rwd</td>\n",
       "      <td>front</td>\n",
       "      <td>94.5</td>\n",
       "      <td>...</td>\n",
       "      <td>152</td>\n",
       "      <td>mpfi</td>\n",
       "      <td>2.68</td>\n",
       "      <td>3.47</td>\n",
       "      <td>9.0</td>\n",
       "      <td>154</td>\n",
       "      <td>5000</td>\n",
       "      <td>19</td>\n",
       "      <td>26</td>\n",
       "      <td>16500</td>\n",
       "    </tr>\n",
       "    <tr>\n",
       "      <th>2</th>\n",
       "      <td>2</td>\n",
       "      <td>164</td>\n",
       "      <td>audi</td>\n",
       "      <td>gas</td>\n",
       "      <td>std</td>\n",
       "      <td>four</td>\n",
       "      <td>sedan</td>\n",
       "      <td>fwd</td>\n",
       "      <td>front</td>\n",
       "      <td>99.8</td>\n",
       "      <td>...</td>\n",
       "      <td>109</td>\n",
       "      <td>mpfi</td>\n",
       "      <td>3.19</td>\n",
       "      <td>3.40</td>\n",
       "      <td>10.0</td>\n",
       "      <td>102</td>\n",
       "      <td>5500</td>\n",
       "      <td>24</td>\n",
       "      <td>30</td>\n",
       "      <td>13950</td>\n",
       "    </tr>\n",
       "    <tr>\n",
       "      <th>3</th>\n",
       "      <td>2</td>\n",
       "      <td>164</td>\n",
       "      <td>audi</td>\n",
       "      <td>gas</td>\n",
       "      <td>std</td>\n",
       "      <td>four</td>\n",
       "      <td>sedan</td>\n",
       "      <td>4wd</td>\n",
       "      <td>front</td>\n",
       "      <td>99.4</td>\n",
       "      <td>...</td>\n",
       "      <td>136</td>\n",
       "      <td>mpfi</td>\n",
       "      <td>3.19</td>\n",
       "      <td>3.40</td>\n",
       "      <td>8.0</td>\n",
       "      <td>115</td>\n",
       "      <td>5500</td>\n",
       "      <td>18</td>\n",
       "      <td>22</td>\n",
       "      <td>17450</td>\n",
       "    </tr>\n",
       "    <tr>\n",
       "      <th>4</th>\n",
       "      <td>2</td>\n",
       "      <td>?</td>\n",
       "      <td>audi</td>\n",
       "      <td>gas</td>\n",
       "      <td>std</td>\n",
       "      <td>two</td>\n",
       "      <td>sedan</td>\n",
       "      <td>fwd</td>\n",
       "      <td>front</td>\n",
       "      <td>99.8</td>\n",
       "      <td>...</td>\n",
       "      <td>136</td>\n",
       "      <td>mpfi</td>\n",
       "      <td>3.19</td>\n",
       "      <td>3.40</td>\n",
       "      <td>8.5</td>\n",
       "      <td>110</td>\n",
       "      <td>5500</td>\n",
       "      <td>19</td>\n",
       "      <td>25</td>\n",
       "      <td>15250</td>\n",
       "    </tr>\n",
       "  </tbody>\n",
       "</table>\n",
       "<p>5 rows × 26 columns</p>\n",
       "</div>"
      ],
      "text/plain": [
       "   3    ?  alfa-romero  gas  std   two  convertible  rwd  front  88.60  ...  \\\n",
       "0  3    ?  alfa-romero  gas  std   two  convertible  rwd  front   88.6  ...   \n",
       "1  1    ?  alfa-romero  gas  std   two    hatchback  rwd  front   94.5  ...   \n",
       "2  2  164         audi  gas  std  four        sedan  fwd  front   99.8  ...   \n",
       "3  2  164         audi  gas  std  four        sedan  4wd  front   99.4  ...   \n",
       "4  2    ?         audi  gas  std   two        sedan  fwd  front   99.8  ...   \n",
       "\n",
       "   130  mpfi  3.47  2.68  9.00  111  5000  21  27  13495  \n",
       "0  130  mpfi  3.47  2.68   9.0  111  5000  21  27  16500  \n",
       "1  152  mpfi  2.68  3.47   9.0  154  5000  19  26  16500  \n",
       "2  109  mpfi  3.19  3.40  10.0  102  5500  24  30  13950  \n",
       "3  136  mpfi  3.19  3.40   8.0  115  5500  18  22  17450  \n",
       "4  136  mpfi  3.19  3.40   8.5  110  5500  19  25  15250  \n",
       "\n",
       "[5 rows x 26 columns]"
      ]
     },
     "execution_count": 3,
     "metadata": {},
     "output_type": "execute_result"
    }
   ],
   "source": [
    "data.head()"
   ]
  },
  {
   "cell_type": "code",
   "execution_count": 4,
   "metadata": {},
   "outputs": [
    {
     "data": {
      "text/plain": [
       "(204, 26)"
      ]
     },
     "execution_count": 4,
     "metadata": {},
     "output_type": "execute_result"
    }
   ],
   "source": [
    "data.shape"
   ]
  },
  {
   "cell_type": "code",
   "execution_count": 5,
   "metadata": {},
   "outputs": [
    {
     "name": "stdout",
     "output_type": "stream",
     "text": [
      "<class 'pandas.core.frame.DataFrame'>\n",
      "RangeIndex: 204 entries, 0 to 203\n",
      "Data columns (total 26 columns):\n",
      " #   Column       Non-Null Count  Dtype  \n",
      "---  ------       --------------  -----  \n",
      " 0   3            204 non-null    int64  \n",
      " 1   ?            204 non-null    object \n",
      " 2   alfa-romero  204 non-null    object \n",
      " 3   gas          204 non-null    object \n",
      " 4   std          204 non-null    object \n",
      " 5   two          204 non-null    object \n",
      " 6   convertible  204 non-null    object \n",
      " 7   rwd          204 non-null    object \n",
      " 8   front        204 non-null    object \n",
      " 9   88.60        204 non-null    float64\n",
      " 10  168.80       204 non-null    float64\n",
      " 11  64.10        204 non-null    float64\n",
      " 12  48.80        204 non-null    float64\n",
      " 13  2548         204 non-null    int64  \n",
      " 14  dohc         204 non-null    object \n",
      " 15  four         204 non-null    object \n",
      " 16  130          204 non-null    int64  \n",
      " 17  mpfi         204 non-null    object \n",
      " 18  3.47         204 non-null    object \n",
      " 19  2.68         204 non-null    object \n",
      " 20  9.00         204 non-null    float64\n",
      " 21  111          204 non-null    object \n",
      " 22  5000         204 non-null    object \n",
      " 23  21           204 non-null    int64  \n",
      " 24  27           204 non-null    int64  \n",
      " 25  13495        204 non-null    object \n",
      "dtypes: float64(5), int64(5), object(16)\n",
      "memory usage: 41.6+ KB\n"
     ]
    }
   ],
   "source": [
    "data.info()"
   ]
  },
  {
   "cell_type": "code",
   "execution_count": 6,
   "metadata": {},
   "outputs": [],
   "source": [
    "numbers = [f for f in data.columns if data.dtypes[f] != 'object']"
   ]
  },
  {
   "cell_type": "code",
   "execution_count": 7,
   "metadata": {},
   "outputs": [],
   "source": [
    "categories = [f for f in data.columns if data.dtypes[f] == 'object']"
   ]
  },
  {
   "cell_type": "code",
   "execution_count": 8,
   "metadata": {
    "scrolled": true
   },
   "outputs": [
    {
     "data": {
      "text/plain": [
       "['?',\n",
       " 'alfa-romero',\n",
       " 'gas',\n",
       " 'std',\n",
       " 'two',\n",
       " 'convertible',\n",
       " 'rwd',\n",
       " 'front',\n",
       " 'dohc',\n",
       " 'four',\n",
       " 'mpfi',\n",
       " '3.47',\n",
       " '2.68',\n",
       " '111',\n",
       " '5000',\n",
       " '13495']"
      ]
     },
     "execution_count": 8,
     "metadata": {},
     "output_type": "execute_result"
    }
   ],
   "source": [
    "categories"
   ]
  },
  {
   "cell_type": "code",
   "execution_count": 9,
   "metadata": {
    "scrolled": true
   },
   "outputs": [
    {
     "data": {
      "text/plain": [
       "3              0\n",
       "?              0\n",
       "alfa-romero    0\n",
       "gas            0\n",
       "std            0\n",
       "two            0\n",
       "convertible    0\n",
       "rwd            0\n",
       "front          0\n",
       "88.60          0\n",
       "168.80         0\n",
       "64.10          0\n",
       "48.80          0\n",
       "2548           0\n",
       "dohc           0\n",
       "four           0\n",
       "130            0\n",
       "mpfi           0\n",
       "3.47           0\n",
       "2.68           0\n",
       "9.00           0\n",
       "111            0\n",
       "5000           0\n",
       "21             0\n",
       "27             0\n",
       "13495          0\n",
       "dtype: int64"
      ]
     },
     "execution_count": 9,
     "metadata": {},
     "output_type": "execute_result"
    }
   ],
   "source": [
    "data.isnull().sum()"
   ]
  },
  {
   "cell_type": "code",
   "execution_count": 10,
   "metadata": {},
   "outputs": [
    {
     "data": {
      "text/plain": [
       "'3 88.60 168.80 64.10 48.80 2548 130 9.00 21 27'"
      ]
     },
     "execution_count": 10,
     "metadata": {},
     "output_type": "execute_result"
    }
   ],
   "source": [
    "lst_num = \" \".join(numbers)\n",
    "lst_num"
   ]
  },
  {
   "cell_type": "code",
   "execution_count": 11,
   "metadata": {},
   "outputs": [
    {
     "data": {
      "text/plain": [
       "'? alfa-romero gas std two convertible rwd front dohc four mpfi 3.47 2.68 111 5000 13495'"
      ]
     },
     "execution_count": 11,
     "metadata": {},
     "output_type": "execute_result"
    }
   ],
   "source": [
    "lst_obj = \" \".join(categories)\n",
    "lst_obj"
   ]
  },
  {
   "cell_type": "code",
   "execution_count": 12,
   "metadata": {
    "scrolled": true
   },
   "outputs": [
    {
     "name": "stdout",
     "output_type": "stream",
     "text": [
      "1 / ? \t 52 : ['?' '164' '158' '192' '188' '121' '98' '81' '118' '148' '110' '145' '137'\n",
      " '101' '78' '106' '85' '107' '104' '113' '150' '129' '115' '93' '142'\n",
      " '161' '153' '125' '128' '122' '103' '168' '108' '194' '231' '119' '154'\n",
      " '74' '186' '83' '102' '89' '87' '77' '91' '134' '65' '197' '90' '94'\n",
      " '256' '95']\n",
      "2 / alfa-romero \t 22 : ['alfa-romero' 'audi' 'bmw' 'chevrolet' 'dodge' 'honda' 'isuzu' 'jaguar'\n",
      " 'mazda' 'mercedes-benz' 'mercury' 'mitsubishi' 'nissan' 'peugot'\n",
      " 'plymouth' 'porsche' 'renault' 'saab' 'subaru' 'toyota' 'volkswagen'\n",
      " 'volvo']\n",
      "3 / gas \t 2 : ['gas' 'diesel']\n",
      "4 / std \t 2 : ['std' 'turbo']\n",
      "5 / two \t 3 : ['two' 'four' '?']\n",
      "6 / convertible \t 5 : ['convertible' 'hatchback' 'sedan' 'wagon' 'hardtop']\n",
      "7 / rwd \t 3 : ['rwd' 'fwd' '4wd']\n",
      "8 / front \t 2 : ['front' 'rear']\n",
      "9 / dohc \t 7 : ['dohc' 'ohcv' 'ohc' 'l' 'rotor' 'ohcf' 'dohcv']\n",
      "10 / four \t 7 : ['four' 'six' 'five' 'three' 'twelve' 'two' 'eight']\n",
      "11 / mpfi \t 8 : ['mpfi' '2bbl' 'mfi' '1bbl' 'spfi' '4bbl' 'idi' 'spdi']\n",
      "12 / 3.47 \t 39 : ['3.47' '2.68' '3.19' '3.13' '3.50' '3.31' '3.62' '2.91' '3.03' '2.97'\n",
      " '3.34' '3.60' '2.92' '3.15' '3.43' '3.63' '3.54' '3.08' '?' '3.39' '3.76'\n",
      " '3.58' '3.46' '3.80' '3.78' '3.17' '3.35' '3.59' '2.99' '3.33' '3.70'\n",
      " '3.61' '3.94' '3.74' '2.54' '3.05' '3.27' '3.24' '3.01']\n",
      "13 / 2.68 \t 37 : ['2.68' '3.47' '3.40' '2.80' '3.19' '3.39' '3.03' '3.11' '3.23' '3.46'\n",
      " '3.90' '3.41' '3.07' '3.58' '4.17' '2.76' '3.15' '?' '3.16' '3.64' '3.10'\n",
      " '3.35' '3.12' '3.86' '3.29' '3.27' '3.52' '2.19' '3.21' '2.90' '2.07'\n",
      " '2.36' '2.64' '3.08' '3.50' '3.54' '2.87']\n",
      "14 / 111 \t 60 : ['111' '154' '102' '115' '110' '140' '160' '101' '121' '182' '48' '70'\n",
      " '68' '88' '145' '58' '76' '60' '86' '100' '78' '90' '176' '262' '135'\n",
      " '84' '64' '120' '72' '123' '155' '184' '175' '116' '69' '55' '97' '152'\n",
      " '200' '95' '142' '143' '207' '288' '?' '73' '82' '94' '62' '56' '112'\n",
      " '92' '161' '156' '52' '85' '114' '162' '134' '106']\n",
      "15 / 5000 \t 24 : ['5000' '5500' '5800' '4250' '5400' '5100' '4800' '6000' '4750' '4650'\n",
      " '4200' '4350' '4500' '5200' '4150' '5600' '5900' '5750' '?' '5250' '4900'\n",
      " '4400' '6600' '5300']\n",
      "16 / 13495 \t 186 : ['16500' '13950' '17450' '15250' '17710' '18920' '23875' '?' '16430'\n",
      " '16925' '20970' '21105' '24565' '30760' '41315' '36880' '5151' '6295'\n",
      " '6575' '5572' '6377' '7957' '6229' '6692' '7609' '8558' '8921' '12964'\n",
      " '6479' '6855' '5399' '6529' '7129' '7295' '7895' '9095' '8845' '10295'\n",
      " '12945' '10345' '6785' '11048' '32250' '35550' '36000' '5195' '6095'\n",
      " '6795' '6695' '7395' '10945' '11845' '13645' '15645' '8495' '10595'\n",
      " '10245' '10795' '11245' '18280' '18344' '25552' '28248' '28176' '31600'\n",
      " '34184' '35056' '40960' '45400' '16503' '5389' '6189' '6669' '7689'\n",
      " '9959' '8499' '12629' '14869' '14489' '6989' '8189' '9279' '5499' '7099'\n",
      " '6649' '6849' '7349' '7299' '7799' '7499' '7999' '8249' '8949' '9549'\n",
      " '13499' '14399' '17199' '19699' '18399' '11900' '13200' '12440' '13860'\n",
      " '15580' '16900' '16695' '17075' '16630' '17950' '18150' '12764' '22018'\n",
      " '32528' '34028' '37028' '9295' '9895' '11850' '12170' '15040' '15510'\n",
      " '18620' '5118' '7053' '7603' '7126' '7775' '9960' '9233' '11259' '7463'\n",
      " '10198' '8013' '11694' '5348' '6338' '6488' '6918' '7898' '8778' '6938'\n",
      " '7198' '7788' '7738' '8358' '9258' '8058' '8238' '9298' '9538' '8449'\n",
      " '9639' '9989' '11199' '11549' '17669' '8948' '10698' '9988' '10898'\n",
      " '11248' '16558' '15998' '15690' '15750' '7975' '7995' '8195' '9495'\n",
      " '9995' '11595' '9980' '13295' '13845' '12290' '12940' '13415' '15985'\n",
      " '16515' '18420' '18950' '16845' '19045' '21485' '22470' '22625']\n"
     ]
    }
   ],
   "source": [
    "# Categories\n",
    "i = 1\n",
    "for category in categories:\n",
    "    print(i, \"/\", category, \"\\t\", len(data[category].unique()), \":\", data[category].unique())\n",
    "    i = i + 1"
   ]
  },
  {
   "cell_type": "code",
   "execution_count": 13,
   "metadata": {},
   "outputs": [
    {
     "name": "stdout",
     "output_type": "stream",
     "text": [
      "1 / 3 \t 6 : [ 3  1  2  0 -1 -2]\n",
      "2 / 88.60 \t 53 : \n",
      "3 / 168.80 \t 75 : \n",
      "4 / 64.10 \t 44 : \n",
      "5 / 48.80 \t 49 : \n",
      "6 / 2548 \t 171 : \n",
      "7 / 130 \t 44 : \n",
      "8 / 9.00 \t 32 : \n",
      "9 / 21 \t 29 : \n",
      "10 / 27 \t 30 : \n"
     ]
    }
   ],
   "source": [
    "# continous and category\n",
    "i = 1\n",
    "for obj in numbers:\n",
    "    print(i, \"/\", obj, \"\\t\", len(data[obj].unique()), \":\", data[obj].unique() if len(data[obj].unique()) < 20 else \"\")\n",
    "    i = i + 1"
   ]
  },
  {
   "cell_type": "markdown",
   "metadata": {},
   "source": [
    "## continous in categories:\n",
    "- 13495\n",
    "- 5000\n",
    "- 111\n",
    "- 2.68\n",
    "- 3.47\n",
    "- ?"
   ]
  },
  {
   "cell_type": "code",
   "execution_count": 14,
   "metadata": {},
   "outputs": [],
   "source": [
    "# Continous variables\n",
    "\n",
    "def continous_describe(column_name):\n",
    "    data_temp = data[column_name]\n",
    "    print('Describe data: ', column_name)\n",
    "    print(data_temp.describe())\n",
    "    print(\"----------------\")\n",
    "    print(\"Median data:\")\n",
    "    print(data_temp.median())\n",
    "    print(\"----------------\")\n",
    "    print(\"Mode data:\")\n",
    "    print(data_temp.mode())\n",
    "    print(\"----------------\")\n",
    "    print(\"Mean data:\")\n",
    "    print(data_temp.mean())\n",
    "    print(\"----------------\")\n",
    "    print(\"Q1\")\n",
    "    print(np.percentile(data_temp, 25))\n",
    "    print(\"----------------\")\n",
    "    print(\"Q3\")\n",
    "    print(np.percentile(data_temp, 75))\n",
    "    print(\"----------------\")\n",
    "    print(\"IQR\")\n",
    "    print(scipy.stats.iqr(data_temp))\n",
    "    print(\"----------------\")\n",
    "    print(\"Variance\")\n",
    "    print(data_temp.var())\n",
    "    print(\"----------------\")\n",
    "    print(\"Standard Deviation\")\n",
    "    print(data_temp.std())\n",
    "    print(\"----------------\")\n",
    "    print(\"Skew\")\n",
    "    print(data_temp.skew())\n",
    "    print(\"----------------\")\n",
    "    if data_temp.skew() > 0:\n",
    "        print(\"Phân phối lệch phải\")\n",
    "    elif data_temp.skew() < 0:\n",
    "        print(\" Phân phối lệch trái\")\n",
    "    else:\n",
    "        print(\"Đây là phân phối chuẩn\")\n",
    "    print(\"----------------\")\n",
    "    print(\"Kur\")\n",
    "    print(data_temp.kurtosis())\n",
    "    print(\"----------------\")\n",
    "    if data_temp.kurtosis() > 0:\n",
    "        print(\"Phân phối nhọn hơn phân phối chuẩn\")\n",
    "    elif data_temp.kurtosis() < 0:\n",
    "        print(\" Phân phối bẹt hơn phân phối chuẩn\")\n",
    "    else:\n",
    "        print(\"Đây là phân phối chuẩn\")\n",
    "    print(\"-----------------\")\n",
    "    print(\"-----------------\")\n",
    "    print(\"Visual data\")\n",
    "    plt.figure(figsize=(10,5))\n",
    "    plt.subplot(1,2,1)\n",
    "    sns.distplot(data_temp)\n",
    "    plt.subplot(1,2,2)\n",
    "    plt.hist(data_temp)\n",
    "    plt.show()\n",
    "    plt.figure(figsize=(4,8))\n",
    "    plt.boxplot(data_temp)\n",
    "    plt.show()\n"
   ]
  },
  {
   "cell_type": "markdown",
   "metadata": {},
   "source": []
  },
  {
   "cell_type": "code",
   "execution_count": 15,
   "metadata": {},
   "outputs": [],
   "source": [
    "def is_valid_decimal(s):\n",
    "    try:\n",
    "        float(s)\n",
    "    except ValueError:\n",
    "        return False\n",
    "    else:\n",
    "        return True"
   ]
  },
  {
   "cell_type": "code",
   "execution_count": 16,
   "metadata": {},
   "outputs": [],
   "source": [
    "def replace_median(column_name):\n",
    "    print(\"No validation data: \")\n",
    "    print(data[column_name].loc[data[column_name] == \"?\"])\n",
    "    median_value = data[column_name].loc[pd.to_numeric(data[column_name],errors='coerce').notna()].astype(float).median()\n",
    "    data[column_name] = data[column_name].replace('?', median_value).astype(float)"
   ]
  },
  {
   "cell_type": "code",
   "execution_count": 17,
   "metadata": {},
   "outputs": [
    {
     "name": "stdout",
     "output_type": "stream",
     "text": [
      "No validation data: \n",
      "0      ?\n",
      "1      ?\n",
      "4      ?\n",
      "6      ?\n",
      "8      ?\n",
      "13     ?\n",
      "14     ?\n",
      "15     ?\n",
      "16     ?\n",
      "42     ?\n",
      "43     ?\n",
      "44     ?\n",
      "45     ?\n",
      "47     ?\n",
      "48     ?\n",
      "62     ?\n",
      "65     ?\n",
      "70     ?\n",
      "72     ?\n",
      "73     ?\n",
      "74     ?\n",
      "81     ?\n",
      "82     ?\n",
      "83     ?\n",
      "108    ?\n",
      "109    ?\n",
      "112    ?\n",
      "113    ?\n",
      "123    ?\n",
      "125    ?\n",
      "126    ?\n",
      "127    ?\n",
      "128    ?\n",
      "129    ?\n",
      "130    ?\n",
      "180    ?\n",
      "188    ?\n",
      "190    ?\n",
      "191    ?\n",
      "192    ?\n",
      "Name: ?, dtype: object\n",
      "No validation data: \n",
      "54    ?\n",
      "55    ?\n",
      "56    ?\n",
      "57    ?\n",
      "Name: 3.47, dtype: object\n",
      "No validation data: \n",
      "54    ?\n",
      "55    ?\n",
      "56    ?\n",
      "57    ?\n",
      "Name: 2.68, dtype: object\n",
      "No validation data: \n",
      "129    ?\n",
      "130    ?\n",
      "Name: 111, dtype: object\n",
      "No validation data: \n",
      "129    ?\n",
      "130    ?\n",
      "Name: 5000, dtype: object\n",
      "No validation data: \n",
      "8      ?\n",
      "43     ?\n",
      "44     ?\n",
      "128    ?\n",
      "Name: 13495, dtype: object\n"
     ]
    }
   ],
   "source": [
    "continous_column_with_nominal = [\"?\", \"3.47\", \"2.68\", \"111\", \"5000\", \"13495\"]\n",
    "for continous in continous_column_with_nominal:\n",
    "    replace_median(continous)"
   ]
  },
  {
   "cell_type": "code",
   "execution_count": 18,
   "metadata": {
    "scrolled": true
   },
   "outputs": [
    {
     "name": "stdout",
     "output_type": "stream",
     "text": [
      "<class 'pandas.core.frame.DataFrame'>\n",
      "RangeIndex: 204 entries, 0 to 203\n",
      "Data columns (total 26 columns):\n",
      " #   Column       Non-Null Count  Dtype  \n",
      "---  ------       --------------  -----  \n",
      " 0   3            204 non-null    int64  \n",
      " 1   ?            204 non-null    float64\n",
      " 2   alfa-romero  204 non-null    object \n",
      " 3   gas          204 non-null    object \n",
      " 4   std          204 non-null    object \n",
      " 5   two          204 non-null    object \n",
      " 6   convertible  204 non-null    object \n",
      " 7   rwd          204 non-null    object \n",
      " 8   front        204 non-null    object \n",
      " 9   88.60        204 non-null    float64\n",
      " 10  168.80       204 non-null    float64\n",
      " 11  64.10        204 non-null    float64\n",
      " 12  48.80        204 non-null    float64\n",
      " 13  2548         204 non-null    int64  \n",
      " 14  dohc         204 non-null    object \n",
      " 15  four         204 non-null    object \n",
      " 16  130          204 non-null    int64  \n",
      " 17  mpfi         204 non-null    object \n",
      " 18  3.47         204 non-null    float64\n",
      " 19  2.68         204 non-null    float64\n",
      " 20  9.00         204 non-null    float64\n",
      " 21  111          204 non-null    float64\n",
      " 22  5000         204 non-null    float64\n",
      " 23  21           204 non-null    int64  \n",
      " 24  27           204 non-null    int64  \n",
      " 25  13495        204 non-null    float64\n",
      "dtypes: float64(11), int64(5), object(10)\n",
      "memory usage: 41.6+ KB\n"
     ]
    }
   ],
   "source": [
    "data.info()"
   ]
  },
  {
   "cell_type": "code",
   "execution_count": 19,
   "metadata": {},
   "outputs": [
    {
     "data": {
      "text/html": [
       "<div>\n",
       "<style scoped>\n",
       "    .dataframe tbody tr th:only-of-type {\n",
       "        vertical-align: middle;\n",
       "    }\n",
       "\n",
       "    .dataframe tbody tr th {\n",
       "        vertical-align: top;\n",
       "    }\n",
       "\n",
       "    .dataframe thead th {\n",
       "        text-align: right;\n",
       "    }\n",
       "</style>\n",
       "<table border=\"1\" class=\"dataframe\">\n",
       "  <thead>\n",
       "    <tr style=\"text-align: right;\">\n",
       "      <th></th>\n",
       "      <th>3</th>\n",
       "      <th>?</th>\n",
       "      <th>88.60</th>\n",
       "      <th>168.80</th>\n",
       "      <th>64.10</th>\n",
       "      <th>48.80</th>\n",
       "      <th>2548</th>\n",
       "      <th>130</th>\n",
       "      <th>3.47</th>\n",
       "      <th>2.68</th>\n",
       "      <th>9.00</th>\n",
       "      <th>111</th>\n",
       "      <th>5000</th>\n",
       "      <th>21</th>\n",
       "      <th>27</th>\n",
       "      <th>13495</th>\n",
       "    </tr>\n",
       "  </thead>\n",
       "  <tbody>\n",
       "    <tr>\n",
       "      <th>count</th>\n",
       "      <td>204.000000</td>\n",
       "      <td>204.000000</td>\n",
       "      <td>204.000000</td>\n",
       "      <td>204.000000</td>\n",
       "      <td>204.000000</td>\n",
       "      <td>204.000000</td>\n",
       "      <td>204.000000</td>\n",
       "      <td>204.000000</td>\n",
       "      <td>204.000000</td>\n",
       "      <td>204.000000</td>\n",
       "      <td>204.000000</td>\n",
       "      <td>204.000000</td>\n",
       "      <td>204.000000</td>\n",
       "      <td>204.000000</td>\n",
       "      <td>204.000000</td>\n",
       "      <td>204.000000</td>\n",
       "    </tr>\n",
       "    <tr>\n",
       "      <th>mean</th>\n",
       "      <td>0.823529</td>\n",
       "      <td>120.627451</td>\n",
       "      <td>98.806373</td>\n",
       "      <td>174.075000</td>\n",
       "      <td>65.916667</td>\n",
       "      <td>53.749020</td>\n",
       "      <td>2555.602941</td>\n",
       "      <td>126.892157</td>\n",
       "      <td>3.328676</td>\n",
       "      <td>3.258922</td>\n",
       "      <td>10.148137</td>\n",
       "      <td>104.132353</td>\n",
       "      <td>5126.715686</td>\n",
       "      <td>25.240196</td>\n",
       "      <td>30.769608</td>\n",
       "      <td>13148.127451</td>\n",
       "    </tr>\n",
       "    <tr>\n",
       "      <th>std</th>\n",
       "      <td>1.239035</td>\n",
       "      <td>31.880912</td>\n",
       "      <td>5.994144</td>\n",
       "      <td>12.362123</td>\n",
       "      <td>2.146716</td>\n",
       "      <td>2.424901</td>\n",
       "      <td>521.960820</td>\n",
       "      <td>41.744569</td>\n",
       "      <td>0.271344</td>\n",
       "      <td>0.311781</td>\n",
       "      <td>3.981000</td>\n",
       "      <td>39.624060</td>\n",
       "      <td>478.126988</td>\n",
       "      <td>6.551513</td>\n",
       "      <td>6.898337</td>\n",
       "      <td>7898.645692</td>\n",
       "    </tr>\n",
       "    <tr>\n",
       "      <th>min</th>\n",
       "      <td>-2.000000</td>\n",
       "      <td>65.000000</td>\n",
       "      <td>86.600000</td>\n",
       "      <td>141.100000</td>\n",
       "      <td>60.300000</td>\n",
       "      <td>47.800000</td>\n",
       "      <td>1488.000000</td>\n",
       "      <td>61.000000</td>\n",
       "      <td>2.540000</td>\n",
       "      <td>2.070000</td>\n",
       "      <td>7.000000</td>\n",
       "      <td>48.000000</td>\n",
       "      <td>4150.000000</td>\n",
       "      <td>13.000000</td>\n",
       "      <td>16.000000</td>\n",
       "      <td>5118.000000</td>\n",
       "    </tr>\n",
       "    <tr>\n",
       "      <th>25%</th>\n",
       "      <td>0.000000</td>\n",
       "      <td>101.000000</td>\n",
       "      <td>94.500000</td>\n",
       "      <td>166.300000</td>\n",
       "      <td>64.075000</td>\n",
       "      <td>52.000000</td>\n",
       "      <td>2145.000000</td>\n",
       "      <td>97.000000</td>\n",
       "      <td>3.150000</td>\n",
       "      <td>3.110000</td>\n",
       "      <td>8.575000</td>\n",
       "      <td>70.000000</td>\n",
       "      <td>4800.000000</td>\n",
       "      <td>19.000000</td>\n",
       "      <td>25.000000</td>\n",
       "      <td>7784.750000</td>\n",
       "    </tr>\n",
       "    <tr>\n",
       "      <th>50%</th>\n",
       "      <td>1.000000</td>\n",
       "      <td>115.000000</td>\n",
       "      <td>97.000000</td>\n",
       "      <td>173.200000</td>\n",
       "      <td>65.500000</td>\n",
       "      <td>54.100000</td>\n",
       "      <td>2414.000000</td>\n",
       "      <td>119.500000</td>\n",
       "      <td>3.310000</td>\n",
       "      <td>3.290000</td>\n",
       "      <td>9.000000</td>\n",
       "      <td>95.000000</td>\n",
       "      <td>5200.000000</td>\n",
       "      <td>24.000000</td>\n",
       "      <td>30.000000</td>\n",
       "      <td>10270.000000</td>\n",
       "    </tr>\n",
       "    <tr>\n",
       "      <th>75%</th>\n",
       "      <td>2.000000</td>\n",
       "      <td>137.000000</td>\n",
       "      <td>102.400000</td>\n",
       "      <td>183.200000</td>\n",
       "      <td>66.900000</td>\n",
       "      <td>55.500000</td>\n",
       "      <td>2939.250000</td>\n",
       "      <td>142.000000</td>\n",
       "      <td>3.582500</td>\n",
       "      <td>3.410000</td>\n",
       "      <td>9.400000</td>\n",
       "      <td>116.000000</td>\n",
       "      <td>5500.000000</td>\n",
       "      <td>30.000000</td>\n",
       "      <td>34.500000</td>\n",
       "      <td>16500.000000</td>\n",
       "    </tr>\n",
       "    <tr>\n",
       "      <th>max</th>\n",
       "      <td>3.000000</td>\n",
       "      <td>256.000000</td>\n",
       "      <td>120.900000</td>\n",
       "      <td>208.100000</td>\n",
       "      <td>72.300000</td>\n",
       "      <td>59.800000</td>\n",
       "      <td>4066.000000</td>\n",
       "      <td>326.000000</td>\n",
       "      <td>3.940000</td>\n",
       "      <td>4.170000</td>\n",
       "      <td>23.000000</td>\n",
       "      <td>288.000000</td>\n",
       "      <td>6600.000000</td>\n",
       "      <td>49.000000</td>\n",
       "      <td>54.000000</td>\n",
       "      <td>45400.000000</td>\n",
       "    </tr>\n",
       "  </tbody>\n",
       "</table>\n",
       "</div>"
      ],
      "text/plain": [
       "                3           ?       88.60      168.80       64.10       48.80  \\\n",
       "count  204.000000  204.000000  204.000000  204.000000  204.000000  204.000000   \n",
       "mean     0.823529  120.627451   98.806373  174.075000   65.916667   53.749020   \n",
       "std      1.239035   31.880912    5.994144   12.362123    2.146716    2.424901   \n",
       "min     -2.000000   65.000000   86.600000  141.100000   60.300000   47.800000   \n",
       "25%      0.000000  101.000000   94.500000  166.300000   64.075000   52.000000   \n",
       "50%      1.000000  115.000000   97.000000  173.200000   65.500000   54.100000   \n",
       "75%      2.000000  137.000000  102.400000  183.200000   66.900000   55.500000   \n",
       "max      3.000000  256.000000  120.900000  208.100000   72.300000   59.800000   \n",
       "\n",
       "              2548         130        3.47        2.68        9.00  \\\n",
       "count   204.000000  204.000000  204.000000  204.000000  204.000000   \n",
       "mean   2555.602941  126.892157    3.328676    3.258922   10.148137   \n",
       "std     521.960820   41.744569    0.271344    0.311781    3.981000   \n",
       "min    1488.000000   61.000000    2.540000    2.070000    7.000000   \n",
       "25%    2145.000000   97.000000    3.150000    3.110000    8.575000   \n",
       "50%    2414.000000  119.500000    3.310000    3.290000    9.000000   \n",
       "75%    2939.250000  142.000000    3.582500    3.410000    9.400000   \n",
       "max    4066.000000  326.000000    3.940000    4.170000   23.000000   \n",
       "\n",
       "              111         5000          21          27         13495  \n",
       "count  204.000000   204.000000  204.000000  204.000000    204.000000  \n",
       "mean   104.132353  5126.715686   25.240196   30.769608  13148.127451  \n",
       "std     39.624060   478.126988    6.551513    6.898337   7898.645692  \n",
       "min     48.000000  4150.000000   13.000000   16.000000   5118.000000  \n",
       "25%     70.000000  4800.000000   19.000000   25.000000   7784.750000  \n",
       "50%     95.000000  5200.000000   24.000000   30.000000  10270.000000  \n",
       "75%    116.000000  5500.000000   30.000000   34.500000  16500.000000  \n",
       "max    288.000000  6600.000000   49.000000   54.000000  45400.000000  "
      ]
     },
     "execution_count": 19,
     "metadata": {},
     "output_type": "execute_result"
    }
   ],
   "source": [
    "data.describe()"
   ]
  },
  {
   "cell_type": "code",
   "execution_count": 20,
   "metadata": {},
   "outputs": [],
   "source": [
    "categories = [f for f in data.columns if data.dtypes[f] == 'object']"
   ]
  },
  {
   "cell_type": "code",
   "execution_count": 21,
   "metadata": {},
   "outputs": [
    {
     "name": "stdout",
     "output_type": "stream",
     "text": [
      "1 / alfa-romero \t 22 : ['alfa-romero' 'audi' 'bmw' 'chevrolet' 'dodge' 'honda' 'isuzu' 'jaguar'\n",
      " 'mazda' 'mercedes-benz' 'mercury' 'mitsubishi' 'nissan' 'peugot'\n",
      " 'plymouth' 'porsche' 'renault' 'saab' 'subaru' 'toyota' 'volkswagen'\n",
      " 'volvo']\n",
      "2 / gas \t 2 : ['gas' 'diesel']\n",
      "3 / std \t 2 : ['std' 'turbo']\n",
      "4 / two \t 3 : ['two' 'four' '?']\n",
      "5 / convertible \t 5 : ['convertible' 'hatchback' 'sedan' 'wagon' 'hardtop']\n",
      "6 / rwd \t 3 : ['rwd' 'fwd' '4wd']\n",
      "7 / front \t 2 : ['front' 'rear']\n",
      "8 / dohc \t 7 : ['dohc' 'ohcv' 'ohc' 'l' 'rotor' 'ohcf' 'dohcv']\n",
      "9 / four \t 7 : ['four' 'six' 'five' 'three' 'twelve' 'two' 'eight']\n",
      "10 / mpfi \t 8 : ['mpfi' '2bbl' 'mfi' '1bbl' 'spfi' '4bbl' 'idi' 'spdi']\n"
     ]
    }
   ],
   "source": [
    "# Categories\n",
    "i = 1\n",
    "for category in categories:\n",
    "    print(i, \"/\", category, \"\\t\", len(data[category].unique()), \":\", data[category].unique())\n",
    "    i = i + 1"
   ]
  },
  {
   "cell_type": "markdown",
   "metadata": {},
   "source": [
    "## Continous \n",
    "- Original-Column-Name: 88.60\n",
    "    * Real-Name: wheel-base\n",
    "    * The wheelbase is the horizontal distance between the centers of the front and rear wheels.\n",
    "- Original-Column-Name: 168.80\n",
    "    * Real-Name: length\n",
    "    * The length of the car\n",
    "- Original-Column-Name: 64.10\n",
    "    * Real-Name: width\n",
    "    * The width of the car\n",
    "- Original-Column-Name: 48.80\n",
    "    * Real-Name: height\n",
    "    * The height of the car\n",
    "- Original-Column-Name: 2548\n",
    "    * Real-Name: curb-weight\n",
    "    * The weight of the car\n",
    "- Original-Column-Name: 130\n",
    "    * Real-Name: engine-size\n",
    "    * The engine-size\n",
    "- Original-Column-Name: 9.00\n",
    "    * Real-Name: compression-ratio\n",
    "    * The compression-ration high is good\n",
    "- Original-Column-Name: 21\n",
    "    * Real-Name: city-mpg\n",
    "    * The miles per gallon in city\n",
    "- Original-Column-Name: 27\n",
    "    * Real-Name: highway-mpg\n",
    "    * The miles per gallon in highway\n",
    "- Original-Column-Name: ?\n",
    "    * Real-Name: normalized-losses\n",
    "    * The second attribute “normalized-losses” is the relative average loss payment per insured vehicle year\n",
    "- Original-Column-Name: 3.47\n",
    "    * Real-Name: bore\n",
    "    * An engine's bore is the diameter of each cylinder,\n",
    "- Original-Column-Name: 2.68\n",
    "    * Real-Name: stroke\n",
    "    * A stroke refers to the full travel of the piston along the cylinder, in either direction\n",
    "- Original-Column-Name: 111\n",
    "    * Real-Name: horsepower\n",
    "    * Horse Power"
   ]
  },
  {
   "cell_type": "code",
   "execution_count": 22,
   "metadata": {
    "scrolled": false
   },
   "outputs": [
    {
     "name": "stdout",
     "output_type": "stream",
     "text": [
      "Describe data:  88.60\n",
      "count    204.000000\n",
      "mean      98.806373\n",
      "std        5.994144\n",
      "min       86.600000\n",
      "25%       94.500000\n",
      "50%       97.000000\n",
      "75%      102.400000\n",
      "max      120.900000\n",
      "Name: 88.60, dtype: float64\n",
      "----------------\n",
      "Median data:\n",
      "97.0\n",
      "----------------\n",
      "Mode data:\n",
      "0    94.5\n",
      "dtype: float64\n",
      "----------------\n",
      "Mean data:\n",
      "98.80637254901971\n",
      "----------------\n",
      "Q1\n",
      "94.5\n",
      "----------------\n",
      "Q3\n",
      "102.4\n",
      "----------------\n",
      "IQR\n",
      "7.900000000000006\n",
      "----------------\n",
      "Variance\n",
      "35.92976214623785\n",
      "----------------\n",
      "Standard Deviation\n",
      "5.994143987779894\n",
      "----------------\n",
      "Skew\n",
      "1.0691380372902322\n",
      "----------------\n",
      "Phân phối lệch phải\n",
      "----------------\n",
      "Kur\n",
      "1.03473386008092\n",
      "----------------\n",
      "Phân phối nhọn hơn phân phối chuẩn\n",
      "-----------------\n",
      "-----------------\n",
      "Visual data\n"
     ]
    },
    {
     "data": {
      "image/png": "[encoded data removed]",
      "text/plain": [
       "<Figure size 720x360 with 2 Axes>"
      ]
     },
     "metadata": {
      "needs_background": "light"
     },
     "output_type": "display_data"
    },
    {
     "data": {
      "image/png": "[encoded data removed]",
      "text/plain": [
       "<Figure size 288x576 with 1 Axes>"
      ]
     },
     "metadata": {
      "needs_background": "light"
     },
     "output_type": "display_data"
    },
    {
     "name": "stdout",
     "output_type": "stream",
     "text": [
      "Describe data:  168.80\n",
      "count    204.000000\n",
      "mean     174.075000\n",
      "std       12.362123\n",
      "min      141.100000\n",
      "25%      166.300000\n",
      "50%      173.200000\n",
      "75%      183.200000\n",
      "max      208.100000\n",
      "Name: 168.80, dtype: float64\n",
      "----------------\n",
      "Median data:\n",
      "173.2\n",
      "----------------\n",
      "Mode data:\n",
      "0    157.3\n",
      "dtype: float64\n",
      "----------------\n",
      "Mean data:\n",
      "174.07500000000013\n",
      "----------------\n",
      "Q1\n",
      "166.3\n",
      "----------------\n",
      "Q3\n",
      "183.2\n",
      "----------------\n",
      "IQR\n",
      "16.899999999999977\n",
      "----------------\n",
      "Variance\n",
      "152.82208128078818\n",
      "----------------\n",
      "Standard Deviation\n",
      "12.362122846857176\n",
      "----------------\n",
      "Skew\n",
      "0.1498614848939057\n",
      "----------------\n",
      "Phân phối lệch phải\n",
      "----------------\n",
      "Kur\n",
      "-0.09340851502383396\n",
      "----------------\n",
      " Phân phối bẹt hơn phân phối chuẩn\n",
      "-----------------\n",
      "-----------------\n",
      "Visual data\n"
     ]
    },
    {
     "data": {
      "image/png": "[encoded data removed]",
      "text/plain": [
       "<Figure size 720x360 with 2 Axes>"
      ]
     },
     "metadata": {
      "needs_background": "light"
     },
     "output_type": "display_data"
    },
    {
     "data": {
      "image/png": "[encoded data removed]",
      "text/plain": [
       "<Figure size 288x576 with 1 Axes>"
      ]
     },
     "metadata": {
      "needs_background": "light"
     },
     "output_type": "display_data"
    },
    {
     "name": "stdout",
     "output_type": "stream",
     "text": [
      "Describe data:  64.10\n",
      "count    204.000000\n",
      "mean      65.916667\n",
      "std        2.146716\n",
      "min       60.300000\n",
      "25%       64.075000\n",
      "50%       65.500000\n",
      "75%       66.900000\n",
      "max       72.300000\n",
      "Name: 64.10, dtype: float64\n",
      "----------------\n",
      "Median data:\n",
      "65.5\n",
      "----------------\n",
      "Mode data:\n",
      "0    63.8\n",
      "dtype: float64\n",
      "----------------\n",
      "Mean data:\n",
      "65.91666666666664\n",
      "----------------\n",
      "Q1\n",
      "64.07499999999999\n",
      "----------------\n",
      "Q3\n",
      "66.9\n",
      "----------------\n",
      "IQR\n",
      "2.825000000000017\n",
      "----------------\n",
      "Variance\n",
      "4.608390804597707\n",
      "----------------\n",
      "Standard Deviation\n",
      "2.1467162841413643\n",
      "----------------\n",
      "Skew\n",
      "0.8970459278643774\n",
      "----------------\n",
      "Phân phối lệch phải\n",
      "----------------\n",
      "Kur\n",
      "0.693180464121312\n",
      "----------------\n",
      "Phân phối nhọn hơn phân phối chuẩn\n",
      "-----------------\n",
      "-----------------\n",
      "Visual data\n"
     ]
    },
    {
     "data": {
      "image/png": "[encoded data removed]",
      "text/plain": [
       "<Figure size 720x360 with 2 Axes>"
      ]
     },
     "metadata": {
      "needs_background": "light"
     },
     "output_type": "display_data"
    },
    {
     "data": {
      "image/png": "[encoded data removed]",
      "text/plain": [
       "<Figure size 288x576 with 1 Axes>"
      ]
     },
     "metadata": {
      "needs_background": "light"
     },
     "output_type": "display_data"
    },
    {
     "name": "stdout",
     "output_type": "stream",
     "text": [
      "Describe data:  48.80\n",
      "count    204.000000\n",
      "mean      53.749020\n",
      "std        2.424901\n",
      "min       47.800000\n",
      "25%       52.000000\n",
      "50%       54.100000\n",
      "75%       55.500000\n",
      "max       59.800000\n",
      "Name: 48.80, dtype: float64\n",
      "----------------\n",
      "Median data:\n",
      "54.1\n",
      "----------------\n",
      "Mode data:\n",
      "0    50.8\n",
      "dtype: float64\n",
      "----------------\n",
      "Mean data:\n",
      "53.74901960784318\n",
      "----------------\n",
      "Q1\n",
      "52.0\n",
      "----------------\n",
      "Q3\n",
      "55.5\n",
      "----------------\n",
      "IQR\n",
      "3.5\n",
      "----------------\n",
      "Variance\n",
      "5.880146817347625\n",
      "----------------\n",
      "Standard Deviation\n",
      "2.4249014036343053\n",
      "----------------\n",
      "Skew\n",
      "0.07642168121691682\n",
      "----------------\n",
      "Phân phối lệch phải\n",
      "----------------\n",
      "Kur\n",
      "-0.4396671778198833\n",
      "----------------\n",
      " Phân phối bẹt hơn phân phối chuẩn\n",
      "-----------------\n",
      "-----------------\n",
      "Visual data\n"
     ]
    },
    {
     "data": {
      "image/png": "[encoded data removed]",
      "text/plain": [
       "<Figure size 720x360 with 2 Axes>"
      ]
     },
     "metadata": {
      "needs_background": "light"
     },
     "output_type": "display_data"
    },
    {
     "data": {
      "image/png": "[encoded data removed]",
      "text/plain": [
       "<Figure size 288x576 with 1 Axes>"
      ]
     },
     "metadata": {
      "needs_background": "light"
     },
     "output_type": "display_data"
    },
    {
     "name": "stdout",
     "output_type": "stream",
     "text": [
      "Describe data:  2548\n",
      "count     204.000000\n",
      "mean     2555.602941\n",
      "std       521.960820\n",
      "min      1488.000000\n",
      "25%      2145.000000\n",
      "50%      2414.000000\n",
      "75%      2939.250000\n",
      "max      4066.000000\n",
      "Name: 2548, dtype: float64\n",
      "----------------\n",
      "Median data:\n",
      "2414.0\n",
      "----------------\n",
      "Mode data:\n",
      "0    2385\n",
      "dtype: int64\n",
      "----------------\n",
      "Mean data:\n",
      "2555.6029411764707\n",
      "----------------\n",
      "Q1\n",
      "2145.0\n",
      "----------------\n",
      "Q3\n",
      "2939.25\n",
      "----------------\n",
      "IQR\n",
      "794.25\n",
      "----------------\n",
      "Variance\n",
      "272443.09772529703\n",
      "----------------\n",
      "Standard Deviation\n",
      "521.9608201055871\n",
      "----------------\n",
      "Skew\n",
      "0.6795446752972754\n",
      "----------------\n",
      "Phân phối lệch phải\n",
      "----------------\n",
      "Kur\n",
      "-0.057548689852898516\n",
      "----------------\n",
      " Phân phối bẹt hơn phân phối chuẩn\n",
      "-----------------\n",
      "-----------------\n",
      "Visual data\n"
     ]
    },
    {
     "data": {
      "image/png": "[encoded data removed]",
      "text/plain": [
       "<Figure size 720x360 with 2 Axes>"
      ]
     },
     "metadata": {
      "needs_background": "light"
     },
     "output_type": "display_data"
    },
    {
     "data": {
      "image/png": "[encoded data removed]",
      "text/plain": [
       "<Figure size 288x576 with 1 Axes>"
      ]
     },
     "metadata": {
      "needs_background": "light"
     },
     "output_type": "display_data"
    },
    {
     "name": "stdout",
     "output_type": "stream",
     "text": [
      "Describe data:  130\n",
      "count    204.000000\n",
      "mean     126.892157\n",
      "std       41.744569\n",
      "min       61.000000\n",
      "25%       97.000000\n",
      "50%      119.500000\n",
      "75%      142.000000\n",
      "max      326.000000\n",
      "Name: 130, dtype: float64\n",
      "----------------\n",
      "Median data:\n",
      "119.5\n",
      "----------------\n",
      "Mode data:\n",
      "0     92\n",
      "1    122\n",
      "dtype: int64\n",
      "----------------\n",
      "Mean data:\n",
      "126.8921568627451\n",
      "----------------\n",
      "Q1\n",
      "97.0\n",
      "----------------\n",
      "Q3\n",
      "142.0\n",
      "----------------\n",
      "IQR\n",
      "45.0\n",
      "----------------\n",
      "Variance\n",
      "1742.6090022215765\n",
      "----------------\n",
      "Standard Deviation\n",
      "41.74456853557809\n",
      "----------------\n",
      "Skew\n",
      "1.9441468027818227\n",
      "----------------\n",
      "Phân phối lệch phải\n",
      "----------------\n",
      "Kur\n",
      "5.269061931812516\n",
      "----------------\n",
      "Phân phối nhọn hơn phân phối chuẩn\n",
      "-----------------\n",
      "-----------------\n",
      "Visual data\n"
     ]
    },
    {
     "data": {
      "image/png": "[encoded data removed]",
      "text/plain": [
       "<Figure size 720x360 with 2 Axes>"
      ]
     },
     "metadata": {
      "needs_background": "light"
     },
     "output_type": "display_data"
    },
    {
     "data": {
      "image/png": "[encoded data removed]",
      "text/plain": [
       "<Figure size 288x576 with 1 Axes>"
      ]
     },
     "metadata": {
      "needs_background": "light"
     },
     "output_type": "display_data"
    },
    {
     "name": "stdout",
     "output_type": "stream",
     "text": [
      "Describe data:  9.00\n",
      "count    204.000000\n",
      "mean      10.148137\n",
      "std        3.981000\n",
      "min        7.000000\n",
      "25%        8.575000\n",
      "50%        9.000000\n",
      "75%        9.400000\n",
      "max       23.000000\n",
      "Name: 9.00, dtype: float64\n",
      "----------------\n",
      "Median data:\n",
      "9.0\n",
      "----------------\n",
      "Mode data:\n",
      "0    9.0\n",
      "dtype: float64\n",
      "----------------\n",
      "Mean data:\n",
      "10.148137254901963\n",
      "----------------\n",
      "Q1\n",
      "8.575\n",
      "----------------\n",
      "Q3\n",
      "9.4\n",
      "----------------\n",
      "IQR\n",
      "0.8250000000000011\n",
      "----------------\n",
      "Variance\n",
      "15.848362030329348\n",
      "----------------\n",
      "Standard Deviation\n",
      "3.981000129405844\n",
      "----------------\n",
      "Skew\n",
      "2.6020296256258626\n",
      "----------------\n",
      "Phân phối lệch phải\n",
      "----------------\n",
      "Kur\n",
      "5.185187522668098\n",
      "----------------\n",
      "Phân phối nhọn hơn phân phối chuẩn\n",
      "-----------------\n",
      "-----------------\n",
      "Visual data\n"
     ]
    },
    {
     "data": {
      "image/png": "[encoded data removed]",
      "text/plain": [
       "<Figure size 720x360 with 2 Axes>"
      ]
     },
     "metadata": {
      "needs_background": "light"
     },
     "output_type": "display_data"
    },
    {
     "data": {
      "image/png": "[encoded data removed]",
      "text/plain": [
       "<Figure size 288x576 with 1 Axes>"
      ]
     },
     "metadata": {
      "needs_background": "light"
     },
     "output_type": "display_data"
    },
    {
     "name": "stdout",
     "output_type": "stream",
     "text": [
      "Describe data:  21\n",
      "count    204.000000\n",
      "mean      25.240196\n",
      "std        6.551513\n",
      "min       13.000000\n",
      "25%       19.000000\n",
      "50%       24.000000\n",
      "75%       30.000000\n",
      "max       49.000000\n",
      "Name: 21, dtype: float64\n",
      "----------------\n",
      "Median data:\n",
      "24.0\n",
      "----------------\n",
      "Mode data:\n",
      "0    31\n",
      "dtype: int64\n",
      "----------------\n",
      "Mean data:\n",
      "25.24019607843137\n",
      "----------------\n",
      "Q1\n",
      "19.0\n",
      "----------------\n",
      "Q3\n",
      "30.0\n",
      "----------------\n",
      "IQR\n",
      "11.0\n",
      "----------------\n",
      "Variance\n",
      "42.922317202743216\n",
      "----------------\n",
      "Standard Deviation\n",
      "6.5515125889174035\n",
      "----------------\n",
      "Skew\n",
      "0.6559115688646978\n",
      "----------------\n",
      "Phân phối lệch phải\n",
      "----------------\n",
      "Kur\n",
      "0.5666289667132607\n",
      "----------------\n",
      "Phân phối nhọn hơn phân phối chuẩn\n",
      "-----------------\n",
      "-----------------\n",
      "Visual data\n"
     ]
    },
    {
     "data": {
      "image/png": "[encoded data removed]",
      "text/plain": [
       "<Figure size 720x360 with 2 Axes>"
      ]
     },
     "metadata": {
      "needs_background": "light"
     },
     "output_type": "display_data"
    },
    {
     "data": {
      "image/png": "[encoded data removed]",
      "text/plain": [
       "<Figure size 288x576 with 1 Axes>"
      ]
     },
     "metadata": {
      "needs_background": "light"
     },
     "output_type": "display_data"
    },
    {
     "name": "stdout",
     "output_type": "stream",
     "text": [
      "Describe data:  27\n",
      "count    204.000000\n",
      "mean      30.769608\n",
      "std        6.898337\n",
      "min       16.000000\n",
      "25%       25.000000\n",
      "50%       30.000000\n",
      "75%       34.500000\n",
      "max       54.000000\n",
      "Name: 27, dtype: float64\n",
      "----------------\n",
      "Median data:\n",
      "30.0\n",
      "----------------\n",
      "Mode data:\n",
      "0    25\n",
      "dtype: int64\n",
      "----------------\n",
      "Mean data:\n",
      "30.769607843137255\n",
      "----------------\n",
      "Q1\n",
      "25.0\n",
      "----------------\n",
      "Q3\n",
      "34.5\n",
      "----------------\n",
      "IQR\n",
      "9.5\n",
      "----------------\n",
      "Variance\n",
      "47.5870520622042\n",
      "----------------\n",
      "Standard Deviation\n",
      "6.898336905530506\n",
      "----------------\n",
      "Skew\n",
      "0.5326052213177073\n",
      "----------------\n",
      "Phân phối lệch phải\n",
      "----------------\n",
      "Kur\n",
      "0.42714988492728523\n",
      "----------------\n",
      "Phân phối nhọn hơn phân phối chuẩn\n",
      "-----------------\n",
      "-----------------\n",
      "Visual data\n"
     ]
    },
    {
     "data": {
      "image/png": "[encoded data removed]",
      "text/plain": [
       "<Figure size 720x360 with 2 Axes>"
      ]
     },
     "metadata": {
      "needs_background": "light"
     },
     "output_type": "display_data"
    },
    {
     "data": {
      "image/png": "[encoded data removed]",
      "text/plain": [
       "<Figure size 288x576 with 1 Axes>"
      ]
     },
     "metadata": {
      "needs_background": "light"
     },
     "output_type": "display_data"
    },
    {
     "name": "stdout",
     "output_type": "stream",
     "text": [
      "Describe data:  ?\n",
      "count    204.000000\n",
      "mean     120.627451\n",
      "std       31.880912\n",
      "min       65.000000\n",
      "25%      101.000000\n",
      "50%      115.000000\n",
      "75%      137.000000\n",
      "max      256.000000\n",
      "Name: ?, dtype: float64\n",
      "----------------\n",
      "Median data:\n",
      "115.0\n",
      "----------------\n",
      "Mode data:\n",
      "0    115.0\n",
      "dtype: float64\n",
      "----------------\n",
      "Mean data:\n",
      "120.62745098039215\n",
      "----------------\n",
      "Q1\n",
      "101.0\n",
      "----------------\n",
      "Q3\n",
      "137.0\n",
      "----------------\n",
      "IQR\n",
      "36.0\n",
      "----------------\n",
      "Variance\n",
      "1016.3925432241873\n",
      "----------------\n",
      "Standard Deviation\n",
      "31.88091189448927\n",
      "----------------\n",
      "Skew\n",
      "0.9714065434582817\n",
      "----------------\n",
      "Phân phối lệch phải\n",
      "----------------\n",
      "Kur\n",
      "1.475506464240493\n",
      "----------------\n",
      "Phân phối nhọn hơn phân phối chuẩn\n",
      "-----------------\n",
      "-----------------\n",
      "Visual data\n"
     ]
    },
    {
     "data": {
      "image/png": "[encoded data removed]",
      "text/plain": [
       "<Figure size 720x360 with 2 Axes>"
      ]
     },
     "metadata": {
      "needs_background": "light"
     },
     "output_type": "display_data"
    },
    {
     "data": {
      "image/png": "[encoded data removed]",
      "text/plain": [
       "<Figure size 288x576 with 1 Axes>"
      ]
     },
     "metadata": {
      "needs_background": "light"
     },
     "output_type": "display_data"
    },
    {
     "name": "stdout",
     "output_type": "stream",
     "text": [
      "Describe data:  3.47\n",
      "count    204.000000\n",
      "mean       3.328676\n",
      "std        0.271344\n",
      "min        2.540000\n",
      "25%        3.150000\n",
      "50%        3.310000\n",
      "75%        3.582500\n",
      "max        3.940000\n",
      "Name: 3.47, dtype: float64\n",
      "----------------\n",
      "Median data:\n",
      "3.31\n",
      "----------------\n",
      "Mode data:\n",
      "0    3.62\n",
      "dtype: float64\n",
      "----------------\n",
      "Mean data:\n",
      "3.3286764705882366\n",
      "----------------\n",
      "Q1\n",
      "3.15\n",
      "----------------\n",
      "Q3\n",
      "3.5825\n",
      "----------------\n",
      "IQR\n",
      "0.4325000000000001\n",
      "----------------\n",
      "Variance\n",
      "0.07362730368009274\n",
      "----------------\n",
      "Standard Deviation\n",
      "0.2713435160089379\n",
      "----------------\n",
      "Skew\n",
      "0.03150511055424958\n",
      "----------------\n",
      "Phân phối lệch phải\n",
      "----------------\n",
      "Kur\n",
      "-0.7904389182262115\n",
      "----------------\n",
      " Phân phối bẹt hơn phân phối chuẩn\n",
      "-----------------\n",
      "-----------------\n",
      "Visual data\n"
     ]
    },
    {
     "data": {
      "image/png": "[encoded data removed]",
      "text/plain": [
       "<Figure size 720x360 with 2 Axes>"
      ]
     },
     "metadata": {
      "needs_background": "light"
     },
     "output_type": "display_data"
    },
    {
     "data": {
      "image/png": "[encoded data removed]",
      "text/plain": [
       "<Figure size 288x576 with 1 Axes>"
      ]
     },
     "metadata": {
      "needs_background": "light"
     },
     "output_type": "display_data"
    },
    {
     "name": "stdout",
     "output_type": "stream",
     "text": [
      "Describe data:  2.68\n",
      "count    204.000000\n",
      "mean       3.258922\n",
      "std        0.311781\n",
      "min        2.070000\n",
      "25%        3.110000\n",
      "50%        3.290000\n",
      "75%        3.410000\n",
      "max        4.170000\n",
      "Name: 2.68, dtype: float64\n",
      "----------------\n",
      "Median data:\n",
      "3.29\n",
      "----------------\n",
      "Mode data:\n",
      "0    3.4\n",
      "dtype: float64\n",
      "----------------\n",
      "Mean data:\n",
      "3.258921568627445\n",
      "----------------\n",
      "Q1\n",
      "3.11\n",
      "----------------\n",
      "Q3\n",
      "3.41\n",
      "----------------\n",
      "IQR\n",
      "0.30000000000000027\n",
      "----------------\n",
      "Variance\n",
      "0.09720769825171476\n",
      "----------------\n",
      "Standard Deviation\n",
      "0.3117814911948988\n",
      "----------------\n",
      "Skew\n",
      "-0.70809395441514\n",
      "----------------\n",
      " Phân phối lệch trái\n",
      "----------------\n",
      "Kur\n",
      "2.296742276590003\n",
      "----------------\n",
      "Phân phối nhọn hơn phân phối chuẩn\n",
      "-----------------\n",
      "-----------------\n",
      "Visual data\n"
     ]
    },
    {
     "data": {
      "image/png": "[encoded data removed]",
      "text/plain": [
       "<Figure size 720x360 with 2 Axes>"
      ]
     },
     "metadata": {
      "needs_background": "light"
     },
     "output_type": "display_data"
    },
    {
     "data": {
      "image/png": "[encoded data removed]",
      "text/plain": [
       "<Figure size 288x576 with 1 Axes>"
      ]
     },
     "metadata": {
      "needs_background": "light"
     },
     "output_type": "display_data"
    },
    {
     "name": "stdout",
     "output_type": "stream",
     "text": [
      "Describe data:  111\n",
      "count    204.000000\n",
      "mean     104.132353\n",
      "std       39.624060\n",
      "min       48.000000\n",
      "25%       70.000000\n",
      "50%       95.000000\n",
      "75%      116.000000\n",
      "max      288.000000\n",
      "Name: 111, dtype: float64\n",
      "----------------\n",
      "Median data:\n",
      "95.0\n",
      "----------------\n",
      "Mode data:\n",
      "0    68.0\n",
      "dtype: float64\n",
      "----------------\n",
      "Mean data:\n",
      "104.13235294117646\n",
      "----------------\n",
      "Q1\n",
      "70.0\n",
      "----------------\n",
      "Q3\n",
      "116.0\n",
      "----------------\n",
      "IQR\n",
      "46.0\n",
      "----------------\n",
      "Variance\n",
      "1570.0661402492042\n",
      "----------------\n",
      "Standard Deviation\n",
      "39.62406011818077\n",
      "----------------\n",
      "Skew\n",
      "1.4029098613351685\n",
      "----------------\n",
      "Phân phối lệch phải\n",
      "----------------\n",
      "Kur\n",
      "2.6641939817608553\n",
      "----------------\n",
      "Phân phối nhọn hơn phân phối chuẩn\n",
      "-----------------\n",
      "-----------------\n",
      "Visual data\n"
     ]
    },
    {
     "data": {
      "image/png": "[encoded data removed]",
      "text/plain": [
       "<Figure size 720x360 with 2 Axes>"
      ]
     },
     "metadata": {
      "needs_background": "light"
     },
     "output_type": "display_data"
    },
    {
     "data": {
      "image/png": "[encoded data removed]",
      "text/plain": [
       "<Figure size 288x576 with 1 Axes>"
      ]
     },
     "metadata": {
      "needs_background": "light"
     },
     "output_type": "display_data"
    },
    {
     "name": "stdout",
     "output_type": "stream",
     "text": [
      "Describe data:  5000\n",
      "count     204.000000\n",
      "mean     5126.715686\n",
      "std       478.126988\n",
      "min      4150.000000\n",
      "25%      4800.000000\n",
      "50%      5200.000000\n",
      "75%      5500.000000\n",
      "max      6600.000000\n",
      "Name: 5000, dtype: float64\n",
      "----------------\n",
      "Median data:\n",
      "5200.0\n",
      "----------------\n",
      "Mode data:\n",
      "0    5500.0\n",
      "dtype: float64\n",
      "----------------\n",
      "Mean data:\n",
      "5126.71568627451\n",
      "----------------\n",
      "Q1\n",
      "4800.0\n",
      "----------------\n",
      "Q3\n",
      "5500.0\n",
      "----------------\n",
      "IQR\n",
      "700.0\n",
      "----------------\n",
      "Variance\n",
      "228605.41630445266\n",
      "----------------\n",
      "Standard Deviation\n",
      "478.12698763451186\n",
      "----------------\n",
      "Skew\n",
      "0.06502289030798344\n",
      "----------------\n",
      "Phân phối lệch phải\n",
      "----------------\n",
      "Kur\n",
      "0.07150023135225281\n",
      "----------------\n",
      "Phân phối nhọn hơn phân phối chuẩn\n",
      "-----------------\n",
      "-----------------\n",
      "Visual data\n"
     ]
    },
    {
     "data": {
      "image/png": "[encoded data removed]",
      "text/plain": [
       "<Figure size 720x360 with 2 Axes>"
      ]
     },
     "metadata": {
      "needs_background": "light"
     },
     "output_type": "display_data"
    },
    {
     "data": {
      "image/png": "[encoded data removed]",
      "text/plain": [
       "<Figure size 288x576 with 1 Axes>"
      ]
     },
     "metadata": {
      "needs_background": "light"
     },
     "output_type": "display_data"
    },
    {
     "name": "stdout",
     "output_type": "stream",
     "text": [
      "Describe data:  13495\n",
      "count      204.000000\n",
      "mean     13148.127451\n",
      "std       7898.645692\n",
      "min       5118.000000\n",
      "25%       7784.750000\n",
      "50%      10270.000000\n",
      "75%      16500.000000\n",
      "max      45400.000000\n",
      "Name: 13495, dtype: float64\n",
      "----------------\n",
      "Median data:\n",
      "10270.0\n",
      "----------------\n",
      "Mode data:\n",
      "0    10270.0\n",
      "dtype: float64\n",
      "----------------\n",
      "Mean data:\n",
      "13148.127450980392\n",
      "----------------\n",
      "Q1\n",
      "7784.75\n",
      "----------------\n",
      "Q3\n",
      "16500.0\n",
      "----------------\n",
      "IQR\n",
      "8715.25\n",
      "----------------\n",
      "Variance\n",
      "62388603.76692743\n",
      "----------------\n",
      "Standard Deviation\n",
      "7898.64569194792\n",
      "----------------\n",
      "Skew\n",
      "1.8372623688749543\n",
      "----------------\n",
      "Phân phối lệch phải\n",
      "----------------\n",
      "Kur\n",
      "3.3457212855130476\n",
      "----------------\n",
      "Phân phối nhọn hơn phân phối chuẩn\n",
      "-----------------\n",
      "-----------------\n",
      "Visual data\n"
     ]
    },
    {
     "data": {
      "image/png": "[encoded data removed]",
      "text/plain": [
       "<Figure size 720x360 with 2 Axes>"
      ]
     },
     "metadata": {
      "needs_background": "light"
     },
     "output_type": "display_data"
    },
    {
     "data": {
      "image/png": "[encoded data removed]",
      "text/plain": [
       "<Figure size 288x576 with 1 Axes>"
      ]
     },
     "metadata": {
      "needs_background": "light"
     },
     "output_type": "display_data"
    }
   ],
   "source": [
    "lst_continous_with_non_nominal = [\"88.60\", \"168.80\", \"64.10\", \"48.80\", \"2548\", \"130\", \"9.00\", \"21\", \"27\"]\n",
    "lst_continous_with_non_nominal.extend(continous_column_with_nominal)\n",
    "\n",
    "for continous in lst_continous_with_non_nominal:\n",
    "    continous_describe(continous)"
   ]
  },
  {
   "cell_type": "code",
   "execution_count": 23,
   "metadata": {},
   "outputs": [],
   "source": [
    "def outlier_describe(column_name):\n",
    "    lower_outlier = data[data[column_name] > np.percentile(data[column_name], 75) + (1.5 * scipy.stats.iqr(data[column_name]))]\n",
    "    print('--------------')\n",
    "    print('Number of outlier lower')\n",
    "    print(lower_outlier.shape[0])\n",
    "    upper_outlier = data[data[column_name] < np.percentile(data[column_name], 25) - (1.5 * scipy.stats.iqr(data[column_name]))]\n",
    "    print('--------------')\n",
    "    print('Number of outlier lower')\n",
    "    print(upper_outlier.shape[0])\n",
    "    print('--------------')\n",
    "    print('Percentage of outlier')\n",
    "    print((lower_outlier.shape[0]+upper_outlier.shape[0]) / data[column_name].shape[0])\n",
    "    print('Xem xét loại bỏ outlier ?')"
   ]
  },
  {
   "cell_type": "code",
   "execution_count": 25,
   "metadata": {
    "scrolled": true
   },
   "outputs": [
    {
     "name": "stdout",
     "output_type": "stream",
     "text": [
      "--------------\n",
      "Number of outlier lower\n",
      "3\n",
      "--------------\n",
      "Number of outlier lower\n",
      "0\n",
      "--------------\n",
      "Percentage of outlier\n",
      "0.014705882352941176\n",
      "Xem xét loại bỏ outlier ?\n",
      "--------------\n",
      "Number of outlier lower\n",
      "0\n",
      "--------------\n",
      "Number of outlier lower\n",
      "0\n",
      "--------------\n",
      "Percentage of outlier\n",
      "0.0\n",
      "Xem xét loại bỏ outlier ?\n",
      "--------------\n",
      "Number of outlier lower\n",
      "8\n",
      "--------------\n",
      "Number of outlier lower\n",
      "0\n",
      "--------------\n",
      "Percentage of outlier\n",
      "0.0392156862745098\n",
      "Xem xét loại bỏ outlier ?\n",
      "--------------\n",
      "Number of outlier lower\n",
      "0\n",
      "--------------\n",
      "Number of outlier lower\n",
      "0\n",
      "--------------\n",
      "Percentage of outlier\n",
      "0.0\n",
      "Xem xét loại bỏ outlier ?\n",
      "--------------\n",
      "Number of outlier lower\n",
      "0\n",
      "--------------\n",
      "Number of outlier lower\n",
      "0\n",
      "--------------\n",
      "Percentage of outlier\n",
      "0.0\n",
      "Xem xét loại bỏ outlier ?\n",
      "--------------\n",
      "Number of outlier lower\n",
      "7\n",
      "--------------\n",
      "Number of outlier lower\n",
      "0\n",
      "--------------\n",
      "Percentage of outlier\n",
      "0.03431372549019608\n",
      "Xem xét loại bỏ outlier ?\n",
      "--------------\n",
      "Number of outlier lower\n",
      "21\n",
      "--------------\n",
      "Number of outlier lower\n",
      "7\n",
      "--------------\n",
      "Percentage of outlier\n",
      "0.13725490196078433\n",
      "Xem xét loại bỏ outlier ?\n",
      "--------------\n",
      "Number of outlier lower\n",
      "2\n",
      "--------------\n",
      "Number of outlier lower\n",
      "0\n",
      "--------------\n",
      "Percentage of outlier\n",
      "0.00980392156862745\n",
      "Xem xét loại bỏ outlier ?\n",
      "--------------\n",
      "Number of outlier lower\n",
      "3\n",
      "--------------\n",
      "Number of outlier lower\n",
      "0\n",
      "--------------\n",
      "Percentage of outlier\n",
      "0.014705882352941176\n",
      "Xem xét loại bỏ outlier ?\n",
      "--------------\n",
      "Number of outlier lower\n",
      "8\n",
      "--------------\n",
      "Number of outlier lower\n",
      "0\n",
      "--------------\n",
      "Percentage of outlier\n",
      "0.0392156862745098\n",
      "Xem xét loại bỏ outlier ?\n",
      "--------------\n",
      "Number of outlier lower\n",
      "0\n",
      "--------------\n",
      "Number of outlier lower\n",
      "0\n",
      "--------------\n",
      "Percentage of outlier\n",
      "0.0\n",
      "Xem xét loại bỏ outlier ?\n",
      "--------------\n",
      "Number of outlier lower\n",
      "5\n",
      "--------------\n",
      "Number of outlier lower\n",
      "15\n",
      "--------------\n",
      "Percentage of outlier\n",
      "0.09803921568627451\n",
      "Xem xét loại bỏ outlier ?\n",
      "--------------\n",
      "Number of outlier lower\n",
      "6\n",
      "--------------\n",
      "Number of outlier lower\n",
      "0\n",
      "--------------\n",
      "Percentage of outlier\n",
      "0.029411764705882353\n",
      "Xem xét loại bỏ outlier ?\n",
      "--------------\n",
      "Number of outlier lower\n",
      "2\n",
      "--------------\n",
      "Number of outlier lower\n",
      "0\n",
      "--------------\n",
      "Percentage of outlier\n",
      "0.00980392156862745\n",
      "Xem xét loại bỏ outlier ?\n",
      "--------------\n",
      "Number of outlier lower\n",
      "14\n",
      "--------------\n",
      "Number of outlier lower\n",
      "0\n",
      "--------------\n",
      "Percentage of outlier\n",
      "0.06862745098039216\n",
      "Xem xét loại bỏ outlier ?\n"
     ]
    }
   ],
   "source": [
    "for continous in lst_continous_with_non_nominal:\n",
    "    outlier_describe(continous)"
   ]
  },
  {
   "cell_type": "code",
   "execution_count": null,
   "metadata": {},
   "outputs": [],
   "source": [
    "categorical = []\n",
    "def describe_categorical(column_name):\n",
    "    data_temp = (data.groupby(column_name).count())[\"Id\"]\n",
    "    print(\"Group by categorical\")\n",
    "    print(data_temp)\n",
    "    print(\"Plot bar\")\n",
    "    sns.set()\n",
    "    data_temp.plot.bar()"
   ]
  },
  {
   "cell_type": "code",
   "execution_count": null,
   "metadata": {},
   "outputs": [],
   "source": [
    "    "
   ]
  }
 ],
 "metadata": {
  "kernelspec": {
   "display_name": "Python 3",
   "language": "python",
   "name": "python3"
  },
  "language_info": {
   "codemirror_mode": {
    "name": "ipython",
    "version": 3
   },
   "file_extension": ".py",
   "mimetype": "text/x-python",
   "name": "python",
   "nbconvert_exporter": "python",
   "pygments_lexer": "ipython3",
   "version": "3.8.3"
  }
 },
 "nbformat": 4,
 "nbformat_minor": 2
}
