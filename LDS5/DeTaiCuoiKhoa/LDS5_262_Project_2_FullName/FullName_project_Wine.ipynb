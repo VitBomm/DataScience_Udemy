{
 "cells": [
  {
   "cell_type": "markdown",
   "metadata": {},
   "source": [
    "<a href=\"https://archive.ics.uci.edu/ml/datasets/wine+quality\"><img src=\"https://archive.ics.uci.edu/ml/assets/logo.gif\" width=\"400\" align=\"center\"></a>\n",
    "\n",
    "<h1 align=\"center\"><font size=\"5\">Project: Wine Quality</font></h1>\n",
    "<h2 align=\"center\"><font size=\"5\">Deadline (Version 1.0): 2020-12-03 17:00:00</font></h2>\n",
    "<h3 align=\"center\"><font size=\"5\"> Total marks: 4.0</font></h3>"
   ]
  },
  {
   "cell_type": "markdown",
   "metadata": {},
   "source": [
    "### Your information:\n",
    "- Fullname:\n",
    "- Date of birth:\n",
    "- Place of birth:\n",
    "- Email:\n",
    "- Mobile phone:"
   ]
  },
  {
   "cell_type": "markdown",
   "metadata": {},
   "source": [
    "In this notebook, we practice all the knowledge and skills that we learned in this course.\n",
    "\n",
    "We apply the **Linear Algorithm** to predict: \"wine quality\" by accuracy evaluation methods."
   ]
  },
  {
   "cell_type": "markdown",
   "metadata": {},
   "source": [
    "Please read [Wine Quality information](https://archive.ics.uci.edu/ml/datasets/wine+quality) carefully before you do this project! "
   ]
  },
  {
   "cell_type": "markdown",
   "metadata": {},
   "source": [
    "Dataset: winequality-red.csv and winequality-white.csv"
   ]
  },
  {
   "cell_type": "markdown",
   "metadata": {},
   "source": [
    "#### Attribute Information:\n",
    "\n",
    "For more information, read [Cortez et al., 2009].\n",
    "Input variables (based on physicochemical tests):\n",
    "1. fixed acidity\n",
    "2. volatile acidity\n",
    "3. citric acid\n",
    "4. residual sugar\n",
    "5. chlorides\n",
    "6. free sulfur dioxide\n",
    "7. total sulfur dioxide\n",
    "8. density\n",
    "9. pH\n",
    "10. sulphates\n",
    "11. alcohol\n",
    "\n",
    "###### Output variable (based on sensory data):\n",
    "12. quality (score between 0 and 10)"
   ]
  },
  {
   "cell_type": "markdown",
   "metadata": {},
   "source": [
    "### Requirements:"
   ]
  },
  {
   "cell_type": "markdown",
   "metadata": {},
   "source": [
    "- Data exploration\n",
    "- Data visualization\n",
    "- Pre-processing: Feature selection/extraction\n",
    "- Linear Regression/ Logistic Regression\n",
    "    - Model Evaluation using Test set\n",
    "    - Report"
   ]
  },
  {
   "cell_type": "code",
   "execution_count": 1,
   "metadata": {},
   "outputs": [],
   "source": [
    "import numpy as np\n",
    "import pandas as pd\n",
    "import matplotlib.pyplot as plt\n",
    "import seaborn as sns\n",
    "import scipy"
   ]
  },
  {
   "cell_type": "code",
   "execution_count": 2,
   "metadata": {},
   "outputs": [],
   "source": [
    "dataRaw = pd.read_csv(\"winequality-white.csv\")"
   ]
  },
  {
   "cell_type": "code",
   "execution_count": 3,
   "metadata": {},
   "outputs": [
    {
     "data": {
      "text/html": [
       "<div>\n",
       "<style scoped>\n",
       "    .dataframe tbody tr th:only-of-type {\n",
       "        vertical-align: middle;\n",
       "    }\n",
       "\n",
       "    .dataframe tbody tr th {\n",
       "        vertical-align: top;\n",
       "    }\n",
       "\n",
       "    .dataframe thead th {\n",
       "        text-align: right;\n",
       "    }\n",
       "</style>\n",
       "<table border=\"1\" class=\"dataframe\">\n",
       "  <thead>\n",
       "    <tr style=\"text-align: right;\">\n",
       "      <th></th>\n",
       "      <th>fixed acidity;\"volatile acidity\";\"citric acid\";\"residual sugar\";\"chlorides\";\"free sulfur dioxide\";\"total sulfur dioxide\";\"density\";\"pH\";\"sulphates\";\"alcohol\";\"quality\"</th>\n",
       "    </tr>\n",
       "  </thead>\n",
       "  <tbody>\n",
       "    <tr>\n",
       "      <th>0</th>\n",
       "      <td>7;0.27;0.36;20.7;0.045;45;170;1.001;3;0.45;8.8;6</td>\n",
       "    </tr>\n",
       "    <tr>\n",
       "      <th>1</th>\n",
       "      <td>6.3;0.3;0.34;1.6;0.049;14;132;0.994;3.3;0.49;9...</td>\n",
       "    </tr>\n",
       "    <tr>\n",
       "      <th>2</th>\n",
       "      <td>8.1;0.28;0.4;6.9;0.05;30;97;0.9951;3.26;0.44;1...</td>\n",
       "    </tr>\n",
       "    <tr>\n",
       "      <th>3</th>\n",
       "      <td>7.2;0.23;0.32;8.5;0.058;47;186;0.9956;3.19;0.4...</td>\n",
       "    </tr>\n",
       "    <tr>\n",
       "      <th>4</th>\n",
       "      <td>7.2;0.23;0.32;8.5;0.058;47;186;0.9956;3.19;0.4...</td>\n",
       "    </tr>\n",
       "    <tr>\n",
       "      <th>...</th>\n",
       "      <td>...</td>\n",
       "    </tr>\n",
       "    <tr>\n",
       "      <th>4893</th>\n",
       "      <td>6.2;0.21;0.29;1.6;0.039;24;92;0.99114;3.27;0.5...</td>\n",
       "    </tr>\n",
       "    <tr>\n",
       "      <th>4894</th>\n",
       "      <td>6.6;0.32;0.36;8;0.047;57;168;0.9949;3.15;0.46;...</td>\n",
       "    </tr>\n",
       "    <tr>\n",
       "      <th>4895</th>\n",
       "      <td>6.5;0.24;0.19;1.2;0.041;30;111;0.99254;2.99;0....</td>\n",
       "    </tr>\n",
       "    <tr>\n",
       "      <th>4896</th>\n",
       "      <td>5.5;0.29;0.3;1.1;0.022;20;110;0.98869;3.34;0.3...</td>\n",
       "    </tr>\n",
       "    <tr>\n",
       "      <th>4897</th>\n",
       "      <td>6;0.21;0.38;0.8;0.02;22;98;0.98941;3.26;0.32;1...</td>\n",
       "    </tr>\n",
       "  </tbody>\n",
       "</table>\n",
       "<p>4898 rows × 1 columns</p>\n",
       "</div>"
      ],
      "text/plain": [
       "     fixed acidity;\"volatile acidity\";\"citric acid\";\"residual sugar\";\"chlorides\";\"free sulfur dioxide\";\"total sulfur dioxide\";\"density\";\"pH\";\"sulphates\";\"alcohol\";\"quality\"\n",
       "0      7;0.27;0.36;20.7;0.045;45;170;1.001;3;0.45;8.8;6                                                                                                                     \n",
       "1     6.3;0.3;0.34;1.6;0.049;14;132;0.994;3.3;0.49;9...                                                                                                                     \n",
       "2     8.1;0.28;0.4;6.9;0.05;30;97;0.9951;3.26;0.44;1...                                                                                                                     \n",
       "3     7.2;0.23;0.32;8.5;0.058;47;186;0.9956;3.19;0.4...                                                                                                                     \n",
       "4     7.2;0.23;0.32;8.5;0.058;47;186;0.9956;3.19;0.4...                                                                                                                     \n",
       "...                                                 ...                                                                                                                     \n",
       "4893  6.2;0.21;0.29;1.6;0.039;24;92;0.99114;3.27;0.5...                                                                                                                     \n",
       "4894  6.6;0.32;0.36;8;0.047;57;168;0.9949;3.15;0.46;...                                                                                                                     \n",
       "4895  6.5;0.24;0.19;1.2;0.041;30;111;0.99254;2.99;0....                                                                                                                     \n",
       "4896  5.5;0.29;0.3;1.1;0.022;20;110;0.98869;3.34;0.3...                                                                                                                     \n",
       "4897  6;0.21;0.38;0.8;0.02;22;98;0.98941;3.26;0.32;1...                                                                                                                     \n",
       "\n",
       "[4898 rows x 1 columns]"
      ]
     },
     "execution_count": 3,
     "metadata": {},
     "output_type": "execute_result"
    }
   ],
   "source": [
    "dataRaw"
   ]
  },
  {
   "cell_type": "code",
   "execution_count": 4,
   "metadata": {
    "scrolled": true
   },
   "outputs": [
    {
     "data": {
      "text/plain": [
       "[(0, 'fixed acidity'),\n",
       " (1, 'volatile acidity'),\n",
       " (2, 'citric acid'),\n",
       " (3, 'residual sugar'),\n",
       " (4, 'chlorides'),\n",
       " (5, 'free sulfur dioxide'),\n",
       " (6, 'total sulfur dioxide'),\n",
       " (7, 'density'),\n",
       " (8, 'pH'),\n",
       " (9, 'sulphates'),\n",
       " (10, 'alcohol'),\n",
       " (11, 'quality')]"
      ]
     },
     "execution_count": 4,
     "metadata": {},
     "output_type": "execute_result"
    }
   ],
   "source": [
    "columns_names = 'fixed acidity;\"volatile acidity\";\"citric acid\";\"residual sugar\";\"chlorides\";\"free sulfur dioxide\";\"total sulfur dioxide\";\"density\";\"pH\";\"sulphates\";\"alcohol\";\"quality\"'\n",
    "columns_names = list(enumerate(columns_names.replace('\"',\"\").split(\";\")))\n",
    "columns_names"
   ]
  },
  {
   "cell_type": "code",
   "execution_count": 5,
   "metadata": {},
   "outputs": [],
   "source": [
    "def split_data(column_index, x):\n",
    "    temp_split = x.split(\";\")\n",
    "    return temp_split[column_index]"
   ]
  },
  {
   "cell_type": "code",
   "execution_count": 6,
   "metadata": {},
   "outputs": [],
   "source": [
    "for column_index, column_name in columns_names:\n",
    "    dataRaw[column_name] = dataRaw['fixed acidity;\"volatile acidity\";\"citric acid\";\"residual sugar\";\"chlorides\";\"free sulfur dioxide\";\"total sulfur dioxide\";\"density\";\"pH\";\"sulphates\";\"alcohol\";\"quality\"'].apply(lambda x: split_data(column_index, x)).astype(float)"
   ]
  },
  {
   "cell_type": "code",
   "execution_count": 7,
   "metadata": {},
   "outputs": [
    {
     "data": {
      "text/html": [
       "<div>\n",
       "<style scoped>\n",
       "    .dataframe tbody tr th:only-of-type {\n",
       "        vertical-align: middle;\n",
       "    }\n",
       "\n",
       "    .dataframe tbody tr th {\n",
       "        vertical-align: top;\n",
       "    }\n",
       "\n",
       "    .dataframe thead th {\n",
       "        text-align: right;\n",
       "    }\n",
       "</style>\n",
       "<table border=\"1\" class=\"dataframe\">\n",
       "  <thead>\n",
       "    <tr style=\"text-align: right;\">\n",
       "      <th></th>\n",
       "      <th>fixed acidity;\"volatile acidity\";\"citric acid\";\"residual sugar\";\"chlorides\";\"free sulfur dioxide\";\"total sulfur dioxide\";\"density\";\"pH\";\"sulphates\";\"alcohol\";\"quality\"</th>\n",
       "      <th>fixed acidity</th>\n",
       "      <th>volatile acidity</th>\n",
       "      <th>citric acid</th>\n",
       "      <th>residual sugar</th>\n",
       "      <th>chlorides</th>\n",
       "      <th>free sulfur dioxide</th>\n",
       "      <th>total sulfur dioxide</th>\n",
       "      <th>density</th>\n",
       "      <th>pH</th>\n",
       "      <th>sulphates</th>\n",
       "      <th>alcohol</th>\n",
       "      <th>quality</th>\n",
       "    </tr>\n",
       "  </thead>\n",
       "  <tbody>\n",
       "    <tr>\n",
       "      <th>0</th>\n",
       "      <td>7;0.27;0.36;20.7;0.045;45;170;1.001;3;0.45;8.8;6</td>\n",
       "      <td>7.0</td>\n",
       "      <td>0.27</td>\n",
       "      <td>0.36</td>\n",
       "      <td>20.7</td>\n",
       "      <td>0.045</td>\n",
       "      <td>45.0</td>\n",
       "      <td>170.0</td>\n",
       "      <td>1.00100</td>\n",
       "      <td>3.00</td>\n",
       "      <td>0.45</td>\n",
       "      <td>8.8</td>\n",
       "      <td>6.0</td>\n",
       "    </tr>\n",
       "    <tr>\n",
       "      <th>1</th>\n",
       "      <td>6.3;0.3;0.34;1.6;0.049;14;132;0.994;3.3;0.49;9...</td>\n",
       "      <td>6.3</td>\n",
       "      <td>0.30</td>\n",
       "      <td>0.34</td>\n",
       "      <td>1.6</td>\n",
       "      <td>0.049</td>\n",
       "      <td>14.0</td>\n",
       "      <td>132.0</td>\n",
       "      <td>0.99400</td>\n",
       "      <td>3.30</td>\n",
       "      <td>0.49</td>\n",
       "      <td>9.5</td>\n",
       "      <td>6.0</td>\n",
       "    </tr>\n",
       "    <tr>\n",
       "      <th>2</th>\n",
       "      <td>8.1;0.28;0.4;6.9;0.05;30;97;0.9951;3.26;0.44;1...</td>\n",
       "      <td>8.1</td>\n",
       "      <td>0.28</td>\n",
       "      <td>0.40</td>\n",
       "      <td>6.9</td>\n",
       "      <td>0.050</td>\n",
       "      <td>30.0</td>\n",
       "      <td>97.0</td>\n",
       "      <td>0.99510</td>\n",
       "      <td>3.26</td>\n",
       "      <td>0.44</td>\n",
       "      <td>10.1</td>\n",
       "      <td>6.0</td>\n",
       "    </tr>\n",
       "    <tr>\n",
       "      <th>3</th>\n",
       "      <td>7.2;0.23;0.32;8.5;0.058;47;186;0.9956;3.19;0.4...</td>\n",
       "      <td>7.2</td>\n",
       "      <td>0.23</td>\n",
       "      <td>0.32</td>\n",
       "      <td>8.5</td>\n",
       "      <td>0.058</td>\n",
       "      <td>47.0</td>\n",
       "      <td>186.0</td>\n",
       "      <td>0.99560</td>\n",
       "      <td>3.19</td>\n",
       "      <td>0.40</td>\n",
       "      <td>9.9</td>\n",
       "      <td>6.0</td>\n",
       "    </tr>\n",
       "    <tr>\n",
       "      <th>4</th>\n",
       "      <td>7.2;0.23;0.32;8.5;0.058;47;186;0.9956;3.19;0.4...</td>\n",
       "      <td>7.2</td>\n",
       "      <td>0.23</td>\n",
       "      <td>0.32</td>\n",
       "      <td>8.5</td>\n",
       "      <td>0.058</td>\n",
       "      <td>47.0</td>\n",
       "      <td>186.0</td>\n",
       "      <td>0.99560</td>\n",
       "      <td>3.19</td>\n",
       "      <td>0.40</td>\n",
       "      <td>9.9</td>\n",
       "      <td>6.0</td>\n",
       "    </tr>\n",
       "    <tr>\n",
       "      <th>...</th>\n",
       "      <td>...</td>\n",
       "      <td>...</td>\n",
       "      <td>...</td>\n",
       "      <td>...</td>\n",
       "      <td>...</td>\n",
       "      <td>...</td>\n",
       "      <td>...</td>\n",
       "      <td>...</td>\n",
       "      <td>...</td>\n",
       "      <td>...</td>\n",
       "      <td>...</td>\n",
       "      <td>...</td>\n",
       "      <td>...</td>\n",
       "    </tr>\n",
       "    <tr>\n",
       "      <th>4893</th>\n",
       "      <td>6.2;0.21;0.29;1.6;0.039;24;92;0.99114;3.27;0.5...</td>\n",
       "      <td>6.2</td>\n",
       "      <td>0.21</td>\n",
       "      <td>0.29</td>\n",
       "      <td>1.6</td>\n",
       "      <td>0.039</td>\n",
       "      <td>24.0</td>\n",
       "      <td>92.0</td>\n",
       "      <td>0.99114</td>\n",
       "      <td>3.27</td>\n",
       "      <td>0.50</td>\n",
       "      <td>11.2</td>\n",
       "      <td>6.0</td>\n",
       "    </tr>\n",
       "    <tr>\n",
       "      <th>4894</th>\n",
       "      <td>6.6;0.32;0.36;8;0.047;57;168;0.9949;3.15;0.46;...</td>\n",
       "      <td>6.6</td>\n",
       "      <td>0.32</td>\n",
       "      <td>0.36</td>\n",
       "      <td>8.0</td>\n",
       "      <td>0.047</td>\n",
       "      <td>57.0</td>\n",
       "      <td>168.0</td>\n",
       "      <td>0.99490</td>\n",
       "      <td>3.15</td>\n",
       "      <td>0.46</td>\n",
       "      <td>9.6</td>\n",
       "      <td>5.0</td>\n",
       "    </tr>\n",
       "    <tr>\n",
       "      <th>4895</th>\n",
       "      <td>6.5;0.24;0.19;1.2;0.041;30;111;0.99254;2.99;0....</td>\n",
       "      <td>6.5</td>\n",
       "      <td>0.24</td>\n",
       "      <td>0.19</td>\n",
       "      <td>1.2</td>\n",
       "      <td>0.041</td>\n",
       "      <td>30.0</td>\n",
       "      <td>111.0</td>\n",
       "      <td>0.99254</td>\n",
       "      <td>2.99</td>\n",
       "      <td>0.46</td>\n",
       "      <td>9.4</td>\n",
       "      <td>6.0</td>\n",
       "    </tr>\n",
       "    <tr>\n",
       "      <th>4896</th>\n",
       "      <td>5.5;0.29;0.3;1.1;0.022;20;110;0.98869;3.34;0.3...</td>\n",
       "      <td>5.5</td>\n",
       "      <td>0.29</td>\n",
       "      <td>0.30</td>\n",
       "      <td>1.1</td>\n",
       "      <td>0.022</td>\n",
       "      <td>20.0</td>\n",
       "      <td>110.0</td>\n",
       "      <td>0.98869</td>\n",
       "      <td>3.34</td>\n",
       "      <td>0.38</td>\n",
       "      <td>12.8</td>\n",
       "      <td>7.0</td>\n",
       "    </tr>\n",
       "    <tr>\n",
       "      <th>4897</th>\n",
       "      <td>6;0.21;0.38;0.8;0.02;22;98;0.98941;3.26;0.32;1...</td>\n",
       "      <td>6.0</td>\n",
       "      <td>0.21</td>\n",
       "      <td>0.38</td>\n",
       "      <td>0.8</td>\n",
       "      <td>0.020</td>\n",
       "      <td>22.0</td>\n",
       "      <td>98.0</td>\n",
       "      <td>0.98941</td>\n",
       "      <td>3.26</td>\n",
       "      <td>0.32</td>\n",
       "      <td>11.8</td>\n",
       "      <td>6.0</td>\n",
       "    </tr>\n",
       "  </tbody>\n",
       "</table>\n",
       "<p>4898 rows × 13 columns</p>\n",
       "</div>"
      ],
      "text/plain": [
       "     fixed acidity;\"volatile acidity\";\"citric acid\";\"residual sugar\";\"chlorides\";\"free sulfur dioxide\";\"total sulfur dioxide\";\"density\";\"pH\";\"sulphates\";\"alcohol\";\"quality\"  \\\n",
       "0      7;0.27;0.36;20.7;0.045;45;170;1.001;3;0.45;8.8;6                                                                                                                        \n",
       "1     6.3;0.3;0.34;1.6;0.049;14;132;0.994;3.3;0.49;9...                                                                                                                        \n",
       "2     8.1;0.28;0.4;6.9;0.05;30;97;0.9951;3.26;0.44;1...                                                                                                                        \n",
       "3     7.2;0.23;0.32;8.5;0.058;47;186;0.9956;3.19;0.4...                                                                                                                        \n",
       "4     7.2;0.23;0.32;8.5;0.058;47;186;0.9956;3.19;0.4...                                                                                                                        \n",
       "...                                                 ...                                                                                                                        \n",
       "4893  6.2;0.21;0.29;1.6;0.039;24;92;0.99114;3.27;0.5...                                                                                                                        \n",
       "4894  6.6;0.32;0.36;8;0.047;57;168;0.9949;3.15;0.46;...                                                                                                                        \n",
       "4895  6.5;0.24;0.19;1.2;0.041;30;111;0.99254;2.99;0....                                                                                                                        \n",
       "4896  5.5;0.29;0.3;1.1;0.022;20;110;0.98869;3.34;0.3...                                                                                                                        \n",
       "4897  6;0.21;0.38;0.8;0.02;22;98;0.98941;3.26;0.32;1...                                                                                                                        \n",
       "\n",
       "      fixed acidity  volatile acidity  citric acid  residual sugar  chlorides  \\\n",
       "0               7.0              0.27         0.36            20.7      0.045   \n",
       "1               6.3              0.30         0.34             1.6      0.049   \n",
       "2               8.1              0.28         0.40             6.9      0.050   \n",
       "3               7.2              0.23         0.32             8.5      0.058   \n",
       "4               7.2              0.23         0.32             8.5      0.058   \n",
       "...             ...               ...          ...             ...        ...   \n",
       "4893            6.2              0.21         0.29             1.6      0.039   \n",
       "4894            6.6              0.32         0.36             8.0      0.047   \n",
       "4895            6.5              0.24         0.19             1.2      0.041   \n",
       "4896            5.5              0.29         0.30             1.1      0.022   \n",
       "4897            6.0              0.21         0.38             0.8      0.020   \n",
       "\n",
       "      free sulfur dioxide  total sulfur dioxide  density    pH  sulphates  \\\n",
       "0                    45.0                 170.0  1.00100  3.00       0.45   \n",
       "1                    14.0                 132.0  0.99400  3.30       0.49   \n",
       "2                    30.0                  97.0  0.99510  3.26       0.44   \n",
       "3                    47.0                 186.0  0.99560  3.19       0.40   \n",
       "4                    47.0                 186.0  0.99560  3.19       0.40   \n",
       "...                   ...                   ...      ...   ...        ...   \n",
       "4893                 24.0                  92.0  0.99114  3.27       0.50   \n",
       "4894                 57.0                 168.0  0.99490  3.15       0.46   \n",
       "4895                 30.0                 111.0  0.99254  2.99       0.46   \n",
       "4896                 20.0                 110.0  0.98869  3.34       0.38   \n",
       "4897                 22.0                  98.0  0.98941  3.26       0.32   \n",
       "\n",
       "      alcohol  quality  \n",
       "0         8.8      6.0  \n",
       "1         9.5      6.0  \n",
       "2        10.1      6.0  \n",
       "3         9.9      6.0  \n",
       "4         9.9      6.0  \n",
       "...       ...      ...  \n",
       "4893     11.2      6.0  \n",
       "4894      9.6      5.0  \n",
       "4895      9.4      6.0  \n",
       "4896     12.8      7.0  \n",
       "4897     11.8      6.0  \n",
       "\n",
       "[4898 rows x 13 columns]"
      ]
     },
     "execution_count": 7,
     "metadata": {},
     "output_type": "execute_result"
    }
   ],
   "source": [
    "dataRaw"
   ]
  },
  {
   "cell_type": "code",
   "execution_count": 8,
   "metadata": {
    "scrolled": false
   },
   "outputs": [
    {
     "data": {
      "text/html": [
       "<div>\n",
       "<style scoped>\n",
       "    .dataframe tbody tr th:only-of-type {\n",
       "        vertical-align: middle;\n",
       "    }\n",
       "\n",
       "    .dataframe tbody tr th {\n",
       "        vertical-align: top;\n",
       "    }\n",
       "\n",
       "    .dataframe thead th {\n",
       "        text-align: right;\n",
       "    }\n",
       "</style>\n",
       "<table border=\"1\" class=\"dataframe\">\n",
       "  <thead>\n",
       "    <tr style=\"text-align: right;\">\n",
       "      <th></th>\n",
       "      <th>fixed acidity</th>\n",
       "      <th>volatile acidity</th>\n",
       "      <th>citric acid</th>\n",
       "      <th>residual sugar</th>\n",
       "      <th>chlorides</th>\n",
       "      <th>free sulfur dioxide</th>\n",
       "      <th>total sulfur dioxide</th>\n",
       "      <th>density</th>\n",
       "      <th>pH</th>\n",
       "      <th>sulphates</th>\n",
       "      <th>alcohol</th>\n",
       "      <th>quality</th>\n",
       "    </tr>\n",
       "  </thead>\n",
       "  <tbody>\n",
       "    <tr>\n",
       "      <th>0</th>\n",
       "      <td>7.0</td>\n",
       "      <td>0.27</td>\n",
       "      <td>0.36</td>\n",
       "      <td>20.7</td>\n",
       "      <td>0.045</td>\n",
       "      <td>45.0</td>\n",
       "      <td>170.0</td>\n",
       "      <td>1.00100</td>\n",
       "      <td>3.00</td>\n",
       "      <td>0.45</td>\n",
       "      <td>8.8</td>\n",
       "      <td>6.0</td>\n",
       "    </tr>\n",
       "    <tr>\n",
       "      <th>1</th>\n",
       "      <td>6.3</td>\n",
       "      <td>0.30</td>\n",
       "      <td>0.34</td>\n",
       "      <td>1.6</td>\n",
       "      <td>0.049</td>\n",
       "      <td>14.0</td>\n",
       "      <td>132.0</td>\n",
       "      <td>0.99400</td>\n",
       "      <td>3.30</td>\n",
       "      <td>0.49</td>\n",
       "      <td>9.5</td>\n",
       "      <td>6.0</td>\n",
       "    </tr>\n",
       "    <tr>\n",
       "      <th>2</th>\n",
       "      <td>8.1</td>\n",
       "      <td>0.28</td>\n",
       "      <td>0.40</td>\n",
       "      <td>6.9</td>\n",
       "      <td>0.050</td>\n",
       "      <td>30.0</td>\n",
       "      <td>97.0</td>\n",
       "      <td>0.99510</td>\n",
       "      <td>3.26</td>\n",
       "      <td>0.44</td>\n",
       "      <td>10.1</td>\n",
       "      <td>6.0</td>\n",
       "    </tr>\n",
       "    <tr>\n",
       "      <th>3</th>\n",
       "      <td>7.2</td>\n",
       "      <td>0.23</td>\n",
       "      <td>0.32</td>\n",
       "      <td>8.5</td>\n",
       "      <td>0.058</td>\n",
       "      <td>47.0</td>\n",
       "      <td>186.0</td>\n",
       "      <td>0.99560</td>\n",
       "      <td>3.19</td>\n",
       "      <td>0.40</td>\n",
       "      <td>9.9</td>\n",
       "      <td>6.0</td>\n",
       "    </tr>\n",
       "    <tr>\n",
       "      <th>4</th>\n",
       "      <td>7.2</td>\n",
       "      <td>0.23</td>\n",
       "      <td>0.32</td>\n",
       "      <td>8.5</td>\n",
       "      <td>0.058</td>\n",
       "      <td>47.0</td>\n",
       "      <td>186.0</td>\n",
       "      <td>0.99560</td>\n",
       "      <td>3.19</td>\n",
       "      <td>0.40</td>\n",
       "      <td>9.9</td>\n",
       "      <td>6.0</td>\n",
       "    </tr>\n",
       "    <tr>\n",
       "      <th>...</th>\n",
       "      <td>...</td>\n",
       "      <td>...</td>\n",
       "      <td>...</td>\n",
       "      <td>...</td>\n",
       "      <td>...</td>\n",
       "      <td>...</td>\n",
       "      <td>...</td>\n",
       "      <td>...</td>\n",
       "      <td>...</td>\n",
       "      <td>...</td>\n",
       "      <td>...</td>\n",
       "      <td>...</td>\n",
       "    </tr>\n",
       "    <tr>\n",
       "      <th>4893</th>\n",
       "      <td>6.2</td>\n",
       "      <td>0.21</td>\n",
       "      <td>0.29</td>\n",
       "      <td>1.6</td>\n",
       "      <td>0.039</td>\n",
       "      <td>24.0</td>\n",
       "      <td>92.0</td>\n",
       "      <td>0.99114</td>\n",
       "      <td>3.27</td>\n",
       "      <td>0.50</td>\n",
       "      <td>11.2</td>\n",
       "      <td>6.0</td>\n",
       "    </tr>\n",
       "    <tr>\n",
       "      <th>4894</th>\n",
       "      <td>6.6</td>\n",
       "      <td>0.32</td>\n",
       "      <td>0.36</td>\n",
       "      <td>8.0</td>\n",
       "      <td>0.047</td>\n",
       "      <td>57.0</td>\n",
       "      <td>168.0</td>\n",
       "      <td>0.99490</td>\n",
       "      <td>3.15</td>\n",
       "      <td>0.46</td>\n",
       "      <td>9.6</td>\n",
       "      <td>5.0</td>\n",
       "    </tr>\n",
       "    <tr>\n",
       "      <th>4895</th>\n",
       "      <td>6.5</td>\n",
       "      <td>0.24</td>\n",
       "      <td>0.19</td>\n",
       "      <td>1.2</td>\n",
       "      <td>0.041</td>\n",
       "      <td>30.0</td>\n",
       "      <td>111.0</td>\n",
       "      <td>0.99254</td>\n",
       "      <td>2.99</td>\n",
       "      <td>0.46</td>\n",
       "      <td>9.4</td>\n",
       "      <td>6.0</td>\n",
       "    </tr>\n",
       "    <tr>\n",
       "      <th>4896</th>\n",
       "      <td>5.5</td>\n",
       "      <td>0.29</td>\n",
       "      <td>0.30</td>\n",
       "      <td>1.1</td>\n",
       "      <td>0.022</td>\n",
       "      <td>20.0</td>\n",
       "      <td>110.0</td>\n",
       "      <td>0.98869</td>\n",
       "      <td>3.34</td>\n",
       "      <td>0.38</td>\n",
       "      <td>12.8</td>\n",
       "      <td>7.0</td>\n",
       "    </tr>\n",
       "    <tr>\n",
       "      <th>4897</th>\n",
       "      <td>6.0</td>\n",
       "      <td>0.21</td>\n",
       "      <td>0.38</td>\n",
       "      <td>0.8</td>\n",
       "      <td>0.020</td>\n",
       "      <td>22.0</td>\n",
       "      <td>98.0</td>\n",
       "      <td>0.98941</td>\n",
       "      <td>3.26</td>\n",
       "      <td>0.32</td>\n",
       "      <td>11.8</td>\n",
       "      <td>6.0</td>\n",
       "    </tr>\n",
       "  </tbody>\n",
       "</table>\n",
       "<p>4898 rows × 12 columns</p>\n",
       "</div>"
      ],
      "text/plain": [
       "      fixed acidity  volatile acidity  citric acid  residual sugar  chlorides  \\\n",
       "0               7.0              0.27         0.36            20.7      0.045   \n",
       "1               6.3              0.30         0.34             1.6      0.049   \n",
       "2               8.1              0.28         0.40             6.9      0.050   \n",
       "3               7.2              0.23         0.32             8.5      0.058   \n",
       "4               7.2              0.23         0.32             8.5      0.058   \n",
       "...             ...               ...          ...             ...        ...   \n",
       "4893            6.2              0.21         0.29             1.6      0.039   \n",
       "4894            6.6              0.32         0.36             8.0      0.047   \n",
       "4895            6.5              0.24         0.19             1.2      0.041   \n",
       "4896            5.5              0.29         0.30             1.1      0.022   \n",
       "4897            6.0              0.21         0.38             0.8      0.020   \n",
       "\n",
       "      free sulfur dioxide  total sulfur dioxide  density    pH  sulphates  \\\n",
       "0                    45.0                 170.0  1.00100  3.00       0.45   \n",
       "1                    14.0                 132.0  0.99400  3.30       0.49   \n",
       "2                    30.0                  97.0  0.99510  3.26       0.44   \n",
       "3                    47.0                 186.0  0.99560  3.19       0.40   \n",
       "4                    47.0                 186.0  0.99560  3.19       0.40   \n",
       "...                   ...                   ...      ...   ...        ...   \n",
       "4893                 24.0                  92.0  0.99114  3.27       0.50   \n",
       "4894                 57.0                 168.0  0.99490  3.15       0.46   \n",
       "4895                 30.0                 111.0  0.99254  2.99       0.46   \n",
       "4896                 20.0                 110.0  0.98869  3.34       0.38   \n",
       "4897                 22.0                  98.0  0.98941  3.26       0.32   \n",
       "\n",
       "      alcohol  quality  \n",
       "0         8.8      6.0  \n",
       "1         9.5      6.0  \n",
       "2        10.1      6.0  \n",
       "3         9.9      6.0  \n",
       "4         9.9      6.0  \n",
       "...       ...      ...  \n",
       "4893     11.2      6.0  \n",
       "4894      9.6      5.0  \n",
       "4895      9.4      6.0  \n",
       "4896     12.8      7.0  \n",
       "4897     11.8      6.0  \n",
       "\n",
       "[4898 rows x 12 columns]"
      ]
     },
     "execution_count": 8,
     "metadata": {},
     "output_type": "execute_result"
    }
   ],
   "source": [
    "dataRaw = dataRaw.drop(columns=['fixed acidity;\"volatile acidity\";\"citric acid\";\"residual sugar\";\"chlorides\";\"free sulfur dioxide\";\"total sulfur dioxide\";\"density\";\"pH\";\"sulphates\";\"alcohol\";\"quality\"'])\n",
    "dataRaw"
   ]
  },
  {
   "cell_type": "markdown",
   "metadata": {},
   "source": [
    "## Xác định các thuộc tính biến ( Variable Identification)\n",
    "* Xác định inputs / output\n",
    "* Inputs: Tất cả các thuộc tính trong dataset trừ \"quality\"\n",
    "* Output: \"quality\""
   ]
  },
  {
   "cell_type": "markdown",
   "metadata": {},
   "source": [
    "## Xác định kiểu dữ liệu của thuộc tính"
   ]
  },
  {
   "cell_type": "code",
   "execution_count": 9,
   "metadata": {},
   "outputs": [
    {
     "name": "stdout",
     "output_type": "stream",
     "text": [
      "<class 'pandas.core.frame.DataFrame'>\n",
      "RangeIndex: 4898 entries, 0 to 4897\n",
      "Data columns (total 12 columns):\n",
      " #   Column                Non-Null Count  Dtype  \n",
      "---  ------                --------------  -----  \n",
      " 0   fixed acidity         4898 non-null   float64\n",
      " 1   volatile acidity      4898 non-null   float64\n",
      " 2   citric acid           4898 non-null   float64\n",
      " 3   residual sugar        4898 non-null   float64\n",
      " 4   chlorides             4898 non-null   float64\n",
      " 5   free sulfur dioxide   4898 non-null   float64\n",
      " 6   total sulfur dioxide  4898 non-null   float64\n",
      " 7   density               4898 non-null   float64\n",
      " 8   pH                    4898 non-null   float64\n",
      " 9   sulphates             4898 non-null   float64\n",
      " 10  alcohol               4898 non-null   float64\n",
      " 11  quality               4898 non-null   float64\n",
      "dtypes: float64(12)\n",
      "memory usage: 459.3 KB\n"
     ]
    }
   ],
   "source": [
    "dataRaw.info()"
   ]
  },
  {
   "cell_type": "markdown",
   "metadata": {},
   "source": [
    "## Phân tích đơn biến"
   ]
  },
  {
   "cell_type": "code",
   "execution_count": 10,
   "metadata": {},
   "outputs": [
    {
     "data": {
      "text/plain": [
       "['fixed acidity',\n",
       " 'volatile acidity',\n",
       " 'citric acid',\n",
       " 'residual sugar',\n",
       " 'chlorides',\n",
       " 'free sulfur dioxide',\n",
       " 'total sulfur dioxide',\n",
       " 'density',\n",
       " 'pH',\n",
       " 'sulphates',\n",
       " 'alcohol',\n",
       " 'quality']"
      ]
     },
     "execution_count": 10,
     "metadata": {},
     "output_type": "execute_result"
    }
   ],
   "source": [
    "numbers = [f for f in dataRaw.columns if dataRaw.dtypes[f] != 'object']\n",
    "numbers"
   ]
  },
  {
   "cell_type": "code",
   "execution_count": 11,
   "metadata": {
    "scrolled": true
   },
   "outputs": [
    {
     "data": {
      "text/plain": [
       "[]"
      ]
     },
     "execution_count": 11,
     "metadata": {},
     "output_type": "execute_result"
    }
   ],
   "source": [
    "categories = [f for f in dataRaw.columns if dataRaw.dtypes[f] == 'object']\n",
    "categories"
   ]
  },
  {
   "cell_type": "code",
   "execution_count": 12,
   "metadata": {
    "scrolled": false
   },
   "outputs": [
    {
     "name": "stdout",
     "output_type": "stream",
     "text": [
      "Column name:  fixed acidity\n",
      "[ 7.    6.3   8.1   7.2   6.2   8.6   7.9   6.6   8.3   7.4   6.5   6.4\n",
      "  6.8   7.6   6.9   8.5   5.8   7.3   6.7   6.    7.1   6.1   7.5   9.8\n",
      "  5.5   5.9   7.8   5.7   8.2   5.6   5.2   8.4  10.2   7.7   5.3   5.4\n",
      "  9.1   5.    8.   10.    5.1   9.2   9.    8.8   8.7   4.8  10.3   9.4\n",
      "  9.6   9.3   8.9   9.7  10.7  14.2   9.9   9.5  11.8   4.6   6.15  4.5\n",
      "  7.15  6.45  4.2   4.9   4.7   3.8   4.4   3.9 ]\n",
      "Column name:  volatile acidity\n",
      "[0.27  0.3   0.28  0.23  0.32  0.22  0.18  0.16  0.42  0.17  0.48  0.66\n",
      " 0.34  0.31  0.26  0.67  0.25  0.24  0.14  0.12  0.39  0.33  0.45  0.46\n",
      " 0.19  0.2   0.21  0.38  0.47  0.35  0.54  0.43  0.44  0.265 0.36  0.305\n",
      " 0.13  0.41  0.485 0.425 0.37  0.255 0.595 0.29  0.53  0.15  0.57  0.4\n",
      " 0.245 0.685 0.495 0.64  0.52  0.115 0.58  0.585 0.59  0.6   0.55  0.125\n",
      " 0.1   0.145 0.335 0.365 0.905 0.49  0.155 0.51  0.62  0.345 0.475 0.56\n",
      " 0.235 0.105 0.5   0.11  0.225 0.395 0.655 0.205 0.415 0.705 0.08  0.68\n",
      " 0.275 0.61  0.135 0.165 0.85  0.185 0.325 0.445 0.545 0.91  0.71  1.005\n",
      " 0.385 0.76  0.93  0.295 0.695 0.815 0.285 0.175 0.615 0.315 0.965 0.375\n",
      " 0.74  0.78  0.215 0.435 0.75  0.085 0.73  0.65  0.455 1.1   0.555 0.09\n",
      " 0.63  0.69  0.785 0.405 0.355]\n",
      "Column name:  citric acid\n",
      "[0.36 0.34 0.4  0.32 0.16 0.43 0.41 0.37 0.62 0.38 0.04 0.48 0.42 0.14\n",
      " 0.35 0.39 0.2  0.23 0.26 0.27 0.31 0.25 0.29 0.33 0.59 0.15 0.24 0.07\n",
      " 0.03 0.13 0.28 0.46 0.3  0.61 0.63 0.66 0.54 0.5  0.   0.47 0.56 0.22\n",
      " 0.67 0.18 0.45 0.44 0.88 0.21 0.08 0.49 0.58 0.7  0.6  0.51 0.1  0.19\n",
      " 0.12 0.09 0.53 0.02 0.65 0.17 0.71 0.06 0.68 0.72 0.69 1.66 0.57 0.05\n",
      " 0.52 1.   0.01 0.74 0.81 0.55 0.64 0.73 0.99 0.78 0.79 0.82 0.8  1.23\n",
      " 0.86 0.11 0.91]\n",
      "Column name:  residual sugar\n",
      "[20.7   1.6   6.9   8.5   7.    1.5   1.45  4.2   1.2  19.25  1.1   7.5\n",
      "  2.9   1.7   1.3   9.    1.    8.7   2.   10.4   2.05 14.95  5.4  17.95\n",
      "  2.5   7.4   1.4   4.4   5.    0.9  11.9  12.4   4.6   4.9   6.4   2.1\n",
      " 10.1   7.8   4.8   8.8  16.    6.1   8.2  11.8  11.   13.3   1.8  15.9\n",
      " 10.5  13.5   9.6  12.1  18.9  14.4  16.5  18.75  9.2   3.3   5.7  12.2\n",
      "  6.85  7.6   2.8   2.7  13.1  15.8   8.1  15.7   1.9   2.2   4.3   5.2\n",
      "  4.1   8.   10.2  14.   14.5  13.    2.4   8.95  9.85  0.8   4.55 17.7\n",
      "  5.1  12.9   5.5  22.    9.4   3.8   3.6   3.5  16.1  13.2  13.9   2.3\n",
      " 11.6   8.3   6.2   9.7   5.3  17.5   9.5  17.8  10.3  14.3  15.55 13.7\n",
      " 11.2  16.2  19.45 13.6   7.1  10.7   8.9   9.1   4.7  15.6  15.4   7.2\n",
      " 14.2   5.8  19.8   7.3  10.6  11.3   6.8   6.7   3.7   6.6   7.7   7.85\n",
      "  9.3  15.15  6.3   9.9  12.3   3.   14.9  12.5   2.6   3.2   5.9   9.8\n",
      " 18.2   4.   18.95 12.7   8.6  20.8  15.2  10.   18.15 12.15  3.4   4.5\n",
      " 10.8  16.7   2.25 12.6  15.3  16.3   6.    7.9  11.4  17.75 10.9  16.8\n",
      " 18.05 11.5   3.1  12.    4.75 14.7  14.8  13.8   7.35 11.1  19.3  18.6\n",
      " 13.4  15.   14.1   6.5  12.8   5.6  11.75 17.45  7.05  6.35 16.95 17.1\n",
      "  8.4   1.95  5.85 14.35 12.85 16.85 14.45 14.75  1.15 17.55  5.15 14.6\n",
      " 17.35  3.75 17.    3.9  14.15 17.85  4.45  1.35 19.4   8.65 23.5  11.7\n",
      "  3.95 31.6  18.35  1.55 19.5   1.05 19.6   9.25  9.05 15.1  16.05 18.3\n",
      " 17.2  16.6  16.65  5.25 17.3   0.6   8.45 16.9  10.65  8.75 18.8  16.75\n",
      " 15.75 12.05 11.95 16.45 19.1  19.35  4.85 19.95 18.1   0.7  20.4   0.95\n",
      "  5.95  2.85  9.65 16.4   7.45 10.05  1.65 65.8  20.2   1.25  7.75  5.45\n",
      " 14.05 10.55  8.25 17.6   6.75 12.75  2.65  8.55  4.35  2.35 13.65  6.65\n",
      " 13.55 11.25  5.55  6.95  9.55 20.15 14.55 15.25  3.15 18.5   5.35  3.85\n",
      "  8.15 15.5  19.9   7.25  6.55 26.05 17.4  16.55  7.95 17.9  18.   13.15\n",
      " 20.3  11.45 17.05  9.15 22.6   1.75  4.25  1.85 12.55 18.4 ]\n",
      "Column name:  chlorides\n",
      "[0.045 0.049 0.05  0.058 0.044 0.033 0.035 0.04  0.032 0.046 0.029 0.038\n",
      " 0.074 0.052 0.051 0.047 0.042 0.08  0.053 0.057 0.172 0.173 0.069 0.06\n",
      " 0.063 0.066 0.067 0.062 0.068 0.147 0.039 0.043 0.048 0.092 0.064 0.041\n",
      " 0.056 0.061 0.054 0.034 0.059 0.082 0.065 0.026 0.02  0.036 0.027 0.037\n",
      " 0.055 0.2   0.197 0.03  0.07  0.031 0.132 0.071 0.028 0.089 0.021 0.108\n",
      " 0.022 0.081 0.023 0.073 0.346 0.025 0.09  0.114 0.186 0.18  0.084 0.083\n",
      " 0.096 0.094 0.24  0.29  0.185 0.024 0.11  0.078 0.13  0.135 0.115 0.072\n",
      " 0.17  0.018 0.119 0.126 0.017 0.019 0.15  0.152 0.088 0.244 0.137 0.093\n",
      " 0.077 0.079 0.076 0.201 0.301 0.138 0.169 0.168 0.122 0.167 0.239 0.123\n",
      " 0.133 0.211 0.255 0.204 0.208 0.086 0.16  0.179 0.087 0.217 0.157 0.148\n",
      " 0.158 0.099 0.085 0.091 0.095 0.142 0.075 0.121 0.014 0.156 0.012 0.171\n",
      " 0.016 0.112 0.154 0.104 0.102 0.184 0.146 0.117 0.118 0.015 0.009 0.098\n",
      " 0.194 0.013 0.144 0.149 0.175 0.174 0.097 0.145 0.209 0.105 0.176 0.271\n",
      " 0.12  0.212 0.127 0.136]\n",
      "Column name:  free sulfur dioxide\n",
      "[ 45.   14.   30.   47.   28.   11.   17.   16.   48.   41.   29.   34.\n",
      "  19.   25.   56.   35.   32.   37.   20.    7.   31.   43.   22.   21.\n",
      "  38.   63.   33.   62.   39.   50.   44.   27.   81.   50.5   9.   26.\n",
      "  51.   42.   54.   52.   55.   69.   65.   15.    4.   64.   60.   68.\n",
      "   8.   57.   40.   46.   59.   36.   49.   18.   24.   53.   23.   58.\n",
      "  12.   72.    5.   61.   66.   75.   76.   64.5   3.   82.   10.  131.\n",
      "  38.5  82.5  13.   87.   73.5  83.   67.   79.   70.    6.   77.  122.5\n",
      "  78.   11.5  80.   44.5  35.5  73.   71.   15.5  88.   77.5  41.5 118.5\n",
      "  96.   52.5 146.5  48.5 128.  110.   42.5  40.5  39.5  19.5  85.   74.\n",
      "  89.   86.   93.   30.5 138.5  95.  124.  105.  101.  108.    2.   79.5\n",
      "  61.5  98.  112.   51.5  70.5  23.5  59.5  28.5  60.5  43.5 289.   97. ]\n",
      "Column name:  total sulfur dioxide\n",
      "[170.  132.   97.  186.  136.  129.   63.  109.   75.  143.  172.  112.\n",
      "  99.  171.  133.  102.  122.  168.  142.  245.  146.  141.  114.   47.\n",
      " 100.  117.  179.  123.  149.  138.  158.  157.  160.  152.  154.  167.\n",
      " 206.  207.  150.  173.  124.   82.  108.  191.  213.  147.   78.  111.\n",
      " 151.  120.  174.   96.  105.  244.  238.5 201.   72.   87.   69.  103.\n",
      " 166.  164.  155.  156.  202.  243.  148.  240.   80.   83.  192.  162.\n",
      " 187.  163.  255.  195.   85.  196.  131.  126.  203.  184.   57.  241.\n",
      " 188.  121.   79.   77.  107.  116.  135.   76.  198.  119.  159.  205.\n",
      " 177.  197.   98.  110.  130.   65.  176.  183.  227.  226.  230.  210.\n",
      " 211.  125.  181.  180.  214.  204.  236.  134.  153.   68.  161.  144.\n",
      " 140.  145.  200.  272.  194.  208.  221.   90.  218.5 249.5 139.  199.\n",
      " 118.   95.  231.  234.  169.   60.   67.  190.  182.  175.   74.  127.\n",
      " 137.  313.  216.  101.   91.  128.   84.  113.  178.   89.  115.  260.\n",
      "  66.   93.  252.  222.  104.  249.   86.  165.   70.  189.   55.   41.\n",
      "  29.   61.   37.  185.   81.  106.   94.   64.  228.  234.5 224.  193.\n",
      " 225.  218.   49.   19.  253.  247.  238.   46.   92.  215.  220.  246.\n",
      " 229.  212.   73.   33.  242.  217.   30.   88.  233.   54.   62.  232.\n",
      "  26.  223.  219.  189.5 129.5  59.  217.5 251.  366.5  48.   51.  209.\n",
      "  24.   56.   53.  235.  248.   71.  307.5 256.  212.5 237.  344.  282.\n",
      " 219.5 216.5  28.  303.   45.   25.   58.   18.   21.   34.  294.   50.\n",
      "  31.    9.   40.   10.  176.5 115.5 259.  164.5 162.5 440.   44. ]\n",
      "Column name:  density\n",
      "[1.001    0.994    0.9951   0.9956   0.9949   0.9938   0.9908   0.9947\n",
      " 0.992    0.9912   1.0002   0.9914   0.9928   0.9892   0.9917   0.9955\n",
      " 0.993    0.9937   0.9961   0.9906   0.9974   0.9934   0.9939   0.9962\n",
      " 0.9905   0.9999   0.9954   0.9931   0.995    0.991    0.9911   0.9972\n",
      " 0.9926   0.9927   0.9903   0.9958   0.9964   0.9941   0.9898   0.9929\n",
      " 0.9985   0.9946   0.9966   0.9975   0.9957   0.99     0.9899   0.9916\n",
      " 0.9969   0.9979   0.9913   0.997    1.       0.999    0.9959   0.9982\n",
      " 0.9968   0.9984   0.9952   0.9924   0.9923   0.9921   0.9918   0.9919\n",
      " 0.9894   0.998    0.9932   0.9896   0.9902   0.9936   0.9942   0.9973\n",
      " 0.9944   0.9989   0.9971   0.9998   0.9976   0.996    0.9935   0.9904\n",
      " 0.9996   0.9977   0.9965   0.9945   0.9915   0.9909   0.9988   0.9978\n",
      " 0.9933   0.9948   0.9995   0.9893   0.9983   0.9993   0.9922   0.9992\n",
      " 0.9907   0.9901   0.9987   0.9953   0.9967   0.9963   0.9986   0.9925\n",
      " 0.9981   0.9997   0.9943   0.99855  0.99345  0.99475  0.99325  0.99685\n",
      " 0.99455  0.99035  0.99225  0.99155  0.99695  0.99655  0.99215  0.99115\n",
      " 0.99535  0.99165  0.99755  0.99935  0.99585  1.00055  0.99505  0.99175\n",
      " 0.99985  0.99865  1.0006   0.99135  0.99715  0.99815  0.99445  0.99335\n",
      " 0.99625  0.99085  0.99775  0.99795  0.99745  0.99405  0.99785  0.99675\n",
      " 0.98965  0.99055  0.99105  0.99045  0.99975  0.99315  0.99845  0.99725\n",
      " 0.99255  0.9886   0.9994   0.99185  0.99425  0.99495  0.99485  0.99265\n",
      " 0.99965  1.0004   0.989    1.0003   1.0001   1.0005   1.0012   0.9991\n",
      " 0.98815  1.0024   1.0103   1.0008   0.99705  0.99605  0.99435  0.9889\n",
      " 1.0007   1.0017   1.0011   0.9897   0.99416  0.99516  0.99496  0.99579\n",
      " 0.99471  0.99644  0.99699  0.99758  0.99397  0.99243  1.00182  0.99384\n",
      " 0.99582  0.99466  0.99212  0.99449  0.99748  0.99189  0.99827  0.99752\n",
      " 0.99479  0.99642  1.00047  0.99382  0.99784  0.99486  0.99537  0.99838\n",
      " 0.99566  0.99268  0.99468  0.99307  0.99907  0.99148  0.99383  0.99365\n",
      " 0.99272  0.99235  0.99508  0.99674  0.99018  0.99084  0.99856  0.99591\n",
      " 0.99173  0.99378  0.99805  0.99534  0.99232  0.99078  0.99061  0.99182\n",
      " 0.99779  0.99814  0.99096  0.99379  0.99426  0.99228  0.99595  0.99297\n",
      " 0.99687  0.99154  0.98993  1.00241  0.99716  0.99437  0.99756  0.99509\n",
      " 0.99572  0.99254  0.99676  0.99194  0.99077  0.99782  0.99942  0.99708\n",
      " 0.99353  0.99256  0.99199  0.99354  0.99244  0.99831  0.99396  0.99724\n",
      " 0.99524  0.99802  0.99512  0.99438  0.99679  0.99652  0.99698  0.99474\n",
      " 0.99511  0.99125  0.99168  0.99556  1.00098  0.99518  0.99347  0.99841\n",
      " 0.99362  0.99361  0.99114  0.99453  0.99806  1.00016  0.99116  0.99319\n",
      " 0.99517  0.99514  0.99166  0.99587  0.99558  0.99117  0.99399  0.99741\n",
      " 0.99622  1.00051  0.99803  0.99773  0.99713  0.99274  1.00118  0.99176\n",
      " 0.99771  0.99411  0.99577  0.99564  0.99578  0.99888  1.00014  0.99441\n",
      " 0.99594  0.99434  0.99203  0.99316  0.99314  0.99612  0.99295  0.99394\n",
      " 0.99248  0.99954  0.99692  0.99592  0.99822  0.99402  0.99404  0.99787\n",
      " 0.99839  0.99375  0.99571  0.99658  0.99076  0.99542  0.99825  0.99289\n",
      " 0.99432  0.99523  0.99543  0.99662  0.99088  0.99922  0.99836  0.99238\n",
      " 0.99645  0.99376  0.99513  0.99886  0.99526  0.99691  0.99732  0.99573\n",
      " 0.99656  0.99112  0.99214  0.99004  0.99463  0.99683  0.99596  0.99898\n",
      " 0.99306  0.99342  0.99772  0.99239  0.99502  0.99207  0.99497  0.99828\n",
      " 0.99706  0.99669  0.99269  0.99196  0.99544  0.99944  0.99066  0.99106\n",
      " 0.99696  0.99167  0.99902  0.98992  0.98972  0.99352  0.99273  0.99628\n",
      " 0.99553  0.98914  0.99976  0.99808  0.99499  0.99615  0.99296  0.99482\n",
      " 0.99079  0.99366  0.98958  0.99938  0.99059  0.99835  0.99159  0.98931\n",
      " 0.99563  0.99678  0.99089  0.99332  0.99636  0.99202  0.99064  0.99884\n",
      " 1.00013  0.98974  0.99136  0.99132  0.99488  0.99527  0.99198  0.99561\n",
      " 0.98936  0.99786  0.99688  0.99118  0.99044  0.98892  0.99188  0.99583\n",
      " 0.99704  0.99334  0.99094  0.99014  0.99304  0.98944  0.99367  0.99183\n",
      " 0.99126  0.99428  0.99388  0.99208  0.99904  0.99216  0.99924  0.99562\n",
      " 0.99541  0.99276  0.99873  0.99172  0.99312  0.99278  0.99092  0.99053\n",
      " 0.99858  0.99532  0.99727  0.99026  0.99668  0.99144  0.99015  0.99693\n",
      " 0.99006  0.98994  0.98985  0.99882  0.99477  0.99478  0.99576  0.99356\n",
      " 0.98952  0.99955  0.99374  0.99237  0.99022  0.99032  1.03898  0.99552\n",
      " 0.99604  0.99584  0.98894  0.99068  0.98964  0.99801  0.99067  0.98912\n",
      " 0.99052  0.99095  0.99581  0.99142  0.99311  0.99776  0.99574  0.99093\n",
      " 0.99156  0.98984  0.99008  0.99178  0.99046  0.98999  0.98946  0.98976\n",
      " 0.99672  0.98945  0.98883  0.99075  0.99436  0.98988  0.99158  0.99195\n",
      " 0.99313  0.9895   0.99848  0.99104  0.99413  0.99043  0.98982  0.98934\n",
      " 0.99629  0.99326  0.99834  0.99555  0.98975  0.99218  0.99601  0.98713\n",
      " 0.99308  0.99494  0.99037  0.98986  0.98951  0.99634  0.99368  0.99792\n",
      " 0.98919  0.99038  0.99286  0.99119  0.99007  0.99507  0.99011  0.99184\n",
      " 0.99469  0.99406  0.99305  0.98956  0.9888   0.98942  0.99082  0.98802\n",
      " 0.99074  0.98968  0.9887   0.99941  0.99206  0.99016  0.99439  0.99458\n",
      " 0.99418  0.99456  0.99546  0.99646  0.99264  0.99489  0.99054  0.99519\n",
      " 0.99666  0.99324  0.99086  0.99711  0.99452  0.99427  0.99152  0.98935\n",
      " 0.98876  0.99174  0.99454  0.99164  0.99778  0.99205  0.98962  0.99253\n",
      " 0.98906  0.99146  0.99129  0.99121  0.99221  0.98924  0.99252  0.99709\n",
      " 0.98836  0.99586  0.99322  0.99098  0.99918  0.99851  0.99293  0.99946\n",
      " 0.99568  0.99684  0.99036  0.98865  0.99222  0.98961  0.99123  0.99422\n",
      " 0.98926  0.99373  0.98939  0.99318  0.99111  0.99321  0.99124  0.98915\n",
      " 0.99234  0.99033  0.99002  0.99057  0.99127  0.98938  0.99001  0.99386\n",
      " 0.98916  0.99548  0.99412  0.99364  0.99338  0.99328  0.99031  0.98871\n",
      " 0.99245  0.99162  0.99632  0.99177  0.98923  0.99358  0.99407  0.99226\n",
      " 0.99097  0.99193  0.99091  0.99134  0.99229  0.99128  0.98896  0.99056\n",
      " 0.99012  0.98902  0.99395  0.99539  0.98889  0.99833  0.98853  0.99266\n",
      " 0.98995  0.99048  0.99204  0.99472  0.99665  0.98862  0.99151  0.99072\n",
      " 0.98954  0.98794  0.99355  0.99336  0.98882  0.99341  0.99042  0.99381\n",
      " 0.99139  0.99192  0.99657  0.99392  0.99242  0.99137  1.00196  0.99947\n",
      " 0.99945  0.99153  0.98834  0.99138  0.98928  0.99246  0.99956  0.99058\n",
      " 0.99554  0.99536  0.99616  0.98918  0.99742  0.98884  0.99284  0.99393\n",
      " 0.99408  0.99473  0.98998  0.98922  0.99869  0.99108  0.99385  0.99606\n",
      " 0.98987  0.98947  0.98819  0.99133  0.99143  0.99186  0.99528  0.99279\n",
      " 0.99224  0.98959  1.00037  0.99062  0.99398  0.99211  0.99492  0.99654\n",
      " 0.99794  0.99726  1.00295  0.99459  0.99966  0.99442  0.99348  0.99283\n",
      " 0.99916  0.99498  0.98856  0.99346  0.99071  0.98742  0.99275  1.00044\n",
      " 0.99444  0.99344  0.98949  0.98722  0.99754  0.99712  0.99299  1.00022\n",
      " 0.99936  0.9884   0.98953  0.99567  0.9874   0.99122  0.99099  0.99551\n",
      " 0.99702  0.99109  0.99677  0.99522  0.99429  0.99294  0.99262  0.98913\n",
      " 0.99021  0.99728  0.99864  0.99545  0.99069  0.99896  0.98746  0.99028\n",
      " 0.98867  0.98779  0.99751  0.99249  0.99872  0.988245 0.99282  0.99281\n",
      " 0.99047  0.99223  0.99481  0.99863  0.99317  0.98878  0.99588  1.00038\n",
      " 0.99424  0.99626  0.99287  0.99971  0.99565  0.99027  0.99302  0.99257\n",
      " 0.99506  0.99608  0.99024  0.98978  0.99908  0.99853  0.99769  0.99538\n",
      " 0.99734  0.98981  0.99737  0.99767  0.98711  0.99714  0.99019  0.98886\n",
      " 0.99009  0.99288  0.99659  0.99107  0.99163  0.99065  0.99236  0.98948\n",
      " 0.99013  0.99624  0.99602  0.99718  0.99464  0.99261  0.99736  0.99041\n",
      " 0.99209  0.99251  0.99267  0.99862  0.99462  0.99476  0.99081  0.98997\n",
      " 0.99681  0.99627  0.99433  0.99807  0.99788  0.99738  0.98963  0.99323\n",
      " 0.99504  0.99461  0.99663  0.99372  0.99157  0.99804  0.99899  0.99391\n",
      " 0.99824  0.99906  0.99415  0.99611  0.99179  0.99339  0.99241  0.98816\n",
      " 0.99329  0.99911  0.99403  0.98898  0.989315 0.989435 0.998275 0.989465\n",
      " 0.98823  0.998365 0.99837  0.99034  0.98895  0.99457  0.99331  0.99414\n",
      " 0.99201  0.98774  0.98966  0.99309  0.98868  0.99063  0.99161  0.99271\n",
      " 0.98845  0.99521  0.99943  0.9891   0.98872  0.99102  0.99171  0.98904\n",
      " 0.98758  0.99051  0.99103  0.99258  0.99005  0.98822  0.98854  0.99298\n",
      " 0.98869  0.98941 ]\n",
      "Column name:  pH\n",
      "[3.   3.3  3.26 3.19 3.18 3.22 2.99 3.14 3.54 2.98 3.25 3.24 3.33 3.12\n",
      " 3.17 3.47 3.05 3.42 3.45 3.38 3.1  3.2  3.37 3.13 3.21 3.11 3.16 3.27\n",
      " 3.36 3.35 3.34 3.32 3.31 3.09 3.03 3.02 3.15 3.69 2.95 2.94 3.39 3.04\n",
      " 2.89 3.4  3.01 3.63 3.29 3.23 3.28 3.06 3.08 2.87 2.93 3.44 3.5  3.48\n",
      " 3.72 3.53 3.52 2.96 3.61 3.43 3.49 3.51 3.46 3.07 2.97 3.41 3.64 3.56\n",
      " 2.86 2.88 2.85 3.58 3.55 3.66 3.59 2.74 2.92 3.82 3.81 3.65 2.9  3.77\n",
      " 2.91 3.62 3.74 2.8  3.6  2.72 2.79 3.57 3.8  3.68 2.77 3.79 3.7  2.84\n",
      " 3.76 2.83 3.75 2.82 3.67]\n",
      "Column name:  sulphates\n",
      "[0.45 0.49 0.44 0.4  0.47 0.56 0.53 0.63 0.52 0.67 0.55 0.36 0.39 0.5\n",
      " 0.35 0.48 0.51 0.71 0.37 0.42 0.28 0.34 0.46 0.58 0.38 0.54 0.64 0.6\n",
      " 0.65 0.77 0.41 0.3  0.59 0.57 0.43 0.32 0.84 0.33 0.29 0.27 0.68 0.66\n",
      " 0.61 0.74 0.79 0.7  0.62 0.85 0.76 0.75 0.78 0.69 0.72 0.73 0.96 0.97\n",
      " 0.82 0.95 0.9  0.88 0.31 0.25 0.8  0.87 0.86 0.81 0.92 0.26 0.98 1.06\n",
      " 1.   0.89 0.94 0.99 0.22 0.23 0.83 1.01 1.08]\n",
      "Column name:  alcohol\n",
      "[ 8.8         9.5        10.1         9.9         9.6        11.\n",
      " 12.          9.7        10.8        12.4        11.4        12.8\n",
      " 11.3        10.5         9.3        10.         10.4        11.6\n",
      " 12.3        10.2         9.         11.2         8.6         9.4\n",
      "  9.8        11.7        10.9         9.1         8.9        10.3\n",
      " 12.6        10.7        12.7        10.6         9.2         8.7\n",
      " 11.5        11.8        12.1        11.1         8.5        12.5\n",
      " 11.9        12.2        12.9        13.9        14.         13.5\n",
      " 13.3        13.2        13.7        13.4        13.          8.\n",
      " 13.1        13.6         8.4        14.2        11.94       12.89333333\n",
      " 11.46666667 10.98       10.03333333 11.43333333 10.53333333  9.53333333\n",
      " 10.93333333 11.36666667 11.33333333 11.06666667  9.73333333 11.05\n",
      "  9.75       11.35        9.55       10.55       11.45       14.05\n",
      " 12.33333333 12.75       13.8        12.15       13.05       11.26666667\n",
      " 10.56666667 11.73333333 11.75       10.65       10.96666667 10.13333333\n",
      " 10.15       10.46666667 11.63333333 12.25       11.85       11.65\n",
      " 13.55       13.13333333 11.95       12.06666667 11.55        9.63333333\n",
      " 12.05      ]\n",
      "Column name:  quality\n",
      "[6. 5. 7. 8. 4. 3. 9.]\n"
     ]
    }
   ],
   "source": [
    "for i in dataRaw.columns:\n",
    "    print(\"Column name: \",i)\n",
    "    print(dataRaw[i].unique())"
   ]
  },
  {
   "cell_type": "code",
   "execution_count": 13,
   "metadata": {},
   "outputs": [],
   "source": [
    "dataRaw[\"quality\"] = dataRaw[\"quality\"].astype(int)"
   ]
  },
  {
   "cell_type": "code",
   "execution_count": 14,
   "metadata": {
    "scrolled": true
   },
   "outputs": [
    {
     "data": {
      "text/html": [
       "<div>\n",
       "<style scoped>\n",
       "    .dataframe tbody tr th:only-of-type {\n",
       "        vertical-align: middle;\n",
       "    }\n",
       "\n",
       "    .dataframe tbody tr th {\n",
       "        vertical-align: top;\n",
       "    }\n",
       "\n",
       "    .dataframe thead th {\n",
       "        text-align: right;\n",
       "    }\n",
       "</style>\n",
       "<table border=\"1\" class=\"dataframe\">\n",
       "  <thead>\n",
       "    <tr style=\"text-align: right;\">\n",
       "      <th></th>\n",
       "      <th>fixed acidity</th>\n",
       "      <th>volatile acidity</th>\n",
       "      <th>citric acid</th>\n",
       "      <th>residual sugar</th>\n",
       "      <th>chlorides</th>\n",
       "      <th>free sulfur dioxide</th>\n",
       "      <th>total sulfur dioxide</th>\n",
       "      <th>density</th>\n",
       "      <th>pH</th>\n",
       "      <th>sulphates</th>\n",
       "      <th>alcohol</th>\n",
       "      <th>quality</th>\n",
       "    </tr>\n",
       "  </thead>\n",
       "  <tbody>\n",
       "    <tr>\n",
       "      <th>0</th>\n",
       "      <td>7.0</td>\n",
       "      <td>0.27</td>\n",
       "      <td>0.36</td>\n",
       "      <td>20.7</td>\n",
       "      <td>0.045</td>\n",
       "      <td>45.0</td>\n",
       "      <td>170.0</td>\n",
       "      <td>1.00100</td>\n",
       "      <td>3.00</td>\n",
       "      <td>0.45</td>\n",
       "      <td>8.8</td>\n",
       "      <td>6</td>\n",
       "    </tr>\n",
       "    <tr>\n",
       "      <th>1</th>\n",
       "      <td>6.3</td>\n",
       "      <td>0.30</td>\n",
       "      <td>0.34</td>\n",
       "      <td>1.6</td>\n",
       "      <td>0.049</td>\n",
       "      <td>14.0</td>\n",
       "      <td>132.0</td>\n",
       "      <td>0.99400</td>\n",
       "      <td>3.30</td>\n",
       "      <td>0.49</td>\n",
       "      <td>9.5</td>\n",
       "      <td>6</td>\n",
       "    </tr>\n",
       "    <tr>\n",
       "      <th>2</th>\n",
       "      <td>8.1</td>\n",
       "      <td>0.28</td>\n",
       "      <td>0.40</td>\n",
       "      <td>6.9</td>\n",
       "      <td>0.050</td>\n",
       "      <td>30.0</td>\n",
       "      <td>97.0</td>\n",
       "      <td>0.99510</td>\n",
       "      <td>3.26</td>\n",
       "      <td>0.44</td>\n",
       "      <td>10.1</td>\n",
       "      <td>6</td>\n",
       "    </tr>\n",
       "    <tr>\n",
       "      <th>3</th>\n",
       "      <td>7.2</td>\n",
       "      <td>0.23</td>\n",
       "      <td>0.32</td>\n",
       "      <td>8.5</td>\n",
       "      <td>0.058</td>\n",
       "      <td>47.0</td>\n",
       "      <td>186.0</td>\n",
       "      <td>0.99560</td>\n",
       "      <td>3.19</td>\n",
       "      <td>0.40</td>\n",
       "      <td>9.9</td>\n",
       "      <td>6</td>\n",
       "    </tr>\n",
       "    <tr>\n",
       "      <th>4</th>\n",
       "      <td>7.2</td>\n",
       "      <td>0.23</td>\n",
       "      <td>0.32</td>\n",
       "      <td>8.5</td>\n",
       "      <td>0.058</td>\n",
       "      <td>47.0</td>\n",
       "      <td>186.0</td>\n",
       "      <td>0.99560</td>\n",
       "      <td>3.19</td>\n",
       "      <td>0.40</td>\n",
       "      <td>9.9</td>\n",
       "      <td>6</td>\n",
       "    </tr>\n",
       "    <tr>\n",
       "      <th>...</th>\n",
       "      <td>...</td>\n",
       "      <td>...</td>\n",
       "      <td>...</td>\n",
       "      <td>...</td>\n",
       "      <td>...</td>\n",
       "      <td>...</td>\n",
       "      <td>...</td>\n",
       "      <td>...</td>\n",
       "      <td>...</td>\n",
       "      <td>...</td>\n",
       "      <td>...</td>\n",
       "      <td>...</td>\n",
       "    </tr>\n",
       "    <tr>\n",
       "      <th>4893</th>\n",
       "      <td>6.2</td>\n",
       "      <td>0.21</td>\n",
       "      <td>0.29</td>\n",
       "      <td>1.6</td>\n",
       "      <td>0.039</td>\n",
       "      <td>24.0</td>\n",
       "      <td>92.0</td>\n",
       "      <td>0.99114</td>\n",
       "      <td>3.27</td>\n",
       "      <td>0.50</td>\n",
       "      <td>11.2</td>\n",
       "      <td>6</td>\n",
       "    </tr>\n",
       "    <tr>\n",
       "      <th>4894</th>\n",
       "      <td>6.6</td>\n",
       "      <td>0.32</td>\n",
       "      <td>0.36</td>\n",
       "      <td>8.0</td>\n",
       "      <td>0.047</td>\n",
       "      <td>57.0</td>\n",
       "      <td>168.0</td>\n",
       "      <td>0.99490</td>\n",
       "      <td>3.15</td>\n",
       "      <td>0.46</td>\n",
       "      <td>9.6</td>\n",
       "      <td>5</td>\n",
       "    </tr>\n",
       "    <tr>\n",
       "      <th>4895</th>\n",
       "      <td>6.5</td>\n",
       "      <td>0.24</td>\n",
       "      <td>0.19</td>\n",
       "      <td>1.2</td>\n",
       "      <td>0.041</td>\n",
       "      <td>30.0</td>\n",
       "      <td>111.0</td>\n",
       "      <td>0.99254</td>\n",
       "      <td>2.99</td>\n",
       "      <td>0.46</td>\n",
       "      <td>9.4</td>\n",
       "      <td>6</td>\n",
       "    </tr>\n",
       "    <tr>\n",
       "      <th>4896</th>\n",
       "      <td>5.5</td>\n",
       "      <td>0.29</td>\n",
       "      <td>0.30</td>\n",
       "      <td>1.1</td>\n",
       "      <td>0.022</td>\n",
       "      <td>20.0</td>\n",
       "      <td>110.0</td>\n",
       "      <td>0.98869</td>\n",
       "      <td>3.34</td>\n",
       "      <td>0.38</td>\n",
       "      <td>12.8</td>\n",
       "      <td>7</td>\n",
       "    </tr>\n",
       "    <tr>\n",
       "      <th>4897</th>\n",
       "      <td>6.0</td>\n",
       "      <td>0.21</td>\n",
       "      <td>0.38</td>\n",
       "      <td>0.8</td>\n",
       "      <td>0.020</td>\n",
       "      <td>22.0</td>\n",
       "      <td>98.0</td>\n",
       "      <td>0.98941</td>\n",
       "      <td>3.26</td>\n",
       "      <td>0.32</td>\n",
       "      <td>11.8</td>\n",
       "      <td>6</td>\n",
       "    </tr>\n",
       "  </tbody>\n",
       "</table>\n",
       "<p>4898 rows × 12 columns</p>\n",
       "</div>"
      ],
      "text/plain": [
       "      fixed acidity  volatile acidity  citric acid  residual sugar  chlorides  \\\n",
       "0               7.0              0.27         0.36            20.7      0.045   \n",
       "1               6.3              0.30         0.34             1.6      0.049   \n",
       "2               8.1              0.28         0.40             6.9      0.050   \n",
       "3               7.2              0.23         0.32             8.5      0.058   \n",
       "4               7.2              0.23         0.32             8.5      0.058   \n",
       "...             ...               ...          ...             ...        ...   \n",
       "4893            6.2              0.21         0.29             1.6      0.039   \n",
       "4894            6.6              0.32         0.36             8.0      0.047   \n",
       "4895            6.5              0.24         0.19             1.2      0.041   \n",
       "4896            5.5              0.29         0.30             1.1      0.022   \n",
       "4897            6.0              0.21         0.38             0.8      0.020   \n",
       "\n",
       "      free sulfur dioxide  total sulfur dioxide  density    pH  sulphates  \\\n",
       "0                    45.0                 170.0  1.00100  3.00       0.45   \n",
       "1                    14.0                 132.0  0.99400  3.30       0.49   \n",
       "2                    30.0                  97.0  0.99510  3.26       0.44   \n",
       "3                    47.0                 186.0  0.99560  3.19       0.40   \n",
       "4                    47.0                 186.0  0.99560  3.19       0.40   \n",
       "...                   ...                   ...      ...   ...        ...   \n",
       "4893                 24.0                  92.0  0.99114  3.27       0.50   \n",
       "4894                 57.0                 168.0  0.99490  3.15       0.46   \n",
       "4895                 30.0                 111.0  0.99254  2.99       0.46   \n",
       "4896                 20.0                 110.0  0.98869  3.34       0.38   \n",
       "4897                 22.0                  98.0  0.98941  3.26       0.32   \n",
       "\n",
       "      alcohol  quality  \n",
       "0         8.8        6  \n",
       "1         9.5        6  \n",
       "2        10.1        6  \n",
       "3         9.9        6  \n",
       "4         9.9        6  \n",
       "...       ...      ...  \n",
       "4893     11.2        6  \n",
       "4894      9.6        5  \n",
       "4895      9.4        6  \n",
       "4896     12.8        7  \n",
       "4897     11.8        6  \n",
       "\n",
       "[4898 rows x 12 columns]"
      ]
     },
     "execution_count": 14,
     "metadata": {},
     "output_type": "execute_result"
    }
   ],
   "source": [
    "dataRaw"
   ]
  },
  {
   "cell_type": "code",
   "execution_count": 15,
   "metadata": {
    "scrolled": false
   },
   "outputs": [
    {
     "name": "stdout",
     "output_type": "stream",
     "text": [
      "Column name:  fixed acidity  : [ 7.    6.3   8.1   7.2   6.2   8.6   7.9   6.6   8.3   7.4   6.5   6.4\n",
      "  6.8   7.6   6.9   8.5   5.8   7.3   6.7   6.    7.1   6.1   7.5   9.8\n",
      "  5.5   5.9   7.8   5.7   8.2   5.6   5.2   8.4  10.2   7.7   5.3   5.4\n",
      "  9.1   5.    8.   10.    5.1   9.2   9.    8.8   8.7   4.8  10.3   9.4\n",
      "  9.6   9.3   8.9   9.7  10.7  14.2   9.9   9.5  11.8   4.6   6.15  4.5\n",
      "  7.15  6.45  4.2   4.9   4.7   3.8   4.4   3.9 ]\n",
      "Column name:  volatile acidity  : [0.27  0.3   0.28  0.23  0.32  0.22  0.18  0.16  0.42  0.17  0.48  0.66\n",
      " 0.34  0.31  0.26  0.67  0.25  0.24  0.14  0.12  0.39  0.33  0.45  0.46\n",
      " 0.19  0.2   0.21  0.38  0.47  0.35  0.54  0.43  0.44  0.265 0.36  0.305\n",
      " 0.13  0.41  0.485 0.425 0.37  0.255 0.595 0.29  0.53  0.15  0.57  0.4\n",
      " 0.245 0.685 0.495 0.64  0.52  0.115 0.58  0.585 0.59  0.6   0.55  0.125\n",
      " 0.1   0.145 0.335 0.365 0.905 0.49  0.155 0.51  0.62  0.345 0.475 0.56\n",
      " 0.235 0.105 0.5   0.11  0.225 0.395 0.655 0.205 0.415 0.705 0.08  0.68\n",
      " 0.275 0.61  0.135 0.165 0.85  0.185 0.325 0.445 0.545 0.91  0.71  1.005\n",
      " 0.385 0.76  0.93  0.295 0.695 0.815 0.285 0.175 0.615 0.315 0.965 0.375\n",
      " 0.74  0.78  0.215 0.435 0.75  0.085 0.73  0.65  0.455 1.1   0.555 0.09\n",
      " 0.63  0.69  0.785 0.405 0.355]\n",
      "Column name:  citric acid  : [0.36 0.34 0.4  0.32 0.16 0.43 0.41 0.37 0.62 0.38 0.04 0.48 0.42 0.14\n",
      " 0.35 0.39 0.2  0.23 0.26 0.27 0.31 0.25 0.29 0.33 0.59 0.15 0.24 0.07\n",
      " 0.03 0.13 0.28 0.46 0.3  0.61 0.63 0.66 0.54 0.5  0.   0.47 0.56 0.22\n",
      " 0.67 0.18 0.45 0.44 0.88 0.21 0.08 0.49 0.58 0.7  0.6  0.51 0.1  0.19\n",
      " 0.12 0.09 0.53 0.02 0.65 0.17 0.71 0.06 0.68 0.72 0.69 1.66 0.57 0.05\n",
      " 0.52 1.   0.01 0.74 0.81 0.55 0.64 0.73 0.99 0.78 0.79 0.82 0.8  1.23\n",
      " 0.86 0.11 0.91]\n",
      "Column name:  residual sugar  : [20.7   1.6   6.9   8.5   7.    1.5   1.45  4.2   1.2  19.25  1.1   7.5\n",
      "  2.9   1.7   1.3   9.    1.    8.7   2.   10.4   2.05 14.95  5.4  17.95\n",
      "  2.5   7.4   1.4   4.4   5.    0.9  11.9  12.4   4.6   4.9   6.4   2.1\n",
      " 10.1   7.8   4.8   8.8  16.    6.1   8.2  11.8  11.   13.3   1.8  15.9\n",
      " 10.5  13.5   9.6  12.1  18.9  14.4  16.5  18.75  9.2   3.3   5.7  12.2\n",
      "  6.85  7.6   2.8   2.7  13.1  15.8   8.1  15.7   1.9   2.2   4.3   5.2\n",
      "  4.1   8.   10.2  14.   14.5  13.    2.4   8.95  9.85  0.8   4.55 17.7\n",
      "  5.1  12.9   5.5  22.    9.4   3.8   3.6   3.5  16.1  13.2  13.9   2.3\n",
      " 11.6   8.3   6.2   9.7   5.3  17.5   9.5  17.8  10.3  14.3  15.55 13.7\n",
      " 11.2  16.2  19.45 13.6   7.1  10.7   8.9   9.1   4.7  15.6  15.4   7.2\n",
      " 14.2   5.8  19.8   7.3  10.6  11.3   6.8   6.7   3.7   6.6   7.7   7.85\n",
      "  9.3  15.15  6.3   9.9  12.3   3.   14.9  12.5   2.6   3.2   5.9   9.8\n",
      " 18.2   4.   18.95 12.7   8.6  20.8  15.2  10.   18.15 12.15  3.4   4.5\n",
      " 10.8  16.7   2.25 12.6  15.3  16.3   6.    7.9  11.4  17.75 10.9  16.8\n",
      " 18.05 11.5   3.1  12.    4.75 14.7  14.8  13.8   7.35 11.1  19.3  18.6\n",
      " 13.4  15.   14.1   6.5  12.8   5.6  11.75 17.45  7.05  6.35 16.95 17.1\n",
      "  8.4   1.95  5.85 14.35 12.85 16.85 14.45 14.75  1.15 17.55  5.15 14.6\n",
      " 17.35  3.75 17.    3.9  14.15 17.85  4.45  1.35 19.4   8.65 23.5  11.7\n",
      "  3.95 31.6  18.35  1.55 19.5   1.05 19.6   9.25  9.05 15.1  16.05 18.3\n",
      " 17.2  16.6  16.65  5.25 17.3   0.6   8.45 16.9  10.65  8.75 18.8  16.75\n",
      " 15.75 12.05 11.95 16.45 19.1  19.35  4.85 19.95 18.1   0.7  20.4   0.95\n",
      "  5.95  2.85  9.65 16.4   7.45 10.05  1.65 65.8  20.2   1.25  7.75  5.45\n",
      " 14.05 10.55  8.25 17.6   6.75 12.75  2.65  8.55  4.35  2.35 13.65  6.65\n",
      " 13.55 11.25  5.55  6.95  9.55 20.15 14.55 15.25  3.15 18.5   5.35  3.85\n",
      "  8.15 15.5  19.9   7.25  6.55 26.05 17.4  16.55  7.95 17.9  18.   13.15\n",
      " 20.3  11.45 17.05  9.15 22.6   1.75  4.25  1.85 12.55 18.4 ]\n",
      "Column name:  chlorides  : [0.045 0.049 0.05  0.058 0.044 0.033 0.035 0.04  0.032 0.046 0.029 0.038\n",
      " 0.074 0.052 0.051 0.047 0.042 0.08  0.053 0.057 0.172 0.173 0.069 0.06\n",
      " 0.063 0.066 0.067 0.062 0.068 0.147 0.039 0.043 0.048 0.092 0.064 0.041\n",
      " 0.056 0.061 0.054 0.034 0.059 0.082 0.065 0.026 0.02  0.036 0.027 0.037\n",
      " 0.055 0.2   0.197 0.03  0.07  0.031 0.132 0.071 0.028 0.089 0.021 0.108\n",
      " 0.022 0.081 0.023 0.073 0.346 0.025 0.09  0.114 0.186 0.18  0.084 0.083\n",
      " 0.096 0.094 0.24  0.29  0.185 0.024 0.11  0.078 0.13  0.135 0.115 0.072\n",
      " 0.17  0.018 0.119 0.126 0.017 0.019 0.15  0.152 0.088 0.244 0.137 0.093\n",
      " 0.077 0.079 0.076 0.201 0.301 0.138 0.169 0.168 0.122 0.167 0.239 0.123\n",
      " 0.133 0.211 0.255 0.204 0.208 0.086 0.16  0.179 0.087 0.217 0.157 0.148\n",
      " 0.158 0.099 0.085 0.091 0.095 0.142 0.075 0.121 0.014 0.156 0.012 0.171\n",
      " 0.016 0.112 0.154 0.104 0.102 0.184 0.146 0.117 0.118 0.015 0.009 0.098\n",
      " 0.194 0.013 0.144 0.149 0.175 0.174 0.097 0.145 0.209 0.105 0.176 0.271\n",
      " 0.12  0.212 0.127 0.136]\n",
      "Column name:  free sulfur dioxide  : [ 45.   14.   30.   47.   28.   11.   17.   16.   48.   41.   29.   34.\n",
      "  19.   25.   56.   35.   32.   37.   20.    7.   31.   43.   22.   21.\n",
      "  38.   63.   33.   62.   39.   50.   44.   27.   81.   50.5   9.   26.\n",
      "  51.   42.   54.   52.   55.   69.   65.   15.    4.   64.   60.   68.\n",
      "   8.   57.   40.   46.   59.   36.   49.   18.   24.   53.   23.   58.\n",
      "  12.   72.    5.   61.   66.   75.   76.   64.5   3.   82.   10.  131.\n",
      "  38.5  82.5  13.   87.   73.5  83.   67.   79.   70.    6.   77.  122.5\n",
      "  78.   11.5  80.   44.5  35.5  73.   71.   15.5  88.   77.5  41.5 118.5\n",
      "  96.   52.5 146.5  48.5 128.  110.   42.5  40.5  39.5  19.5  85.   74.\n",
      "  89.   86.   93.   30.5 138.5  95.  124.  105.  101.  108.    2.   79.5\n",
      "  61.5  98.  112.   51.5  70.5  23.5  59.5  28.5  60.5  43.5 289.   97. ]\n",
      "Column name:  total sulfur dioxide  : [170.  132.   97.  186.  136.  129.   63.  109.   75.  143.  172.  112.\n",
      "  99.  171.  133.  102.  122.  168.  142.  245.  146.  141.  114.   47.\n",
      " 100.  117.  179.  123.  149.  138.  158.  157.  160.  152.  154.  167.\n",
      " 206.  207.  150.  173.  124.   82.  108.  191.  213.  147.   78.  111.\n",
      " 151.  120.  174.   96.  105.  244.  238.5 201.   72.   87.   69.  103.\n",
      " 166.  164.  155.  156.  202.  243.  148.  240.   80.   83.  192.  162.\n",
      " 187.  163.  255.  195.   85.  196.  131.  126.  203.  184.   57.  241.\n",
      " 188.  121.   79.   77.  107.  116.  135.   76.  198.  119.  159.  205.\n",
      " 177.  197.   98.  110.  130.   65.  176.  183.  227.  226.  230.  210.\n",
      " 211.  125.  181.  180.  214.  204.  236.  134.  153.   68.  161.  144.\n",
      " 140.  145.  200.  272.  194.  208.  221.   90.  218.5 249.5 139.  199.\n",
      " 118.   95.  231.  234.  169.   60.   67.  190.  182.  175.   74.  127.\n",
      " 137.  313.  216.  101.   91.  128.   84.  113.  178.   89.  115.  260.\n",
      "  66.   93.  252.  222.  104.  249.   86.  165.   70.  189.   55.   41.\n",
      "  29.   61.   37.  185.   81.  106.   94.   64.  228.  234.5 224.  193.\n",
      " 225.  218.   49.   19.  253.  247.  238.   46.   92.  215.  220.  246.\n",
      " 229.  212.   73.   33.  242.  217.   30.   88.  233.   54.   62.  232.\n",
      "  26.  223.  219.  189.5 129.5  59.  217.5 251.  366.5  48.   51.  209.\n",
      "  24.   56.   53.  235.  248.   71.  307.5 256.  212.5 237.  344.  282.\n",
      " 219.5 216.5  28.  303.   45.   25.   58.   18.   21.   34.  294.   50.\n",
      "  31.    9.   40.   10.  176.5 115.5 259.  164.5 162.5 440.   44. ]\n",
      "Column name:  pH  : [3.   3.3  3.26 3.19 3.18 3.22 2.99 3.14 3.54 2.98 3.25 3.24 3.33 3.12\n",
      " 3.17 3.47 3.05 3.42 3.45 3.38 3.1  3.2  3.37 3.13 3.21 3.11 3.16 3.27\n",
      " 3.36 3.35 3.34 3.32 3.31 3.09 3.03 3.02 3.15 3.69 2.95 2.94 3.39 3.04\n",
      " 2.89 3.4  3.01 3.63 3.29 3.23 3.28 3.06 3.08 2.87 2.93 3.44 3.5  3.48\n",
      " 3.72 3.53 3.52 2.96 3.61 3.43 3.49 3.51 3.46 3.07 2.97 3.41 3.64 3.56\n",
      " 2.86 2.88 2.85 3.58 3.55 3.66 3.59 2.74 2.92 3.82 3.81 3.65 2.9  3.77\n",
      " 2.91 3.62 3.74 2.8  3.6  2.72 2.79 3.57 3.8  3.68 2.77 3.79 3.7  2.84\n",
      " 3.76 2.83 3.75 2.82 3.67]\n",
      "Column name:  sulphates  : [0.45 0.49 0.44 0.4  0.47 0.56 0.53 0.63 0.52 0.67 0.55 0.36 0.39 0.5\n",
      " 0.35 0.48 0.51 0.71 0.37 0.42 0.28 0.34 0.46 0.58 0.38 0.54 0.64 0.6\n",
      " 0.65 0.77 0.41 0.3  0.59 0.57 0.43 0.32 0.84 0.33 0.29 0.27 0.68 0.66\n",
      " 0.61 0.74 0.79 0.7  0.62 0.85 0.76 0.75 0.78 0.69 0.72 0.73 0.96 0.97\n",
      " 0.82 0.95 0.9  0.88 0.31 0.25 0.8  0.87 0.86 0.81 0.92 0.26 0.98 1.06\n",
      " 1.   0.89 0.94 0.99 0.22 0.23 0.83 1.01 1.08]\n",
      "Column name:  alcohol  : [ 8.8         9.5        10.1         9.9         9.6        11.\n",
      " 12.          9.7        10.8        12.4        11.4        12.8\n",
      " 11.3        10.5         9.3        10.         10.4        11.6\n",
      " 12.3        10.2         9.         11.2         8.6         9.4\n",
      "  9.8        11.7        10.9         9.1         8.9        10.3\n",
      " 12.6        10.7        12.7        10.6         9.2         8.7\n",
      " 11.5        11.8        12.1        11.1         8.5        12.5\n",
      " 11.9        12.2        12.9        13.9        14.         13.5\n",
      " 13.3        13.2        13.7        13.4        13.          8.\n",
      " 13.1        13.6         8.4        14.2        11.94       12.89333333\n",
      " 11.46666667 10.98       10.03333333 11.43333333 10.53333333  9.53333333\n",
      " 10.93333333 11.36666667 11.33333333 11.06666667  9.73333333 11.05\n",
      "  9.75       11.35        9.55       10.55       11.45       14.05\n",
      " 12.33333333 12.75       13.8        12.15       13.05       11.26666667\n",
      " 10.56666667 11.73333333 11.75       10.65       10.96666667 10.13333333\n",
      " 10.15       10.46666667 11.63333333 12.25       11.85       11.65\n",
      " 13.55       13.13333333 11.95       12.06666667 11.55        9.63333333\n",
      " 12.05      ]\n",
      "Column name:  quality  : [6 5 7 8 4 3 9]\n"
     ]
    }
   ],
   "source": [
    "# Check category in number data.\n",
    "for i in dataRaw.columns:\n",
    "    if len(dataRaw[i].unique()) < (dataRaw.shape[0] * 0.1):\n",
    "        print(\"Column name: \", i, \" :\", dataRaw[i].unique())\n",
    "        categories.append(i)"
   ]
  },
  {
   "cell_type": "code",
   "execution_count": 16,
   "metadata": {
    "scrolled": true
   },
   "outputs": [],
   "source": [
    "continous = [x for x in dataRaw.columns if x not in categories]"
   ]
  },
  {
   "cell_type": "code",
   "execution_count": 17,
   "metadata": {
    "scrolled": true
   },
   "outputs": [
    {
     "data": {
      "text/plain": [
       "['density']"
      ]
     },
     "execution_count": 17,
     "metadata": {},
     "output_type": "execute_result"
    }
   ],
   "source": [
    "continous"
   ]
  },
  {
   "cell_type": "code",
   "execution_count": 18,
   "metadata": {
    "scrolled": true
   },
   "outputs": [
    {
     "data": {
      "text/plain": [
       "['fixed acidity',\n",
       " 'volatile acidity',\n",
       " 'citric acid',\n",
       " 'residual sugar',\n",
       " 'chlorides',\n",
       " 'free sulfur dioxide',\n",
       " 'total sulfur dioxide',\n",
       " 'pH',\n",
       " 'sulphates',\n",
       " 'alcohol',\n",
       " 'quality']"
      ]
     },
     "execution_count": 18,
     "metadata": {},
     "output_type": "execute_result"
    }
   ],
   "source": [
    "categories"
   ]
  },
  {
   "cell_type": "code",
   "execution_count": 19,
   "metadata": {},
   "outputs": [
    {
     "name": "stdout",
     "output_type": "stream",
     "text": [
      "Success for split data to continous and categories\n"
     ]
    }
   ],
   "source": [
    "if len(continous + categories) == len(dataRaw.columns):\n",
    "    print(\"Success for split data to continous and categories\")"
   ]
  },
  {
   "cell_type": "markdown",
   "metadata": {},
   "source": [
    "## Univariate Analysis"
   ]
  },
  {
   "cell_type": "markdown",
   "metadata": {},
   "source": [
    "#### Continous"
   ]
  },
  {
   "cell_type": "code",
   "execution_count": 20,
   "metadata": {},
   "outputs": [
    {
     "data": {
      "text/plain": [
       "['density']"
      ]
     },
     "execution_count": 20,
     "metadata": {},
     "output_type": "execute_result"
    }
   ],
   "source": [
    "continous"
   ]
  },
  {
   "cell_type": "code",
   "execution_count": 21,
   "metadata": {
    "scrolled": true
   },
   "outputs": [
    {
     "name": "stdout",
     "output_type": "stream",
     "text": [
      "Describe data:\n",
      "count    4898.000000\n",
      "mean        0.994027\n",
      "std         0.002991\n",
      "min         0.987110\n",
      "25%         0.991723\n",
      "50%         0.993740\n",
      "75%         0.996100\n",
      "max         1.038980\n",
      "Name: density, dtype: float64\n",
      "----------------\n",
      "Median data:\n",
      "0.99374\n",
      "----------------\n",
      "Mode data:\n",
      "0    0.992\n",
      "dtype: float64\n",
      "----------------\n",
      "Mean data:\n",
      "0.9940273764801896\n",
      "----------------\n",
      "Q1\n",
      "0.9917225000000001\n",
      "----------------\n",
      "Q3\n",
      "0.9961\n",
      "----------------\n",
      "IQR\n",
      "0.004377499999999923\n",
      "----------------\n",
      "Variance\n",
      "8.945524185781203e-06\n",
      "----------------\n",
      "Standard Deviation\n",
      "0.0029909069169369354\n",
      "----------------\n",
      "Skew\n",
      "0.9777730048689898\n",
      "----------------\n",
      "Phân phối lệch phải\n",
      "----------------\n",
      "Kur\n",
      "9.793806910765252\n",
      "----------------\n",
      "Phân phối nhọn hơn phân phối chuẩn\n",
      "-----------------\n",
      "-----------------\n",
      "Visual data\n"
     ]
    },
    {
     "data": {
      "image/png": "[encoded data removed]",
      "text/plain": [
       "<Figure size 720x360 with 2 Axes>"
      ]
     },
     "metadata": {
      "needs_background": "light"
     },
     "output_type": "display_data"
    },
    {
     "name": "stdout",
     "output_type": "stream",
     "text": [
      "-----------------\n",
      "-----------------\n",
      "Visual data with boxplot\n"
     ]
    },
    {
     "data": {
      "image/png": "[encoded data removed]",
      "text/plain": [
       "<Figure size 288x576 with 1 Axes>"
      ]
     },
     "metadata": {
      "needs_background": "light"
     },
     "output_type": "display_data"
    }
   ],
   "source": [
    "def continous_describe(column_name, data):\n",
    "    data_temp = data[column_name]\n",
    "    print('Describe data:')\n",
    "    print(data_temp.describe())\n",
    "    print(\"----------------\")\n",
    "    print(\"Median data:\")\n",
    "    print(data_temp.median())\n",
    "    print(\"----------------\")\n",
    "    print(\"Mode data:\")\n",
    "    print(data_temp.mode())\n",
    "    print(\"----------------\")\n",
    "    print(\"Mean data:\")\n",
    "    print(data_temp.mean())\n",
    "    print(\"----------------\")\n",
    "    print(\"Q1\")\n",
    "    print(np.percentile(data_temp, 25))\n",
    "    print(\"----------------\")\n",
    "    print(\"Q3\")\n",
    "    print(np.percentile(data_temp, 75))\n",
    "    print(\"----------------\")\n",
    "    print(\"IQR\")\n",
    "    print(scipy.stats.iqr(data_temp))\n",
    "    print(\"----------------\")\n",
    "    print(\"Variance\")\n",
    "    print(data_temp.var())\n",
    "    print(\"----------------\")\n",
    "    print(\"Standard Deviation\")\n",
    "    print(data_temp.std())\n",
    "    print(\"----------------\")\n",
    "    print(\"Skew\")\n",
    "    print(data_temp.skew())\n",
    "    print(\"----------------\")\n",
    "    if data_temp.skew() > 0:\n",
    "        print(\"Phân phối lệch phải\")\n",
    "    elif data_temp.skew() < 0:\n",
    "        print(\" Phân phối lệch trái\")\n",
    "    else:\n",
    "        print(\"Đây là phân phối chuẩn\")\n",
    "    print(\"----------------\")\n",
    "    print(\"Kur\")\n",
    "    print(data_temp.kurtosis())\n",
    "    print(\"----------------\")\n",
    "    if data_temp.kurtosis() > 0:\n",
    "        print(\"Phân phối nhọn hơn phân phối chuẩn\")\n",
    "    elif data_temp.kurtosis() < 0:\n",
    "        print(\" Phân phối bẹt hơn phân phối chuẩn\")\n",
    "    else:\n",
    "        print(\"Đây là phân phối chuẩn\")\n",
    "    print(\"-----------------\")\n",
    "    print(\"-----------------\")\n",
    "    print(\"Visual data\")\n",
    "    plt.figure(figsize=(10,5))\n",
    "    plt.subplot(1,2,1)\n",
    "    sns.distplot(data_temp)\n",
    "    plt.subplot(1,2,2)\n",
    "    plt.hist(data_temp)\n",
    "    plt.show()\n",
    "    print(\"-----------------\")\n",
    "    print(\"-----------------\")\n",
    "    print(\"Visual data with boxplot\")\n",
    "    plt.figure(figsize=(4,8))\n",
    "    plt.boxplot(data_temp)\n",
    "for i in continous:\n",
    "    continous_describe(i, dataRaw)"
   ]
  },
  {
   "cell_type": "code",
   "execution_count": 22,
   "metadata": {},
   "outputs": [
    {
     "name": "stdout",
     "output_type": "stream",
     "text": [
      "--------------\n",
      "Number of outlier lower\n",
      "5\n",
      "--------------\n",
      "Number of outlier lower\n",
      "0\n",
      "--------------\n",
      "Percentage of outlier\n",
      "0.0010208248264597796\n",
      "Xem xét loại bỏ outlier ?\n"
     ]
    }
   ],
   "source": [
    "## Kiểm tra Outlier\n",
    "def outlier_describe(column_name, data):\n",
    "    lower_outlier = data[data[column_name] > np.percentile(data[column_name], 75) + (1.5 * scipy.stats.iqr(data[column_name]))]\n",
    "    print('--------------')\n",
    "    print('Number of outlier lower')\n",
    "    print(lower_outlier.shape[0])\n",
    "    upper_outlier = data[data[column_name] < np.percentile(data[column_name], 25) - (1.5 * scipy.stats.iqr(data[column_name]))]\n",
    "    print('--------------')\n",
    "    print('Number of outlier lower')\n",
    "    print(upper_outlier.shape[0])\n",
    "    print('--------------')\n",
    "    print('Percentage of outlier')\n",
    "    print((lower_outlier.shape[0]+upper_outlier.shape[0]) / data[column_name].shape[0])\n",
    "    print('Xem xét loại bỏ outlier ?')\n",
    "    \n",
    "for i in continous:\n",
    "    outlier_describe(i, dataRaw)"
   ]
  },
  {
   "cell_type": "markdown",
   "metadata": {},
   "source": [
    "#### Categorical"
   ]
  },
  {
   "cell_type": "code",
   "execution_count": 23,
   "metadata": {},
   "outputs": [
    {
     "data": {
      "text/plain": [
       "['fixed acidity',\n",
       " 'volatile acidity',\n",
       " 'citric acid',\n",
       " 'residual sugar',\n",
       " 'chlorides',\n",
       " 'free sulfur dioxide',\n",
       " 'total sulfur dioxide',\n",
       " 'pH',\n",
       " 'sulphates',\n",
       " 'alcohol',\n",
       " 'quality']"
      ]
     },
     "execution_count": 23,
     "metadata": {},
     "output_type": "execute_result"
    }
   ],
   "source": [
    "categories"
   ]
  },
  {
   "cell_type": "code",
   "execution_count": 24,
   "metadata": {},
   "outputs": [
    {
     "name": "stdout",
     "output_type": "stream",
     "text": [
      "Column Name:  fixed acidity\n",
      "Group by categorical\n",
      "6.80     308\n",
      "6.60     290\n",
      "6.40     280\n",
      "6.90     241\n",
      "6.70     236\n",
      "        ... \n",
      "6.45       1\n",
      "3.80       1\n",
      "14.20      1\n",
      "10.20      1\n",
      "3.90       1\n",
      "Name: fixed acidity, Length: 68, dtype: int64\n",
      "Plot bar\n"
     ]
    },
    {
     "data": {
      "image/png": "[encoded data removed]",
      "text/plain": [
       "<Figure size 432x288 with 1 Axes>"
      ]
     },
     "metadata": {},
     "output_type": "display_data"
    },
    {
     "name": "stdout",
     "output_type": "stream",
     "text": [
      "Column Name:  volatile acidity\n",
      "Group by categorical\n",
      "0.280    263\n",
      "0.240    253\n",
      "0.260    240\n",
      "0.250    231\n",
      "0.220    229\n",
      "        ... \n",
      "0.355      1\n",
      "0.215      1\n",
      "0.740      1\n",
      "0.090      1\n",
      "0.405      1\n",
      "Name: volatile acidity, Length: 125, dtype: int64\n",
      "Plot bar\n"
     ]
    },
    {
     "data": {
      "image/png": "[encoded data removed]",
      "text/plain": [
       "<Figure size 432x288 with 1 Axes>"
      ]
     },
     "metadata": {},
     "output_type": "display_data"
    },
    {
     "name": "stdout",
     "output_type": "stream",
     "text": [
      "Column Name:  citric acid\n",
      "Group by categorical\n",
      "0.30    307\n",
      "0.28    282\n",
      "0.32    257\n",
      "0.34    225\n",
      "0.29    223\n",
      "       ... \n",
      "1.66      1\n",
      "0.11      1\n",
      "0.86      1\n",
      "0.99      1\n",
      "1.23      1\n",
      "Name: citric acid, Length: 87, dtype: int64\n",
      "Plot bar\n"
     ]
    },
    {
     "data": {
      "image/png": "[encoded data removed]",
      "text/plain": [
       "<Figure size 432x288 with 1 Axes>"
      ]
     },
     "metadata": {},
     "output_type": "display_data"
    },
    {
     "name": "stdout",
     "output_type": "stream",
     "text": [
      "Column Name:  residual sugar\n",
      "Group by categorical\n",
      "1.20     187\n",
      "1.40     184\n",
      "1.60     165\n",
      "1.30     147\n",
      "1.10     146\n",
      "        ... \n",
      "12.75      1\n",
      "6.55       1\n",
      "8.55       1\n",
      "5.55       1\n",
      "7.85       1\n",
      "Name: residual sugar, Length: 310, dtype: int64\n",
      "Plot bar\n"
     ]
    },
    {
     "data": {
      "image/png": "[encoded data removed]",
      "text/plain": [
       "<Figure size 432x288 with 1 Axes>"
      ]
     },
     "metadata": {},
     "output_type": "display_data"
    },
    {
     "name": "stdout",
     "output_type": "stream",
     "text": [
      "Column Name:  chlorides\n",
      "Group by categorical\n",
      "0.044    201\n",
      "0.036    200\n",
      "0.042    184\n",
      "0.040    182\n",
      "0.046    181\n",
      "        ... \n",
      "0.114      1\n",
      "0.012      1\n",
      "0.158      1\n",
      "0.144      1\n",
      "0.204      1\n",
      "Name: chlorides, Length: 160, dtype: int64\n",
      "Plot bar\n"
     ]
    },
    {
     "data": {
      "image/png": "[encoded data removed]",
      "text/plain": [
       "<Figure size 432x288 with 1 Axes>"
      ]
     },
     "metadata": {},
     "output_type": "display_data"
    },
    {
     "name": "stdout",
     "output_type": "stream",
     "text": [
      "Column Name:  free sulfur dioxide\n",
      "Group by categorical\n",
      "29.0     160\n",
      "31.0     132\n",
      "26.0     129\n",
      "35.0     129\n",
      "34.0     128\n",
      "        ... \n",
      "122.5      1\n",
      "112.0      1\n",
      "2.0        1\n",
      "128.0      1\n",
      "118.5      1\n",
      "Name: free sulfur dioxide, Length: 132, dtype: int64\n",
      "Plot bar\n"
     ]
    },
    {
     "data": {
      "image/png": "[encoded data removed]",
      "text/plain": [
       "<Figure size 432x288 with 1 Axes>"
      ]
     },
     "metadata": {},
     "output_type": "display_data"
    },
    {
     "name": "stdout",
     "output_type": "stream",
     "text": [
      "Column Name:  total sulfur dioxide\n",
      "Group by categorical\n",
      "111.0    69\n",
      "113.0    61\n",
      "117.0    57\n",
      "118.0    55\n",
      "128.0    54\n",
      "         ..\n",
      "10.0      1\n",
      "44.0      1\n",
      "313.0     1\n",
      "19.0      1\n",
      "234.5     1\n",
      "Name: total sulfur dioxide, Length: 251, dtype: int64\n",
      "Plot bar\n"
     ]
    },
    {
     "data": {
      "image/png": "[encoded data removed]",
      "text/plain": [
       "<Figure size 432x288 with 1 Axes>"
      ]
     },
     "metadata": {},
     "output_type": "display_data"
    },
    {
     "name": "stdout",
     "output_type": "stream",
     "text": [
      "Column Name:  pH\n",
      "Group by categorical\n",
      "3.14    172\n",
      "3.16    164\n",
      "3.22    146\n",
      "3.19    145\n",
      "3.18    138\n",
      "       ... \n",
      "3.79      1\n",
      "2.84      1\n",
      "2.74      1\n",
      "3.81      1\n",
      "2.82      1\n",
      "Name: pH, Length: 103, dtype: int64\n",
      "Plot bar\n"
     ]
    },
    {
     "data": {
      "image/png": "[encoded data removed]",
      "text/plain": [
       "<Figure size 432x288 with 1 Axes>"
      ]
     },
     "metadata": {},
     "output_type": "display_data"
    },
    {
     "name": "stdout",
     "output_type": "stream",
     "text": [
      "Column Name:  sulphates\n",
      "Group by categorical\n",
      "0.50    249\n",
      "0.46    225\n",
      "0.44    216\n",
      "0.38    214\n",
      "0.42    181\n",
      "       ... \n",
      "0.89      1\n",
      "1.06      1\n",
      "0.22      1\n",
      "0.23      1\n",
      "0.99      1\n",
      "Name: sulphates, Length: 79, dtype: int64\n",
      "Plot bar\n"
     ]
    },
    {
     "data": {
      "image/png": "[encoded data removed]",
      "text/plain": [
       "<Figure size 432x288 with 1 Axes>"
      ]
     },
     "metadata": {},
     "output_type": "display_data"
    },
    {
     "name": "stdout",
     "output_type": "stream",
     "text": [
      "Column Name:  alcohol\n",
      "Group by categorical\n",
      "9.400000     229\n",
      "9.500000     228\n",
      "9.200000     199\n",
      "9.000000     185\n",
      "10.000000    162\n",
      "            ... \n",
      "11.466667      1\n",
      "12.250000      1\n",
      "12.333333      1\n",
      "12.066667      1\n",
      "11.550000      1\n",
      "Name: alcohol, Length: 103, dtype: int64\n",
      "Plot bar\n"
     ]
    },
    {
     "data": {
      "image/png": "[encoded data removed]",
      "text/plain": [
       "<Figure size 432x288 with 1 Axes>"
      ]
     },
     "metadata": {},
     "output_type": "display_data"
    },
    {
     "name": "stdout",
     "output_type": "stream",
     "text": [
      "Column Name:  quality\n",
      "Group by categorical\n",
      "6    2198\n",
      "5    1457\n",
      "7     880\n",
      "8     175\n",
      "4     163\n",
      "3      20\n",
      "9       5\n",
      "Name: quality, dtype: int64\n",
      "Plot bar\n"
     ]
    },
    {
     "data": {
      "image/png": "[encoded data removed]",
      "text/plain": [
       "<Figure size 432x288 with 1 Axes>"
      ]
     },
     "metadata": {},
     "output_type": "display_data"
    }
   ],
   "source": [
    "def describe_categorical(column_name, data):\n",
    "    print(\"Column Name: \", column_name)\n",
    "    data_temp = data[column_name].value_counts()\n",
    "    print(\"Group by categorical\")\n",
    "    print(data_temp)\n",
    "    print(\"Plot bar\")\n",
    "    sns.set()\n",
    "    data_temp.plot.bar()\n",
    "    plt.show()\n",
    "for i in categories:\n",
    "    describe_categorical(i, dataRaw)"
   ]
  },
  {
   "cell_type": "markdown",
   "metadata": {},
   "source": [
    "## Multivariate Analys"
   ]
  },
  {
   "cell_type": "markdown",
   "metadata": {},
   "source": [
    "####  Categorical and Continous"
   ]
  },
  {
   "cell_type": "code",
   "execution_count": 25,
   "metadata": {
    "scrolled": true
   },
   "outputs": [
    {
     "data": {
      "image/png": "[encoded data removed]",
      "text/plain": [
       "<Figure size 864x720 with 1 Axes>"
      ]
     },
     "metadata": {},
     "output_type": "display_data"
    },
    {
     "name": "stdout",
     "output_type": "stream",
     "text": [
      "              sum_sq      df           F         PR(>F)\n",
      "C(quality)  0.005035     6.0  105.856434  8.499687e-126\n",
      "Residual    0.038771  4891.0         NaN            NaN\n",
      "Multiple Comparison of Means - Tukey HSD, FWER=0.05 \n",
      "====================================================\n",
      "group1 group2 meandiff p-adj   lower   upper  reject\n",
      "----------------------------------------------------\n",
      "     3      4  -0.0006    0.9 -0.0026  0.0014  False\n",
      "     3      5   0.0004    0.9 -0.0015  0.0022  False\n",
      "     3      6  -0.0009 0.7416 -0.0028  0.0009  False\n",
      "     3      7  -0.0024 0.0026 -0.0043 -0.0006   True\n",
      "     3      8  -0.0026 0.0013 -0.0046 -0.0007   True\n",
      "     3      9  -0.0034 0.1851 -0.0076  0.0007  False\n",
      "     4      5    0.001  0.001  0.0003  0.0017   True\n",
      "     4      6  -0.0003 0.7882  -0.001  0.0004  False\n",
      "     4      7  -0.0018  0.001 -0.0025 -0.0011   True\n",
      "     4      8   -0.002  0.001 -0.0029 -0.0011   True\n",
      "     4      9  -0.0028 0.2938 -0.0066   0.001  False\n",
      "     5      6  -0.0013  0.001 -0.0016  -0.001   True\n",
      "     5      7  -0.0028  0.001 -0.0032 -0.0025   True\n",
      "     5      8   -0.003  0.001 -0.0037 -0.0024   True\n",
      "     5      9  -0.0038 0.0414 -0.0075 -0.0001   True\n",
      "     6      7  -0.0015  0.001 -0.0018 -0.0012   True\n",
      "     6      8  -0.0017  0.001 -0.0024 -0.0011   True\n",
      "     6      9  -0.0025 0.4271 -0.0062  0.0012  False\n",
      "     7      8  -0.0002    0.9 -0.0009  0.0005  False\n",
      "     7      9   -0.001    0.9 -0.0047  0.0027  False\n",
      "     8      9  -0.0008    0.9 -0.0045   0.003  False\n",
      "----------------------------------------------------\n",
      "*******\n",
      "Continous affect:  ['density']\n"
     ]
    }
   ],
   "source": [
    "# Check the effect of Continous to quality of wine\n",
    "# Anova 1 way\n",
    "import statsmodels.api as sm\n",
    "from statsmodels.formula.api import ols\n",
    "from statsmodels.stats.multicomp import pairwise_tukeyhsd\n",
    "\n",
    "continous_affect = []\n",
    "def categorical_con(cate, con, data):\n",
    "    data_temp = data[[cate, con]]\n",
    "    data.head()\n",
    "    plt.figure(figsize=(12, 10))\n",
    "    sns.boxplot(x=cate, y=con, data=data_temp, palette='Set3')\n",
    "    plt.show()\n",
    "    model = ols(f'{con} ~C({cate})', data=data_temp, missing='drop').fit()\n",
    "    anova_table = sm.stats.anova_lm(model, typ=2)\n",
    "    print(anova_table)\n",
    "    m_comp = pairwise_tukeyhsd(endog=data_temp[con], groups=data_temp[cate], alpha=0.05)\n",
    "    print(m_comp)\n",
    "    return anova_table[\"PR(>F)\"].iloc[0] < 0.05\n",
    "\n",
    "for i in continous:\n",
    "    if (categorical_con('quality', i, dataRaw)):\n",
    "        continous_affect.append(i)\n",
    "print(\"*******\")\n",
    "print(\"Continous affect: \", continous_affect)"
   ]
  },
  {
   "cell_type": "markdown",
   "metadata": {},
   "source": [
    "#### Categorical and Categorial"
   ]
  },
  {
   "cell_type": "code",
   "execution_count": 26,
   "metadata": {},
   "outputs": [
    {
     "data": {
      "text/plain": [
       "['fixed acidity',\n",
       " 'volatile acidity',\n",
       " 'citric acid',\n",
       " 'residual sugar',\n",
       " 'chlorides',\n",
       " 'free sulfur dioxide',\n",
       " 'total sulfur dioxide',\n",
       " 'pH',\n",
       " 'sulphates',\n",
       " 'alcohol',\n",
       " 'quality']"
      ]
     },
     "execution_count": 26,
     "metadata": {},
     "output_type": "execute_result"
    }
   ],
   "source": [
    "categories"
   ]
  },
  {
   "cell_type": "code",
   "execution_count": 29,
   "metadata": {},
   "outputs": [
    {
     "name": "stdout",
     "output_type": "stream",
     "text": [
      "Analys  quality  and  fixed acidity\n",
      "----------------------------\n",
      "Crosstab Data:\n",
      "----------------------------\n",
      "fixed acidity  3.8   3.9   4.2   4.4   4.5   4.6   4.7   4.8   4.9   5.0   \\\n",
      "quality                                                                     \n",
      "3                 0     0     1     0     0     0     0     0     0     0   \n",
      "4                 0     0     0     0     0     0     0     1     0     0   \n",
      "5                 0     0     0     0     1     1     2     1     4     2   \n",
      "6                 1     0     0     1     0     0     2     3     2    14   \n",
      "7                 0     0     1     1     0     0     1     4     0     6   \n",
      "8                 0     1     0     1     0     0     0     0     1     2   \n",
      "9                 0     0     0     0     0     0     0     0     0     0   \n",
      "\n",
      "fixed acidity  ...  9.6   9.7   9.8   9.9   10.0  10.2  10.3  10.7  11.8  14.2  \n",
      "quality        ...                                                              \n",
      "3              ...     0     0     0     0     0     0     1     0     1     0  \n",
      "4              ...     0     0     3     1     1     1     0     0     0     0  \n",
      "5              ...     3     1     5     0     0     0     1     0     0     0  \n",
      "6              ...     2     3     0     1     2     0     0     2     0     1  \n",
      "7              ...     0     0     0     0     0     0     0     0     0     0  \n",
      "8              ...     0     0     0     0     0     0     0     0     0     0  \n",
      "9              ...     0     0     0     0     0     0     0     0     0     0  \n",
      "\n",
      "[7 rows x 68 columns]\n",
      "Visual Data with Barplot\n"
     ]
    },
    {
     "data": {
      "text/plain": [
       "<Figure size 720x360 with 0 Axes>"
      ]
     },
     "metadata": {},
     "output_type": "display_data"
    },
    {
     "data": {
      "image/png": "[encoded data removed]",
      "text/plain": [
       "<Figure size 432x288 with 1 Axes>"
      ]
     },
     "metadata": {},
     "output_type": "display_data"
    },
    {
     "name": "stdout",
     "output_type": "stream",
     "text": [
      "----------------------------\n",
      "Chi-Square Test\n",
      "dof =  402\n",
      "p =  1.2118125171608471e-100\n",
      "probability 0.95, critical=449.74870209866117, stat=1336.133910332499\n",
      "significance=0.050000000000000044, p=1.2118125171608471e-100\n",
      "Dependent (reject H0)\n",
      "Analys  quality  and  volatile acidity\n",
      "----------------------------\n",
      "Crosstab Data:\n",
      "----------------------------\n",
      "volatile acidity  0.080  0.085  0.090  0.100  0.105  0.110  0.115  0.120  \\\n",
      "quality                                                                    \n",
      "3                     0      0      0      0      0      0      0      0   \n",
      "4                     0      0      0      0      0      1      0      0   \n",
      "5                     0      0      0      1      0      0      0      7   \n",
      "6                     2      1      1      2      2      7      2     13   \n",
      "7                     2      0      0      3      4      5      1      8   \n",
      "8                     0      0      0      0      0      0      0      6   \n",
      "9                     0      0      0      0      0      0      0      0   \n",
      "\n",
      "volatile acidity  0.125  0.130  ...  0.780  0.785  0.815  0.850  0.905  0.910  \\\n",
      "quality                         ...                                             \n",
      "3                     0      0  ...      0      0      0      0      0      0   \n",
      "4                     0      0  ...      0      0      0      0      0      1   \n",
      "5                     0      6  ...      1      0      1      1      1      0   \n",
      "6                     1     23  ...      0      1      0      0      0      0   \n",
      "7                     2     13  ...      0      0      0      0      0      0   \n",
      "8                     0      2  ...      0      0      0      0      0      0   \n",
      "9                     0      0  ...      0      0      0      0      0      0   \n",
      "\n",
      "volatile acidity  0.930  0.965  1.005  1.100  \n",
      "quality                                       \n",
      "3                     0      0      0      0  \n",
      "4                     1      0      1      1  \n",
      "5                     0      0      0      0  \n",
      "6                     0      1      0      0  \n",
      "7                     0      0      0      0  \n",
      "8                     0      0      0      0  \n",
      "9                     0      0      0      0  \n",
      "\n",
      "[7 rows x 125 columns]\n",
      "Visual Data with Barplot\n"
     ]
    },
    {
     "data": {
      "text/plain": [
       "<Figure size 720x360 with 0 Axes>"
      ]
     },
     "metadata": {},
     "output_type": "display_data"
    },
    {
     "data": {
      "image/png": "[encoded data removed]",
      "text/plain": [
       "<Figure size 432x288 with 1 Axes>"
      ]
     },
     "metadata": {},
     "output_type": "display_data"
    },
    {
     "name": "stdout",
     "output_type": "stream",
     "text": [
      "----------------------------\n",
      "Chi-Square Test\n",
      "dof =  744\n",
      "p =  2.1485709327609485e-78\n",
      "probability 0.95, critical=808.5660965116425, stat=1714.4920201469024\n",
      "significance=0.050000000000000044, p=2.1485709327609485e-78\n",
      "Dependent (reject H0)\n",
      "Analys  quality  and  citric acid\n",
      "----------------------------\n",
      "Crosstab Data:\n",
      "----------------------------\n",
      "citric acid  0.00  0.01  0.02  0.03  0.04  0.05  0.06  0.07  0.08  0.09  ...  \\\n",
      "quality                                                                  ...   \n",
      "3               0     0     0     0     0     0     0     0     0     0  ...   \n",
      "4               6     0     2     0     3     0     0     1     1     1  ...   \n",
      "5               5     4     2     2     3     2     6     8     2     6  ...   \n",
      "6               8     0     2     0     4     3     0     3     1     3  ...   \n",
      "7               0     3     0     0     0     0     0     0     0     2  ...   \n",
      "8               0     0     0     0     2     0     0     0     0     0  ...   \n",
      "9               0     0     0     0     0     0     0     0     0     0  ...   \n",
      "\n",
      "citric acid  0.80  0.81  0.82  0.86  0.88  0.91  0.99  1.00  1.23  1.66  \n",
      "quality                                                                  \n",
      "3               0     0     0     0     0     0     0     0     0     0  \n",
      "4               0     0     0     0     1     0     0     0     0     0  \n",
      "5               2     1     1     1     0     0     0     1     0     0  \n",
      "6               0     1     1     0     0     2     1     4     1     1  \n",
      "7               0     0     0     0     0     0     0     0     0     0  \n",
      "8               0     0     0     0     0     0     0     0     0     0  \n",
      "9               0     0     0     0     0     0     0     0     0     0  \n",
      "\n",
      "[7 rows x 87 columns]\n",
      "Visual Data with Barplot\n"
     ]
    },
    {
     "data": {
      "text/plain": [
       "<Figure size 720x360 with 0 Axes>"
      ]
     },
     "metadata": {},
     "output_type": "display_data"
    },
    {
     "data": {
      "image/png": "[encoded data removed]",
      "text/plain": [
       "<Figure size 432x288 with 1 Axes>"
      ]
     },
     "metadata": {},
     "output_type": "display_data"
    },
    {
     "name": "stdout",
     "output_type": "stream",
     "text": [
      "----------------------------\n",
      "Chi-Square Test\n",
      "dof =  516\n",
      "p =  3.367485048978111e-30\n",
      "probability 0.95, critical=569.9528880530673, stat=970.5640063818784\n",
      "significance=0.050000000000000044, p=3.367485048978111e-30\n",
      "Dependent (reject H0)\n",
      "Analys  quality  and  residual sugar\n",
      "----------------------------\n",
      "Crosstab Data:\n",
      "----------------------------\n",
      "residual sugar  0.60   0.70   0.80   0.90   0.95   1.00   1.05   1.10   1.15   \\\n",
      "quality                                                                         \n",
      "3                   0      1      0      0      0      0      0      0      1   \n",
      "4                   0      1      5      5      0      3      1      7      0   \n",
      "5                   2      3     11      9      4     38      0     35      1   \n",
      "6                   0      2      8     21      0     39      0     70      1   \n",
      "7                   0      0      0      4      0      9      0     30      0   \n",
      "8                   0      0      1      0      0      4      0      4      0   \n",
      "9                   0      0      0      0      0      0      0      0      0   \n",
      "\n",
      "residual sugar  1.20   ...  20.30  20.40  20.70  20.80  22.00  22.60  23.50  \\\n",
      "quality                ...                                                    \n",
      "3                   1  ...      0      0      0      0      0      0      0   \n",
      "4                  11  ...      0      0      0      0      0      0      0   \n",
      "5                  52  ...      0      1      0      0      2      1      1   \n",
      "6                  87  ...      1      0      2      2      0      0      0   \n",
      "7                  33  ...      0      0      0      0      0      0      0   \n",
      "8                   3  ...      0      0      0      0      0      0      0   \n",
      "9                   0  ...      0      0      0      0      0      0      0   \n",
      "\n",
      "residual sugar  26.05  31.60  65.80  \n",
      "quality                              \n",
      "3                   0      0      0  \n",
      "4                   0      0      0  \n",
      "5                   0      0      0  \n",
      "6                   2      2      1  \n",
      "7                   0      0      0  \n",
      "8                   0      0      0  \n",
      "9                   0      0      0  \n",
      "\n",
      "[7 rows x 310 columns]\n",
      "Visual Data with Barplot\n"
     ]
    },
    {
     "data": {
      "text/plain": [
       "<Figure size 720x360 with 0 Axes>"
      ]
     },
     "metadata": {},
     "output_type": "display_data"
    },
    {
     "data": {
      "image/png": "[encoded data removed]",
      "text/plain": [
       "<Figure size 432x288 with 1 Axes>"
      ]
     },
     "metadata": {},
     "output_type": "display_data"
    },
    {
     "name": "stdout",
     "output_type": "stream",
     "text": [
      "----------------------------\n",
      "Chi-Square Test\n",
      "dof =  1854\n",
      "p =  6.730882278343601e-34\n",
      "probability 0.95, critical=1955.2847210844648, stat=2689.108839146217\n",
      "significance=0.050000000000000044, p=6.730882278343601e-34\n",
      "Dependent (reject H0)\n",
      "Analys  quality  and  chlorides\n",
      "----------------------------\n",
      "Crosstab Data:\n",
      "----------------------------\n",
      "chlorides  0.009  0.012  0.013  0.014  0.015  0.016  0.017  0.018  0.019  \\\n",
      "quality                                                                    \n",
      "3              0      0      0      0      0      0      0      0      0   \n",
      "4              0      0      1      1      0      0      0      0      0   \n",
      "5              1      0      0      0      0      1      1      2      0   \n",
      "6              0      0      0      0      4      1      2      3      5   \n",
      "7              0      1      0      2      0      2      2      4      3   \n",
      "8              0      0      0      1      0      1      0      0      1   \n",
      "9              0      0      0      0      0      0      0      1      0   \n",
      "\n",
      "chlorides  0.020  ...  0.212  0.217  0.239  0.240  0.244  0.255  0.271  0.290  \\\n",
      "quality           ...                                                           \n",
      "3              0  ...      0      0      0      0      1      0      0      0   \n",
      "4              0  ...      0      0      0      0      0      0      0      1   \n",
      "5              2  ...      1      1      1      1      0      0      1      0   \n",
      "6              5  ...      0      0      0      0      0      1      0      0   \n",
      "7              8  ...      0      0      0      0      0      0      0      0   \n",
      "8              1  ...      0      0      0      0      0      0      0      0   \n",
      "9              0  ...      0      0      0      0      0      0      0      0   \n",
      "\n",
      "chlorides  0.301  0.346  \n",
      "quality                  \n",
      "3              0      0  \n",
      "4              0      0  \n",
      "5              1      1  \n",
      "6              0      0  \n",
      "7              0      0  \n",
      "8              0      0  \n",
      "9              0      0  \n",
      "\n",
      "[7 rows x 160 columns]\n",
      "Visual Data with Barplot\n"
     ]
    },
    {
     "data": {
      "text/plain": [
       "<Figure size 720x360 with 0 Axes>"
      ]
     },
     "metadata": {},
     "output_type": "display_data"
    },
    {
     "data": {
      "image/png": "[encoded data removed]",
      "text/plain": [
       "<Figure size 432x288 with 1 Axes>"
      ]
     },
     "metadata": {},
     "output_type": "display_data"
    },
    {
     "name": "stdout",
     "output_type": "stream",
     "text": [
      "----------------------------\n",
      "Chi-Square Test\n",
      "dof =  954\n",
      "p =  8.5101202845267e-50\n",
      "probability 0.95, critical=1026.9672253904982, stat=1752.4475628721627\n",
      "significance=0.050000000000000044, p=8.5101202845267e-50\n",
      "Dependent (reject H0)\n",
      "Analys  quality  and  free sulfur dioxide\n",
      "----------------------------\n",
      "Crosstab Data:\n",
      "----------------------------\n",
      "free sulfur dioxide  2.0    3.0    4.0    5.0    6.0    7.0    8.0    9.0    \\\n",
      "quality                                                                       \n",
      "3                        0      0      0      4      0      0      1      0   \n",
      "4                        0      3      4      8      9      6      9      7   \n",
      "5                        1      3      2      9     16      9     11     10   \n",
      "6                        0      4      5      3      6      8     11      8   \n",
      "7                        0      0      0      1      0      1      3      4   \n",
      "8                        0      0      0      0      1      1      0      0   \n",
      "9                        0      0      0      0      0      0      0      0   \n",
      "\n",
      "free sulfur dioxide  10.0   11.0   ...  110.0  112.0  118.5  122.5  124.0  \\\n",
      "quality                            ...                                      \n",
      "3                        0      0  ...      0      0      1      0      1   \n",
      "4                        6      4  ...      0      0      0      1      0   \n",
      "5                       24     26  ...      1      0      0      0      0   \n",
      "6                       23     11  ...      0      1      0      0      0   \n",
      "7                        2      4  ...      0      0      0      0      0   \n",
      "8                        0      0  ...      0      0      0      0      0   \n",
      "9                        0      0  ...      0      0      0      0      0   \n",
      "\n",
      "free sulfur dioxide  128.0  131.0  138.5  146.5  289.0  \n",
      "quality                                                 \n",
      "3                        0      0      0      1      1  \n",
      "4                        0      0      1      0      0  \n",
      "5                        1      1      0      0      0  \n",
      "6                        0      0      0      0      0  \n",
      "7                        0      0      0      0      0  \n",
      "8                        0      0      0      0      0  \n",
      "9                        0      0      0      0      0  \n",
      "\n",
      "[7 rows x 132 columns]\n",
      "Visual Data with Barplot\n"
     ]
    },
    {
     "data": {
      "text/plain": [
       "<Figure size 720x360 with 0 Axes>"
      ]
     },
     "metadata": {},
     "output_type": "display_data"
    },
    {
     "data": {
      "image/png": "[encoded data removed]",
      "text/plain": [
       "<Figure size 432x288 with 1 Axes>"
      ]
     },
     "metadata": {},
     "output_type": "display_data"
    },
    {
     "name": "stdout",
     "output_type": "stream",
     "text": [
      "----------------------------\n",
      "Chi-Square Test\n",
      "dof =  786\n",
      "p =  2.953624518505033e-191\n",
      "probability 0.95, critical=852.332985749568, stat=2591.7417055055985\n",
      "significance=0.050000000000000044, p=2.953624518505033e-191\n",
      "Dependent (reject H0)\n",
      "Analys  quality  and  total sulfur dioxide\n",
      "----------------------------\n",
      "Crosstab Data:\n",
      "----------------------------\n",
      "total sulfur dioxide  9.0    10.0   18.0   19.0   21.0   24.0   25.0   26.0   \\\n",
      "quality                                                                        \n",
      "3                         0      0      0      1      0      0      0      0   \n",
      "4                         0      1      0      0      0      0      1      1   \n",
      "5                         1      0      0      0      1      2      0      0   \n",
      "6                         0      0      2      0      0      1      0      0   \n",
      "7                         0      0      0      0      0      0      0      0   \n",
      "8                         0      0      0      0      0      0      0      0   \n",
      "9                         0      0      0      0      0      0      0      0   \n",
      "\n",
      "total sulfur dioxide  28.0   29.0   ...  260.0  272.0  282.0  294.0  303.0  \\\n",
      "quality                             ...                                      \n",
      "3                         0      0  ...      0      0      0      0      0   \n",
      "4                         0      1  ...      0      1      0      0      0   \n",
      "5                         1      1  ...      1      0      1      0      1   \n",
      "6                         3      0  ...      0      1      0      1      0   \n",
      "7                         0      0  ...      0      0      0      0      0   \n",
      "8                         0      0  ...      0      0      0      0      0   \n",
      "9                         0      0  ...      0      0      0      0      0   \n",
      "\n",
      "total sulfur dioxide  307.5  313.0  344.0  366.5  440.0  \n",
      "quality                                                  \n",
      "3                         1      0      0      1      1  \n",
      "4                         0      0      0      0      0  \n",
      "5                         0      1      1      0      0  \n",
      "6                         0      0      0      0      0  \n",
      "7                         0      0      0      0      0  \n",
      "8                         0      0      0      0      0  \n",
      "9                         0      0      0      0      0  \n",
      "\n",
      "[7 rows x 251 columns]\n",
      "Visual Data with Barplot\n"
     ]
    },
    {
     "data": {
      "text/plain": [
       "<Figure size 720x360 with 0 Axes>"
      ]
     },
     "metadata": {},
     "output_type": "display_data"
    },
    {
     "data": {
      "image/png": "[encoded data removed]",
      "text/plain": [
       "<Figure size 432x288 with 1 Axes>"
      ]
     },
     "metadata": {},
     "output_type": "display_data"
    },
    {
     "name": "stdout",
     "output_type": "stream",
     "text": [
      "----------------------------\n",
      "Chi-Square Test\n",
      "dof =  1500\n",
      "p =  7.071342888665948e-176\n",
      "probability 0.95, critical=1591.2149622807226, stat=3618.223185408994\n",
      "significance=0.050000000000000044, p=7.071342888665948e-176\n",
      "Dependent (reject H0)\n",
      "Analys  quality  and  pH\n",
      "----------------------------\n",
      "Crosstab Data:\n",
      "----------------------------\n",
      "pH       2.72  2.74  2.77  2.79  2.80  2.82  2.83  2.84  2.85  2.86  ...  \\\n",
      "quality                                                              ...   \n",
      "3           0     0     0     0     0     0     0     0     0     0  ...   \n",
      "4           0     0     0     0     0     0     1     0     0     0  ...   \n",
      "5           0     0     0     3     1     0     3     0     4     4  ...   \n",
      "6           1     1     1     0     2     1     0     0     5     5  ...   \n",
      "7           0     0     0     0     0     0     0     1     0     0  ...   \n",
      "8           0     0     0     0     0     0     0     0     0     0  ...   \n",
      "9           0     0     0     0     0     0     0     0     0     0  ...   \n",
      "\n",
      "pH       3.70  3.72  3.74  3.75  3.76  3.77  3.79  3.80  3.81  3.82  \n",
      "quality                                                              \n",
      "3           0     0     0     0     0     0     0     0     0     0  \n",
      "4           0     1     0     0     0     0     0     0     0     0  \n",
      "5           0     0     1     0     0     2     1     0     0     0  \n",
      "6           0     2     1     2     1     0     0     2     1     0  \n",
      "7           1     0     0     0     1     0     0     0     0     1  \n",
      "8           0     0     0     0     0     0     0     0     0     0  \n",
      "9           0     0     0     0     0     0     0     0     0     0  \n",
      "\n",
      "[7 rows x 103 columns]\n",
      "Visual Data with Barplot\n"
     ]
    },
    {
     "data": {
      "text/plain": [
       "<Figure size 720x360 with 0 Axes>"
      ]
     },
     "metadata": {},
     "output_type": "display_data"
    },
    {
     "data": {
      "image/png": "[encoded data removed]",
      "text/plain": [
       "<Figure size 432x288 with 1 Axes>"
      ]
     },
     "metadata": {},
     "output_type": "display_data"
    },
    {
     "name": "stdout",
     "output_type": "stream",
     "text": [
      "----------------------------\n",
      "Chi-Square Test\n",
      "dof =  612\n",
      "p =  8.664005304274299e-15\n",
      "probability 0.95, critical=670.6607734170842, stat=920.0284370232856\n",
      "significance=0.050000000000000044, p=8.664005304274299e-15\n",
      "Dependent (reject H0)\n",
      "Analys  quality  and  sulphates\n",
      "----------------------------\n",
      "Crosstab Data:\n",
      "----------------------------\n",
      "sulphates  0.22  0.23  0.25  0.26  0.27  0.28  0.29  0.30  0.31  0.32  ...  \\\n",
      "quality                                                                ...   \n",
      "3             0     0     0     0     0     1     0     0     0     1  ...   \n",
      "4             0     0     1     0     0     2     0     3     3     3  ...   \n",
      "5             0     0     0     0     1     4     7     6     6    16  ...   \n",
      "6             0     1     1     1     7     4     7    10    16    13  ...   \n",
      "7             1     0     1     1     3     2     2    11     9    14  ...   \n",
      "8             0     0     1     2     2     0     0     1     1     7  ...   \n",
      "9             0     0     0     0     0     0     0     0     0     0  ...   \n",
      "\n",
      "sulphates  0.94  0.95  0.96  0.97  0.98  0.99  1.00  1.01  1.06  1.08  \n",
      "quality                                                                \n",
      "3             0     0     0     0     0     0     0     0     0     0  \n",
      "4             0     0     0     0     0     0     0     0     0     0  \n",
      "5             0     0     0     0     0     0     0     0     0     0  \n",
      "6             0     1     2     0     5     0     1     1     1     0  \n",
      "7             1     3     1     1     1     1     0     0     0     1  \n",
      "8             1     1     0     0     0     0     0     0     0     0  \n",
      "9             0     0     0     0     0     0     0     0     0     0  \n",
      "\n",
      "[7 rows x 79 columns]\n",
      "Visual Data with Barplot\n"
     ]
    },
    {
     "data": {
      "text/plain": [
       "<Figure size 720x360 with 0 Axes>"
      ]
     },
     "metadata": {},
     "output_type": "display_data"
    },
    {
     "data": {
      "image/png": "[encoded data removed]",
      "text/plain": [
       "<Figure size 432x288 with 1 Axes>"
      ]
     },
     "metadata": {},
     "output_type": "display_data"
    },
    {
     "name": "stdout",
     "output_type": "stream",
     "text": [
      "----------------------------\n",
      "Chi-Square Test\n",
      "dof =  468\n",
      "p =  5.863399476398928e-14\n",
      "probability 0.95, critical=519.4339639500644, stat=732.2387841541724\n",
      "significance=0.050000000000000044, p=5.863399476398928e-14\n",
      "Dependent (reject H0)\n",
      "Analys  quality  and  alcohol\n",
      "----------------------------\n",
      "Crosstab Data:\n",
      "----------------------------\n",
      "alcohol  8.00   8.40   8.50   8.60   8.70   8.80   8.90   9.00   9.10   9.20   \\\n",
      "quality                                                                         \n",
      "3            1      0      1      0      0      0      0      0      2      0   \n",
      "4            0      1      0      4      2      2      3     11      3      8   \n",
      "5            1      2      3     14     46     54     37     82     67    107   \n",
      "6            0      0      4      2     16     36     45     63     51     84   \n",
      "7            0      0      0      3     14      4      4     29     21      0   \n",
      "8            0      0      1      0      0     11      6      0      0      0   \n",
      "9            0      0      0      0      0      0      0      0      0      0   \n",
      "\n",
      "alcohol  ...  13.40  13.50  13.55  13.60  13.70  13.80  13.90  14.00  14.05  \\\n",
      "quality  ...                                                                  \n",
      "3        ...      0      0      0      0      0      0      0      0      0   \n",
      "4        ...      0      1      0      0      0      0      0      0      0   \n",
      "5        ...      1      1      0      1      0      0      0      0      0   \n",
      "6        ...      7      0      1      4      0      2      0      1      0   \n",
      "7        ...      6     10      0      4      7      0      3      3      1   \n",
      "8        ...      6      0      0      0      0      0      0      1      0   \n",
      "9        ...      0      0      0      0      0      0      0      0      0   \n",
      "\n",
      "alcohol  14.20  \n",
      "quality         \n",
      "3            0  \n",
      "4            0  \n",
      "5            0  \n",
      "6            0  \n",
      "7            1  \n",
      "8            0  \n",
      "9            0  \n",
      "\n",
      "[7 rows x 103 columns]\n",
      "Visual Data with Barplot\n"
     ]
    },
    {
     "data": {
      "text/plain": [
       "<Figure size 720x360 with 0 Axes>"
      ]
     },
     "metadata": {},
     "output_type": "display_data"
    },
    {
     "data": {
      "image/png": "[encoded data removed]",
      "text/plain": [
       "<Figure size 432x288 with 1 Axes>"
      ]
     },
     "metadata": {},
     "output_type": "display_data"
    },
    {
     "name": "stdout",
     "output_type": "stream",
     "text": [
      "----------------------------\n",
      "Chi-Square Test\n",
      "dof =  612\n",
      "p =  1.0824952342913112e-152\n",
      "probability 0.95, critical=670.6607734170842, stat=2039.1417745658077\n",
      "significance=0.050000000000000044, p=1.0824952342913112e-152\n",
      "Dependent (reject H0)\n"
     ]
    }
   ],
   "source": [
    "from scipy.stats import chi2_contingency\n",
    "from scipy.stats import chi2\n",
    "\n",
    "categorical_affect = []\n",
    "def categorical_categorical(cate1, cate2, data):\n",
    "    print(\"Analys \",cate1, \" and \", cate2)\n",
    "    print(\"----------------------------\")\n",
    "    table_temp = pd.crosstab(data[cate1], data[cate2])\n",
    "    print(\"Crosstab Data:\")\n",
    "    print(\"----------------------------\")\n",
    "    print(table_temp)\n",
    "    print(\"Visual Data with Barplot\")\n",
    "    plt.figure(figsize=(10,5))\n",
    "    table_temp.plot(kind=\"bar\", stacked=True, legend=None)\n",
    "    plt.show()\n",
    "    print(\"----------------------------\")\n",
    "    print(\"Chi-Square Test\")\n",
    "    stat, p, dof, expected = chi2_contingency(table_temp)\n",
    "    print(\"dof = \", dof)\n",
    "    print(\"p = \", p)\n",
    "    # interpret test-statistic\n",
    "    prob = 0.95\n",
    "    critical = chi2.ppf(prob, dof)\n",
    "    print(f'probability {prob}, critical={critical}, stat={stat}')\n",
    "    # interpret p-value\n",
    "    alpha = 1.0 - prob\n",
    "    print(f'significance={alpha}, p={p}')\n",
    "    if p <= alpha:\n",
    "        print('Dependent (reject H0)')\n",
    "        return True\n",
    "    else:\n",
    "        print('Independent (fail to reject H0)')\n",
    "    return False\n",
    "\n",
    "# Analys category data with output.\n",
    "for i in categories[:len(categories)-1]:\n",
    "    if categorical_categorical(\"quality\", i, dataRaw):\n",
    "        categorical_affect.append(i)\n",
    "        \n",
    "print(\"*******\")\n",
    "print(\"Categorical affect: \", continous_affect) "
   ]
  }
 ],
 "metadata": {
  "kernelspec": {
   "display_name": "Python 3",
   "language": "python",
   "name": "python3"
  },
  "language_info": {
   "codemirror_mode": {
    "name": "ipython",
    "version": 3
   },
   "file_extension": ".py",
   "mimetype": "text/x-python",
   "name": "python",
   "nbconvert_exporter": "python",
   "pygments_lexer": "ipython3",
   "version": "3.8.3"
  }
 },
 "nbformat": 4,
 "nbformat_minor": 2
}
