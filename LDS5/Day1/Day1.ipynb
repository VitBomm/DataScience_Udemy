{
 "cells": [
  {
   "cell_type": "markdown",
   "metadata": {},
   "source": [
    "## GV: Trần Nhật Tân\n",
    "## Email: tntan@csc.hcmus.edu.\n",
    "\n",
    "## Bài 1: Tổng quan Data Pre-processing\n",
    "************************\n",
    "\n",
    "1. Data Pre-processing ?\n",
    "    * Là 1 kỹ thuật khai thác dữ liệu (data mining) bao gồm chuyển đổi dữ liệu thô -> dễ hiểu, có thể sử dụng được. # không đủ, không nhất quán, thiếu, xu hướng chứa nhiều lỗi\n",
    "    * phương pháp chứng minh để giải quyết các vấn đề về dữ liệu\n",
    "    \n",
    "https://www.wintellect.com/data-science-data-science-process/\n",
    "\n",
    "2. Why Pre-processing ?<br>\n",
    "Dữ liệu trong thế giới thực:\n",
    "    * Inaccurate data/ missing data. thiếu các giá rị thuộc tính hoặc chỉ chứa dữ liệu tổng hợp, Có nhiều lý do dẫn đến viêc thiếu dữ liệu như không được thu thập liên tuc, sai sót trong việc nhập dữ liệu\n",
    "    * Dữ liệu nhiễu (noisy data): Dữ liệu sai, ngoại lệ (outlier). \n",
    "    * Inconsistent data: Nguyên nhân do tồn tại dữ liệu trùng lắp do người nhập liệu, vi phạm các ràng buộc dữ liệu.\n",
    " \n",
    " Các phương pháp thu nhập dữ liệu thường được kiểm soát lỏng lẻo, dẫn đến các giá trị phạm vị (out of range value).\n",
    " Ex: tuổi -30, kêt hợp dữ liệu không phù hợp. Giới tính Nam, Mang thai: có, missing value\n",
    " \n",
    " "
   ]
  },
  {
   "cell_type": "code",
   "execution_count": 1,
   "metadata": {},
   "outputs": [],
   "source": [
    "import numpy as np\n",
    "import pandas as pd\n",
    "import matplotlib.pyplot as plt\n",
    "import seaborn as sns"
   ]
  },
  {
   "cell_type": "code",
   "execution_count": 2,
   "metadata": {},
   "outputs": [],
   "source": [
    "data = pd.read_excel('Diemthi_thpt_quocgia_2016.xlsx')"
   ]
  },
  {
   "cell_type": "code",
   "execution_count": 3,
   "metadata": {
    "scrolled": true
   },
   "outputs": [
    {
     "data": {
      "text/html": [
       "<div>\n",
       "<style scoped>\n",
       "    .dataframe tbody tr th:only-of-type {\n",
       "        vertical-align: middle;\n",
       "    }\n",
       "\n",
       "    .dataframe tbody tr th {\n",
       "        vertical-align: top;\n",
       "    }\n",
       "\n",
       "    .dataframe thead th {\n",
       "        text-align: right;\n",
       "    }\n",
       "</style>\n",
       "<table border=\"1\" class=\"dataframe\">\n",
       "  <thead>\n",
       "    <tr style=\"text-align: right;\">\n",
       "      <th></th>\n",
       "      <th>SOBAODANH</th>\n",
       "      <th>HO_TEN</th>\n",
       "      <th>NGAY_SINH</th>\n",
       "      <th>TEN_CUMTHI</th>\n",
       "      <th>GIOI_TINH</th>\n",
       "      <th>DIEM_THI</th>\n",
       "    </tr>\n",
       "  </thead>\n",
       "  <tbody>\n",
       "    <tr>\n",
       "      <th>0</th>\n",
       "      <td>018000001</td>\n",
       "      <td>DƯƠNG VIỆT AN</td>\n",
       "      <td>12/03/1998</td>\n",
       "      <td>Sở GDĐT Bắc Giang</td>\n",
       "      <td>Nam</td>\n",
       "      <td>Toán:   2.00   Ngữ văn:   5.50   Lịch sử:   3....</td>\n",
       "    </tr>\n",
       "    <tr>\n",
       "      <th>1</th>\n",
       "      <td>018000002</td>\n",
       "      <td>ĐỖ VĂN AN</td>\n",
       "      <td>09/12/1998</td>\n",
       "      <td>Sở GDĐT Bắc Giang</td>\n",
       "      <td>Nam</td>\n",
       "      <td>Toán:   5.50   Ngữ văn:   5.25   Địa lí:   5.5...</td>\n",
       "    </tr>\n",
       "    <tr>\n",
       "      <th>2</th>\n",
       "      <td>018000003</td>\n",
       "      <td>ĐỖ XUÂN AN</td>\n",
       "      <td>12/08/1997</td>\n",
       "      <td>Sở GDĐT Bắc Giang</td>\n",
       "      <td>Nam</td>\n",
       "      <td>Toán:   4.50   Ngữ văn:   5.50   Địa lí:   3.7...</td>\n",
       "    </tr>\n",
       "    <tr>\n",
       "      <th>3</th>\n",
       "      <td>018000004</td>\n",
       "      <td>ĐẶNG PHÚC AN</td>\n",
       "      <td>19/03/1998</td>\n",
       "      <td>Sở GDĐT Bắc Giang</td>\n",
       "      <td>Nữ</td>\n",
       "      <td>Toán:   3.00   Ngữ văn:   6.00   Địa lí:   5.5...</td>\n",
       "    </tr>\n",
       "    <tr>\n",
       "      <th>4</th>\n",
       "      <td>018000005</td>\n",
       "      <td>ĐẶNG VĂN AN</td>\n",
       "      <td>25/10/1998</td>\n",
       "      <td>Sở GDĐT Bắc Giang</td>\n",
       "      <td>Nam</td>\n",
       "      <td>Toán:   2.25   Ngữ văn:   4.75   Địa lí:   5.2...</td>\n",
       "    </tr>\n",
       "    <tr>\n",
       "      <th>...</th>\n",
       "      <td>...</td>\n",
       "      <td>...</td>\n",
       "      <td>...</td>\n",
       "      <td>...</td>\n",
       "      <td>...</td>\n",
       "      <td>...</td>\n",
       "    </tr>\n",
       "    <tr>\n",
       "      <th>34821</th>\n",
       "      <td>HUI014539</td>\n",
       "      <td>VÒNG NGỌC YẾN</td>\n",
       "      <td>15/05/1998</td>\n",
       "      <td>Trường Đại học Công nghiệp Tp. HCM</td>\n",
       "      <td>Nữ</td>\n",
       "      <td>Toán:   0.75   Ngữ văn:   5.00   Hóa học:   4....</td>\n",
       "    </tr>\n",
       "    <tr>\n",
       "      <th>34822</th>\n",
       "      <td>HUI014540</td>\n",
       "      <td>VÒNG THANH YẾN</td>\n",
       "      <td>09/09/1998</td>\n",
       "      <td>Trường Đại học Công nghiệp Tp. HCM</td>\n",
       "      <td>Nữ</td>\n",
       "      <td>Toán:   4.75   Ngữ văn:   5.75   Vật lí:   6.8...</td>\n",
       "    </tr>\n",
       "    <tr>\n",
       "      <th>34823</th>\n",
       "      <td>HUI014541</td>\n",
       "      <td>VŨ THỊ BẢO YẾN</td>\n",
       "      <td>19/05/1998</td>\n",
       "      <td>Trường Đại học Công nghiệp Tp. HCM</td>\n",
       "      <td>Nữ</td>\n",
       "      <td>Toán:   4.00   Ngữ văn:   5.50   Vật lí:   5.6...</td>\n",
       "    </tr>\n",
       "    <tr>\n",
       "      <th>34824</th>\n",
       "      <td>HUI014542</td>\n",
       "      <td>VŨ THỊ YẾN</td>\n",
       "      <td>13/01/1998</td>\n",
       "      <td>Trường Đại học Công nghiệp Tp. HCM</td>\n",
       "      <td>Nữ</td>\n",
       "      <td>Toán:   5.75   Ngữ văn:   6.00   Vật lí:   7.4...</td>\n",
       "    </tr>\n",
       "    <tr>\n",
       "      <th>34825</th>\n",
       "      <td>HUI014543</td>\n",
       "      <td>VƯƠNG THỊ YẾN</td>\n",
       "      <td>05/02/1998</td>\n",
       "      <td>Trường Đại học Công nghiệp Tp. HCM</td>\n",
       "      <td>Nữ</td>\n",
       "      <td>Toán:   2.50   Ngữ văn:   4.25   Vật lí:   4.2...</td>\n",
       "    </tr>\n",
       "  </tbody>\n",
       "</table>\n",
       "<p>34826 rows × 6 columns</p>\n",
       "</div>"
      ],
      "text/plain": [
       "       SOBAODANH          HO_TEN   NGAY_SINH  \\\n",
       "0      018000001   DƯƠNG VIỆT AN  12/03/1998   \n",
       "1      018000002       ĐỖ VĂN AN  09/12/1998   \n",
       "2      018000003      ĐỖ XUÂN AN  12/08/1997   \n",
       "3      018000004    ĐẶNG PHÚC AN  19/03/1998   \n",
       "4      018000005     ĐẶNG VĂN AN  25/10/1998   \n",
       "...          ...             ...         ...   \n",
       "34821  HUI014539   VÒNG NGỌC YẾN  15/05/1998   \n",
       "34822  HUI014540  VÒNG THANH YẾN  09/09/1998   \n",
       "34823  HUI014541  VŨ THỊ BẢO YẾN  19/05/1998   \n",
       "34824  HUI014542      VŨ THỊ YẾN  13/01/1998   \n",
       "34825  HUI014543   VƯƠNG THỊ YẾN  05/02/1998   \n",
       "\n",
       "                               TEN_CUMTHI GIOI_TINH  \\\n",
       "0                       Sở GDĐT Bắc Giang       Nam   \n",
       "1                       Sở GDĐT Bắc Giang       Nam   \n",
       "2                       Sở GDĐT Bắc Giang       Nam   \n",
       "3                       Sở GDĐT Bắc Giang        Nữ   \n",
       "4                       Sở GDĐT Bắc Giang       Nam   \n",
       "...                                   ...       ...   \n",
       "34821  Trường Đại học Công nghiệp Tp. HCM        Nữ   \n",
       "34822  Trường Đại học Công nghiệp Tp. HCM        Nữ   \n",
       "34823  Trường Đại học Công nghiệp Tp. HCM        Nữ   \n",
       "34824  Trường Đại học Công nghiệp Tp. HCM        Nữ   \n",
       "34825  Trường Đại học Công nghiệp Tp. HCM        Nữ   \n",
       "\n",
       "                                                DIEM_THI  \n",
       "0      Toán:   2.00   Ngữ văn:   5.50   Lịch sử:   3....  \n",
       "1      Toán:   5.50   Ngữ văn:   5.25   Địa lí:   5.5...  \n",
       "2      Toán:   4.50   Ngữ văn:   5.50   Địa lí:   3.7...  \n",
       "3      Toán:   3.00   Ngữ văn:   6.00   Địa lí:   5.5...  \n",
       "4      Toán:   2.25   Ngữ văn:   4.75   Địa lí:   5.2...  \n",
       "...                                                  ...  \n",
       "34821  Toán:   0.75   Ngữ văn:   5.00   Hóa học:   4....  \n",
       "34822  Toán:   4.75   Ngữ văn:   5.75   Vật lí:   6.8...  \n",
       "34823  Toán:   4.00   Ngữ văn:   5.50   Vật lí:   5.6...  \n",
       "34824  Toán:   5.75   Ngữ văn:   6.00   Vật lí:   7.4...  \n",
       "34825  Toán:   2.50   Ngữ văn:   4.25   Vật lí:   4.2...  \n",
       "\n",
       "[34826 rows x 6 columns]"
      ]
     },
     "execution_count": 3,
     "metadata": {},
     "output_type": "execute_result"
    }
   ],
   "source": [
    "data"
   ]
  },
  {
   "cell_type": "code",
   "execution_count": 4,
   "metadata": {
    "scrolled": true
   },
   "outputs": [
    {
     "name": "stdout",
     "output_type": "stream",
     "text": [
      "<class 'pandas.core.frame.DataFrame'>\n",
      "RangeIndex: 34826 entries, 0 to 34825\n",
      "Data columns (total 6 columns):\n",
      " #   Column      Non-Null Count  Dtype \n",
      "---  ------      --------------  ----- \n",
      " 0   SOBAODANH   34826 non-null  object\n",
      " 1   HO_TEN      34826 non-null  object\n",
      " 2   NGAY_SINH   34826 non-null  object\n",
      " 3   TEN_CUMTHI  34826 non-null  object\n",
      " 4   GIOI_TINH   34826 non-null  object\n",
      " 5   DIEM_THI    34826 non-null  object\n",
      "dtypes: object(6)\n",
      "memory usage: 1.6+ MB\n"
     ]
    }
   ],
   "source": [
    "data.info()"
   ]
  },
  {
   "cell_type": "code",
   "execution_count": 5,
   "metadata": {
    "scrolled": true
   },
   "outputs": [
    {
     "data": {
      "text/html": [
       "<div>\n",
       "<style scoped>\n",
       "    .dataframe tbody tr th:only-of-type {\n",
       "        vertical-align: middle;\n",
       "    }\n",
       "\n",
       "    .dataframe tbody tr th {\n",
       "        vertical-align: top;\n",
       "    }\n",
       "\n",
       "    .dataframe thead th {\n",
       "        text-align: right;\n",
       "    }\n",
       "</style>\n",
       "<table border=\"1\" class=\"dataframe\">\n",
       "  <thead>\n",
       "    <tr style=\"text-align: right;\">\n",
       "      <th></th>\n",
       "      <th>SOBAODANH</th>\n",
       "      <th>HO_TEN</th>\n",
       "      <th>NGAY_SINH</th>\n",
       "      <th>TEN_CUMTHI</th>\n",
       "      <th>GIOI_TINH</th>\n",
       "      <th>DIEM_THI</th>\n",
       "    </tr>\n",
       "  </thead>\n",
       "  <tbody>\n",
       "    <tr>\n",
       "      <th>0</th>\n",
       "      <td>018000001</td>\n",
       "      <td>DƯƠNG VIỆT AN</td>\n",
       "      <td>12/03/1998</td>\n",
       "      <td>Sở GDĐT Bắc Giang</td>\n",
       "      <td>Nam</td>\n",
       "      <td>Toán:   2.00   Ngữ văn:   5.50   Lịch sử:   3....</td>\n",
       "    </tr>\n",
       "    <tr>\n",
       "      <th>1</th>\n",
       "      <td>018000002</td>\n",
       "      <td>ĐỖ VĂN AN</td>\n",
       "      <td>09/12/1998</td>\n",
       "      <td>Sở GDĐT Bắc Giang</td>\n",
       "      <td>Nam</td>\n",
       "      <td>Toán:   5.50   Ngữ văn:   5.25   Địa lí:   5.5...</td>\n",
       "    </tr>\n",
       "    <tr>\n",
       "      <th>2</th>\n",
       "      <td>018000003</td>\n",
       "      <td>ĐỖ XUÂN AN</td>\n",
       "      <td>12/08/1997</td>\n",
       "      <td>Sở GDĐT Bắc Giang</td>\n",
       "      <td>Nam</td>\n",
       "      <td>Toán:   4.50   Ngữ văn:   5.50   Địa lí:   3.7...</td>\n",
       "    </tr>\n",
       "    <tr>\n",
       "      <th>3</th>\n",
       "      <td>018000004</td>\n",
       "      <td>ĐẶNG PHÚC AN</td>\n",
       "      <td>19/03/1998</td>\n",
       "      <td>Sở GDĐT Bắc Giang</td>\n",
       "      <td>Nữ</td>\n",
       "      <td>Toán:   3.00   Ngữ văn:   6.00   Địa lí:   5.5...</td>\n",
       "    </tr>\n",
       "    <tr>\n",
       "      <th>4</th>\n",
       "      <td>018000005</td>\n",
       "      <td>ĐẶNG VĂN AN</td>\n",
       "      <td>25/10/1998</td>\n",
       "      <td>Sở GDĐT Bắc Giang</td>\n",
       "      <td>Nam</td>\n",
       "      <td>Toán:   2.25   Ngữ văn:   4.75   Địa lí:   5.2...</td>\n",
       "    </tr>\n",
       "  </tbody>\n",
       "</table>\n",
       "</div>"
      ],
      "text/plain": [
       "   SOBAODANH         HO_TEN   NGAY_SINH         TEN_CUMTHI GIOI_TINH  \\\n",
       "0  018000001  DƯƠNG VIỆT AN  12/03/1998  Sở GDĐT Bắc Giang       Nam   \n",
       "1  018000002      ĐỖ VĂN AN  09/12/1998  Sở GDĐT Bắc Giang       Nam   \n",
       "2  018000003     ĐỖ XUÂN AN  12/08/1997  Sở GDĐT Bắc Giang       Nam   \n",
       "3  018000004   ĐẶNG PHÚC AN  19/03/1998  Sở GDĐT Bắc Giang        Nữ   \n",
       "4  018000005    ĐẶNG VĂN AN  25/10/1998  Sở GDĐT Bắc Giang       Nam   \n",
       "\n",
       "                                            DIEM_THI  \n",
       "0  Toán:   2.00   Ngữ văn:   5.50   Lịch sử:   3....  \n",
       "1  Toán:   5.50   Ngữ văn:   5.25   Địa lí:   5.5...  \n",
       "2  Toán:   4.50   Ngữ văn:   5.50   Địa lí:   3.7...  \n",
       "3  Toán:   3.00   Ngữ văn:   6.00   Địa lí:   5.5...  \n",
       "4  Toán:   2.25   Ngữ văn:   4.75   Địa lí:   5.2...  "
      ]
     },
     "execution_count": 5,
     "metadata": {},
     "output_type": "execute_result"
    }
   ],
   "source": [
    "data.head()"
   ]
  },
  {
   "cell_type": "code",
   "execution_count": 6,
   "metadata": {
    "scrolled": true
   },
   "outputs": [
    {
     "data": {
      "text/plain": [
       "0        Toán:   2.00   Ngữ văn:   5.50   Lịch sử:   3....\n",
       "1        Toán:   5.50   Ngữ văn:   5.25   Địa lí:   5.5...\n",
       "2        Toán:   4.50   Ngữ văn:   5.50   Địa lí:   3.7...\n",
       "3        Toán:   3.00   Ngữ văn:   6.00   Địa lí:   5.5...\n",
       "4        Toán:   2.25   Ngữ văn:   4.75   Địa lí:   5.2...\n",
       "                               ...                        \n",
       "34821    Toán:   0.75   Ngữ văn:   5.00   Hóa học:   4....\n",
       "34822    Toán:   4.75   Ngữ văn:   5.75   Vật lí:   6.8...\n",
       "34823    Toán:   4.00   Ngữ văn:   5.50   Vật lí:   5.6...\n",
       "34824    Toán:   5.75   Ngữ văn:   6.00   Vật lí:   7.4...\n",
       "34825    Toán:   2.50   Ngữ văn:   4.25   Vật lí:   4.2...\n",
       "Name: DIEM_THI, Length: 34826, dtype: object"
      ]
     },
     "execution_count": 6,
     "metadata": {},
     "output_type": "execute_result"
    }
   ],
   "source": [
    "data['DIEM_THI']"
   ]
  },
  {
   "cell_type": "code",
   "execution_count": 7,
   "metadata": {
    "scrolled": true
   },
   "outputs": [],
   "source": [
    "test_str = 'Toán:   1.75   Ngữ văn:   5.25   Địa lí:   4.75   Tiếng Anh:   1.75'\n",
    "test_str = test_str.replace(':', '')\n",
    "test_str = test_str.split('   ')"
   ]
  },
  {
   "cell_type": "code",
   "execution_count": 8,
   "metadata": {},
   "outputs": [
    {
     "data": {
      "text/plain": [
       "['Toán', 'Ngữ văn', 'Địa lí', 'Tiếng Anh']"
      ]
     },
     "execution_count": 8,
     "metadata": {},
     "output_type": "execute_result"
    }
   ],
   "source": [
    "test_str[::2]"
   ]
  },
  {
   "cell_type": "code",
   "execution_count": 9,
   "metadata": {
    "scrolled": true
   },
   "outputs": [
    {
     "data": {
      "text/plain": [
       "['1.75', '5.25', '4.75', '1.75']"
      ]
     },
     "execution_count": 9,
     "metadata": {},
     "output_type": "execute_result"
    }
   ],
   "source": [
    "test_str[1::2]"
   ]
  },
  {
   "cell_type": "code",
   "execution_count": 10,
   "metadata": {
    "scrolled": true
   },
   "outputs": [],
   "source": [
    "data_raw = data['DIEM_THI'].str.replace(':', '').str.split('   ')"
   ]
  },
  {
   "cell_type": "code",
   "execution_count": 11,
   "metadata": {
    "scrolled": true
   },
   "outputs": [
    {
     "data": {
      "text/plain": [
       "0        [Toán, 2.00, Ngữ văn, 5.50, Lịch sử, 3.00, Địa...\n",
       "1        [Toán, 5.50, Ngữ văn, 5.25, Địa lí, 5.50, Tiến...\n",
       "2        [Toán, 4.50, Ngữ văn, 5.50, Địa lí, 3.75, Tiến...\n",
       "3        [Toán, 3.00, Ngữ văn, 6.00, Địa lí, 5.50, Tiến...\n",
       "4        [Toán, 2.25, Ngữ văn, 4.75, Địa lí, 5.25, Tiến...\n",
       "                               ...                        \n",
       "34821    [Toán, 0.75, Ngữ văn, 5.00, Hóa học, 4.80, Sin...\n",
       "34822    [Toán, 4.75, Ngữ văn, 5.75, Vật lí, 6.80, Hóa ...\n",
       "34823    [Toán, 4.00, Ngữ văn, 5.50, Vật lí, 5.60, Tiến...\n",
       "34824    [Toán, 5.75, Ngữ văn, 6.00, Vật lí, 7.40, Hóa ...\n",
       "34825    [Toán, 2.50, Ngữ văn, 4.25, Vật lí, 4.20, Hóa ...\n",
       "Name: DIEM_THI, Length: 34826, dtype: object"
      ]
     },
     "execution_count": 11,
     "metadata": {},
     "output_type": "execute_result"
    }
   ],
   "source": [
    "data_raw"
   ]
  },
  {
   "cell_type": "code",
   "execution_count": 12,
   "metadata": {},
   "outputs": [
    {
     "name": "stdout",
     "output_type": "stream",
     "text": [
      "['Toán', 'Ngữ văn', 'Địa lí', 'Tiếng Anh', 'Sinh học', 'Vật lí', 'Hóa học', 'Lịch sử']\n"
     ]
    }
   ],
   "source": [
    "columns_Toan = []\n",
    "columns_NguVan = []\n",
    "columns_Diali = []\n",
    "columns_TiengAnh = []\n",
    "columns_Sinhhoc = []\n",
    "columns_Vatli = []\n",
    "columns_Hoahoc = []\n",
    "columns_Lichsu = []\n",
    "mon_hoc = ['Toán', 'Ngữ văn','Địa lí','Tiếng Anh','Sinh học', 'Vật lí','Hóa học', 'Lịch sử']\n",
    "columns_monhoc = [columns_Toan, columns_NguVan, columns_Diali, columns_TiengAnh, columns_Sinhhoc, columns_Vatli, columns_Hoahoc, columns_Lichsu]\n",
    "print(mon_hoc)"
   ]
  },
  {
   "cell_type": "code",
   "execution_count": 13,
   "metadata": {},
   "outputs": [],
   "source": [
    "for index in range(len(mon_hoc)):\n",
    "    for i in data_raw:\n",
    "        try:\n",
    "            index_row = i.index(mon_hoc[index])\n",
    "            columns_monhoc[index].append(i[index_row + 1])\n",
    "        except:\n",
    "            columns_monhoc[index].append(np.nan)"
   ]
  },
  {
   "cell_type": "code",
   "execution_count": 14,
   "metadata": {},
   "outputs": [],
   "source": [
    "for index in range(len(mon_hoc)):\n",
    "    data[mon_hoc[index]] = columns_monhoc[index] "
   ]
  },
  {
   "cell_type": "code",
   "execution_count": 15,
   "metadata": {
    "scrolled": false
   },
   "outputs": [
    {
     "data": {
      "text/html": [
       "<div>\n",
       "<style scoped>\n",
       "    .dataframe tbody tr th:only-of-type {\n",
       "        vertical-align: middle;\n",
       "    }\n",
       "\n",
       "    .dataframe tbody tr th {\n",
       "        vertical-align: top;\n",
       "    }\n",
       "\n",
       "    .dataframe thead th {\n",
       "        text-align: right;\n",
       "    }\n",
       "</style>\n",
       "<table border=\"1\" class=\"dataframe\">\n",
       "  <thead>\n",
       "    <tr style=\"text-align: right;\">\n",
       "      <th></th>\n",
       "      <th>SOBAODANH</th>\n",
       "      <th>HO_TEN</th>\n",
       "      <th>NGAY_SINH</th>\n",
       "      <th>TEN_CUMTHI</th>\n",
       "      <th>GIOI_TINH</th>\n",
       "      <th>DIEM_THI</th>\n",
       "      <th>Toán</th>\n",
       "      <th>Ngữ văn</th>\n",
       "      <th>Địa lí</th>\n",
       "      <th>Tiếng Anh</th>\n",
       "      <th>Sinh học</th>\n",
       "      <th>Vật lí</th>\n",
       "      <th>Hóa học</th>\n",
       "      <th>Lịch sử</th>\n",
       "    </tr>\n",
       "  </thead>\n",
       "  <tbody>\n",
       "    <tr>\n",
       "      <th>0</th>\n",
       "      <td>018000001</td>\n",
       "      <td>DƯƠNG VIỆT AN</td>\n",
       "      <td>12/03/1998</td>\n",
       "      <td>Sở GDĐT Bắc Giang</td>\n",
       "      <td>Nam</td>\n",
       "      <td>Toán:   2.00   Ngữ văn:   5.50   Lịch sử:   3....</td>\n",
       "      <td>2.00</td>\n",
       "      <td>5.50</td>\n",
       "      <td>5.00</td>\n",
       "      <td>NaN</td>\n",
       "      <td>NaN</td>\n",
       "      <td>NaN</td>\n",
       "      <td>NaN</td>\n",
       "      <td>3.00</td>\n",
       "    </tr>\n",
       "    <tr>\n",
       "      <th>1</th>\n",
       "      <td>018000002</td>\n",
       "      <td>ĐỖ VĂN AN</td>\n",
       "      <td>09/12/1998</td>\n",
       "      <td>Sở GDĐT Bắc Giang</td>\n",
       "      <td>Nam</td>\n",
       "      <td>Toán:   5.50   Ngữ văn:   5.25   Địa lí:   5.5...</td>\n",
       "      <td>5.50</td>\n",
       "      <td>5.25</td>\n",
       "      <td>5.50</td>\n",
       "      <td>3.68</td>\n",
       "      <td>NaN</td>\n",
       "      <td>NaN</td>\n",
       "      <td>NaN</td>\n",
       "      <td>NaN</td>\n",
       "    </tr>\n",
       "    <tr>\n",
       "      <th>2</th>\n",
       "      <td>018000003</td>\n",
       "      <td>ĐỖ XUÂN AN</td>\n",
       "      <td>12/08/1997</td>\n",
       "      <td>Sở GDĐT Bắc Giang</td>\n",
       "      <td>Nam</td>\n",
       "      <td>Toán:   4.50   Ngữ văn:   5.50   Địa lí:   3.7...</td>\n",
       "      <td>4.50</td>\n",
       "      <td>5.50</td>\n",
       "      <td>3.75</td>\n",
       "      <td>2.25</td>\n",
       "      <td>NaN</td>\n",
       "      <td>NaN</td>\n",
       "      <td>NaN</td>\n",
       "      <td>NaN</td>\n",
       "    </tr>\n",
       "    <tr>\n",
       "      <th>3</th>\n",
       "      <td>018000004</td>\n",
       "      <td>ĐẶNG PHÚC AN</td>\n",
       "      <td>19/03/1998</td>\n",
       "      <td>Sở GDĐT Bắc Giang</td>\n",
       "      <td>Nữ</td>\n",
       "      <td>Toán:   3.00   Ngữ văn:   6.00   Địa lí:   5.5...</td>\n",
       "      <td>3.00</td>\n",
       "      <td>6.00</td>\n",
       "      <td>5.50</td>\n",
       "      <td>1.50</td>\n",
       "      <td>NaN</td>\n",
       "      <td>NaN</td>\n",
       "      <td>NaN</td>\n",
       "      <td>NaN</td>\n",
       "    </tr>\n",
       "    <tr>\n",
       "      <th>4</th>\n",
       "      <td>018000005</td>\n",
       "      <td>ĐẶNG VĂN AN</td>\n",
       "      <td>25/10/1998</td>\n",
       "      <td>Sở GDĐT Bắc Giang</td>\n",
       "      <td>Nam</td>\n",
       "      <td>Toán:   2.25   Ngữ văn:   4.75   Địa lí:   5.2...</td>\n",
       "      <td>2.25</td>\n",
       "      <td>4.75</td>\n",
       "      <td>5.25</td>\n",
       "      <td>2.00</td>\n",
       "      <td>NaN</td>\n",
       "      <td>NaN</td>\n",
       "      <td>NaN</td>\n",
       "      <td>NaN</td>\n",
       "    </tr>\n",
       "    <tr>\n",
       "      <th>...</th>\n",
       "      <td>...</td>\n",
       "      <td>...</td>\n",
       "      <td>...</td>\n",
       "      <td>...</td>\n",
       "      <td>...</td>\n",
       "      <td>...</td>\n",
       "      <td>...</td>\n",
       "      <td>...</td>\n",
       "      <td>...</td>\n",
       "      <td>...</td>\n",
       "      <td>...</td>\n",
       "      <td>...</td>\n",
       "      <td>...</td>\n",
       "      <td>...</td>\n",
       "    </tr>\n",
       "    <tr>\n",
       "      <th>34821</th>\n",
       "      <td>HUI014539</td>\n",
       "      <td>VÒNG NGỌC YẾN</td>\n",
       "      <td>15/05/1998</td>\n",
       "      <td>Trường Đại học Công nghiệp Tp. HCM</td>\n",
       "      <td>Nữ</td>\n",
       "      <td>Toán:   0.75   Ngữ văn:   5.00   Hóa học:   4....</td>\n",
       "      <td>0.75</td>\n",
       "      <td>5.00</td>\n",
       "      <td>NaN</td>\n",
       "      <td>NaN</td>\n",
       "      <td>5.20</td>\n",
       "      <td>NaN</td>\n",
       "      <td>4.80</td>\n",
       "      <td>NaN</td>\n",
       "    </tr>\n",
       "    <tr>\n",
       "      <th>34822</th>\n",
       "      <td>HUI014540</td>\n",
       "      <td>VÒNG THANH YẾN</td>\n",
       "      <td>09/09/1998</td>\n",
       "      <td>Trường Đại học Công nghiệp Tp. HCM</td>\n",
       "      <td>Nữ</td>\n",
       "      <td>Toán:   4.75   Ngữ văn:   5.75   Vật lí:   6.8...</td>\n",
       "      <td>4.75</td>\n",
       "      <td>5.75</td>\n",
       "      <td>NaN</td>\n",
       "      <td>3.33</td>\n",
       "      <td>4.60</td>\n",
       "      <td>6.80</td>\n",
       "      <td>4.60</td>\n",
       "      <td>NaN</td>\n",
       "    </tr>\n",
       "    <tr>\n",
       "      <th>34823</th>\n",
       "      <td>HUI014541</td>\n",
       "      <td>VŨ THỊ BẢO YẾN</td>\n",
       "      <td>19/05/1998</td>\n",
       "      <td>Trường Đại học Công nghiệp Tp. HCM</td>\n",
       "      <td>Nữ</td>\n",
       "      <td>Toán:   4.00   Ngữ văn:   5.50   Vật lí:   5.6...</td>\n",
       "      <td>4.00</td>\n",
       "      <td>5.50</td>\n",
       "      <td>NaN</td>\n",
       "      <td>3.60</td>\n",
       "      <td>NaN</td>\n",
       "      <td>5.60</td>\n",
       "      <td>NaN</td>\n",
       "      <td>NaN</td>\n",
       "    </tr>\n",
       "    <tr>\n",
       "      <th>34824</th>\n",
       "      <td>HUI014542</td>\n",
       "      <td>VŨ THỊ YẾN</td>\n",
       "      <td>13/01/1998</td>\n",
       "      <td>Trường Đại học Công nghiệp Tp. HCM</td>\n",
       "      <td>Nữ</td>\n",
       "      <td>Toán:   5.75   Ngữ văn:   6.00   Vật lí:   7.4...</td>\n",
       "      <td>5.75</td>\n",
       "      <td>6.00</td>\n",
       "      <td>NaN</td>\n",
       "      <td>2.88</td>\n",
       "      <td>NaN</td>\n",
       "      <td>7.40</td>\n",
       "      <td>4.80</td>\n",
       "      <td>NaN</td>\n",
       "    </tr>\n",
       "    <tr>\n",
       "      <th>34825</th>\n",
       "      <td>HUI014543</td>\n",
       "      <td>VƯƠNG THỊ YẾN</td>\n",
       "      <td>05/02/1998</td>\n",
       "      <td>Trường Đại học Công nghiệp Tp. HCM</td>\n",
       "      <td>Nữ</td>\n",
       "      <td>Toán:   2.50   Ngữ văn:   4.25   Vật lí:   4.2...</td>\n",
       "      <td>2.50</td>\n",
       "      <td>4.25</td>\n",
       "      <td>NaN</td>\n",
       "      <td>3.00</td>\n",
       "      <td>4.40</td>\n",
       "      <td>4.20</td>\n",
       "      <td>4.40</td>\n",
       "      <td>NaN</td>\n",
       "    </tr>\n",
       "  </tbody>\n",
       "</table>\n",
       "<p>34826 rows × 14 columns</p>\n",
       "</div>"
      ],
      "text/plain": [
       "       SOBAODANH          HO_TEN   NGAY_SINH  \\\n",
       "0      018000001   DƯƠNG VIỆT AN  12/03/1998   \n",
       "1      018000002       ĐỖ VĂN AN  09/12/1998   \n",
       "2      018000003      ĐỖ XUÂN AN  12/08/1997   \n",
       "3      018000004    ĐẶNG PHÚC AN  19/03/1998   \n",
       "4      018000005     ĐẶNG VĂN AN  25/10/1998   \n",
       "...          ...             ...         ...   \n",
       "34821  HUI014539   VÒNG NGỌC YẾN  15/05/1998   \n",
       "34822  HUI014540  VÒNG THANH YẾN  09/09/1998   \n",
       "34823  HUI014541  VŨ THỊ BẢO YẾN  19/05/1998   \n",
       "34824  HUI014542      VŨ THỊ YẾN  13/01/1998   \n",
       "34825  HUI014543   VƯƠNG THỊ YẾN  05/02/1998   \n",
       "\n",
       "                               TEN_CUMTHI GIOI_TINH  \\\n",
       "0                       Sở GDĐT Bắc Giang       Nam   \n",
       "1                       Sở GDĐT Bắc Giang       Nam   \n",
       "2                       Sở GDĐT Bắc Giang       Nam   \n",
       "3                       Sở GDĐT Bắc Giang        Nữ   \n",
       "4                       Sở GDĐT Bắc Giang       Nam   \n",
       "...                                   ...       ...   \n",
       "34821  Trường Đại học Công nghiệp Tp. HCM        Nữ   \n",
       "34822  Trường Đại học Công nghiệp Tp. HCM        Nữ   \n",
       "34823  Trường Đại học Công nghiệp Tp. HCM        Nữ   \n",
       "34824  Trường Đại học Công nghiệp Tp. HCM        Nữ   \n",
       "34825  Trường Đại học Công nghiệp Tp. HCM        Nữ   \n",
       "\n",
       "                                                DIEM_THI  Toán Ngữ văn Địa lí  \\\n",
       "0      Toán:   2.00   Ngữ văn:   5.50   Lịch sử:   3....  2.00    5.50   5.00   \n",
       "1      Toán:   5.50   Ngữ văn:   5.25   Địa lí:   5.5...  5.50    5.25   5.50   \n",
       "2      Toán:   4.50   Ngữ văn:   5.50   Địa lí:   3.7...  4.50    5.50   3.75   \n",
       "3      Toán:   3.00   Ngữ văn:   6.00   Địa lí:   5.5...  3.00    6.00   5.50   \n",
       "4      Toán:   2.25   Ngữ văn:   4.75   Địa lí:   5.2...  2.25    4.75   5.25   \n",
       "...                                                  ...   ...     ...    ...   \n",
       "34821  Toán:   0.75   Ngữ văn:   5.00   Hóa học:   4....  0.75    5.00    NaN   \n",
       "34822  Toán:   4.75   Ngữ văn:   5.75   Vật lí:   6.8...  4.75    5.75    NaN   \n",
       "34823  Toán:   4.00   Ngữ văn:   5.50   Vật lí:   5.6...  4.00    5.50    NaN   \n",
       "34824  Toán:   5.75   Ngữ văn:   6.00   Vật lí:   7.4...  5.75    6.00    NaN   \n",
       "34825  Toán:   2.50   Ngữ văn:   4.25   Vật lí:   4.2...  2.50    4.25    NaN   \n",
       "\n",
       "      Tiếng Anh Sinh học Vật lí Hóa học Lịch sử  \n",
       "0           NaN      NaN    NaN     NaN    3.00  \n",
       "1          3.68      NaN    NaN     NaN     NaN  \n",
       "2          2.25      NaN    NaN     NaN     NaN  \n",
       "3          1.50      NaN    NaN     NaN     NaN  \n",
       "4          2.00      NaN    NaN     NaN     NaN  \n",
       "...         ...      ...    ...     ...     ...  \n",
       "34821       NaN     5.20    NaN    4.80     NaN  \n",
       "34822      3.33     4.60   6.80    4.60     NaN  \n",
       "34823      3.60      NaN   5.60     NaN     NaN  \n",
       "34824      2.88      NaN   7.40    4.80     NaN  \n",
       "34825      3.00     4.40   4.20    4.40     NaN  \n",
       "\n",
       "[34826 rows x 14 columns]"
      ]
     },
     "execution_count": 15,
     "metadata": {},
     "output_type": "execute_result"
    }
   ],
   "source": [
    "data"
   ]
  },
  {
   "cell_type": "code",
   "execution_count": 37,
   "metadata": {},
   "outputs": [],
   "source": [
    "data['Toán'] = data['Toán'].astype(float)"
   ]
  },
  {
   "cell_type": "code",
   "execution_count": 41,
   "metadata": {},
   "outputs": [
    {
     "data": {
      "text/plain": [
       "<matplotlib.axes._subplots.AxesSubplot at 0x7f102e773640>"
      ]
     },
     "execution_count": 41,
     "metadata": {},
     "output_type": "execute_result"
    },
    {
     "data": {
      "image/png": "[encoded data removed]",
      "text/plain": [
       "<Figure size 432x288 with 1 Axes>"
      ]
     },
     "metadata": {
      "needs_background": "light"
     },
     "output_type": "display_data"
    }
   ],
   "source": [
    "sns.distplot(data['Toán'].dropna())"
   ]
  },
  {
   "cell_type": "markdown",
   "metadata": {},
   "source": [
    "# cach 2: Regular Expression\n",
    "\n"
   ]
  },
  {
   "cell_type": "code",
   "execution_count": 20,
   "metadata": {},
   "outputs": [],
   "source": [
    "import re"
   ]
  },
  {
   "cell_type": "code",
   "execution_count": 22,
   "metadata": {},
   "outputs": [],
   "source": [
    "data2 = pd.read_excel('Diemthi_thpt_quocgia_2016.xlsx')"
   ]
  },
  {
   "cell_type": "code",
   "execution_count": 23,
   "metadata": {},
   "outputs": [],
   "source": [
    "diem = data2.loc[0, 'DIEM_THI']"
   ]
  },
  {
   "cell_type": "code",
   "execution_count": 24,
   "metadata": {},
   "outputs": [
    {
     "data": {
      "text/plain": [
       "'Toán:   2.00   Ngữ văn:   5.50   Lịch sử:   3.00   Địa lí:   5.00'"
      ]
     },
     "execution_count": 24,
     "metadata": {},
     "output_type": "execute_result"
    }
   ],
   "source": [
    "diem"
   ]
  },
  {
   "cell_type": "code",
   "execution_count": 25,
   "metadata": {},
   "outputs": [],
   "source": [
    "sample = r'Toán:\\s\\s\\s\\d+.\\d+'"
   ]
  },
  {
   "cell_type": "code",
   "execution_count": 30,
   "metadata": {},
   "outputs": [],
   "source": [
    "result = re.search(sample, diem)\n",
    "a = result.group().partition(':   ')"
   ]
  },
  {
   "cell_type": "code",
   "execution_count": 31,
   "metadata": {},
   "outputs": [
    {
     "data": {
      "text/plain": [
       "('Toán', ':   ', '2.00')"
      ]
     },
     "execution_count": 31,
     "metadata": {},
     "output_type": "execute_result"
    }
   ],
   "source": [
    "a"
   ]
  },
  {
   "cell_type": "code",
   "execution_count": 34,
   "metadata": {
    "scrolled": true
   },
   "outputs": [
    {
     "ename": "KeyError",
     "evalue": "1",
     "output_type": "error",
     "traceback": [
      "\u001b[0;31m---------------------------------------------------------------------------\u001b[0m",
      "\u001b[0;31mValueError\u001b[0m                                Traceback (most recent call last)",
      "\u001b[0;32m~/anaconda3/lib/python3.8/site-packages/pandas/core/indexes/range.py\u001b[0m in \u001b[0;36mget_loc\u001b[0;34m(self, key, method, tolerance)\u001b[0m\n\u001b[1;32m    349\u001b[0m             \u001b[0;32mtry\u001b[0m\u001b[0;34m:\u001b[0m\u001b[0;34m\u001b[0m\u001b[0;34m\u001b[0m\u001b[0m\n\u001b[0;32m--> 350\u001b[0;31m                 \u001b[0;32mreturn\u001b[0m \u001b[0mself\u001b[0m\u001b[0;34m.\u001b[0m\u001b[0m_range\u001b[0m\u001b[0;34m.\u001b[0m\u001b[0mindex\u001b[0m\u001b[0;34m(\u001b[0m\u001b[0mnew_key\u001b[0m\u001b[0;34m)\u001b[0m\u001b[0;34m\u001b[0m\u001b[0;34m\u001b[0m\u001b[0m\n\u001b[0m\u001b[1;32m    351\u001b[0m             \u001b[0;32mexcept\u001b[0m \u001b[0mValueError\u001b[0m\u001b[0;34m:\u001b[0m\u001b[0;34m\u001b[0m\u001b[0;34m\u001b[0m\u001b[0m\n",
      "\u001b[0;31mValueError\u001b[0m: 1 is not in range",
      "\nDuring handling of the above exception, another exception occurred:\n",
      "\u001b[0;31mKeyError\u001b[0m                                  Traceback (most recent call last)",
      "\u001b[0;32m<ipython-input-34-2b46f0549085>\u001b[0m in \u001b[0;36m<module>\u001b[0;34m\u001b[0m\n\u001b[1;32m      1\u001b[0m \u001b[0;32mfor\u001b[0m \u001b[0mmon\u001b[0m \u001b[0;32min\u001b[0m \u001b[0mmon_hoc\u001b[0m\u001b[0;34m:\u001b[0m\u001b[0;34m\u001b[0m\u001b[0;34m\u001b[0m\u001b[0m\n\u001b[0;32m----> 2\u001b[0;31m     \u001b[0mdata2\u001b[0m\u001b[0;34m[\u001b[0m\u001b[0;34m'DIEM_THI'\u001b[0m\u001b[0;34m]\u001b[0m \u001b[0;34m=\u001b[0m \u001b[0mdata2\u001b[0m\u001b[0;34m[\u001b[0m\u001b[0;34m'DIEM_THI'\u001b[0m\u001b[0;34m]\u001b[0m\u001b[0;34m.\u001b[0m\u001b[0mstr\u001b[0m\u001b[0;34m.\u001b[0m\u001b[0mextract\u001b[0m\u001b[0;34m(\u001b[0m\u001b[0;34mf'({mon}:\\s\\s\\s\\d+.\\d+)'\u001b[0m\u001b[0;34m,\u001b[0m \u001b[0mexpand\u001b[0m\u001b[0;34m=\u001b[0m\u001b[0;32mTrue\u001b[0m\u001b[0;34m)\u001b[0m\u001b[0;34m[\u001b[0m\u001b[0;36m0\u001b[0m\u001b[0;34m]\u001b[0m\u001b[0;34m.\u001b[0m\u001b[0mstr\u001b[0m\u001b[0;34m.\u001b[0m\u001b[0msplit\u001b[0m\u001b[0;34m(\u001b[0m\u001b[0;34m':   '\u001b[0m\u001b[0;34m,\u001b[0m \u001b[0mexpand\u001b[0m\u001b[0;34m=\u001b[0m\u001b[0;32mTrue\u001b[0m\u001b[0;34m)\u001b[0m\u001b[0;34m[\u001b[0m\u001b[0;36m1\u001b[0m\u001b[0;34m]\u001b[0m\u001b[0;34m\u001b[0m\u001b[0;34m\u001b[0m\u001b[0m\n\u001b[0m",
      "\u001b[0;32m~/anaconda3/lib/python3.8/site-packages/pandas/core/frame.py\u001b[0m in \u001b[0;36m__getitem__\u001b[0;34m(self, key)\u001b[0m\n\u001b[1;32m   2798\u001b[0m             \u001b[0;32mif\u001b[0m \u001b[0mself\u001b[0m\u001b[0;34m.\u001b[0m\u001b[0mcolumns\u001b[0m\u001b[0;34m.\u001b[0m\u001b[0mnlevels\u001b[0m \u001b[0;34m>\u001b[0m \u001b[0;36m1\u001b[0m\u001b[0;34m:\u001b[0m\u001b[0;34m\u001b[0m\u001b[0;34m\u001b[0m\u001b[0m\n\u001b[1;32m   2799\u001b[0m                 \u001b[0;32mreturn\u001b[0m \u001b[0mself\u001b[0m\u001b[0;34m.\u001b[0m\u001b[0m_getitem_multilevel\u001b[0m\u001b[0;34m(\u001b[0m\u001b[0mkey\u001b[0m\u001b[0;34m)\u001b[0m\u001b[0;34m\u001b[0m\u001b[0;34m\u001b[0m\u001b[0m\n\u001b[0;32m-> 2800\u001b[0;31m             \u001b[0mindexer\u001b[0m \u001b[0;34m=\u001b[0m \u001b[0mself\u001b[0m\u001b[0;34m.\u001b[0m\u001b[0mcolumns\u001b[0m\u001b[0;34m.\u001b[0m\u001b[0mget_loc\u001b[0m\u001b[0;34m(\u001b[0m\u001b[0mkey\u001b[0m\u001b[0;34m)\u001b[0m\u001b[0;34m\u001b[0m\u001b[0;34m\u001b[0m\u001b[0m\n\u001b[0m\u001b[1;32m   2801\u001b[0m             \u001b[0;32mif\u001b[0m \u001b[0mis_integer\u001b[0m\u001b[0;34m(\u001b[0m\u001b[0mindexer\u001b[0m\u001b[0;34m)\u001b[0m\u001b[0;34m:\u001b[0m\u001b[0;34m\u001b[0m\u001b[0;34m\u001b[0m\u001b[0m\n\u001b[1;32m   2802\u001b[0m                 \u001b[0mindexer\u001b[0m \u001b[0;34m=\u001b[0m \u001b[0;34m[\u001b[0m\u001b[0mindexer\u001b[0m\u001b[0;34m]\u001b[0m\u001b[0;34m\u001b[0m\u001b[0;34m\u001b[0m\u001b[0m\n",
      "\u001b[0;32m~/anaconda3/lib/python3.8/site-packages/pandas/core/indexes/range.py\u001b[0m in \u001b[0;36mget_loc\u001b[0;34m(self, key, method, tolerance)\u001b[0m\n\u001b[1;32m    350\u001b[0m                 \u001b[0;32mreturn\u001b[0m \u001b[0mself\u001b[0m\u001b[0;34m.\u001b[0m\u001b[0m_range\u001b[0m\u001b[0;34m.\u001b[0m\u001b[0mindex\u001b[0m\u001b[0;34m(\u001b[0m\u001b[0mnew_key\u001b[0m\u001b[0;34m)\u001b[0m\u001b[0;34m\u001b[0m\u001b[0;34m\u001b[0m\u001b[0m\n\u001b[1;32m    351\u001b[0m             \u001b[0;32mexcept\u001b[0m \u001b[0mValueError\u001b[0m\u001b[0;34m:\u001b[0m\u001b[0;34m\u001b[0m\u001b[0;34m\u001b[0m\u001b[0m\n\u001b[0;32m--> 352\u001b[0;31m                 \u001b[0;32mraise\u001b[0m \u001b[0mKeyError\u001b[0m\u001b[0;34m(\u001b[0m\u001b[0mkey\u001b[0m\u001b[0;34m)\u001b[0m\u001b[0;34m\u001b[0m\u001b[0;34m\u001b[0m\u001b[0m\n\u001b[0m\u001b[1;32m    353\u001b[0m         \u001b[0;32mreturn\u001b[0m \u001b[0msuper\u001b[0m\u001b[0;34m(\u001b[0m\u001b[0;34m)\u001b[0m\u001b[0;34m.\u001b[0m\u001b[0mget_loc\u001b[0m\u001b[0;34m(\u001b[0m\u001b[0mkey\u001b[0m\u001b[0;34m,\u001b[0m \u001b[0mmethod\u001b[0m\u001b[0;34m=\u001b[0m\u001b[0mmethod\u001b[0m\u001b[0;34m,\u001b[0m \u001b[0mtolerance\u001b[0m\u001b[0;34m=\u001b[0m\u001b[0mtolerance\u001b[0m\u001b[0;34m)\u001b[0m\u001b[0;34m\u001b[0m\u001b[0;34m\u001b[0m\u001b[0m\n\u001b[1;32m    354\u001b[0m \u001b[0;34m\u001b[0m\u001b[0m\n",
      "\u001b[0;31mKeyError\u001b[0m: 1"
     ]
    }
   ],
   "source": [
    "for mon in mon_hoc:\n",
    "    data2['DIEM_THI'] = data2['DIEM_THI'].str.extract(f'({mon}:\\s\\s\\s\\d+.\\d+)', expand=True)[0].str.split(':   ', expand=True)[1]"
   ]
  },
  {
   "cell_type": "code",
   "execution_count": 35,
   "metadata": {
    "scrolled": true
   },
   "outputs": [
    {
     "data": {
      "text/html": [
       "<div>\n",
       "<style scoped>\n",
       "    .dataframe tbody tr th:only-of-type {\n",
       "        vertical-align: middle;\n",
       "    }\n",
       "\n",
       "    .dataframe tbody tr th {\n",
       "        vertical-align: top;\n",
       "    }\n",
       "\n",
       "    .dataframe thead th {\n",
       "        text-align: right;\n",
       "    }\n",
       "</style>\n",
       "<table border=\"1\" class=\"dataframe\">\n",
       "  <thead>\n",
       "    <tr style=\"text-align: right;\">\n",
       "      <th></th>\n",
       "      <th>0</th>\n",
       "    </tr>\n",
       "  </thead>\n",
       "  <tbody>\n",
       "    <tr>\n",
       "      <th>0</th>\n",
       "      <td>NaN</td>\n",
       "    </tr>\n",
       "    <tr>\n",
       "      <th>1</th>\n",
       "      <td>NaN</td>\n",
       "    </tr>\n",
       "    <tr>\n",
       "      <th>2</th>\n",
       "      <td>NaN</td>\n",
       "    </tr>\n",
       "    <tr>\n",
       "      <th>3</th>\n",
       "      <td>NaN</td>\n",
       "    </tr>\n",
       "    <tr>\n",
       "      <th>4</th>\n",
       "      <td>NaN</td>\n",
       "    </tr>\n",
       "    <tr>\n",
       "      <th>...</th>\n",
       "      <td>...</td>\n",
       "    </tr>\n",
       "    <tr>\n",
       "      <th>34821</th>\n",
       "      <td>NaN</td>\n",
       "    </tr>\n",
       "    <tr>\n",
       "      <th>34822</th>\n",
       "      <td>NaN</td>\n",
       "    </tr>\n",
       "    <tr>\n",
       "      <th>34823</th>\n",
       "      <td>NaN</td>\n",
       "    </tr>\n",
       "    <tr>\n",
       "      <th>34824</th>\n",
       "      <td>NaN</td>\n",
       "    </tr>\n",
       "    <tr>\n",
       "      <th>34825</th>\n",
       "      <td>NaN</td>\n",
       "    </tr>\n",
       "  </tbody>\n",
       "</table>\n",
       "<p>34826 rows × 1 columns</p>\n",
       "</div>"
      ],
      "text/plain": [
       "         0\n",
       "0      NaN\n",
       "1      NaN\n",
       "2      NaN\n",
       "3      NaN\n",
       "4      NaN\n",
       "...    ...\n",
       "34821  NaN\n",
       "34822  NaN\n",
       "34823  NaN\n",
       "34824  NaN\n",
       "34825  NaN\n",
       "\n",
       "[34826 rows x 1 columns]"
      ]
     },
     "execution_count": 35,
     "metadata": {},
     "output_type": "execute_result"
    }
   ],
   "source": [
    "mon = 'Toán'\n",
    "data2['DIEM_THI'].str.extract(f'({mon}:\\s\\s\\s\\d+.\\d+)', expand=True)"
   ]
  },
  {
   "cell_type": "code",
   "execution_count": 36,
   "metadata": {},
   "outputs": [
    {
     "data": {
      "text/plain": [
       "0        2.00\n",
       "1        5.50\n",
       "2        4.50\n",
       "3        3.00\n",
       "4        2.25\n",
       "         ... \n",
       "34821    0.75\n",
       "34822    4.75\n",
       "34823    4.00\n",
       "34824    5.75\n",
       "34825    2.50\n",
       "Name: DIEM_THI, Length: 34826, dtype: object"
      ]
     },
     "execution_count": 36,
     "metadata": {},
     "output_type": "execute_result"
    }
   ],
   "source": [
    "data2['DIEM_THI']"
   ]
  }
 ],
 "metadata": {
  "kernelspec": {
   "display_name": "Python 3",
   "language": "python",
   "name": "python3"
  },
  "language_info": {
   "codemirror_mode": {
    "name": "ipython",
    "version": 3
   },
   "file_extension": ".py",
   "mimetype": "text/x-python",
   "name": "python",
   "nbconvert_exporter": "python",
   "pygments_lexer": "ipython3",
   "version": "3.8.3"
  }
 },
 "nbformat": 4,
 "nbformat_minor": 4
}
