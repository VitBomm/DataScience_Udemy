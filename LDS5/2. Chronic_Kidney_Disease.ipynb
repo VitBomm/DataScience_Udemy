{
 "cells": [
  {
   "cell_type": "code",
   "execution_count": 1,
   "metadata": {},
   "outputs": [],
   "source": [
    "import numpy as np\n",
    "import pandas as pd\n",
    "import matplotlib.pyplot as plt\n",
    "import seaborn as sns"
   ]
  },
  {
   "cell_type": "code",
   "execution_count": 2,
   "metadata": {},
   "outputs": [],
   "source": [
    "df = pd.read_csv('data/chronic_kidney_disease.csv',header=None,names=['age','bp','sg','al','su','rbc','pc','pcc','ba','bgr','bu','sc','sod','pot','hemo','pcv','wc','rc','htn','dm','cad','appet','pe','ane','class'])"
   ]
  },
  {
   "cell_type": "code",
   "execution_count": 3,
   "metadata": {},
   "outputs": [
    {
     "data": {
      "text/html": [
       "<div>\n",
       "<style scoped>\n",
       "    .dataframe tbody tr th:only-of-type {\n",
       "        vertical-align: middle;\n",
       "    }\n",
       "\n",
       "    .dataframe tbody tr th {\n",
       "        vertical-align: top;\n",
       "    }\n",
       "\n",
       "    .dataframe thead th {\n",
       "        text-align: right;\n",
       "    }\n",
       "</style>\n",
       "<table border=\"1\" class=\"dataframe\">\n",
       "  <thead>\n",
       "    <tr style=\"text-align: right;\">\n",
       "      <th></th>\n",
       "      <th>age</th>\n",
       "      <th>bp</th>\n",
       "      <th>sg</th>\n",
       "      <th>al</th>\n",
       "      <th>su</th>\n",
       "      <th>rbc</th>\n",
       "      <th>pc</th>\n",
       "      <th>pcc</th>\n",
       "      <th>ba</th>\n",
       "      <th>bgr</th>\n",
       "      <th>...</th>\n",
       "      <th>pcv</th>\n",
       "      <th>wc</th>\n",
       "      <th>rc</th>\n",
       "      <th>htn</th>\n",
       "      <th>dm</th>\n",
       "      <th>cad</th>\n",
       "      <th>appet</th>\n",
       "      <th>pe</th>\n",
       "      <th>ane</th>\n",
       "      <th>class</th>\n",
       "    </tr>\n",
       "  </thead>\n",
       "  <tbody>\n",
       "    <tr>\n",
       "      <th>0</th>\n",
       "      <td>48</td>\n",
       "      <td>80</td>\n",
       "      <td>1.02</td>\n",
       "      <td>1</td>\n",
       "      <td>0</td>\n",
       "      <td>?</td>\n",
       "      <td>normal</td>\n",
       "      <td>notpresent</td>\n",
       "      <td>notpresent</td>\n",
       "      <td>121</td>\n",
       "      <td>...</td>\n",
       "      <td>44</td>\n",
       "      <td>7800</td>\n",
       "      <td>5.2</td>\n",
       "      <td>yes</td>\n",
       "      <td>yes</td>\n",
       "      <td>no</td>\n",
       "      <td>good</td>\n",
       "      <td>no</td>\n",
       "      <td>no</td>\n",
       "      <td>ckd</td>\n",
       "    </tr>\n",
       "    <tr>\n",
       "      <th>1</th>\n",
       "      <td>7</td>\n",
       "      <td>50</td>\n",
       "      <td>1.02</td>\n",
       "      <td>4</td>\n",
       "      <td>0</td>\n",
       "      <td>?</td>\n",
       "      <td>normal</td>\n",
       "      <td>notpresent</td>\n",
       "      <td>notpresent</td>\n",
       "      <td>?</td>\n",
       "      <td>...</td>\n",
       "      <td>38</td>\n",
       "      <td>6000</td>\n",
       "      <td>?</td>\n",
       "      <td>no</td>\n",
       "      <td>no</td>\n",
       "      <td>no</td>\n",
       "      <td>good</td>\n",
       "      <td>no</td>\n",
       "      <td>no</td>\n",
       "      <td>ckd</td>\n",
       "    </tr>\n",
       "    <tr>\n",
       "      <th>2</th>\n",
       "      <td>62</td>\n",
       "      <td>80</td>\n",
       "      <td>1.01</td>\n",
       "      <td>2</td>\n",
       "      <td>3</td>\n",
       "      <td>normal</td>\n",
       "      <td>normal</td>\n",
       "      <td>notpresent</td>\n",
       "      <td>notpresent</td>\n",
       "      <td>423</td>\n",
       "      <td>...</td>\n",
       "      <td>31</td>\n",
       "      <td>7500</td>\n",
       "      <td>?</td>\n",
       "      <td>no</td>\n",
       "      <td>yes</td>\n",
       "      <td>no</td>\n",
       "      <td>poor</td>\n",
       "      <td>no</td>\n",
       "      <td>yes</td>\n",
       "      <td>ckd</td>\n",
       "    </tr>\n",
       "    <tr>\n",
       "      <th>3</th>\n",
       "      <td>48</td>\n",
       "      <td>70</td>\n",
       "      <td>1.01</td>\n",
       "      <td>4</td>\n",
       "      <td>0</td>\n",
       "      <td>normal</td>\n",
       "      <td>abnormal</td>\n",
       "      <td>present</td>\n",
       "      <td>notpresent</td>\n",
       "      <td>117</td>\n",
       "      <td>...</td>\n",
       "      <td>32</td>\n",
       "      <td>6700</td>\n",
       "      <td>3.9</td>\n",
       "      <td>yes</td>\n",
       "      <td>no</td>\n",
       "      <td>no</td>\n",
       "      <td>poor</td>\n",
       "      <td>yes</td>\n",
       "      <td>yes</td>\n",
       "      <td>ckd</td>\n",
       "    </tr>\n",
       "    <tr>\n",
       "      <th>4</th>\n",
       "      <td>51</td>\n",
       "      <td>80</td>\n",
       "      <td>1.01</td>\n",
       "      <td>2</td>\n",
       "      <td>0</td>\n",
       "      <td>normal</td>\n",
       "      <td>normal</td>\n",
       "      <td>notpresent</td>\n",
       "      <td>notpresent</td>\n",
       "      <td>106</td>\n",
       "      <td>...</td>\n",
       "      <td>35</td>\n",
       "      <td>7300</td>\n",
       "      <td>4.6</td>\n",
       "      <td>no</td>\n",
       "      <td>no</td>\n",
       "      <td>no</td>\n",
       "      <td>good</td>\n",
       "      <td>no</td>\n",
       "      <td>no</td>\n",
       "      <td>ckd</td>\n",
       "    </tr>\n",
       "  </tbody>\n",
       "</table>\n",
       "<p>5 rows × 25 columns</p>\n",
       "</div>"
      ],
      "text/plain": [
       "  age  bp    sg al su     rbc        pc         pcc          ba  bgr  ... pcv  \\\n",
       "0  48  80  1.02  1  0       ?    normal  notpresent  notpresent  121  ...  44   \n",
       "1   7  50  1.02  4  0       ?    normal  notpresent  notpresent    ?  ...  38   \n",
       "2  62  80  1.01  2  3  normal    normal  notpresent  notpresent  423  ...  31   \n",
       "3  48  70  1.01  4  0  normal  abnormal     present  notpresent  117  ...  32   \n",
       "4  51  80  1.01  2  0  normal    normal  notpresent  notpresent  106  ...  35   \n",
       "\n",
       "     wc   rc  htn   dm cad appet   pe  ane class  \n",
       "0  7800  5.2  yes  yes  no  good   no   no   ckd  \n",
       "1  6000    ?   no   no  no  good   no   no   ckd  \n",
       "2  7500    ?   no  yes  no  poor   no  yes   ckd  \n",
       "3  6700  3.9  yes   no  no  poor  yes  yes   ckd  \n",
       "4  7300  4.6   no   no  no  good   no   no   ckd  \n",
       "\n",
       "[5 rows x 25 columns]"
      ]
     },
     "execution_count": 3,
     "metadata": {},
     "output_type": "execute_result"
    }
   ],
   "source": [
    "df.head()"
   ]
  },
  {
   "cell_type": "code",
   "execution_count": 4,
   "metadata": {},
   "outputs": [
    {
     "name": "stdout",
     "output_type": "stream",
     "text": [
      "<class 'pandas.core.frame.DataFrame'>\n",
      "RangeIndex: 400 entries, 0 to 399\n",
      "Data columns (total 25 columns):\n",
      " #   Column  Non-Null Count  Dtype \n",
      "---  ------  --------------  ----- \n",
      " 0   age     400 non-null    object\n",
      " 1   bp      400 non-null    object\n",
      " 2   sg      400 non-null    object\n",
      " 3   al      400 non-null    object\n",
      " 4   su      400 non-null    object\n",
      " 5   rbc     400 non-null    object\n",
      " 6   pc      400 non-null    object\n",
      " 7   pcc     400 non-null    object\n",
      " 8   ba      400 non-null    object\n",
      " 9   bgr     400 non-null    object\n",
      " 10  bu      400 non-null    object\n",
      " 11  sc      400 non-null    object\n",
      " 12  sod     400 non-null    object\n",
      " 13  pot     400 non-null    object\n",
      " 14  hemo    400 non-null    object\n",
      " 15  pcv     400 non-null    object\n",
      " 16  wc      400 non-null    object\n",
      " 17  rc      400 non-null    object\n",
      " 18  htn     400 non-null    object\n",
      " 19  dm      400 non-null    object\n",
      " 20  cad     400 non-null    object\n",
      " 21  appet   400 non-null    object\n",
      " 22  pe      400 non-null    object\n",
      " 23  ane     400 non-null    object\n",
      " 24  class   400 non-null    object\n",
      "dtypes: object(25)\n",
      "memory usage: 78.2+ KB\n"
     ]
    }
   ],
   "source": [
    "df.info()"
   ]
  },
  {
   "cell_type": "code",
   "execution_count": 5,
   "metadata": {},
   "outputs": [],
   "source": [
    "df = df.replace('?',np.nan)\n",
    "df.head()\n",
    "df = df.dropna(axis=0)"
   ]
  },
  {
   "cell_type": "code",
   "execution_count": 6,
   "metadata": {},
   "outputs": [],
   "source": [
    "cols = ['age','bp','sg','al','su','bgr','bu','sc','sod','pot','hemo','pcv','wc','rc']"
   ]
  },
  {
   "cell_type": "code",
   "execution_count": 7,
   "metadata": {},
   "outputs": [
    {
     "name": "stdout",
     "output_type": "stream",
     "text": [
      "<class 'pandas.core.frame.DataFrame'>\n",
      "Int64Index: 158 entries, 3 to 399\n",
      "Data columns (total 25 columns):\n",
      " #   Column  Non-Null Count  Dtype  \n",
      "---  ------  --------------  -----  \n",
      " 0   age     158 non-null    float64\n",
      " 1   bp      158 non-null    float64\n",
      " 2   sg      158 non-null    float64\n",
      " 3   al      158 non-null    float64\n",
      " 4   su      158 non-null    float64\n",
      " 5   rbc     158 non-null    object \n",
      " 6   pc      158 non-null    object \n",
      " 7   pcc     158 non-null    object \n",
      " 8   ba      158 non-null    object \n",
      " 9   bgr     158 non-null    float64\n",
      " 10  bu      158 non-null    float64\n",
      " 11  sc      158 non-null    float64\n",
      " 12  sod     158 non-null    float64\n",
      " 13  pot     158 non-null    float64\n",
      " 14  hemo    158 non-null    float64\n",
      " 15  pcv     158 non-null    float64\n",
      " 16  wc      158 non-null    float64\n",
      " 17  rc      158 non-null    float64\n",
      " 18  htn     158 non-null    object \n",
      " 19  dm      158 non-null    object \n",
      " 20  cad     158 non-null    object \n",
      " 21  appet   158 non-null    object \n",
      " 22  pe      158 non-null    object \n",
      " 23  ane     158 non-null    object \n",
      " 24  class   158 non-null    object \n",
      "dtypes: float64(14), object(11)\n",
      "memory usage: 32.1+ KB\n"
     ]
    }
   ],
   "source": [
    "df[cols] = df[cols].apply(pd.to_numeric,errors='coerce',axis=1)\n",
    "df.info()"
   ]
  },
  {
   "cell_type": "code",
   "execution_count": 8,
   "metadata": {},
   "outputs": [
    {
     "data": {
      "text/html": [
       "<div>\n",
       "<style scoped>\n",
       "    .dataframe tbody tr th:only-of-type {\n",
       "        vertical-align: middle;\n",
       "    }\n",
       "\n",
       "    .dataframe tbody tr th {\n",
       "        vertical-align: top;\n",
       "    }\n",
       "\n",
       "    .dataframe thead th {\n",
       "        text-align: right;\n",
       "    }\n",
       "</style>\n",
       "<table border=\"1\" class=\"dataframe\">\n",
       "  <thead>\n",
       "    <tr style=\"text-align: right;\">\n",
       "      <th></th>\n",
       "      <th>age</th>\n",
       "      <th>bp</th>\n",
       "      <th>sg</th>\n",
       "      <th>al</th>\n",
       "      <th>su</th>\n",
       "      <th>rbc</th>\n",
       "      <th>pc</th>\n",
       "      <th>pcc</th>\n",
       "      <th>ba</th>\n",
       "      <th>bgr</th>\n",
       "      <th>...</th>\n",
       "      <th>pcv</th>\n",
       "      <th>wc</th>\n",
       "      <th>rc</th>\n",
       "      <th>htn</th>\n",
       "      <th>dm</th>\n",
       "      <th>cad</th>\n",
       "      <th>appet</th>\n",
       "      <th>pe</th>\n",
       "      <th>ane</th>\n",
       "      <th>class</th>\n",
       "    </tr>\n",
       "  </thead>\n",
       "  <tbody>\n",
       "    <tr>\n",
       "      <th>3</th>\n",
       "      <td>48.0</td>\n",
       "      <td>70.0</td>\n",
       "      <td>1.01</td>\n",
       "      <td>4.0</td>\n",
       "      <td>0.0</td>\n",
       "      <td>normal</td>\n",
       "      <td>abnormal</td>\n",
       "      <td>present</td>\n",
       "      <td>notpresent</td>\n",
       "      <td>117.0</td>\n",
       "      <td>...</td>\n",
       "      <td>32.0</td>\n",
       "      <td>6700.0</td>\n",
       "      <td>3.9</td>\n",
       "      <td>yes</td>\n",
       "      <td>no</td>\n",
       "      <td>no</td>\n",
       "      <td>poor</td>\n",
       "      <td>yes</td>\n",
       "      <td>yes</td>\n",
       "      <td>ckd</td>\n",
       "    </tr>\n",
       "    <tr>\n",
       "      <th>9</th>\n",
       "      <td>53.0</td>\n",
       "      <td>90.0</td>\n",
       "      <td>1.02</td>\n",
       "      <td>2.0</td>\n",
       "      <td>0.0</td>\n",
       "      <td>abnormal</td>\n",
       "      <td>abnormal</td>\n",
       "      <td>present</td>\n",
       "      <td>notpresent</td>\n",
       "      <td>70.0</td>\n",
       "      <td>...</td>\n",
       "      <td>29.0</td>\n",
       "      <td>12100.0</td>\n",
       "      <td>3.7</td>\n",
       "      <td>yes</td>\n",
       "      <td>yes</td>\n",
       "      <td>no</td>\n",
       "      <td>poor</td>\n",
       "      <td>no</td>\n",
       "      <td>yes</td>\n",
       "      <td>ckd</td>\n",
       "    </tr>\n",
       "    <tr>\n",
       "      <th>11</th>\n",
       "      <td>63.0</td>\n",
       "      <td>70.0</td>\n",
       "      <td>1.01</td>\n",
       "      <td>3.0</td>\n",
       "      <td>0.0</td>\n",
       "      <td>abnormal</td>\n",
       "      <td>abnormal</td>\n",
       "      <td>present</td>\n",
       "      <td>notpresent</td>\n",
       "      <td>380.0</td>\n",
       "      <td>...</td>\n",
       "      <td>32.0</td>\n",
       "      <td>4500.0</td>\n",
       "      <td>3.8</td>\n",
       "      <td>yes</td>\n",
       "      <td>yes</td>\n",
       "      <td>no</td>\n",
       "      <td>poor</td>\n",
       "      <td>yes</td>\n",
       "      <td>no</td>\n",
       "      <td>ckd</td>\n",
       "    </tr>\n",
       "    <tr>\n",
       "      <th>14</th>\n",
       "      <td>68.0</td>\n",
       "      <td>80.0</td>\n",
       "      <td>1.01</td>\n",
       "      <td>3.0</td>\n",
       "      <td>2.0</td>\n",
       "      <td>normal</td>\n",
       "      <td>abnormal</td>\n",
       "      <td>present</td>\n",
       "      <td>present</td>\n",
       "      <td>157.0</td>\n",
       "      <td>...</td>\n",
       "      <td>16.0</td>\n",
       "      <td>11000.0</td>\n",
       "      <td>2.6</td>\n",
       "      <td>yes</td>\n",
       "      <td>yes</td>\n",
       "      <td>yes</td>\n",
       "      <td>poor</td>\n",
       "      <td>yes</td>\n",
       "      <td>no</td>\n",
       "      <td>ckd</td>\n",
       "    </tr>\n",
       "    <tr>\n",
       "      <th>20</th>\n",
       "      <td>61.0</td>\n",
       "      <td>80.0</td>\n",
       "      <td>1.02</td>\n",
       "      <td>2.0</td>\n",
       "      <td>0.0</td>\n",
       "      <td>abnormal</td>\n",
       "      <td>abnormal</td>\n",
       "      <td>notpresent</td>\n",
       "      <td>notpresent</td>\n",
       "      <td>173.0</td>\n",
       "      <td>...</td>\n",
       "      <td>24.0</td>\n",
       "      <td>9200.0</td>\n",
       "      <td>3.2</td>\n",
       "      <td>yes</td>\n",
       "      <td>yes</td>\n",
       "      <td>yes</td>\n",
       "      <td>poor</td>\n",
       "      <td>yes</td>\n",
       "      <td>yes</td>\n",
       "      <td>ckd</td>\n",
       "    </tr>\n",
       "  </tbody>\n",
       "</table>\n",
       "<p>5 rows × 25 columns</p>\n",
       "</div>"
      ],
      "text/plain": [
       "     age    bp    sg   al   su       rbc        pc         pcc          ba  \\\n",
       "3   48.0  70.0  1.01  4.0  0.0    normal  abnormal     present  notpresent   \n",
       "9   53.0  90.0  1.02  2.0  0.0  abnormal  abnormal     present  notpresent   \n",
       "11  63.0  70.0  1.01  3.0  0.0  abnormal  abnormal     present  notpresent   \n",
       "14  68.0  80.0  1.01  3.0  2.0    normal  abnormal     present     present   \n",
       "20  61.0  80.0  1.02  2.0  0.0  abnormal  abnormal  notpresent  notpresent   \n",
       "\n",
       "      bgr  ...   pcv       wc   rc  htn   dm  cad  appet   pe  ane class  \n",
       "3   117.0  ...  32.0   6700.0  3.9  yes   no   no   poor  yes  yes   ckd  \n",
       "9    70.0  ...  29.0  12100.0  3.7  yes  yes   no   poor   no  yes   ckd  \n",
       "11  380.0  ...  32.0   4500.0  3.8  yes  yes   no   poor  yes   no   ckd  \n",
       "14  157.0  ...  16.0  11000.0  2.6  yes  yes  yes   poor  yes   no   ckd  \n",
       "20  173.0  ...  24.0   9200.0  3.2  yes  yes  yes   poor  yes  yes   ckd  \n",
       "\n",
       "[5 rows x 25 columns]"
      ]
     },
     "execution_count": 8,
     "metadata": {},
     "output_type": "execute_result"
    }
   ],
   "source": [
    "df.head()"
   ]
  },
  {
   "cell_type": "code",
   "execution_count": 9,
   "metadata": {},
   "outputs": [
    {
     "data": {
      "text/plain": [
       "age      0\n",
       "bp       0\n",
       "sg       0\n",
       "al       0\n",
       "su       0\n",
       "rbc      0\n",
       "pc       0\n",
       "pcc      0\n",
       "ba       0\n",
       "bgr      0\n",
       "bu       0\n",
       "sc       0\n",
       "sod      0\n",
       "pot      0\n",
       "hemo     0\n",
       "pcv      0\n",
       "wc       0\n",
       "rc       0\n",
       "htn      0\n",
       "dm       0\n",
       "cad      0\n",
       "appet    0\n",
       "pe       0\n",
       "ane      0\n",
       "class    0\n",
       "dtype: int64"
      ]
     },
     "execution_count": 9,
     "metadata": {},
     "output_type": "execute_result"
    }
   ],
   "source": [
    "df.isna().sum()"
   ]
  },
  {
   "cell_type": "code",
   "execution_count": 10,
   "metadata": {},
   "outputs": [
    {
     "data": {
      "text/plain": [
       "['rbc', 'pc', 'pcc', 'ba', 'htn', 'dm', 'cad', 'appet', 'pe', 'ane', 'class']"
      ]
     },
     "execution_count": 10,
     "metadata": {},
     "output_type": "execute_result"
    }
   ],
   "source": [
    "categorical_feature_mask = df.dtypes==object\n",
    "categorical_cols = df.columns[categorical_feature_mask].tolist()\n",
    "categorical_cols"
   ]
  },
  {
   "cell_type": "code",
   "execution_count": 11,
   "metadata": {},
   "outputs": [],
   "source": [
    "X = df.drop(columns='class',axis=1)\n",
    "y = df['class']"
   ]
  },
  {
   "cell_type": "code",
   "execution_count": 12,
   "metadata": {},
   "outputs": [
    {
     "data": {
      "text/plain": [
       "array(['ckd', 'notckd'], dtype=object)"
      ]
     },
     "execution_count": 12,
     "metadata": {},
     "output_type": "execute_result"
    }
   ],
   "source": [
    "y.unique()"
   ]
  },
  {
   "cell_type": "code",
   "execution_count": 13,
   "metadata": {},
   "outputs": [
    {
     "data": {
      "text/plain": [
       "['rbc', 'pc', 'pcc', 'ba', 'htn', 'dm', 'cad', 'appet', 'pe', 'ane']"
      ]
     },
     "execution_count": 13,
     "metadata": {},
     "output_type": "execute_result"
    }
   ],
   "source": [
    "categorical_cols[:-1]"
   ]
  },
  {
   "cell_type": "code",
   "execution_count": 14,
   "metadata": {},
   "outputs": [
    {
     "data": {
      "text/html": [
       "<div>\n",
       "<style scoped>\n",
       "    .dataframe tbody tr th:only-of-type {\n",
       "        vertical-align: middle;\n",
       "    }\n",
       "\n",
       "    .dataframe tbody tr th {\n",
       "        vertical-align: top;\n",
       "    }\n",
       "\n",
       "    .dataframe thead th {\n",
       "        text-align: right;\n",
       "    }\n",
       "</style>\n",
       "<table border=\"1\" class=\"dataframe\">\n",
       "  <thead>\n",
       "    <tr style=\"text-align: right;\">\n",
       "      <th></th>\n",
       "      <th>age</th>\n",
       "      <th>bp</th>\n",
       "      <th>sg</th>\n",
       "      <th>al</th>\n",
       "      <th>su</th>\n",
       "      <th>bgr</th>\n",
       "      <th>bu</th>\n",
       "      <th>sc</th>\n",
       "      <th>sod</th>\n",
       "      <th>pot</th>\n",
       "      <th>...</th>\n",
       "      <th>rbc_normal</th>\n",
       "      <th>pc_normal</th>\n",
       "      <th>pcc_present</th>\n",
       "      <th>ba_present</th>\n",
       "      <th>htn_yes</th>\n",
       "      <th>dm_yes</th>\n",
       "      <th>cad_yes</th>\n",
       "      <th>appet_poor</th>\n",
       "      <th>pe_yes</th>\n",
       "      <th>ane_yes</th>\n",
       "    </tr>\n",
       "  </thead>\n",
       "  <tbody>\n",
       "    <tr>\n",
       "      <th>3</th>\n",
       "      <td>48.0</td>\n",
       "      <td>70.0</td>\n",
       "      <td>1.01</td>\n",
       "      <td>4.0</td>\n",
       "      <td>0.0</td>\n",
       "      <td>117.0</td>\n",
       "      <td>56.0</td>\n",
       "      <td>3.8</td>\n",
       "      <td>111.0</td>\n",
       "      <td>2.5</td>\n",
       "      <td>...</td>\n",
       "      <td>1</td>\n",
       "      <td>0</td>\n",
       "      <td>1</td>\n",
       "      <td>0</td>\n",
       "      <td>1</td>\n",
       "      <td>0</td>\n",
       "      <td>0</td>\n",
       "      <td>1</td>\n",
       "      <td>1</td>\n",
       "      <td>1</td>\n",
       "    </tr>\n",
       "    <tr>\n",
       "      <th>9</th>\n",
       "      <td>53.0</td>\n",
       "      <td>90.0</td>\n",
       "      <td>1.02</td>\n",
       "      <td>2.0</td>\n",
       "      <td>0.0</td>\n",
       "      <td>70.0</td>\n",
       "      <td>107.0</td>\n",
       "      <td>7.2</td>\n",
       "      <td>114.0</td>\n",
       "      <td>3.7</td>\n",
       "      <td>...</td>\n",
       "      <td>0</td>\n",
       "      <td>0</td>\n",
       "      <td>1</td>\n",
       "      <td>0</td>\n",
       "      <td>1</td>\n",
       "      <td>1</td>\n",
       "      <td>0</td>\n",
       "      <td>1</td>\n",
       "      <td>0</td>\n",
       "      <td>1</td>\n",
       "    </tr>\n",
       "    <tr>\n",
       "      <th>11</th>\n",
       "      <td>63.0</td>\n",
       "      <td>70.0</td>\n",
       "      <td>1.01</td>\n",
       "      <td>3.0</td>\n",
       "      <td>0.0</td>\n",
       "      <td>380.0</td>\n",
       "      <td>60.0</td>\n",
       "      <td>2.7</td>\n",
       "      <td>131.0</td>\n",
       "      <td>4.2</td>\n",
       "      <td>...</td>\n",
       "      <td>0</td>\n",
       "      <td>0</td>\n",
       "      <td>1</td>\n",
       "      <td>0</td>\n",
       "      <td>1</td>\n",
       "      <td>1</td>\n",
       "      <td>0</td>\n",
       "      <td>1</td>\n",
       "      <td>1</td>\n",
       "      <td>0</td>\n",
       "    </tr>\n",
       "    <tr>\n",
       "      <th>14</th>\n",
       "      <td>68.0</td>\n",
       "      <td>80.0</td>\n",
       "      <td>1.01</td>\n",
       "      <td>3.0</td>\n",
       "      <td>2.0</td>\n",
       "      <td>157.0</td>\n",
       "      <td>90.0</td>\n",
       "      <td>4.1</td>\n",
       "      <td>130.0</td>\n",
       "      <td>6.4</td>\n",
       "      <td>...</td>\n",
       "      <td>1</td>\n",
       "      <td>0</td>\n",
       "      <td>1</td>\n",
       "      <td>1</td>\n",
       "      <td>1</td>\n",
       "      <td>1</td>\n",
       "      <td>1</td>\n",
       "      <td>1</td>\n",
       "      <td>1</td>\n",
       "      <td>0</td>\n",
       "    </tr>\n",
       "    <tr>\n",
       "      <th>20</th>\n",
       "      <td>61.0</td>\n",
       "      <td>80.0</td>\n",
       "      <td>1.02</td>\n",
       "      <td>2.0</td>\n",
       "      <td>0.0</td>\n",
       "      <td>173.0</td>\n",
       "      <td>148.0</td>\n",
       "      <td>3.9</td>\n",
       "      <td>135.0</td>\n",
       "      <td>5.2</td>\n",
       "      <td>...</td>\n",
       "      <td>0</td>\n",
       "      <td>0</td>\n",
       "      <td>0</td>\n",
       "      <td>0</td>\n",
       "      <td>1</td>\n",
       "      <td>1</td>\n",
       "      <td>1</td>\n",
       "      <td>1</td>\n",
       "      <td>1</td>\n",
       "      <td>1</td>\n",
       "    </tr>\n",
       "  </tbody>\n",
       "</table>\n",
       "<p>5 rows × 24 columns</p>\n",
       "</div>"
      ],
      "text/plain": [
       "     age    bp    sg   al   su    bgr     bu   sc    sod  pot  ...  \\\n",
       "3   48.0  70.0  1.01  4.0  0.0  117.0   56.0  3.8  111.0  2.5  ...   \n",
       "9   53.0  90.0  1.02  2.0  0.0   70.0  107.0  7.2  114.0  3.7  ...   \n",
       "11  63.0  70.0  1.01  3.0  0.0  380.0   60.0  2.7  131.0  4.2  ...   \n",
       "14  68.0  80.0  1.01  3.0  2.0  157.0   90.0  4.1  130.0  6.4  ...   \n",
       "20  61.0  80.0  1.02  2.0  0.0  173.0  148.0  3.9  135.0  5.2  ...   \n",
       "\n",
       "    rbc_normal  pc_normal  pcc_present  ba_present  htn_yes  dm_yes  cad_yes  \\\n",
       "3            1          0            1           0        1       0        0   \n",
       "9            0          0            1           0        1       1        0   \n",
       "11           0          0            1           0        1       1        0   \n",
       "14           1          0            1           1        1       1        1   \n",
       "20           0          0            0           0        1       1        1   \n",
       "\n",
       "    appet_poor  pe_yes  ane_yes  \n",
       "3            1       1        1  \n",
       "9            1       0        1  \n",
       "11           1       1        0  \n",
       "14           1       1        0  \n",
       "20           1       1        1  \n",
       "\n",
       "[5 rows x 24 columns]"
      ]
     },
     "execution_count": 14,
     "metadata": {},
     "output_type": "execute_result"
    }
   ],
   "source": [
    "X = pd.get_dummies(data=X,columns=categorical_cols[:-1],drop_first=True)\n",
    "X.head()"
   ]
  },
  {
   "cell_type": "code",
   "execution_count": 15,
   "metadata": {},
   "outputs": [
    {
     "data": {
      "text/plain": [
       "notckd    115\n",
       "ckd        43\n",
       "Name: class, dtype: int64"
      ]
     },
     "execution_count": 15,
     "metadata": {},
     "output_type": "execute_result"
    }
   ],
   "source": [
    "occ = y.value_counts()\n",
    "occ"
   ]
  },
  {
   "cell_type": "code",
   "execution_count": 16,
   "metadata": {},
   "outputs": [],
   "source": [
    "y = y.replace('ckd',0)\n",
    "y = y.replace('notckd',1)"
   ]
  },
  {
   "cell_type": "code",
   "execution_count": 17,
   "metadata": {},
   "outputs": [
    {
     "data": {
      "text/plain": [
       "395    1\n",
       "396    1\n",
       "397    1\n",
       "398    1\n",
       "399    1\n",
       "Name: class, dtype: int64"
      ]
     },
     "execution_count": 17,
     "metadata": {},
     "output_type": "execute_result"
    }
   ],
   "source": [
    "y.tail()"
   ]
  },
  {
   "cell_type": "code",
   "execution_count": 18,
   "metadata": {},
   "outputs": [
    {
     "data": {
      "text/plain": [
       "1    115\n",
       "0     43\n",
       "Name: class, dtype: int64"
      ]
     },
     "execution_count": 18,
     "metadata": {},
     "output_type": "execute_result"
    }
   ],
   "source": [
    "# EDA\n",
    "y.value_counts()"
   ]
  },
  {
   "cell_type": "code",
   "execution_count": 19,
   "metadata": {},
   "outputs": [
    {
     "data": {
      "text/plain": [
       "notckd    115\n",
       "ckd        43\n",
       "Name: class, dtype: int64"
      ]
     },
     "execution_count": 19,
     "metadata": {},
     "output_type": "execute_result"
    }
   ],
   "source": [
    "df2 = df.dropna(axis=0)\n",
    "df2['class'].value_counts()"
   ]
  },
  {
   "cell_type": "code",
   "execution_count": 20,
   "metadata": {},
   "outputs": [],
   "source": [
    "corr_df = df2.corr()"
   ]
  },
  {
   "cell_type": "code",
   "execution_count": 21,
   "metadata": {},
   "outputs": [
    {
     "data": {
      "text/html": [
       "<div>\n",
       "<style scoped>\n",
       "    .dataframe tbody tr th:only-of-type {\n",
       "        vertical-align: middle;\n",
       "    }\n",
       "\n",
       "    .dataframe tbody tr th {\n",
       "        vertical-align: top;\n",
       "    }\n",
       "\n",
       "    .dataframe thead th {\n",
       "        text-align: right;\n",
       "    }\n",
       "</style>\n",
       "<table border=\"1\" class=\"dataframe\">\n",
       "  <thead>\n",
       "    <tr style=\"text-align: right;\">\n",
       "      <th></th>\n",
       "      <th>age</th>\n",
       "      <th>bp</th>\n",
       "      <th>sg</th>\n",
       "      <th>al</th>\n",
       "      <th>su</th>\n",
       "      <th>bgr</th>\n",
       "      <th>bu</th>\n",
       "      <th>sc</th>\n",
       "      <th>sod</th>\n",
       "      <th>pot</th>\n",
       "      <th>hemo</th>\n",
       "      <th>pcv</th>\n",
       "      <th>wc</th>\n",
       "      <th>rc</th>\n",
       "    </tr>\n",
       "  </thead>\n",
       "  <tbody>\n",
       "    <tr>\n",
       "      <th>age</th>\n",
       "      <td>1.000000</td>\n",
       "      <td>0.079712</td>\n",
       "      <td>-0.269735</td>\n",
       "      <td>0.253380</td>\n",
       "      <td>0.207711</td>\n",
       "      <td>0.301915</td>\n",
       "      <td>0.190636</td>\n",
       "      <td>0.189721</td>\n",
       "      <td>-0.102933</td>\n",
       "      <td>0.006866</td>\n",
       "      <td>-0.245645</td>\n",
       "      <td>-0.235116</td>\n",
       "      <td>0.153132</td>\n",
       "      <td>-0.242235</td>\n",
       "    </tr>\n",
       "    <tr>\n",
       "      <th>bp</th>\n",
       "      <td>0.079712</td>\n",
       "      <td>1.000000</td>\n",
       "      <td>-0.137800</td>\n",
       "      <td>0.322507</td>\n",
       "      <td>0.243828</td>\n",
       "      <td>0.190113</td>\n",
       "      <td>0.316287</td>\n",
       "      <td>0.386551</td>\n",
       "      <td>-0.224710</td>\n",
       "      <td>0.127801</td>\n",
       "      <td>-0.282365</td>\n",
       "      <td>-0.353504</td>\n",
       "      <td>0.008274</td>\n",
       "      <td>-0.228533</td>\n",
       "    </tr>\n",
       "    <tr>\n",
       "      <th>sg</th>\n",
       "      <td>-0.269735</td>\n",
       "      <td>-0.137800</td>\n",
       "      <td>1.000000</td>\n",
       "      <td>-0.576760</td>\n",
       "      <td>-0.384232</td>\n",
       "      <td>-0.494641</td>\n",
       "      <td>-0.450224</td>\n",
       "      <td>-0.451523</td>\n",
       "      <td>0.445680</td>\n",
       "      <td>-0.023945</td>\n",
       "      <td>0.575271</td>\n",
       "      <td>0.574903</td>\n",
       "      <td>-0.267671</td>\n",
       "      <td>0.549574</td>\n",
       "    </tr>\n",
       "    <tr>\n",
       "      <th>al</th>\n",
       "      <td>0.253380</td>\n",
       "      <td>0.322507</td>\n",
       "      <td>-0.576760</td>\n",
       "      <td>1.000000</td>\n",
       "      <td>0.521448</td>\n",
       "      <td>0.518123</td>\n",
       "      <td>0.661940</td>\n",
       "      <td>0.702889</td>\n",
       "      <td>-0.599334</td>\n",
       "      <td>0.209492</td>\n",
       "      <td>-0.784745</td>\n",
       "      <td>-0.775528</td>\n",
       "      <td>0.314574</td>\n",
       "      <td>-0.640099</td>\n",
       "    </tr>\n",
       "    <tr>\n",
       "      <th>su</th>\n",
       "      <td>0.207711</td>\n",
       "      <td>0.243828</td>\n",
       "      <td>-0.384232</td>\n",
       "      <td>0.521448</td>\n",
       "      <td>1.000000</td>\n",
       "      <td>0.730050</td>\n",
       "      <td>0.312259</td>\n",
       "      <td>0.347196</td>\n",
       "      <td>-0.242491</td>\n",
       "      <td>0.271954</td>\n",
       "      <td>-0.385511</td>\n",
       "      <td>-0.404821</td>\n",
       "      <td>0.201000</td>\n",
       "      <td>-0.377726</td>\n",
       "    </tr>\n",
       "    <tr>\n",
       "      <th>bgr</th>\n",
       "      <td>0.301915</td>\n",
       "      <td>0.190113</td>\n",
       "      <td>-0.494641</td>\n",
       "      <td>0.518123</td>\n",
       "      <td>0.730050</td>\n",
       "      <td>1.000000</td>\n",
       "      <td>0.326496</td>\n",
       "      <td>0.331284</td>\n",
       "      <td>-0.284968</td>\n",
       "      <td>0.102226</td>\n",
       "      <td>-0.434158</td>\n",
       "      <td>-0.443818</td>\n",
       "      <td>0.212093</td>\n",
       "      <td>-0.418085</td>\n",
       "    </tr>\n",
       "    <tr>\n",
       "      <th>bu</th>\n",
       "      <td>0.190636</td>\n",
       "      <td>0.316287</td>\n",
       "      <td>-0.450224</td>\n",
       "      <td>0.661940</td>\n",
       "      <td>0.312259</td>\n",
       "      <td>0.326496</td>\n",
       "      <td>1.000000</td>\n",
       "      <td>0.896094</td>\n",
       "      <td>-0.492778</td>\n",
       "      <td>0.245427</td>\n",
       "      <td>-0.712196</td>\n",
       "      <td>-0.706582</td>\n",
       "      <td>0.128961</td>\n",
       "      <td>-0.621456</td>\n",
       "    </tr>\n",
       "    <tr>\n",
       "      <th>sc</th>\n",
       "      <td>0.189721</td>\n",
       "      <td>0.386551</td>\n",
       "      <td>-0.451523</td>\n",
       "      <td>0.702889</td>\n",
       "      <td>0.347196</td>\n",
       "      <td>0.331284</td>\n",
       "      <td>0.896094</td>\n",
       "      <td>1.000000</td>\n",
       "      <td>-0.532575</td>\n",
       "      <td>0.141896</td>\n",
       "      <td>-0.723937</td>\n",
       "      <td>-0.726187</td>\n",
       "      <td>0.123953</td>\n",
       "      <td>-0.639021</td>\n",
       "    </tr>\n",
       "    <tr>\n",
       "      <th>sod</th>\n",
       "      <td>-0.102933</td>\n",
       "      <td>-0.224710</td>\n",
       "      <td>0.445680</td>\n",
       "      <td>-0.599334</td>\n",
       "      <td>-0.242491</td>\n",
       "      <td>-0.284968</td>\n",
       "      <td>-0.492778</td>\n",
       "      <td>-0.532575</td>\n",
       "      <td>1.000000</td>\n",
       "      <td>-0.051037</td>\n",
       "      <td>0.583001</td>\n",
       "      <td>0.570045</td>\n",
       "      <td>-0.176238</td>\n",
       "      <td>0.465125</td>\n",
       "    </tr>\n",
       "    <tr>\n",
       "      <th>pot</th>\n",
       "      <td>0.006866</td>\n",
       "      <td>0.127801</td>\n",
       "      <td>-0.023945</td>\n",
       "      <td>0.209492</td>\n",
       "      <td>0.271954</td>\n",
       "      <td>0.102226</td>\n",
       "      <td>0.245427</td>\n",
       "      <td>0.141896</td>\n",
       "      <td>-0.051037</td>\n",
       "      <td>1.000000</td>\n",
       "      <td>-0.192100</td>\n",
       "      <td>-0.213488</td>\n",
       "      <td>-0.107559</td>\n",
       "      <td>-0.193783</td>\n",
       "    </tr>\n",
       "    <tr>\n",
       "      <th>hemo</th>\n",
       "      <td>-0.245645</td>\n",
       "      <td>-0.282365</td>\n",
       "      <td>0.575271</td>\n",
       "      <td>-0.784745</td>\n",
       "      <td>-0.385511</td>\n",
       "      <td>-0.434158</td>\n",
       "      <td>-0.712196</td>\n",
       "      <td>-0.723937</td>\n",
       "      <td>0.583001</td>\n",
       "      <td>-0.192100</td>\n",
       "      <td>1.000000</td>\n",
       "      <td>0.856775</td>\n",
       "      <td>-0.337435</td>\n",
       "      <td>0.743999</td>\n",
       "    </tr>\n",
       "    <tr>\n",
       "      <th>pcv</th>\n",
       "      <td>-0.235116</td>\n",
       "      <td>-0.353504</td>\n",
       "      <td>0.574903</td>\n",
       "      <td>-0.775528</td>\n",
       "      <td>-0.404821</td>\n",
       "      <td>-0.443818</td>\n",
       "      <td>-0.706582</td>\n",
       "      <td>-0.726187</td>\n",
       "      <td>0.570045</td>\n",
       "      <td>-0.213488</td>\n",
       "      <td>0.856775</td>\n",
       "      <td>1.000000</td>\n",
       "      <td>-0.349607</td>\n",
       "      <td>0.739019</td>\n",
       "    </tr>\n",
       "    <tr>\n",
       "      <th>wc</th>\n",
       "      <td>0.153132</td>\n",
       "      <td>0.008274</td>\n",
       "      <td>-0.267671</td>\n",
       "      <td>0.314574</td>\n",
       "      <td>0.201000</td>\n",
       "      <td>0.212093</td>\n",
       "      <td>0.128961</td>\n",
       "      <td>0.123953</td>\n",
       "      <td>-0.176238</td>\n",
       "      <td>-0.107559</td>\n",
       "      <td>-0.337435</td>\n",
       "      <td>-0.349607</td>\n",
       "      <td>1.000000</td>\n",
       "      <td>-0.272390</td>\n",
       "    </tr>\n",
       "    <tr>\n",
       "      <th>rc</th>\n",
       "      <td>-0.242235</td>\n",
       "      <td>-0.228533</td>\n",
       "      <td>0.549574</td>\n",
       "      <td>-0.640099</td>\n",
       "      <td>-0.377726</td>\n",
       "      <td>-0.418085</td>\n",
       "      <td>-0.621456</td>\n",
       "      <td>-0.639021</td>\n",
       "      <td>0.465125</td>\n",
       "      <td>-0.193783</td>\n",
       "      <td>0.743999</td>\n",
       "      <td>0.739019</td>\n",
       "      <td>-0.272390</td>\n",
       "      <td>1.000000</td>\n",
       "    </tr>\n",
       "  </tbody>\n",
       "</table>\n",
       "</div>"
      ],
      "text/plain": [
       "           age        bp        sg        al        su       bgr        bu  \\\n",
       "age   1.000000  0.079712 -0.269735  0.253380  0.207711  0.301915  0.190636   \n",
       "bp    0.079712  1.000000 -0.137800  0.322507  0.243828  0.190113  0.316287   \n",
       "sg   -0.269735 -0.137800  1.000000 -0.576760 -0.384232 -0.494641 -0.450224   \n",
       "al    0.253380  0.322507 -0.576760  1.000000  0.521448  0.518123  0.661940   \n",
       "su    0.207711  0.243828 -0.384232  0.521448  1.000000  0.730050  0.312259   \n",
       "bgr   0.301915  0.190113 -0.494641  0.518123  0.730050  1.000000  0.326496   \n",
       "bu    0.190636  0.316287 -0.450224  0.661940  0.312259  0.326496  1.000000   \n",
       "sc    0.189721  0.386551 -0.451523  0.702889  0.347196  0.331284  0.896094   \n",
       "sod  -0.102933 -0.224710  0.445680 -0.599334 -0.242491 -0.284968 -0.492778   \n",
       "pot   0.006866  0.127801 -0.023945  0.209492  0.271954  0.102226  0.245427   \n",
       "hemo -0.245645 -0.282365  0.575271 -0.784745 -0.385511 -0.434158 -0.712196   \n",
       "pcv  -0.235116 -0.353504  0.574903 -0.775528 -0.404821 -0.443818 -0.706582   \n",
       "wc    0.153132  0.008274 -0.267671  0.314574  0.201000  0.212093  0.128961   \n",
       "rc   -0.242235 -0.228533  0.549574 -0.640099 -0.377726 -0.418085 -0.621456   \n",
       "\n",
       "            sc       sod       pot      hemo       pcv        wc        rc  \n",
       "age   0.189721 -0.102933  0.006866 -0.245645 -0.235116  0.153132 -0.242235  \n",
       "bp    0.386551 -0.224710  0.127801 -0.282365 -0.353504  0.008274 -0.228533  \n",
       "sg   -0.451523  0.445680 -0.023945  0.575271  0.574903 -0.267671  0.549574  \n",
       "al    0.702889 -0.599334  0.209492 -0.784745 -0.775528  0.314574 -0.640099  \n",
       "su    0.347196 -0.242491  0.271954 -0.385511 -0.404821  0.201000 -0.377726  \n",
       "bgr   0.331284 -0.284968  0.102226 -0.434158 -0.443818  0.212093 -0.418085  \n",
       "bu    0.896094 -0.492778  0.245427 -0.712196 -0.706582  0.128961 -0.621456  \n",
       "sc    1.000000 -0.532575  0.141896 -0.723937 -0.726187  0.123953 -0.639021  \n",
       "sod  -0.532575  1.000000 -0.051037  0.583001  0.570045 -0.176238  0.465125  \n",
       "pot   0.141896 -0.051037  1.000000 -0.192100 -0.213488 -0.107559 -0.193783  \n",
       "hemo -0.723937  0.583001 -0.192100  1.000000  0.856775 -0.337435  0.743999  \n",
       "pcv  -0.726187  0.570045 -0.213488  0.856775  1.000000 -0.349607  0.739019  \n",
       "wc    0.123953 -0.176238 -0.107559 -0.337435 -0.349607  1.000000 -0.272390  \n",
       "rc   -0.639021  0.465125 -0.193783  0.743999  0.739019 -0.272390  1.000000  "
      ]
     },
     "execution_count": 21,
     "metadata": {},
     "output_type": "execute_result"
    }
   ],
   "source": [
    "corr_df"
   ]
  },
  {
   "cell_type": "code",
   "execution_count": 22,
   "metadata": {},
   "outputs": [],
   "source": [
    "mask = np.zeros_like(corr_df, dtype=np.bool)\n",
    "mask[np.triu_indices_from(mask)] = True"
   ]
  },
  {
   "cell_type": "code",
   "execution_count": 23,
   "metadata": {},
   "outputs": [],
   "source": [
    "# mask"
   ]
  },
  {
   "cell_type": "code",
   "execution_count": 24,
   "metadata": {},
   "outputs": [
    {
     "data": {
      "image/png": "[encoded data removed]",
      "text/plain": [
       "<Figure size 792x648 with 2 Axes>"
      ]
     },
     "metadata": {
      "needs_background": "light"
     },
     "output_type": "display_data"
    }
   ],
   "source": [
    "f, ax = plt.subplots(figsize=(11,9))\n",
    "cmap = sns.diverging_palette(220,10,as_cmap=True)\n",
    "sns.heatmap(corr_df, mask=mask, cmap=cmap, vmax=.3, center=0,\n",
    "           square=True, linewidths=.5, cbar_kws={'shrink':.5})\n",
    "plt.title('Correlations between different predictors')\n",
    "plt.show()"
   ]
  },
  {
   "cell_type": "code",
   "execution_count": 25,
   "metadata": {},
   "outputs": [],
   "source": [
    "from sklearn.model_selection import train_test_split\n",
    "x_train,x_test,y_train,y_test = train_test_split(X,y,test_size=0.33,random_state=44)"
   ]
  },
  {
   "cell_type": "code",
   "execution_count": 26,
   "metadata": {},
   "outputs": [],
   "source": [
    "from sklearn.model_selection import train_test_split, GridSearchCV\n",
    "from sklearn.metrics import roc_curve, auc, confusion_matrix, classification_report,accuracy_score\n",
    "from sklearn.ensemble import RandomForestClassifier"
   ]
  },
  {
   "cell_type": "code",
   "execution_count": 27,
   "metadata": {},
   "outputs": [
    {
     "data": {
      "text/plain": [
       "(105, 24)"
      ]
     },
     "execution_count": 27,
     "metadata": {},
     "output_type": "execute_result"
    }
   ],
   "source": [
    "x_train.shape"
   ]
  },
  {
   "cell_type": "code",
   "execution_count": 28,
   "metadata": {},
   "outputs": [
    {
     "data": {
      "text/plain": [
       "1    73\n",
       "0    32\n",
       "Name: class, dtype: int64"
      ]
     },
     "execution_count": 28,
     "metadata": {},
     "output_type": "execute_result"
    }
   ],
   "source": [
    "y_train.value_counts()"
   ]
  },
  {
   "cell_type": "code",
   "execution_count": 29,
   "metadata": {},
   "outputs": [
    {
     "name": "stdout",
     "output_type": "stream",
     "text": [
      "no     130\n",
      "yes     28\n",
      "Name: dm, dtype: int64\n"
     ]
    }
   ],
   "source": [
    "print(df['dm'].value_counts(dropna=False))"
   ]
  },
  {
   "cell_type": "code",
   "execution_count": 30,
   "metadata": {},
   "outputs": [],
   "source": [
    "from sklearn.neighbors import KNeighborsClassifier\n",
    "knn = KNeighborsClassifier(n_neighbors=1)"
   ]
  },
  {
   "cell_type": "code",
   "execution_count": 31,
   "metadata": {},
   "outputs": [
    {
     "data": {
      "text/plain": [
       "KNeighborsClassifier(n_neighbors=1)"
      ]
     },
     "execution_count": 31,
     "metadata": {},
     "output_type": "execute_result"
    }
   ],
   "source": [
    "knn.fit(x_train.values, y_train.values)"
   ]
  },
  {
   "cell_type": "code",
   "execution_count": 32,
   "metadata": {},
   "outputs": [],
   "source": [
    "pred = knn.predict(x_test)"
   ]
  },
  {
   "cell_type": "code",
   "execution_count": 33,
   "metadata": {},
   "outputs": [
    {
     "name": "stdout",
     "output_type": "stream",
     "text": [
      "[[ 8  3]\n",
      " [ 1 41]]\n"
     ]
    }
   ],
   "source": [
    "print(confusion_matrix(y_test,pred))"
   ]
  },
  {
   "cell_type": "code",
   "execution_count": 34,
   "metadata": {},
   "outputs": [
    {
     "name": "stdout",
     "output_type": "stream",
     "text": [
      "              precision    recall  f1-score   support\n",
      "\n",
      "           0       0.89      0.73      0.80        11\n",
      "           1       0.93      0.98      0.95        42\n",
      "\n",
      "    accuracy                           0.92        53\n",
      "   macro avg       0.91      0.85      0.88        53\n",
      "weighted avg       0.92      0.92      0.92        53\n",
      "\n"
     ]
    }
   ],
   "source": [
    "print(classification_report(y_test,pred))"
   ]
  },
  {
   "cell_type": "code",
   "execution_count": 35,
   "metadata": {},
   "outputs": [
    {
     "data": {
      "text/plain": [
       "0.9245283018867925"
      ]
     },
     "execution_count": 35,
     "metadata": {},
     "output_type": "execute_result"
    }
   ],
   "source": [
    "accuracy_score( y_test,pred)"
   ]
  },
  {
   "cell_type": "code",
   "execution_count": null,
   "metadata": {},
   "outputs": [],
   "source": []
  }
 ],
 "metadata": {
  "kernelspec": {
   "display_name": "Python 3",
   "language": "python",
   "name": "python3"
  },
  "language_info": {
   "codemirror_mode": {
    "name": "ipython",
    "version": 3
   },
   "file_extension": ".py",
   "mimetype": "text/x-python",
   "name": "python",
   "nbconvert_exporter": "python",
   "pygments_lexer": "ipython3",
   "version": "3.7.8"
  }
 },
 "nbformat": 4,
 "nbformat_minor": 4
}
