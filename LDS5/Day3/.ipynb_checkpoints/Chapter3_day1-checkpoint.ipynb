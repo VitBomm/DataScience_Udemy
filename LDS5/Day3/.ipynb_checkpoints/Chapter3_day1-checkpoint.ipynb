{
 "cells": [
  {
   "cell_type": "code",
   "execution_count": 1,
   "metadata": {},
   "outputs": [],
   "source": [
    "import pandas as pd\n",
    "import numpy as np\n",
    "import matplotlib.pyplot as plt\n",
    "import seaborn as sns"
   ]
  },
  {
   "cell_type": "markdown",
   "metadata": {},
   "source": [
    "# Cho dữ liệu BMI.xlsx. Bộ dữ liệu này ghi lại BMI của một số quốc gia trong một năm\n",
    "\n",
    "* Đọc dữ liệu \n",
    "* Xem xét các vấn đề dữ liệu cần khắc phục\n",
    "* Chuẩn lại dữ liệu để khắc phục vấn đề trên\n",
    "\n",
    "## Đặt yêu cầu ngươc lại là cầ phải tạo pivot table để xem thống kê theo country, year\n",
    "* Hãy chuyển dữ liệu mới về dạng thống kê"
   ]
  },
  {
   "cell_type": "code",
   "execution_count": null,
   "metadata": {},
   "outputs": [],
   "source": []
  }
 ],
 "metadata": {
  "kernelspec": {
   "display_name": "Python 3",
   "language": "python",
   "name": "python3"
  },
  "language_info": {
   "codemirror_mode": {
    "name": "ipython",
    "version": 3
   },
   "file_extension": ".py",
   "mimetype": "text/x-python",
   "name": "python",
   "nbconvert_exporter": "python",
   "pygments_lexer": "ipython3",
   "version": "3.8.3"
  }
 },
 "nbformat": 4,
 "nbformat_minor": 4
}
