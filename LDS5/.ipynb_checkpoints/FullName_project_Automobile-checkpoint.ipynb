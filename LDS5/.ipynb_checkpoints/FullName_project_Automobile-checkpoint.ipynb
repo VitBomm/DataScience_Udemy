{
 "cells": [
  {
   "cell_type": "markdown",
   "metadata": {},
   "source": [
    "<a href=\"https://archive.ics.uci.edu/ml/datasets/wine+quality\"><img src=\"https://archive.ics.uci.edu/ml/assets/logo.gif\" width=\"400\" align=\"center\"></a>\n",
    "\n",
    "<h1 align=\"center\"><font size=\"5\">Project: Automobile - Predict \"Price\"</font></h1>\n",
    "<h2 align=\"center\"><font size=\"5\">Deadline (Version 1.0): 2020-12-03 17:00:00</font></h2>\n",
    "<h3 align=\"center\"><font size=\"5\"> Total marks: 4.0</font></h3>"
   ]
  },
  {
   "cell_type": "markdown",
   "metadata": {},
   "source": [
    "### Your information:\n",
    "- Fullname:\n",
    "- Date of birth:\n",
    "- Place of birth:\n",
    "- Email:\n",
    "- Mobile phone:"
   ]
  },
  {
   "cell_type": "markdown",
   "metadata": {},
   "source": [
    "In this notebook, we practice all the knowledge and skills that we learned in this course.\n",
    "\n",
    "We apply the **Linear Algorithm** to predict: \"price of car\" by accuracy evaluation methods."
   ]
  },
  {
   "cell_type": "markdown",
   "metadata": {},
   "source": [
    "Please read [Automobile information](https://archive.ics.uci.edu/ml/datasets/Automobile) carefully before you do this project!"
   ]
  },
  {
   "cell_type": "markdown",
   "metadata": {},
   "source": [
    "Dataset: imports_85.csv"
   ]
  },
  {
   "cell_type": "markdown",
   "metadata": {},
   "source": [
    "#### Attribute Information:\n",
    "Attribute: Attribute Range\n",
    "1. symboling: -3, -2, -1, 0, 1, 2, 3.\n",
    "2. normalized-losses: continuous from 65 to 256.\n",
    "3. make:\n",
    "alfa-romero, audi, bmw, chevrolet, dodge, honda,\n",
    "isuzu, jaguar, mazda, mercedes-benz, mercury,\n",
    "mitsubishi, nissan, peugot, plymouth, porsche,\n",
    "renault, saab, subaru, toyota, volkswagen, volvo\n",
    "\n",
    "4. fuel-type: diesel, gas.\n",
    "5. aspiration: std, turbo.\n",
    "6. num-of-doors: four, two.\n",
    "7. body-style: hardtop, wagon, sedan, hatchback, convertible.\n",
    "8. drive-wheels: 4wd, fwd, rwd.\n",
    "9. engine-location: front, rear.\n",
    "10. wheel-base: continuous from 86.6 120.9.\n",
    "11. length: continuous from 141.1 to 208.1.\n",
    "12. width: continuous from 60.3 to 72.3.\n",
    "13. height: continuous from 47.8 to 59.8.\n",
    "14. curb-weight: continuous from 1488 to 4066.\n",
    "15. engine-type: dohc, dohcv, l, ohc, ohcf, ohcv, rotor.\n",
    "16. num-of-cylinders: eight, five, four, six, three, twelve, two.\n",
    "17. engine-size: continuous from 61 to 326.\n",
    "18. fuel-system: 1bbl, 2bbl, 4bbl, idi, mfi, mpfi, spdi, spfi.\n",
    "19. bore: continuous from 2.54 to 3.94.\n",
    "20. stroke: continuous from 2.07 to 4.17.\n",
    "21. compression-ratio: continuous from 7 to 23.\n",
    "22. horsepower: continuous from 48 to 288.\n",
    "23. peak-rpm: continuous from 4150 to 6600.\n",
    "24. city-mpg: continuous from 13 to 49.\n",
    "25. highway-mpg: continuous from 16 to 54.\n",
    "26. price: continuous from 5118 to 45400."
   ]
  },
  {
   "cell_type": "markdown",
   "metadata": {},
   "source": [
    "### Requirements:"
   ]
  },
  {
   "cell_type": "markdown",
   "metadata": {},
   "source": [
    "- Data exploration\n",
    "- Data visualization\n",
    "- Pre-processing: Feature selection/extraction\n",
    "- Linear Regression\n",
    "    - Model Evaluation using Test set\n",
    "    - Report"
   ]
  },
  {
   "cell_type": "code",
   "execution_count": 1,
   "metadata": {},
   "outputs": [],
   "source": [
    "import numpy as np\n",
    "import matplotlib.pyplot as plt\n",
    "import pandas as pd\n",
    "import numpy as np\n",
    "from sklearn import preprocessing\n",
    "\n",
    "import matplotlib.pyplot as plt\n",
    "import seaborn as sns\n",
    "\n",
    "\n",
    "from scipy.stats import norm\n",
    "from scipy import stats\n",
    "\n",
    "from scipy.stats import chi2_contingency\n",
    "from scipy.stats import chi2\n",
    "\n",
    "import statsmodels.api as sm\n",
    "from statsmodels.formula.api import ols\n",
    "\n",
    "from statsmodels.stats.multicomp import pairwise_tukeyhsd\n",
    "\n",
    "%matplotlib inline"
   ]
  },
  {
   "cell_type": "code",
   "execution_count": 2,
   "metadata": {},
   "outputs": [
    {
     "data": {
      "text/html": [
       "<div>\n",
       "<style scoped>\n",
       "    .dataframe tbody tr th:only-of-type {\n",
       "        vertical-align: middle;\n",
       "    }\n",
       "\n",
       "    .dataframe tbody tr th {\n",
       "        vertical-align: top;\n",
       "    }\n",
       "\n",
       "    .dataframe thead th {\n",
       "        text-align: right;\n",
       "    }\n",
       "</style>\n",
       "<table border=\"1\" class=\"dataframe\">\n",
       "  <thead>\n",
       "    <tr style=\"text-align: right;\">\n",
       "      <th></th>\n",
       "      <th>0</th>\n",
       "      <th>1</th>\n",
       "      <th>2</th>\n",
       "      <th>3</th>\n",
       "      <th>4</th>\n",
       "      <th>5</th>\n",
       "      <th>6</th>\n",
       "      <th>7</th>\n",
       "      <th>8</th>\n",
       "      <th>9</th>\n",
       "      <th>...</th>\n",
       "      <th>16</th>\n",
       "      <th>17</th>\n",
       "      <th>18</th>\n",
       "      <th>19</th>\n",
       "      <th>20</th>\n",
       "      <th>21</th>\n",
       "      <th>22</th>\n",
       "      <th>23</th>\n",
       "      <th>24</th>\n",
       "      <th>25</th>\n",
       "    </tr>\n",
       "  </thead>\n",
       "  <tbody>\n",
       "    <tr>\n",
       "      <th>0</th>\n",
       "      <td>3</td>\n",
       "      <td>?</td>\n",
       "      <td>alfa-romero</td>\n",
       "      <td>gas</td>\n",
       "      <td>std</td>\n",
       "      <td>two</td>\n",
       "      <td>convertible</td>\n",
       "      <td>rwd</td>\n",
       "      <td>front</td>\n",
       "      <td>88.6</td>\n",
       "      <td>...</td>\n",
       "      <td>130</td>\n",
       "      <td>mpfi</td>\n",
       "      <td>3.47</td>\n",
       "      <td>2.68</td>\n",
       "      <td>9.0</td>\n",
       "      <td>111</td>\n",
       "      <td>5000</td>\n",
       "      <td>21</td>\n",
       "      <td>27</td>\n",
       "      <td>13495</td>\n",
       "    </tr>\n",
       "    <tr>\n",
       "      <th>1</th>\n",
       "      <td>3</td>\n",
       "      <td>?</td>\n",
       "      <td>alfa-romero</td>\n",
       "      <td>gas</td>\n",
       "      <td>std</td>\n",
       "      <td>two</td>\n",
       "      <td>convertible</td>\n",
       "      <td>rwd</td>\n",
       "      <td>front</td>\n",
       "      <td>88.6</td>\n",
       "      <td>...</td>\n",
       "      <td>130</td>\n",
       "      <td>mpfi</td>\n",
       "      <td>3.47</td>\n",
       "      <td>2.68</td>\n",
       "      <td>9.0</td>\n",
       "      <td>111</td>\n",
       "      <td>5000</td>\n",
       "      <td>21</td>\n",
       "      <td>27</td>\n",
       "      <td>16500</td>\n",
       "    </tr>\n",
       "    <tr>\n",
       "      <th>2</th>\n",
       "      <td>1</td>\n",
       "      <td>?</td>\n",
       "      <td>alfa-romero</td>\n",
       "      <td>gas</td>\n",
       "      <td>std</td>\n",
       "      <td>two</td>\n",
       "      <td>hatchback</td>\n",
       "      <td>rwd</td>\n",
       "      <td>front</td>\n",
       "      <td>94.5</td>\n",
       "      <td>...</td>\n",
       "      <td>152</td>\n",
       "      <td>mpfi</td>\n",
       "      <td>2.68</td>\n",
       "      <td>3.47</td>\n",
       "      <td>9.0</td>\n",
       "      <td>154</td>\n",
       "      <td>5000</td>\n",
       "      <td>19</td>\n",
       "      <td>26</td>\n",
       "      <td>16500</td>\n",
       "    </tr>\n",
       "    <tr>\n",
       "      <th>3</th>\n",
       "      <td>2</td>\n",
       "      <td>164</td>\n",
       "      <td>audi</td>\n",
       "      <td>gas</td>\n",
       "      <td>std</td>\n",
       "      <td>four</td>\n",
       "      <td>sedan</td>\n",
       "      <td>fwd</td>\n",
       "      <td>front</td>\n",
       "      <td>99.8</td>\n",
       "      <td>...</td>\n",
       "      <td>109</td>\n",
       "      <td>mpfi</td>\n",
       "      <td>3.19</td>\n",
       "      <td>3.40</td>\n",
       "      <td>10.0</td>\n",
       "      <td>102</td>\n",
       "      <td>5500</td>\n",
       "      <td>24</td>\n",
       "      <td>30</td>\n",
       "      <td>13950</td>\n",
       "    </tr>\n",
       "    <tr>\n",
       "      <th>4</th>\n",
       "      <td>2</td>\n",
       "      <td>164</td>\n",
       "      <td>audi</td>\n",
       "      <td>gas</td>\n",
       "      <td>std</td>\n",
       "      <td>four</td>\n",
       "      <td>sedan</td>\n",
       "      <td>4wd</td>\n",
       "      <td>front</td>\n",
       "      <td>99.4</td>\n",
       "      <td>...</td>\n",
       "      <td>136</td>\n",
       "      <td>mpfi</td>\n",
       "      <td>3.19</td>\n",
       "      <td>3.40</td>\n",
       "      <td>8.0</td>\n",
       "      <td>115</td>\n",
       "      <td>5500</td>\n",
       "      <td>18</td>\n",
       "      <td>22</td>\n",
       "      <td>17450</td>\n",
       "    </tr>\n",
       "  </tbody>\n",
       "</table>\n",
       "<p>5 rows × 26 columns</p>\n",
       "</div>"
      ],
      "text/plain": [
       "   0    1            2    3    4     5            6    7      8     9   ...  \\\n",
       "0   3    ?  alfa-romero  gas  std   two  convertible  rwd  front  88.6  ...   \n",
       "1   3    ?  alfa-romero  gas  std   two  convertible  rwd  front  88.6  ...   \n",
       "2   1    ?  alfa-romero  gas  std   two    hatchback  rwd  front  94.5  ...   \n",
       "3   2  164         audi  gas  std  four        sedan  fwd  front  99.8  ...   \n",
       "4   2  164         audi  gas  std  four        sedan  4wd  front  99.4  ...   \n",
       "\n",
       "    16    17    18    19    20   21    22  23  24     25  \n",
       "0  130  mpfi  3.47  2.68   9.0  111  5000  21  27  13495  \n",
       "1  130  mpfi  3.47  2.68   9.0  111  5000  21  27  16500  \n",
       "2  152  mpfi  2.68  3.47   9.0  154  5000  19  26  16500  \n",
       "3  109  mpfi  3.19  3.40  10.0  102  5500  24  30  13950  \n",
       "4  136  mpfi  3.19  3.40   8.0  115  5500  18  22  17450  \n",
       "\n",
       "[5 rows x 26 columns]"
      ]
     },
     "execution_count": 2,
     "metadata": {},
     "output_type": "execute_result"
    }
   ],
   "source": [
    "df = pd.read_csv('imports_85.csv',header=None)\n",
    "df.head()"
   ]
  },
  {
   "cell_type": "code",
   "execution_count": 3,
   "metadata": {},
   "outputs": [],
   "source": [
    "df.columns = ['car_ID', 'symboling', 'CarName', 'fueltype', 'aspiration',\n",
    "       'doornumber', 'carbody', 'drivewheel', 'enginelocation', 'wheelbase',\n",
    "       'carlength', 'carwidth', 'carheight', 'curbweight', 'enginetype',\n",
    "       'cylindernumber', 'enginesize', 'fuelsystem', 'boreratio', 'stroke',\n",
    "       'compressionratio', 'horsepower', 'peakrpm', 'citympg', 'highwaympg',\n",
    "       'price']"
   ]
  },
  {
   "cell_type": "code",
   "execution_count": 4,
   "metadata": {},
   "outputs": [
    {
     "data": {
      "text/html": [
       "<div>\n",
       "<style scoped>\n",
       "    .dataframe tbody tr th:only-of-type {\n",
       "        vertical-align: middle;\n",
       "    }\n",
       "\n",
       "    .dataframe tbody tr th {\n",
       "        vertical-align: top;\n",
       "    }\n",
       "\n",
       "    .dataframe thead th {\n",
       "        text-align: right;\n",
       "    }\n",
       "</style>\n",
       "<table border=\"1\" class=\"dataframe\">\n",
       "  <thead>\n",
       "    <tr style=\"text-align: right;\">\n",
       "      <th></th>\n",
       "      <th>car_ID</th>\n",
       "      <th>symboling</th>\n",
       "      <th>CarName</th>\n",
       "      <th>fueltype</th>\n",
       "      <th>aspiration</th>\n",
       "      <th>doornumber</th>\n",
       "      <th>carbody</th>\n",
       "      <th>drivewheel</th>\n",
       "      <th>enginelocation</th>\n",
       "      <th>wheelbase</th>\n",
       "      <th>...</th>\n",
       "      <th>enginesize</th>\n",
       "      <th>fuelsystem</th>\n",
       "      <th>boreratio</th>\n",
       "      <th>stroke</th>\n",
       "      <th>compressionratio</th>\n",
       "      <th>horsepower</th>\n",
       "      <th>peakrpm</th>\n",
       "      <th>citympg</th>\n",
       "      <th>highwaympg</th>\n",
       "      <th>price</th>\n",
       "    </tr>\n",
       "  </thead>\n",
       "  <tbody>\n",
       "    <tr>\n",
       "      <th>0</th>\n",
       "      <td>3</td>\n",
       "      <td>?</td>\n",
       "      <td>alfa-romero</td>\n",
       "      <td>gas</td>\n",
       "      <td>std</td>\n",
       "      <td>two</td>\n",
       "      <td>convertible</td>\n",
       "      <td>rwd</td>\n",
       "      <td>front</td>\n",
       "      <td>88.6</td>\n",
       "      <td>...</td>\n",
       "      <td>130</td>\n",
       "      <td>mpfi</td>\n",
       "      <td>3.47</td>\n",
       "      <td>2.68</td>\n",
       "      <td>9.0</td>\n",
       "      <td>111</td>\n",
       "      <td>5000</td>\n",
       "      <td>21</td>\n",
       "      <td>27</td>\n",
       "      <td>13495</td>\n",
       "    </tr>\n",
       "    <tr>\n",
       "      <th>1</th>\n",
       "      <td>3</td>\n",
       "      <td>?</td>\n",
       "      <td>alfa-romero</td>\n",
       "      <td>gas</td>\n",
       "      <td>std</td>\n",
       "      <td>two</td>\n",
       "      <td>convertible</td>\n",
       "      <td>rwd</td>\n",
       "      <td>front</td>\n",
       "      <td>88.6</td>\n",
       "      <td>...</td>\n",
       "      <td>130</td>\n",
       "      <td>mpfi</td>\n",
       "      <td>3.47</td>\n",
       "      <td>2.68</td>\n",
       "      <td>9.0</td>\n",
       "      <td>111</td>\n",
       "      <td>5000</td>\n",
       "      <td>21</td>\n",
       "      <td>27</td>\n",
       "      <td>16500</td>\n",
       "    </tr>\n",
       "    <tr>\n",
       "      <th>2</th>\n",
       "      <td>1</td>\n",
       "      <td>?</td>\n",
       "      <td>alfa-romero</td>\n",
       "      <td>gas</td>\n",
       "      <td>std</td>\n",
       "      <td>two</td>\n",
       "      <td>hatchback</td>\n",
       "      <td>rwd</td>\n",
       "      <td>front</td>\n",
       "      <td>94.5</td>\n",
       "      <td>...</td>\n",
       "      <td>152</td>\n",
       "      <td>mpfi</td>\n",
       "      <td>2.68</td>\n",
       "      <td>3.47</td>\n",
       "      <td>9.0</td>\n",
       "      <td>154</td>\n",
       "      <td>5000</td>\n",
       "      <td>19</td>\n",
       "      <td>26</td>\n",
       "      <td>16500</td>\n",
       "    </tr>\n",
       "    <tr>\n",
       "      <th>3</th>\n",
       "      <td>2</td>\n",
       "      <td>164</td>\n",
       "      <td>audi</td>\n",
       "      <td>gas</td>\n",
       "      <td>std</td>\n",
       "      <td>four</td>\n",
       "      <td>sedan</td>\n",
       "      <td>fwd</td>\n",
       "      <td>front</td>\n",
       "      <td>99.8</td>\n",
       "      <td>...</td>\n",
       "      <td>109</td>\n",
       "      <td>mpfi</td>\n",
       "      <td>3.19</td>\n",
       "      <td>3.40</td>\n",
       "      <td>10.0</td>\n",
       "      <td>102</td>\n",
       "      <td>5500</td>\n",
       "      <td>24</td>\n",
       "      <td>30</td>\n",
       "      <td>13950</td>\n",
       "    </tr>\n",
       "    <tr>\n",
       "      <th>4</th>\n",
       "      <td>2</td>\n",
       "      <td>164</td>\n",
       "      <td>audi</td>\n",
       "      <td>gas</td>\n",
       "      <td>std</td>\n",
       "      <td>four</td>\n",
       "      <td>sedan</td>\n",
       "      <td>4wd</td>\n",
       "      <td>front</td>\n",
       "      <td>99.4</td>\n",
       "      <td>...</td>\n",
       "      <td>136</td>\n",
       "      <td>mpfi</td>\n",
       "      <td>3.19</td>\n",
       "      <td>3.40</td>\n",
       "      <td>8.0</td>\n",
       "      <td>115</td>\n",
       "      <td>5500</td>\n",
       "      <td>18</td>\n",
       "      <td>22</td>\n",
       "      <td>17450</td>\n",
       "    </tr>\n",
       "  </tbody>\n",
       "</table>\n",
       "<p>5 rows × 26 columns</p>\n",
       "</div>"
      ],
      "text/plain": [
       "   car_ID symboling      CarName fueltype aspiration doornumber      carbody  \\\n",
       "0       3         ?  alfa-romero      gas        std        two  convertible   \n",
       "1       3         ?  alfa-romero      gas        std        two  convertible   \n",
       "2       1         ?  alfa-romero      gas        std        two    hatchback   \n",
       "3       2       164         audi      gas        std       four        sedan   \n",
       "4       2       164         audi      gas        std       four        sedan   \n",
       "\n",
       "  drivewheel enginelocation  wheelbase  ...  enginesize  fuelsystem  \\\n",
       "0        rwd          front       88.6  ...         130        mpfi   \n",
       "1        rwd          front       88.6  ...         130        mpfi   \n",
       "2        rwd          front       94.5  ...         152        mpfi   \n",
       "3        fwd          front       99.8  ...         109        mpfi   \n",
       "4        4wd          front       99.4  ...         136        mpfi   \n",
       "\n",
       "   boreratio  stroke compressionratio horsepower  peakrpm citympg highwaympg  \\\n",
       "0       3.47    2.68              9.0        111     5000      21         27   \n",
       "1       3.47    2.68              9.0        111     5000      21         27   \n",
       "2       2.68    3.47              9.0        154     5000      19         26   \n",
       "3       3.19    3.40             10.0        102     5500      24         30   \n",
       "4       3.19    3.40              8.0        115     5500      18         22   \n",
       "\n",
       "   price  \n",
       "0  13495  \n",
       "1  16500  \n",
       "2  16500  \n",
       "3  13950  \n",
       "4  17450  \n",
       "\n",
       "[5 rows x 26 columns]"
      ]
     },
     "execution_count": 4,
     "metadata": {},
     "output_type": "execute_result"
    }
   ],
   "source": [
    "df.head()"
   ]
  },
  {
   "cell_type": "code",
   "execution_count": 5,
   "metadata": {},
   "outputs": [
    {
     "name": "stdout",
     "output_type": "stream",
     "text": [
      "<class 'pandas.core.frame.DataFrame'>\n",
      "RangeIndex: 205 entries, 0 to 204\n",
      "Data columns (total 26 columns):\n",
      " #   Column            Non-Null Count  Dtype  \n",
      "---  ------            --------------  -----  \n",
      " 0   car_ID            205 non-null    int64  \n",
      " 1   symboling         205 non-null    object \n",
      " 2   CarName           205 non-null    object \n",
      " 3   fueltype          205 non-null    object \n",
      " 4   aspiration        205 non-null    object \n",
      " 5   doornumber        205 non-null    object \n",
      " 6   carbody           205 non-null    object \n",
      " 7   drivewheel        205 non-null    object \n",
      " 8   enginelocation    205 non-null    object \n",
      " 9   wheelbase         205 non-null    float64\n",
      " 10  carlength         205 non-null    float64\n",
      " 11  carwidth          205 non-null    float64\n",
      " 12  carheight         205 non-null    float64\n",
      " 13  curbweight        205 non-null    int64  \n",
      " 14  enginetype        205 non-null    object \n",
      " 15  cylindernumber    205 non-null    object \n",
      " 16  enginesize        205 non-null    int64  \n",
      " 17  fuelsystem        205 non-null    object \n",
      " 18  boreratio         205 non-null    object \n",
      " 19  stroke            205 non-null    object \n",
      " 20  compressionratio  205 non-null    float64\n",
      " 21  horsepower        205 non-null    object \n",
      " 22  peakrpm           205 non-null    object \n",
      " 23  citympg           205 non-null    int64  \n",
      " 24  highwaympg        205 non-null    int64  \n",
      " 25  price             205 non-null    object \n",
      "dtypes: float64(5), int64(5), object(16)\n",
      "memory usage: 41.8+ KB\n"
     ]
    }
   ],
   "source": [
    "df.info()"
   ]
  },
  {
   "cell_type": "code",
   "execution_count": 6,
   "metadata": {},
   "outputs": [
    {
     "data": {
      "text/plain": [
       "['symboling',\n",
       " 'CarName',\n",
       " 'fueltype',\n",
       " 'aspiration',\n",
       " 'doornumber',\n",
       " 'carbody',\n",
       " 'drivewheel',\n",
       " 'enginelocation',\n",
       " 'enginetype',\n",
       " 'cylindernumber',\n",
       " 'fuelsystem',\n",
       " 'boreratio',\n",
       " 'stroke',\n",
       " 'horsepower',\n",
       " 'peakrpm',\n",
       " 'price']"
      ]
     },
     "execution_count": 6,
     "metadata": {},
     "output_type": "execute_result"
    }
   ],
   "source": [
    "lst_object = [x for x in df.columns if df[x].dtypes == 'object']\n",
    "lst_object"
   ]
  },
  {
   "cell_type": "code",
   "execution_count": 7,
   "metadata": {},
   "outputs": [
    {
     "data": {
      "text/html": [
       "<div>\n",
       "<style scoped>\n",
       "    .dataframe tbody tr th:only-of-type {\n",
       "        vertical-align: middle;\n",
       "    }\n",
       "\n",
       "    .dataframe tbody tr th {\n",
       "        vertical-align: top;\n",
       "    }\n",
       "\n",
       "    .dataframe thead th {\n",
       "        text-align: right;\n",
       "    }\n",
       "</style>\n",
       "<table border=\"1\" class=\"dataframe\">\n",
       "  <thead>\n",
       "    <tr style=\"text-align: right;\">\n",
       "      <th></th>\n",
       "      <th>symboling</th>\n",
       "      <th>CarName</th>\n",
       "      <th>fueltype</th>\n",
       "      <th>aspiration</th>\n",
       "      <th>doornumber</th>\n",
       "      <th>carbody</th>\n",
       "      <th>drivewheel</th>\n",
       "      <th>enginelocation</th>\n",
       "      <th>enginetype</th>\n",
       "      <th>cylindernumber</th>\n",
       "      <th>fuelsystem</th>\n",
       "      <th>boreratio</th>\n",
       "      <th>stroke</th>\n",
       "      <th>horsepower</th>\n",
       "      <th>peakrpm</th>\n",
       "      <th>price</th>\n",
       "    </tr>\n",
       "  </thead>\n",
       "  <tbody>\n",
       "    <tr>\n",
       "      <th>0</th>\n",
       "      <td>?</td>\n",
       "      <td>alfa-romero</td>\n",
       "      <td>gas</td>\n",
       "      <td>std</td>\n",
       "      <td>two</td>\n",
       "      <td>convertible</td>\n",
       "      <td>rwd</td>\n",
       "      <td>front</td>\n",
       "      <td>dohc</td>\n",
       "      <td>four</td>\n",
       "      <td>mpfi</td>\n",
       "      <td>3.47</td>\n",
       "      <td>2.68</td>\n",
       "      <td>111</td>\n",
       "      <td>5000</td>\n",
       "      <td>13495</td>\n",
       "    </tr>\n",
       "    <tr>\n",
       "      <th>1</th>\n",
       "      <td>?</td>\n",
       "      <td>alfa-romero</td>\n",
       "      <td>gas</td>\n",
       "      <td>std</td>\n",
       "      <td>two</td>\n",
       "      <td>convertible</td>\n",
       "      <td>rwd</td>\n",
       "      <td>front</td>\n",
       "      <td>dohc</td>\n",
       "      <td>four</td>\n",
       "      <td>mpfi</td>\n",
       "      <td>3.47</td>\n",
       "      <td>2.68</td>\n",
       "      <td>111</td>\n",
       "      <td>5000</td>\n",
       "      <td>16500</td>\n",
       "    </tr>\n",
       "    <tr>\n",
       "      <th>2</th>\n",
       "      <td>?</td>\n",
       "      <td>alfa-romero</td>\n",
       "      <td>gas</td>\n",
       "      <td>std</td>\n",
       "      <td>two</td>\n",
       "      <td>hatchback</td>\n",
       "      <td>rwd</td>\n",
       "      <td>front</td>\n",
       "      <td>ohcv</td>\n",
       "      <td>six</td>\n",
       "      <td>mpfi</td>\n",
       "      <td>2.68</td>\n",
       "      <td>3.47</td>\n",
       "      <td>154</td>\n",
       "      <td>5000</td>\n",
       "      <td>16500</td>\n",
       "    </tr>\n",
       "    <tr>\n",
       "      <th>3</th>\n",
       "      <td>164</td>\n",
       "      <td>audi</td>\n",
       "      <td>gas</td>\n",
       "      <td>std</td>\n",
       "      <td>four</td>\n",
       "      <td>sedan</td>\n",
       "      <td>fwd</td>\n",
       "      <td>front</td>\n",
       "      <td>ohc</td>\n",
       "      <td>four</td>\n",
       "      <td>mpfi</td>\n",
       "      <td>3.19</td>\n",
       "      <td>3.40</td>\n",
       "      <td>102</td>\n",
       "      <td>5500</td>\n",
       "      <td>13950</td>\n",
       "    </tr>\n",
       "    <tr>\n",
       "      <th>4</th>\n",
       "      <td>164</td>\n",
       "      <td>audi</td>\n",
       "      <td>gas</td>\n",
       "      <td>std</td>\n",
       "      <td>four</td>\n",
       "      <td>sedan</td>\n",
       "      <td>4wd</td>\n",
       "      <td>front</td>\n",
       "      <td>ohc</td>\n",
       "      <td>five</td>\n",
       "      <td>mpfi</td>\n",
       "      <td>3.19</td>\n",
       "      <td>3.40</td>\n",
       "      <td>115</td>\n",
       "      <td>5500</td>\n",
       "      <td>17450</td>\n",
       "    </tr>\n",
       "  </tbody>\n",
       "</table>\n",
       "</div>"
      ],
      "text/plain": [
       "  symboling      CarName fueltype aspiration doornumber      carbody  \\\n",
       "0         ?  alfa-romero      gas        std        two  convertible   \n",
       "1         ?  alfa-romero      gas        std        two  convertible   \n",
       "2         ?  alfa-romero      gas        std        two    hatchback   \n",
       "3       164         audi      gas        std       four        sedan   \n",
       "4       164         audi      gas        std       four        sedan   \n",
       "\n",
       "  drivewheel enginelocation enginetype cylindernumber fuelsystem boreratio  \\\n",
       "0        rwd          front       dohc           four       mpfi      3.47   \n",
       "1        rwd          front       dohc           four       mpfi      3.47   \n",
       "2        rwd          front       ohcv            six       mpfi      2.68   \n",
       "3        fwd          front        ohc           four       mpfi      3.19   \n",
       "4        4wd          front        ohc           five       mpfi      3.19   \n",
       "\n",
       "  stroke horsepower peakrpm  price  \n",
       "0   2.68        111    5000  13495  \n",
       "1   2.68        111    5000  16500  \n",
       "2   3.47        154    5000  16500  \n",
       "3   3.40        102    5500  13950  \n",
       "4   3.40        115    5500  17450  "
      ]
     },
     "execution_count": 7,
     "metadata": {},
     "output_type": "execute_result"
    }
   ],
   "source": [
    "df[lst_object].head()"
   ]
  },
  {
   "cell_type": "markdown",
   "metadata": {},
   "source": [
    "# Data exploration"
   ]
  },
  {
   "cell_type": "markdown",
   "metadata": {},
   "source": [
    "### 1.1 Object Variable"
   ]
  },
  {
   "cell_type": "code",
   "execution_count": 8,
   "metadata": {},
   "outputs": [],
   "source": [
    "lst_var_numeric = ['symboling','boreratio','stroke','horsepower','peakrpm','price']"
   ]
  },
  {
   "cell_type": "code",
   "execution_count": 9,
   "metadata": {},
   "outputs": [
    {
     "name": "stdout",
     "output_type": "stream",
     "text": [
      "symboling - []\n",
      "boreratio - ['3.47' '2.68' '3.19' '3.13' '3.50' '3.31' '3.62' '2.91' '3.03' '2.97'\n",
      " '3.34' '3.60' '2.92' '3.15' '3.43' '3.63' '3.54' '3.08' '3.39' '3.76'\n",
      " '3.58' '3.46' '3.80' '3.78' '3.17' '3.35' '3.59' '2.99' '3.33' '3.70'\n",
      " '3.61' '3.94' '3.74' '2.54' '3.05' '3.27' '3.24' '3.01']\n",
      "stroke - ['2.68' '3.47' '3.40' '2.80' '3.19' '3.39' '3.03' '3.11' '3.23' '3.46'\n",
      " '3.90' '3.41' '3.07' '3.58' '4.17' '2.76' '3.15' '3.16' '3.64' '3.10'\n",
      " '3.35' '3.12' '3.86' '3.29' '3.27' '3.52' '2.19' '3.21' '2.90' '2.07'\n",
      " '2.36' '2.64' '3.08' '3.50' '3.54' '2.87']\n",
      "horsepower - []\n",
      "peakrpm - []\n",
      "price - []\n",
      "****************************************\n",
      "Convert to Numeric Variable Suceessed !\n"
     ]
    }
   ],
   "source": [
    "lst_var_numeric = ['symboling','boreratio','stroke','horsepower','peakrpm','price']\n",
    "df[lst_var_numeric] = df[lst_var_numeric].replace('?',np.nan)\n",
    "for x in lst_var_numeric:\n",
    "    print(x,'-',df[x][df[x].str.isnumeric() == False].unique())\n",
    "    df[x] = pd.to_numeric(df[x])\n",
    "print('*'*40)\n",
    "print('Convert to Numeric Variable Suceessed !')"
   ]
  },
  {
   "cell_type": "code",
   "execution_count": 10,
   "metadata": {},
   "outputs": [
    {
     "data": {
      "text/html": [
       "<div>\n",
       "<style scoped>\n",
       "    .dataframe tbody tr th:only-of-type {\n",
       "        vertical-align: middle;\n",
       "    }\n",
       "\n",
       "    .dataframe tbody tr th {\n",
       "        vertical-align: top;\n",
       "    }\n",
       "\n",
       "    .dataframe thead th {\n",
       "        text-align: right;\n",
       "    }\n",
       "</style>\n",
       "<table border=\"1\" class=\"dataframe\">\n",
       "  <thead>\n",
       "    <tr style=\"text-align: right;\">\n",
       "      <th></th>\n",
       "      <th>symboling</th>\n",
       "      <th>boreratio</th>\n",
       "      <th>stroke</th>\n",
       "      <th>horsepower</th>\n",
       "      <th>peakrpm</th>\n",
       "      <th>price</th>\n",
       "    </tr>\n",
       "  </thead>\n",
       "  <tbody>\n",
       "    <tr>\n",
       "      <th>0</th>\n",
       "      <td>NaN</td>\n",
       "      <td>3.47</td>\n",
       "      <td>2.68</td>\n",
       "      <td>111.0</td>\n",
       "      <td>5000.0</td>\n",
       "      <td>13495.0</td>\n",
       "    </tr>\n",
       "    <tr>\n",
       "      <th>1</th>\n",
       "      <td>NaN</td>\n",
       "      <td>3.47</td>\n",
       "      <td>2.68</td>\n",
       "      <td>111.0</td>\n",
       "      <td>5000.0</td>\n",
       "      <td>16500.0</td>\n",
       "    </tr>\n",
       "    <tr>\n",
       "      <th>2</th>\n",
       "      <td>NaN</td>\n",
       "      <td>2.68</td>\n",
       "      <td>3.47</td>\n",
       "      <td>154.0</td>\n",
       "      <td>5000.0</td>\n",
       "      <td>16500.0</td>\n",
       "    </tr>\n",
       "    <tr>\n",
       "      <th>3</th>\n",
       "      <td>164.0</td>\n",
       "      <td>3.19</td>\n",
       "      <td>3.40</td>\n",
       "      <td>102.0</td>\n",
       "      <td>5500.0</td>\n",
       "      <td>13950.0</td>\n",
       "    </tr>\n",
       "    <tr>\n",
       "      <th>4</th>\n",
       "      <td>164.0</td>\n",
       "      <td>3.19</td>\n",
       "      <td>3.40</td>\n",
       "      <td>115.0</td>\n",
       "      <td>5500.0</td>\n",
       "      <td>17450.0</td>\n",
       "    </tr>\n",
       "  </tbody>\n",
       "</table>\n",
       "</div>"
      ],
      "text/plain": [
       "   symboling  boreratio  stroke  horsepower  peakrpm    price\n",
       "0        NaN       3.47    2.68       111.0   5000.0  13495.0\n",
       "1        NaN       3.47    2.68       111.0   5000.0  16500.0\n",
       "2        NaN       2.68    3.47       154.0   5000.0  16500.0\n",
       "3      164.0       3.19    3.40       102.0   5500.0  13950.0\n",
       "4      164.0       3.19    3.40       115.0   5500.0  17450.0"
      ]
     },
     "execution_count": 10,
     "metadata": {},
     "output_type": "execute_result"
    }
   ],
   "source": [
    "df[lst_var_numeric].head()"
   ]
  },
  {
   "cell_type": "markdown",
   "metadata": {},
   "source": [
    "1.2 Int Variable"
   ]
  },
  {
   "cell_type": "code",
   "execution_count": 11,
   "metadata": {},
   "outputs": [
    {
     "data": {
      "text/plain": [
       "['car_ID', 'curbweight', 'enginesize', 'citympg', 'highwaympg']"
      ]
     },
     "execution_count": 11,
     "metadata": {},
     "output_type": "execute_result"
    }
   ],
   "source": [
    "lst_int = [x for x in df.columns if df[x].dtypes == 'int64']\n",
    "lst_int"
   ]
  },
  {
   "cell_type": "code",
   "execution_count": 12,
   "metadata": {},
   "outputs": [
    {
     "name": "stdout",
     "output_type": "stream",
     "text": [
      "car_ID - 6 [ 3  1  2  0 -1 -2]\n",
      "curbweight - 171 \n",
      "enginesize - 44 \n",
      "citympg - 29 \n",
      "highwaympg - 30 \n"
     ]
    }
   ],
   "source": [
    "for x in lst_int:\n",
    "    print(x,'-',len(df[x].unique()), df[x].unique() if len(df[x].unique())<10 else '')"
   ]
  },
  {
   "cell_type": "code",
   "execution_count": 13,
   "metadata": {},
   "outputs": [],
   "source": [
    "lst_int.remove('car_ID')"
   ]
  },
  {
   "cell_type": "code",
   "execution_count": 14,
   "metadata": {
    "scrolled": true
   },
   "outputs": [
    {
     "data": {
      "text/plain": [
       "['symboling',\n",
       " 'wheelbase',\n",
       " 'carlength',\n",
       " 'carwidth',\n",
       " 'carheight',\n",
       " 'boreratio',\n",
       " 'stroke',\n",
       " 'compressionratio',\n",
       " 'horsepower',\n",
       " 'peakrpm',\n",
       " 'price']"
      ]
     },
     "execution_count": 14,
     "metadata": {},
     "output_type": "execute_result"
    }
   ],
   "source": [
    "lst_float = [x for x in df.columns if df[x].dtypes == 'float64']\n",
    "lst_float"
   ]
  },
  {
   "cell_type": "code",
   "execution_count": 15,
   "metadata": {},
   "outputs": [],
   "source": [
    "def remove_duplicates(l):\n",
    "    return list(set(l))"
   ]
  },
  {
   "cell_type": "code",
   "execution_count": 16,
   "metadata": {},
   "outputs": [
    {
     "data": {
      "text/plain": [
       "15"
      ]
     },
     "execution_count": 16,
     "metadata": {},
     "output_type": "execute_result"
    }
   ],
   "source": [
    "lst_numeric = lst_float + lst_var_numeric + lst_int\n",
    "lst_numeric = remove_duplicates(lst_numeric)\n",
    "len(lst_numeric)"
   ]
  },
  {
   "cell_type": "code",
   "execution_count": 17,
   "metadata": {},
   "outputs": [],
   "source": [
    "# Fill na with Median, because Mean = Median"
   ]
  },
  {
   "cell_type": "code",
   "execution_count": 18,
   "metadata": {},
   "outputs": [],
   "source": [
    "lst_column_nan_values = df.isna().sum()\n",
    "lst_column_nan_values = lst_column_nan_values[lst_column_nan_values.values>0].index\n",
    "lst_column_nan_values\n",
    "for i in lst_column_nan_values:\n",
    "    df[i] = df[i].fillna(df[i].median())"
   ]
  },
  {
   "cell_type": "code",
   "execution_count": 19,
   "metadata": {},
   "outputs": [
    {
     "data": {
      "text/plain": [
       "Series([], dtype: int64)"
      ]
     },
     "execution_count": 19,
     "metadata": {},
     "output_type": "execute_result"
    }
   ],
   "source": [
    "df.isna().sum()[df.isna().sum() > 0]"
   ]
  },
  {
   "cell_type": "markdown",
   "metadata": {},
   "source": [
    "# 1.2 Explore Categorical Variable"
   ]
  },
  {
   "cell_type": "code",
   "execution_count": 20,
   "metadata": {},
   "outputs": [
    {
     "data": {
      "text/plain": [
       "['CarName',\n",
       " 'fueltype',\n",
       " 'aspiration',\n",
       " 'doornumber',\n",
       " 'carbody',\n",
       " 'drivewheel',\n",
       " 'enginelocation',\n",
       " 'enginetype',\n",
       " 'cylindernumber',\n",
       " 'fuelsystem']"
      ]
     },
     "execution_count": 20,
     "metadata": {},
     "output_type": "execute_result"
    }
   ],
   "source": [
    "lst_object_ = [x for x in df.columns if df[x].dtypes == 'object']\n",
    "lst_object_"
   ]
  },
  {
   "cell_type": "code",
   "execution_count": 21,
   "metadata": {},
   "outputs": [
    {
     "data": {
      "text/html": [
       "<div>\n",
       "<style scoped>\n",
       "    .dataframe tbody tr th:only-of-type {\n",
       "        vertical-align: middle;\n",
       "    }\n",
       "\n",
       "    .dataframe tbody tr th {\n",
       "        vertical-align: top;\n",
       "    }\n",
       "\n",
       "    .dataframe thead th {\n",
       "        text-align: right;\n",
       "    }\n",
       "</style>\n",
       "<table border=\"1\" class=\"dataframe\">\n",
       "  <thead>\n",
       "    <tr style=\"text-align: right;\">\n",
       "      <th></th>\n",
       "      <th>CarName</th>\n",
       "      <th>fueltype</th>\n",
       "      <th>aspiration</th>\n",
       "      <th>doornumber</th>\n",
       "      <th>carbody</th>\n",
       "      <th>drivewheel</th>\n",
       "      <th>enginelocation</th>\n",
       "      <th>enginetype</th>\n",
       "      <th>cylindernumber</th>\n",
       "      <th>fuelsystem</th>\n",
       "    </tr>\n",
       "  </thead>\n",
       "  <tbody>\n",
       "    <tr>\n",
       "      <th>0</th>\n",
       "      <td>alfa-romero</td>\n",
       "      <td>gas</td>\n",
       "      <td>std</td>\n",
       "      <td>two</td>\n",
       "      <td>convertible</td>\n",
       "      <td>rwd</td>\n",
       "      <td>front</td>\n",
       "      <td>dohc</td>\n",
       "      <td>four</td>\n",
       "      <td>mpfi</td>\n",
       "    </tr>\n",
       "    <tr>\n",
       "      <th>1</th>\n",
       "      <td>alfa-romero</td>\n",
       "      <td>gas</td>\n",
       "      <td>std</td>\n",
       "      <td>two</td>\n",
       "      <td>convertible</td>\n",
       "      <td>rwd</td>\n",
       "      <td>front</td>\n",
       "      <td>dohc</td>\n",
       "      <td>four</td>\n",
       "      <td>mpfi</td>\n",
       "    </tr>\n",
       "    <tr>\n",
       "      <th>2</th>\n",
       "      <td>alfa-romero</td>\n",
       "      <td>gas</td>\n",
       "      <td>std</td>\n",
       "      <td>two</td>\n",
       "      <td>hatchback</td>\n",
       "      <td>rwd</td>\n",
       "      <td>front</td>\n",
       "      <td>ohcv</td>\n",
       "      <td>six</td>\n",
       "      <td>mpfi</td>\n",
       "    </tr>\n",
       "    <tr>\n",
       "      <th>3</th>\n",
       "      <td>audi</td>\n",
       "      <td>gas</td>\n",
       "      <td>std</td>\n",
       "      <td>four</td>\n",
       "      <td>sedan</td>\n",
       "      <td>fwd</td>\n",
       "      <td>front</td>\n",
       "      <td>ohc</td>\n",
       "      <td>four</td>\n",
       "      <td>mpfi</td>\n",
       "    </tr>\n",
       "    <tr>\n",
       "      <th>4</th>\n",
       "      <td>audi</td>\n",
       "      <td>gas</td>\n",
       "      <td>std</td>\n",
       "      <td>four</td>\n",
       "      <td>sedan</td>\n",
       "      <td>4wd</td>\n",
       "      <td>front</td>\n",
       "      <td>ohc</td>\n",
       "      <td>five</td>\n",
       "      <td>mpfi</td>\n",
       "    </tr>\n",
       "    <tr>\n",
       "      <th>...</th>\n",
       "      <td>...</td>\n",
       "      <td>...</td>\n",
       "      <td>...</td>\n",
       "      <td>...</td>\n",
       "      <td>...</td>\n",
       "      <td>...</td>\n",
       "      <td>...</td>\n",
       "      <td>...</td>\n",
       "      <td>...</td>\n",
       "      <td>...</td>\n",
       "    </tr>\n",
       "    <tr>\n",
       "      <th>200</th>\n",
       "      <td>volvo</td>\n",
       "      <td>gas</td>\n",
       "      <td>std</td>\n",
       "      <td>four</td>\n",
       "      <td>sedan</td>\n",
       "      <td>rwd</td>\n",
       "      <td>front</td>\n",
       "      <td>ohc</td>\n",
       "      <td>four</td>\n",
       "      <td>mpfi</td>\n",
       "    </tr>\n",
       "    <tr>\n",
       "      <th>201</th>\n",
       "      <td>volvo</td>\n",
       "      <td>gas</td>\n",
       "      <td>turbo</td>\n",
       "      <td>four</td>\n",
       "      <td>sedan</td>\n",
       "      <td>rwd</td>\n",
       "      <td>front</td>\n",
       "      <td>ohc</td>\n",
       "      <td>four</td>\n",
       "      <td>mpfi</td>\n",
       "    </tr>\n",
       "    <tr>\n",
       "      <th>202</th>\n",
       "      <td>volvo</td>\n",
       "      <td>gas</td>\n",
       "      <td>std</td>\n",
       "      <td>four</td>\n",
       "      <td>sedan</td>\n",
       "      <td>rwd</td>\n",
       "      <td>front</td>\n",
       "      <td>ohcv</td>\n",
       "      <td>six</td>\n",
       "      <td>mpfi</td>\n",
       "    </tr>\n",
       "    <tr>\n",
       "      <th>203</th>\n",
       "      <td>volvo</td>\n",
       "      <td>diesel</td>\n",
       "      <td>turbo</td>\n",
       "      <td>four</td>\n",
       "      <td>sedan</td>\n",
       "      <td>rwd</td>\n",
       "      <td>front</td>\n",
       "      <td>ohc</td>\n",
       "      <td>six</td>\n",
       "      <td>idi</td>\n",
       "    </tr>\n",
       "    <tr>\n",
       "      <th>204</th>\n",
       "      <td>volvo</td>\n",
       "      <td>gas</td>\n",
       "      <td>turbo</td>\n",
       "      <td>four</td>\n",
       "      <td>sedan</td>\n",
       "      <td>rwd</td>\n",
       "      <td>front</td>\n",
       "      <td>ohc</td>\n",
       "      <td>four</td>\n",
       "      <td>mpfi</td>\n",
       "    </tr>\n",
       "  </tbody>\n",
       "</table>\n",
       "<p>205 rows × 10 columns</p>\n",
       "</div>"
      ],
      "text/plain": [
       "         CarName fueltype aspiration doornumber      carbody drivewheel  \\\n",
       "0    alfa-romero      gas        std        two  convertible        rwd   \n",
       "1    alfa-romero      gas        std        two  convertible        rwd   \n",
       "2    alfa-romero      gas        std        two    hatchback        rwd   \n",
       "3           audi      gas        std       four        sedan        fwd   \n",
       "4           audi      gas        std       four        sedan        4wd   \n",
       "..           ...      ...        ...        ...          ...        ...   \n",
       "200        volvo      gas        std       four        sedan        rwd   \n",
       "201        volvo      gas      turbo       four        sedan        rwd   \n",
       "202        volvo      gas        std       four        sedan        rwd   \n",
       "203        volvo   diesel      turbo       four        sedan        rwd   \n",
       "204        volvo      gas      turbo       four        sedan        rwd   \n",
       "\n",
       "    enginelocation enginetype cylindernumber fuelsystem  \n",
       "0            front       dohc           four       mpfi  \n",
       "1            front       dohc           four       mpfi  \n",
       "2            front       ohcv            six       mpfi  \n",
       "3            front        ohc           four       mpfi  \n",
       "4            front        ohc           five       mpfi  \n",
       "..             ...        ...            ...        ...  \n",
       "200          front        ohc           four       mpfi  \n",
       "201          front        ohc           four       mpfi  \n",
       "202          front       ohcv            six       mpfi  \n",
       "203          front        ohc            six        idi  \n",
       "204          front        ohc           four       mpfi  \n",
       "\n",
       "[205 rows x 10 columns]"
      ]
     },
     "execution_count": 21,
     "metadata": {},
     "output_type": "execute_result"
    }
   ],
   "source": [
    "df[lst_object_]"
   ]
  },
  {
   "cell_type": "code",
   "execution_count": 22,
   "metadata": {},
   "outputs": [
    {
     "data": {
      "text/html": [
       "<div>\n",
       "<style scoped>\n",
       "    .dataframe tbody tr th:only-of-type {\n",
       "        vertical-align: middle;\n",
       "    }\n",
       "\n",
       "    .dataframe tbody tr th {\n",
       "        vertical-align: top;\n",
       "    }\n",
       "\n",
       "    .dataframe thead th {\n",
       "        text-align: right;\n",
       "    }\n",
       "</style>\n",
       "<table border=\"1\" class=\"dataframe\">\n",
       "  <thead>\n",
       "    <tr style=\"text-align: right;\">\n",
       "      <th></th>\n",
       "      <th>highwaympg</th>\n",
       "      <th>carwidth</th>\n",
       "      <th>carlength</th>\n",
       "      <th>enginesize</th>\n",
       "      <th>compressionratio</th>\n",
       "      <th>boreratio</th>\n",
       "      <th>horsepower</th>\n",
       "      <th>symboling</th>\n",
       "      <th>wheelbase</th>\n",
       "      <th>stroke</th>\n",
       "      <th>curbweight</th>\n",
       "      <th>peakrpm</th>\n",
       "      <th>carheight</th>\n",
       "      <th>citympg</th>\n",
       "      <th>price</th>\n",
       "    </tr>\n",
       "  </thead>\n",
       "  <tbody>\n",
       "    <tr>\n",
       "      <th>0</th>\n",
       "      <td>27</td>\n",
       "      <td>64.1</td>\n",
       "      <td>168.8</td>\n",
       "      <td>130</td>\n",
       "      <td>9.0</td>\n",
       "      <td>3.47</td>\n",
       "      <td>111.0</td>\n",
       "      <td>115.0</td>\n",
       "      <td>88.6</td>\n",
       "      <td>2.68</td>\n",
       "      <td>2548</td>\n",
       "      <td>5000.0</td>\n",
       "      <td>48.8</td>\n",
       "      <td>21</td>\n",
       "      <td>13495.0</td>\n",
       "    </tr>\n",
       "    <tr>\n",
       "      <th>1</th>\n",
       "      <td>27</td>\n",
       "      <td>64.1</td>\n",
       "      <td>168.8</td>\n",
       "      <td>130</td>\n",
       "      <td>9.0</td>\n",
       "      <td>3.47</td>\n",
       "      <td>111.0</td>\n",
       "      <td>115.0</td>\n",
       "      <td>88.6</td>\n",
       "      <td>2.68</td>\n",
       "      <td>2548</td>\n",
       "      <td>5000.0</td>\n",
       "      <td>48.8</td>\n",
       "      <td>21</td>\n",
       "      <td>16500.0</td>\n",
       "    </tr>\n",
       "    <tr>\n",
       "      <th>2</th>\n",
       "      <td>26</td>\n",
       "      <td>65.5</td>\n",
       "      <td>171.2</td>\n",
       "      <td>152</td>\n",
       "      <td>9.0</td>\n",
       "      <td>2.68</td>\n",
       "      <td>154.0</td>\n",
       "      <td>115.0</td>\n",
       "      <td>94.5</td>\n",
       "      <td>3.47</td>\n",
       "      <td>2823</td>\n",
       "      <td>5000.0</td>\n",
       "      <td>52.4</td>\n",
       "      <td>19</td>\n",
       "      <td>16500.0</td>\n",
       "    </tr>\n",
       "    <tr>\n",
       "      <th>3</th>\n",
       "      <td>30</td>\n",
       "      <td>66.2</td>\n",
       "      <td>176.6</td>\n",
       "      <td>109</td>\n",
       "      <td>10.0</td>\n",
       "      <td>3.19</td>\n",
       "      <td>102.0</td>\n",
       "      <td>164.0</td>\n",
       "      <td>99.8</td>\n",
       "      <td>3.40</td>\n",
       "      <td>2337</td>\n",
       "      <td>5500.0</td>\n",
       "      <td>54.3</td>\n",
       "      <td>24</td>\n",
       "      <td>13950.0</td>\n",
       "    </tr>\n",
       "    <tr>\n",
       "      <th>4</th>\n",
       "      <td>22</td>\n",
       "      <td>66.4</td>\n",
       "      <td>176.6</td>\n",
       "      <td>136</td>\n",
       "      <td>8.0</td>\n",
       "      <td>3.19</td>\n",
       "      <td>115.0</td>\n",
       "      <td>164.0</td>\n",
       "      <td>99.4</td>\n",
       "      <td>3.40</td>\n",
       "      <td>2824</td>\n",
       "      <td>5500.0</td>\n",
       "      <td>54.3</td>\n",
       "      <td>18</td>\n",
       "      <td>17450.0</td>\n",
       "    </tr>\n",
       "    <tr>\n",
       "      <th>...</th>\n",
       "      <td>...</td>\n",
       "      <td>...</td>\n",
       "      <td>...</td>\n",
       "      <td>...</td>\n",
       "      <td>...</td>\n",
       "      <td>...</td>\n",
       "      <td>...</td>\n",
       "      <td>...</td>\n",
       "      <td>...</td>\n",
       "      <td>...</td>\n",
       "      <td>...</td>\n",
       "      <td>...</td>\n",
       "      <td>...</td>\n",
       "      <td>...</td>\n",
       "      <td>...</td>\n",
       "    </tr>\n",
       "    <tr>\n",
       "      <th>200</th>\n",
       "      <td>28</td>\n",
       "      <td>68.9</td>\n",
       "      <td>188.8</td>\n",
       "      <td>141</td>\n",
       "      <td>9.5</td>\n",
       "      <td>3.78</td>\n",
       "      <td>114.0</td>\n",
       "      <td>95.0</td>\n",
       "      <td>109.1</td>\n",
       "      <td>3.15</td>\n",
       "      <td>2952</td>\n",
       "      <td>5400.0</td>\n",
       "      <td>55.5</td>\n",
       "      <td>23</td>\n",
       "      <td>16845.0</td>\n",
       "    </tr>\n",
       "    <tr>\n",
       "      <th>201</th>\n",
       "      <td>25</td>\n",
       "      <td>68.8</td>\n",
       "      <td>188.8</td>\n",
       "      <td>141</td>\n",
       "      <td>8.7</td>\n",
       "      <td>3.78</td>\n",
       "      <td>160.0</td>\n",
       "      <td>95.0</td>\n",
       "      <td>109.1</td>\n",
       "      <td>3.15</td>\n",
       "      <td>3049</td>\n",
       "      <td>5300.0</td>\n",
       "      <td>55.5</td>\n",
       "      <td>19</td>\n",
       "      <td>19045.0</td>\n",
       "    </tr>\n",
       "    <tr>\n",
       "      <th>202</th>\n",
       "      <td>23</td>\n",
       "      <td>68.9</td>\n",
       "      <td>188.8</td>\n",
       "      <td>173</td>\n",
       "      <td>8.8</td>\n",
       "      <td>3.58</td>\n",
       "      <td>134.0</td>\n",
       "      <td>95.0</td>\n",
       "      <td>109.1</td>\n",
       "      <td>2.87</td>\n",
       "      <td>3012</td>\n",
       "      <td>5500.0</td>\n",
       "      <td>55.5</td>\n",
       "      <td>18</td>\n",
       "      <td>21485.0</td>\n",
       "    </tr>\n",
       "    <tr>\n",
       "      <th>203</th>\n",
       "      <td>27</td>\n",
       "      <td>68.9</td>\n",
       "      <td>188.8</td>\n",
       "      <td>145</td>\n",
       "      <td>23.0</td>\n",
       "      <td>3.01</td>\n",
       "      <td>106.0</td>\n",
       "      <td>95.0</td>\n",
       "      <td>109.1</td>\n",
       "      <td>3.40</td>\n",
       "      <td>3217</td>\n",
       "      <td>4800.0</td>\n",
       "      <td>55.5</td>\n",
       "      <td>26</td>\n",
       "      <td>22470.0</td>\n",
       "    </tr>\n",
       "    <tr>\n",
       "      <th>204</th>\n",
       "      <td>25</td>\n",
       "      <td>68.9</td>\n",
       "      <td>188.8</td>\n",
       "      <td>141</td>\n",
       "      <td>9.5</td>\n",
       "      <td>3.78</td>\n",
       "      <td>114.0</td>\n",
       "      <td>95.0</td>\n",
       "      <td>109.1</td>\n",
       "      <td>3.15</td>\n",
       "      <td>3062</td>\n",
       "      <td>5400.0</td>\n",
       "      <td>55.5</td>\n",
       "      <td>19</td>\n",
       "      <td>22625.0</td>\n",
       "    </tr>\n",
       "  </tbody>\n",
       "</table>\n",
       "<p>205 rows × 15 columns</p>\n",
       "</div>"
      ],
      "text/plain": [
       "     highwaympg  carwidth  carlength  enginesize  compressionratio  boreratio  \\\n",
       "0            27      64.1      168.8         130               9.0       3.47   \n",
       "1            27      64.1      168.8         130               9.0       3.47   \n",
       "2            26      65.5      171.2         152               9.0       2.68   \n",
       "3            30      66.2      176.6         109              10.0       3.19   \n",
       "4            22      66.4      176.6         136               8.0       3.19   \n",
       "..          ...       ...        ...         ...               ...        ...   \n",
       "200          28      68.9      188.8         141               9.5       3.78   \n",
       "201          25      68.8      188.8         141               8.7       3.78   \n",
       "202          23      68.9      188.8         173               8.8       3.58   \n",
       "203          27      68.9      188.8         145              23.0       3.01   \n",
       "204          25      68.9      188.8         141               9.5       3.78   \n",
       "\n",
       "     horsepower  symboling  wheelbase  stroke  curbweight  peakrpm  carheight  \\\n",
       "0         111.0      115.0       88.6    2.68        2548   5000.0       48.8   \n",
       "1         111.0      115.0       88.6    2.68        2548   5000.0       48.8   \n",
       "2         154.0      115.0       94.5    3.47        2823   5000.0       52.4   \n",
       "3         102.0      164.0       99.8    3.40        2337   5500.0       54.3   \n",
       "4         115.0      164.0       99.4    3.40        2824   5500.0       54.3   \n",
       "..          ...        ...        ...     ...         ...      ...        ...   \n",
       "200       114.0       95.0      109.1    3.15        2952   5400.0       55.5   \n",
       "201       160.0       95.0      109.1    3.15        3049   5300.0       55.5   \n",
       "202       134.0       95.0      109.1    2.87        3012   5500.0       55.5   \n",
       "203       106.0       95.0      109.1    3.40        3217   4800.0       55.5   \n",
       "204       114.0       95.0      109.1    3.15        3062   5400.0       55.5   \n",
       "\n",
       "     citympg    price  \n",
       "0         21  13495.0  \n",
       "1         21  16500.0  \n",
       "2         19  16500.0  \n",
       "3         24  13950.0  \n",
       "4         18  17450.0  \n",
       "..       ...      ...  \n",
       "200       23  16845.0  \n",
       "201       19  19045.0  \n",
       "202       18  21485.0  \n",
       "203       26  22470.0  \n",
       "204       19  22625.0  \n",
       "\n",
       "[205 rows x 15 columns]"
      ]
     },
     "execution_count": 22,
     "metadata": {},
     "output_type": "execute_result"
    }
   ],
   "source": [
    "df[lst_numeric]"
   ]
  },
  {
   "cell_type": "code",
   "execution_count": 23,
   "metadata": {},
   "outputs": [
    {
     "data": {
      "text/plain": [
       "['CarName',\n",
       " 'fueltype',\n",
       " 'aspiration',\n",
       " 'doornumber',\n",
       " 'carbody',\n",
       " 'drivewheel',\n",
       " 'enginelocation',\n",
       " 'enginetype',\n",
       " 'cylindernumber',\n",
       " 'fuelsystem',\n",
       " 'car_ID']"
      ]
     },
     "execution_count": 23,
     "metadata": {},
     "output_type": "execute_result"
    }
   ],
   "source": [
    "lst_object_.append('car_ID')\n",
    "lst_object_"
   ]
  },
  {
   "cell_type": "code",
   "execution_count": 24,
   "metadata": {},
   "outputs": [
    {
     "data": {
      "text/plain": [
       "['highwaympg',\n",
       " 'carwidth',\n",
       " 'carlength',\n",
       " 'enginesize',\n",
       " 'compressionratio',\n",
       " 'boreratio',\n",
       " 'horsepower',\n",
       " 'symboling',\n",
       " 'wheelbase',\n",
       " 'stroke',\n",
       " 'curbweight',\n",
       " 'peakrpm',\n",
       " 'carheight',\n",
       " 'citympg',\n",
       " 'price']"
      ]
     },
     "execution_count": 24,
     "metadata": {},
     "output_type": "execute_result"
    }
   ],
   "source": [
    "lst_numeric"
   ]
  },
  {
   "cell_type": "code",
   "execution_count": 25,
   "metadata": {},
   "outputs": [
    {
     "data": {
      "text/plain": [
       "26"
      ]
     },
     "execution_count": 25,
     "metadata": {},
     "output_type": "execute_result"
    }
   ],
   "source": [
    "len(lst_object_) + len(lst_numeric) # Đủ 26 biến"
   ]
  },
  {
   "cell_type": "code",
   "execution_count": 26,
   "metadata": {},
   "outputs": [],
   "source": [
    "def Cat_Analysis(e,df):\n",
    "    print(df[e].value_counts())\n",
    "    df[e].value_counts().plot.pie()\n",
    "    plt.show()"
   ]
  },
  {
   "cell_type": "code",
   "execution_count": 27,
   "metadata": {},
   "outputs": [
    {
     "name": "stdout",
     "output_type": "stream",
     "text": [
      "1. CarName - Unique values: ['alfa-romero' 'audi' 'bmw' 'chevrolet' 'dodge' 'honda' 'isuzu' 'jaguar'\n",
      " 'mazda' 'mercedes-benz' 'mercury' 'mitsubishi' 'nissan' 'peugot'\n",
      " 'plymouth' 'porsche' 'renault' 'saab' 'subaru' 'toyota' 'volkswagen'\n",
      " 'volvo'] - Analysis\n",
      "toyota           32\n",
      "nissan           18\n",
      "mazda            17\n",
      "mitsubishi       13\n",
      "honda            13\n",
      "subaru           12\n",
      "volkswagen       12\n",
      "peugot           11\n",
      "volvo            11\n",
      "dodge             9\n",
      "mercedes-benz     8\n",
      "bmw               8\n",
      "plymouth          7\n",
      "audi              7\n",
      "saab              6\n",
      "porsche           5\n",
      "isuzu             4\n",
      "chevrolet         3\n",
      "alfa-romero       3\n",
      "jaguar            3\n",
      "renault           2\n",
      "mercury           1\n",
      "Name: CarName, dtype: int64\n"
     ]
    },
    {
     "data": {
      "image/png": "[encoded data removed]",
      "text/plain": [
       "<Figure size 432x288 with 1 Axes>"
      ]
     },
     "metadata": {},
     "output_type": "display_data"
    },
    {
     "name": "stdout",
     "output_type": "stream",
     "text": [
      "****************************************\n",
      "2. fueltype - Unique values: ['gas' 'diesel'] - Analysis\n",
      "gas       185\n",
      "diesel     20\n",
      "Name: fueltype, dtype: int64\n"
     ]
    },
    {
     "data": {
      "image/png": "[encoded data removed]",
      "text/plain": [
       "<Figure size 432x288 with 1 Axes>"
      ]
     },
     "metadata": {},
     "output_type": "display_data"
    },
    {
     "name": "stdout",
     "output_type": "stream",
     "text": [
      "****************************************\n",
      "3. aspiration - Unique values: ['std' 'turbo'] - Analysis\n",
      "std      168\n",
      "turbo     37\n",
      "Name: aspiration, dtype: int64\n"
     ]
    },
    {
     "data": {
      "image/png": "[encoded data removed]",
      "text/plain": [
       "<Figure size 432x288 with 1 Axes>"
      ]
     },
     "metadata": {},
     "output_type": "display_data"
    },
    {
     "name": "stdout",
     "output_type": "stream",
     "text": [
      "****************************************\n",
      "4. doornumber - Unique values: ['two' 'four' '?'] - Analysis\n",
      "four    114\n",
      "two      89\n",
      "?         2\n",
      "Name: doornumber, dtype: int64\n"
     ]
    },
    {
     "data": {
      "image/png": "[encoded data removed]",
      "text/plain": [
       "<Figure size 432x288 with 1 Axes>"
      ]
     },
     "metadata": {},
     "output_type": "display_data"
    },
    {
     "name": "stdout",
     "output_type": "stream",
     "text": [
      "****************************************\n",
      "5. carbody - Unique values: ['convertible' 'hatchback' 'sedan' 'wagon' 'hardtop'] - Analysis\n",
      "sedan          96\n",
      "hatchback      70\n",
      "wagon          25\n",
      "hardtop         8\n",
      "convertible     6\n",
      "Name: carbody, dtype: int64\n"
     ]
    },
    {
     "data": {
      "image/png": "[encoded data removed]",
      "text/plain": [
       "<Figure size 432x288 with 1 Axes>"
      ]
     },
     "metadata": {},
     "output_type": "display_data"
    },
    {
     "name": "stdout",
     "output_type": "stream",
     "text": [
      "****************************************\n",
      "6. drivewheel - Unique values: ['rwd' 'fwd' '4wd'] - Analysis\n",
      "fwd    120\n",
      "rwd     76\n",
      "4wd      9\n",
      "Name: drivewheel, dtype: int64\n"
     ]
    },
    {
     "data": {
      "image/png": "[encoded data removed]",
      "text/plain": [
       "<Figure size 432x288 with 1 Axes>"
      ]
     },
     "metadata": {},
     "output_type": "display_data"
    },
    {
     "name": "stdout",
     "output_type": "stream",
     "text": [
      "****************************************\n",
      "7. enginelocation - Unique values: ['front' 'rear'] - Analysis\n",
      "front    202\n",
      "rear       3\n",
      "Name: enginelocation, dtype: int64\n"
     ]
    },
    {
     "data": {
      "image/png": "[encoded data removed]",
      "text/plain": [
       "<Figure size 432x288 with 1 Axes>"
      ]
     },
     "metadata": {},
     "output_type": "display_data"
    },
    {
     "name": "stdout",
     "output_type": "stream",
     "text": [
      "****************************************\n",
      "8. enginetype - Unique values: ['dohc' 'ohcv' 'ohc' 'l' 'rotor' 'ohcf' 'dohcv'] - Analysis\n",
      "ohc      148\n",
      "ohcf      15\n",
      "ohcv      13\n",
      "dohc      12\n",
      "l         12\n",
      "rotor      4\n",
      "dohcv      1\n",
      "Name: enginetype, dtype: int64\n"
     ]
    },
    {
     "data": {
      "image/png": "[encoded data removed]",
      "text/plain": [
       "<Figure size 432x288 with 1 Axes>"
      ]
     },
     "metadata": {},
     "output_type": "display_data"
    },
    {
     "name": "stdout",
     "output_type": "stream",
     "text": [
      "****************************************\n",
      "9. cylindernumber - Unique values: ['four' 'six' 'five' 'three' 'twelve' 'two' 'eight'] - Analysis\n",
      "four      159\n",
      "six        24\n",
      "five       11\n",
      "eight       5\n",
      "two         4\n",
      "three       1\n",
      "twelve      1\n",
      "Name: cylindernumber, dtype: int64\n"
     ]
    },
    {
     "data": {
      "image/png": "[encoded data removed]",
      "text/plain": [
       "<Figure size 432x288 with 1 Axes>"
      ]
     },
     "metadata": {},
     "output_type": "display_data"
    },
    {
     "name": "stdout",
     "output_type": "stream",
     "text": [
      "****************************************\n",
      "10. fuelsystem - Unique values: ['mpfi' '2bbl' 'mfi' '1bbl' 'spfi' '4bbl' 'idi' 'spdi'] - Analysis\n",
      "mpfi    94\n",
      "2bbl    66\n",
      "idi     20\n",
      "1bbl    11\n",
      "spdi     9\n",
      "4bbl     3\n",
      "mfi      1\n",
      "spfi     1\n",
      "Name: fuelsystem, dtype: int64\n"
     ]
    },
    {
     "data": {
      "image/png": "[encoded data removed]",
      "text/plain": [
       "<Figure size 432x288 with 1 Axes>"
      ]
     },
     "metadata": {},
     "output_type": "display_data"
    },
    {
     "name": "stdout",
     "output_type": "stream",
     "text": [
      "****************************************\n",
      "11. car_ID - Unique values: [ 3  1  2  0 -1 -2] - Analysis\n",
      " 0    67\n",
      " 1    54\n",
      " 2    32\n",
      " 3    27\n",
      "-1    22\n",
      "-2     3\n",
      "Name: car_ID, dtype: int64\n"
     ]
    },
    {
     "data": {
      "image/png": "[encoded data removed]",
      "text/plain": [
       "<Figure size 432x288 with 1 Axes>"
      ]
     },
     "metadata": {},
     "output_type": "display_data"
    },
    {
     "name": "stdout",
     "output_type": "stream",
     "text": [
      "****************************************\n"
     ]
    }
   ],
   "source": [
    "c=1\n",
    "for x in lst_object_:\n",
    "    print(f'{c}. {x} - Unique values: {df[x].unique()} - Analysis')\n",
    "    Cat_Analysis(x,df)\n",
    "    print('*'*40)\n",
    "    c+=1"
   ]
  },
  {
   "cell_type": "markdown",
   "metadata": {},
   "source": [
    "## 2. Univariate Analysis "
   ]
  },
  {
   "cell_type": "code",
   "execution_count": 28,
   "metadata": {},
   "outputs": [],
   "source": [
    "def Univariate_Analysis(e,df):\n",
    "    print(df[e].describe(include='all'))\n",
    "    print(\"Unique values\",e,\":\\t\",len(df[e].unique()))\n",
    "    print('Median',e,\":\",df[e].median())\n",
    "    print('Mode',e,\":\", df[e].mode().values[0])\n",
    "    print('Var',e,\":\",df[e].var())\n",
    "    print('Std',e,\":\",df[e].std())\n",
    "    print('Skew:', df[e].skew())\n",
    "    print('Kurtosis:', df[e].kurtosis())\n",
    "    plt.figure(figsize=(10,5))\n",
    "    plt.subplot(1,2,1)\n",
    "    sns.distplot(df[e])\n",
    "    plt.subplot(1,2,2)\n",
    "    plt.hist(df[e])\n",
    "    plt.show()"
   ]
  },
  {
   "cell_type": "code",
   "execution_count": 29,
   "metadata": {},
   "outputs": [],
   "source": [
    "def Present_Outlier_Zscore(e,df):\n",
    "    df = df.reset_index(drop=True)\n",
    "    number_Z_score = stats.zscore(df[e])\n",
    "    M = np.mean(df[e])\n",
    "    std = np.std(df[e])\n",
    "    low = M - 1.96*std\n",
    "    high = M + 1.96*std\n",
    "    outliers = df[e][(df[e]<low) | (df[e]>high)]\n",
    "    percent = outliers.size/(df[e].shape[0])\n",
    "    return percent,low,high\n",
    "\n",
    "def Present_Outlier_IQR(e,df):\n",
    "    df = df.reset_index(drop=True)\n",
    "    Q1 = np.percentile(df[e],25)\n",
    "    Q3 = np.percentile(df[e],75)\n",
    "    IQR = stats.iqr(df[e])\n",
    "    low = Q1 - 1.5*IQR\n",
    "    high = Q3 + 1.5*IQR\n",
    "    outliers = df[e][(df[e]<low) | (df[e]>high)]\n",
    "    percent = outliers.size/(df[e].shape[0])\n",
    "    plt.figure(figsize=(4,8))\n",
    "    sns.boxplot(df[e])\n",
    "    plt.title('Boxplot for '+ e)\n",
    "    plt.show()\n",
    "    print('*'*40)\n",
    "    return percent,low,high"
   ]
  },
  {
   "cell_type": "code",
   "execution_count": 30,
   "metadata": {},
   "outputs": [
    {
     "name": "stdout",
     "output_type": "stream",
     "text": [
      "1. highwaympg\n",
      "count    205.000000\n",
      "mean      30.751220\n",
      "std        6.886443\n",
      "min       16.000000\n",
      "25%       25.000000\n",
      "50%       30.000000\n",
      "75%       34.000000\n",
      "max       54.000000\n",
      "Name: highwaympg, dtype: float64\n",
      "Unique values highwaympg :\t 30\n",
      "Median highwaympg : 30.0\n",
      "Mode highwaympg : 25\n",
      "Var highwaympg : 47.42309899569584\n",
      "Std highwaympg : 6.886443130941824\n",
      "Skew: 0.5399971878746754\n",
      "Kurtosis: 0.44007038152989786\n"
     ]
    },
    {
     "name": "stderr",
     "output_type": "stream",
     "text": [
      "C:\\Users\\lenovo\\AppData\\Roaming\\Python\\Python37\\site-packages\\seaborn\\distributions.py:2551: FutureWarning: `distplot` is a deprecated function and will be removed in a future version. Please adapt your code to use either `displot` (a figure-level function with similar flexibility) or `histplot` (an axes-level function for histograms).\n",
      "  warnings.warn(msg, FutureWarning)\n"
     ]
    },
    {
     "data": {
      "image/png": "[encoded data removed]",
      "text/plain": [
       "<Figure size 720x360 with 2 Axes>"
      ]
     },
     "metadata": {
      "needs_background": "light"
     },
     "output_type": "display_data"
    },
    {
     "name": "stdout",
     "output_type": "stream",
     "text": [
      "**************************************************\n",
      "2. carwidth\n",
      "count    205.000000\n",
      "mean      65.907805\n",
      "std        2.145204\n",
      "min       60.300000\n",
      "25%       64.100000\n",
      "50%       65.500000\n",
      "75%       66.900000\n",
      "max       72.300000\n",
      "Name: carwidth, dtype: float64\n",
      "Unique values carwidth :\t 44\n",
      "Median carwidth : 65.5\n",
      "Mode carwidth : 63.8\n",
      "Var carwidth : 4.601899569583934\n",
      "Std carwidth : 2.145203852687183\n",
      "Skew: 0.904003498786254\n",
      "Kurtosis: 0.7027642441369477\n"
     ]
    },
    {
     "name": "stderr",
     "output_type": "stream",
     "text": [
      "C:\\Users\\lenovo\\AppData\\Roaming\\Python\\Python37\\site-packages\\seaborn\\distributions.py:2551: FutureWarning: `distplot` is a deprecated function and will be removed in a future version. Please adapt your code to use either `displot` (a figure-level function with similar flexibility) or `histplot` (an axes-level function for histograms).\n",
      "  warnings.warn(msg, FutureWarning)\n"
     ]
    },
    {
     "data": {
      "image/png": "[encoded data removed]",
      "text/plain": [
       "<Figure size 720x360 with 2 Axes>"
      ]
     },
     "metadata": {
      "needs_background": "light"
     },
     "output_type": "display_data"
    },
    {
     "name": "stdout",
     "output_type": "stream",
     "text": [
      "**************************************************\n",
      "3. carlength\n",
      "count    205.000000\n",
      "mean     174.049268\n",
      "std       12.337289\n",
      "min      141.100000\n",
      "25%      166.300000\n",
      "50%      173.200000\n",
      "75%      183.100000\n",
      "max      208.100000\n",
      "Name: carlength, dtype: float64\n",
      "Unique values carlength :\t 75\n",
      "Median carlength : 173.2\n",
      "Mode carlength : 157.3\n",
      "Var carlength : 152.2086881874701\n",
      "Std carlength : 12.33728852655518\n",
      "Skew: 0.1559537713215604\n",
      "Kurtosis: -0.08289485344758996\n"
     ]
    },
    {
     "name": "stderr",
     "output_type": "stream",
     "text": [
      "C:\\Users\\lenovo\\AppData\\Roaming\\Python\\Python37\\site-packages\\seaborn\\distributions.py:2551: FutureWarning: `distplot` is a deprecated function and will be removed in a future version. Please adapt your code to use either `displot` (a figure-level function with similar flexibility) or `histplot` (an axes-level function for histograms).\n",
      "  warnings.warn(msg, FutureWarning)\n"
     ]
    },
    {
     "data": {
      "image/png": "[encoded data removed]",
      "text/plain": [
       "<Figure size 720x360 with 2 Axes>"
      ]
     },
     "metadata": {
      "needs_background": "light"
     },
     "output_type": "display_data"
    },
    {
     "name": "stdout",
     "output_type": "stream",
     "text": [
      "**************************************************\n",
      "4. enginesize\n",
      "count    205.000000\n",
      "mean     126.907317\n",
      "std       41.642693\n",
      "min       61.000000\n",
      "25%       97.000000\n",
      "50%      120.000000\n",
      "75%      141.000000\n",
      "max      326.000000\n",
      "Name: enginesize, dtype: float64\n",
      "Unique values enginesize :\t 44\n",
      "Median enginesize : 120.0\n",
      "Mode enginesize : 92\n",
      "Var enginesize : 1734.1139167862266\n",
      "Std enginesize : 41.64269343817984\n",
      "Skew: 1.9476550452788108\n",
      "Kurtosis: 5.305682091703767\n"
     ]
    },
    {
     "name": "stderr",
     "output_type": "stream",
     "text": [
      "C:\\Users\\lenovo\\AppData\\Roaming\\Python\\Python37\\site-packages\\seaborn\\distributions.py:2551: FutureWarning: `distplot` is a deprecated function and will be removed in a future version. Please adapt your code to use either `displot` (a figure-level function with similar flexibility) or `histplot` (an axes-level function for histograms).\n",
      "  warnings.warn(msg, FutureWarning)\n"
     ]
    },
    {
     "data": {
      "image/png": "[encoded data removed]",
      "text/plain": [
       "<Figure size 720x360 with 2 Axes>"
      ]
     },
     "metadata": {
      "needs_background": "light"
     },
     "output_type": "display_data"
    },
    {
     "name": "stdout",
     "output_type": "stream",
     "text": [
      "**************************************************\n",
      "5. compressionratio\n",
      "count    205.000000\n",
      "mean      10.142537\n",
      "std        3.972040\n",
      "min        7.000000\n",
      "25%        8.600000\n",
      "50%        9.000000\n",
      "75%        9.400000\n",
      "max       23.000000\n",
      "Name: compressionratio, dtype: float64\n",
      "Unique values compressionratio :\t 32\n",
      "Median compressionratio : 9.0\n",
      "Mode compressionratio : 9.0\n",
      "Var compressionratio : 15.777104318507893\n",
      "Std compressionratio : 3.972040321863298\n",
      "Skew: 2.6108624576151533\n",
      "Kurtosis: 5.233054347604856\n"
     ]
    },
    {
     "name": "stderr",
     "output_type": "stream",
     "text": [
      "C:\\Users\\lenovo\\AppData\\Roaming\\Python\\Python37\\site-packages\\seaborn\\distributions.py:2551: FutureWarning: `distplot` is a deprecated function and will be removed in a future version. Please adapt your code to use either `displot` (a figure-level function with similar flexibility) or `histplot` (an axes-level function for histograms).\n",
      "  warnings.warn(msg, FutureWarning)\n"
     ]
    },
    {
     "data": {
      "image/png": "[encoded data removed]",
      "text/plain": [
       "<Figure size 720x360 with 2 Axes>"
      ]
     },
     "metadata": {
      "needs_background": "light"
     },
     "output_type": "display_data"
    },
    {
     "name": "stdout",
     "output_type": "stream",
     "text": [
      "**************************************************\n",
      "6. boreratio\n",
      "count    205.000000\n",
      "mean       3.329366\n",
      "std        0.270858\n",
      "min        2.540000\n",
      "25%        3.150000\n",
      "50%        3.310000\n",
      "75%        3.580000\n",
      "max        3.940000\n",
      "Name: boreratio, dtype: float64\n",
      "Unique values boreratio :\t 38\n",
      "Median boreratio : 3.31\n",
      "Mode boreratio : 3.62\n",
      "Var boreratio : 0.07336381157340986\n",
      "Std boreratio : 0.27085754848888716\n",
      "Skew: 0.02451054675818164\n",
      "Kurtosis: -0.7853719335282325\n"
     ]
    },
    {
     "name": "stderr",
     "output_type": "stream",
     "text": [
      "C:\\Users\\lenovo\\AppData\\Roaming\\Python\\Python37\\site-packages\\seaborn\\distributions.py:2551: FutureWarning: `distplot` is a deprecated function and will be removed in a future version. Please adapt your code to use either `displot` (a figure-level function with similar flexibility) or `histplot` (an axes-level function for histograms).\n",
      "  warnings.warn(msg, FutureWarning)\n"
     ]
    },
    {
     "data": {
      "image/png": "[encoded data removed]",
      "text/plain": [
       "<Figure size 720x360 with 2 Axes>"
      ]
     },
     "metadata": {
      "needs_background": "light"
     },
     "output_type": "display_data"
    },
    {
     "name": "stdout",
     "output_type": "stream",
     "text": [
      "**************************************************\n",
      "7. horsepower\n",
      "count    205.000000\n",
      "mean     104.165854\n",
      "std       39.529733\n",
      "min       48.000000\n",
      "25%       70.000000\n",
      "50%       95.000000\n",
      "75%      116.000000\n",
      "max      288.000000\n",
      "Name: horsepower, dtype: float64\n",
      "Unique values horsepower :\t 59\n",
      "Median horsepower : 95.0\n",
      "Mode horsepower : 68.0\n",
      "Var horsepower : 1562.5998087039693\n",
      "Std horsepower : 39.52973322328358\n",
      "Skew: 1.4034410293210586\n",
      "Kurtosis: 2.6851678341770646\n"
     ]
    },
    {
     "name": "stderr",
     "output_type": "stream",
     "text": [
      "C:\\Users\\lenovo\\AppData\\Roaming\\Python\\Python37\\site-packages\\seaborn\\distributions.py:2551: FutureWarning: `distplot` is a deprecated function and will be removed in a future version. Please adapt your code to use either `displot` (a figure-level function with similar flexibility) or `histplot` (an axes-level function for histograms).\n",
      "  warnings.warn(msg, FutureWarning)\n"
     ]
    },
    {
     "data": {
      "image/png": "[encoded data removed]",
      "text/plain": [
       "<Figure size 720x360 with 2 Axes>"
      ]
     },
     "metadata": {
      "needs_background": "light"
     },
     "output_type": "display_data"
    },
    {
     "name": "stdout",
     "output_type": "stream",
     "text": [
      "**************************************************\n",
      "8. symboling\n",
      "count    205.000000\n",
      "mean     120.600000\n",
      "std       31.805105\n",
      "min       65.000000\n",
      "25%      101.000000\n",
      "50%      115.000000\n",
      "75%      137.000000\n",
      "max      256.000000\n",
      "Name: symboling, dtype: float64\n",
      "Unique values symboling :\t 51\n",
      "Median symboling : 115.0\n",
      "Mode symboling : 115.0\n",
      "Var symboling : 1011.5647058823528\n",
      "Std symboling : 31.80510502863263\n",
      "Skew: 0.9761135438633949\n",
      "Kurtosis: 1.499388342847745\n"
     ]
    },
    {
     "name": "stderr",
     "output_type": "stream",
     "text": [
      "C:\\Users\\lenovo\\AppData\\Roaming\\Python\\Python37\\site-packages\\seaborn\\distributions.py:2551: FutureWarning: `distplot` is a deprecated function and will be removed in a future version. Please adapt your code to use either `displot` (a figure-level function with similar flexibility) or `histplot` (an axes-level function for histograms).\n",
      "  warnings.warn(msg, FutureWarning)\n"
     ]
    },
    {
     "data": {
      "image/png": "[encoded data removed]",
      "text/plain": [
       "<Figure size 720x360 with 2 Axes>"
      ]
     },
     "metadata": {
      "needs_background": "light"
     },
     "output_type": "display_data"
    },
    {
     "name": "stdout",
     "output_type": "stream",
     "text": [
      "**************************************************\n",
      "9. wheelbase\n",
      "count    205.000000\n",
      "mean      98.756585\n",
      "std        6.021776\n",
      "min       86.600000\n",
      "25%       94.500000\n",
      "50%       97.000000\n",
      "75%      102.400000\n",
      "max      120.900000\n",
      "Name: wheelbase, dtype: float64\n",
      "Unique values wheelbase :\t 53\n",
      "Median wheelbase : 97.0\n",
      "Mode wheelbase : 94.5\n",
      "Var wheelbase : 36.261782400765185\n",
      "Std wheelbase : 6.021775685025571\n",
      "Skew: 1.0502137758714858\n",
      "Kurtosis: 1.0170389463774234\n"
     ]
    },
    {
     "name": "stderr",
     "output_type": "stream",
     "text": [
      "C:\\Users\\lenovo\\AppData\\Roaming\\Python\\Python37\\site-packages\\seaborn\\distributions.py:2551: FutureWarning: `distplot` is a deprecated function and will be removed in a future version. Please adapt your code to use either `displot` (a figure-level function with similar flexibility) or `histplot` (an axes-level function for histograms).\n",
      "  warnings.warn(msg, FutureWarning)\n"
     ]
    },
    {
     "data": {
      "image/png": "[encoded data removed]",
      "text/plain": [
       "<Figure size 720x360 with 2 Axes>"
      ]
     },
     "metadata": {
      "needs_background": "light"
     },
     "output_type": "display_data"
    },
    {
     "name": "stdout",
     "output_type": "stream",
     "text": [
      "**************************************************\n",
      "10. stroke\n",
      "count    205.000000\n",
      "mean       3.256098\n",
      "std        0.313634\n",
      "min        2.070000\n",
      "25%        3.110000\n",
      "50%        3.290000\n",
      "75%        3.410000\n",
      "max        4.170000\n",
      "Name: stroke, dtype: float64\n",
      "Unique values stroke :\t 36\n",
      "Median stroke : 3.29\n",
      "Mode stroke : 3.4\n",
      "Var stroke : 0.09836606886657105\n",
      "Std stroke : 0.313633653912604\n",
      "Skew: -0.6960331002094712\n",
      "Kurtosis: 2.178114110104682\n"
     ]
    },
    {
     "name": "stderr",
     "output_type": "stream",
     "text": [
      "C:\\Users\\lenovo\\AppData\\Roaming\\Python\\Python37\\site-packages\\seaborn\\distributions.py:2551: FutureWarning: `distplot` is a deprecated function and will be removed in a future version. Please adapt your code to use either `displot` (a figure-level function with similar flexibility) or `histplot` (an axes-level function for histograms).\n",
      "  warnings.warn(msg, FutureWarning)\n"
     ]
    },
    {
     "data": {
      "image/png": "[encoded data removed]",
      "text/plain": [
       "<Figure size 720x360 with 2 Axes>"
      ]
     },
     "metadata": {
      "needs_background": "light"
     },
     "output_type": "display_data"
    },
    {
     "name": "stdout",
     "output_type": "stream",
     "text": [
      "**************************************************\n",
      "11. curbweight\n",
      "count     205.000000\n",
      "mean     2555.565854\n",
      "std       520.680204\n",
      "min      1488.000000\n",
      "25%      2145.000000\n",
      "50%      2414.000000\n",
      "75%      2935.000000\n",
      "max      4066.000000\n",
      "Name: curbweight, dtype: float64\n",
      "Unique values curbweight :\t 171\n",
      "Median curbweight : 2414.0\n",
      "Mode curbweight : 2385\n",
      "Var curbweight : 271107.8743185079\n",
      "Std curbweight : 520.6802035016387\n",
      "Skew: 0.681398189052588\n",
      "Kurtosis: -0.04285376609990976\n"
     ]
    },
    {
     "name": "stderr",
     "output_type": "stream",
     "text": [
      "C:\\Users\\lenovo\\AppData\\Roaming\\Python\\Python37\\site-packages\\seaborn\\distributions.py:2551: FutureWarning: `distplot` is a deprecated function and will be removed in a future version. Please adapt your code to use either `displot` (a figure-level function with similar flexibility) or `histplot` (an axes-level function for histograms).\n",
      "  warnings.warn(msg, FutureWarning)\n"
     ]
    },
    {
     "data": {
      "image/png": "[encoded data removed]",
      "text/plain": [
       "<Figure size 720x360 with 2 Axes>"
      ]
     },
     "metadata": {
      "needs_background": "light"
     },
     "output_type": "display_data"
    },
    {
     "name": "stdout",
     "output_type": "stream",
     "text": [
      "**************************************************\n",
      "12. peakrpm\n",
      "count     205.000000\n",
      "mean     5126.097561\n",
      "std       477.035772\n",
      "min      4150.000000\n",
      "25%      4800.000000\n",
      "50%      5200.000000\n",
      "75%      5500.000000\n",
      "max      6600.000000\n",
      "Name: peakrpm, dtype: float64\n",
      "Unique values peakrpm :\t 23\n",
      "Median peakrpm : 5200.0\n",
      "Mode peakrpm : 5500.0\n",
      "Var peakrpm : 227563.12769010046\n",
      "Std peakrpm : 477.03577191873194\n",
      "Skew: 0.0689788586334687\n",
      "Kurtosis: 0.08484457282118818\n"
     ]
    },
    {
     "name": "stderr",
     "output_type": "stream",
     "text": [
      "C:\\Users\\lenovo\\AppData\\Roaming\\Python\\Python37\\site-packages\\seaborn\\distributions.py:2551: FutureWarning: `distplot` is a deprecated function and will be removed in a future version. Please adapt your code to use either `displot` (a figure-level function with similar flexibility) or `histplot` (an axes-level function for histograms).\n",
      "  warnings.warn(msg, FutureWarning)\n"
     ]
    },
    {
     "data": {
      "image/png": "[encoded data removed]",
      "text/plain": [
       "<Figure size 720x360 with 2 Axes>"
      ]
     },
     "metadata": {
      "needs_background": "light"
     },
     "output_type": "display_data"
    },
    {
     "name": "stdout",
     "output_type": "stream",
     "text": [
      "**************************************************\n",
      "13. carheight\n",
      "count    205.000000\n",
      "mean      53.724878\n",
      "std        2.443522\n",
      "min       47.800000\n",
      "25%       52.000000\n",
      "50%       54.100000\n",
      "75%       55.500000\n",
      "max       59.800000\n",
      "Name: carheight, dtype: float64\n",
      "Unique values carheight :\t 49\n",
      "Median carheight : 54.1\n",
      "Mode carheight : 50.8\n",
      "Var carheight : 5.97079961740794\n",
      "Std carheight : 2.4435219699049036\n",
      "Skew: 0.06312273247192804\n",
      "Kurtosis: -0.4438123650575503\n"
     ]
    },
    {
     "name": "stderr",
     "output_type": "stream",
     "text": [
      "C:\\Users\\lenovo\\AppData\\Roaming\\Python\\Python37\\site-packages\\seaborn\\distributions.py:2551: FutureWarning: `distplot` is a deprecated function and will be removed in a future version. Please adapt your code to use either `displot` (a figure-level function with similar flexibility) or `histplot` (an axes-level function for histograms).\n",
      "  warnings.warn(msg, FutureWarning)\n"
     ]
    },
    {
     "data": {
      "image/png": "[encoded data removed]",
      "text/plain": [
       "<Figure size 720x360 with 2 Axes>"
      ]
     },
     "metadata": {
      "needs_background": "light"
     },
     "output_type": "display_data"
    },
    {
     "name": "stdout",
     "output_type": "stream",
     "text": [
      "**************************************************\n",
      "14. citympg\n",
      "count    205.000000\n",
      "mean      25.219512\n",
      "std        6.542142\n",
      "min       13.000000\n",
      "25%       19.000000\n",
      "50%       24.000000\n",
      "75%       30.000000\n",
      "max       49.000000\n",
      "Name: citympg, dtype: float64\n",
      "Unique values citympg :\t 29\n",
      "Median citympg : 24.0\n",
      "Mode citympg : 31\n",
      "Var citympg : 42.79961740793879\n",
      "Std citympg : 6.542141653001622\n",
      "Skew: 0.6637040288148164\n",
      "Kurtosis: 0.5786483404849747\n"
     ]
    },
    {
     "name": "stderr",
     "output_type": "stream",
     "text": [
      "C:\\Users\\lenovo\\AppData\\Roaming\\Python\\Python37\\site-packages\\seaborn\\distributions.py:2551: FutureWarning: `distplot` is a deprecated function and will be removed in a future version. Please adapt your code to use either `displot` (a figure-level function with similar flexibility) or `histplot` (an axes-level function for histograms).\n",
      "  warnings.warn(msg, FutureWarning)\n"
     ]
    },
    {
     "data": {
      "image/png": "[encoded data removed]",
      "text/plain": [
       "<Figure size 720x360 with 2 Axes>"
      ]
     },
     "metadata": {
      "needs_background": "light"
     },
     "output_type": "display_data"
    },
    {
     "name": "stdout",
     "output_type": "stream",
     "text": [
      "**************************************************\n",
      "15. price\n",
      "count      205.000000\n",
      "mean     13150.307317\n",
      "std       7879.121326\n",
      "min       5118.000000\n",
      "25%       7788.000000\n",
      "50%      10295.000000\n",
      "75%      16500.000000\n",
      "max      45400.000000\n",
      "Name: price, dtype: float64\n",
      "Unique values price :\t 186\n",
      "Median price : 10295.0\n",
      "Mode price : 10295.0\n",
      "Var price : 62080552.87077952\n",
      "Std price : 7879.121326060383\n",
      "Skew: 1.8409793088634683\n",
      "Kurtosis: 3.374863565224175\n"
     ]
    },
    {
     "name": "stderr",
     "output_type": "stream",
     "text": [
      "C:\\Users\\lenovo\\AppData\\Roaming\\Python\\Python37\\site-packages\\seaborn\\distributions.py:2551: FutureWarning: `distplot` is a deprecated function and will be removed in a future version. Please adapt your code to use either `displot` (a figure-level function with similar flexibility) or `histplot` (an axes-level function for histograms).\n",
      "  warnings.warn(msg, FutureWarning)\n"
     ]
    },
    {
     "data": {
      "image/png": "[encoded data removed]",
      "text/plain": [
       "<Figure size 720x360 with 2 Axes>"
      ]
     },
     "metadata": {
      "needs_background": "light"
     },
     "output_type": "display_data"
    },
    {
     "name": "stdout",
     "output_type": "stream",
     "text": [
      "**************************************************\n"
     ]
    }
   ],
   "source": [
    "c = 1\n",
    "for i in lst_numeric:\n",
    "    print(f'{c}. {i}')\n",
    "    Univariate_Analysis(i,df)\n",
    "    print('*'*50)\n",
    "    c+=1"
   ]
  },
  {
   "cell_type": "code",
   "execution_count": 31,
   "metadata": {},
   "outputs": [
    {
     "data": {
      "text/plain": [
       "(205, 26)"
      ]
     },
     "execution_count": 31,
     "metadata": {},
     "output_type": "execute_result"
    }
   ],
   "source": [
    "df.shape # Cỡ mẫu quá nhỏ không remove Outlier gì cả !!!"
   ]
  },
  {
   "cell_type": "markdown",
   "metadata": {},
   "source": [
    "# Multivariate Analysis\n",
    "#### *Phân tích 2 biến Categorical"
   ]
  },
  {
   "cell_type": "code",
   "execution_count": 32,
   "metadata": {},
   "outputs": [
    {
     "data": {
      "text/plain": [
       "['highwaympg',\n",
       " 'carwidth',\n",
       " 'carlength',\n",
       " 'enginesize',\n",
       " 'compressionratio',\n",
       " 'boreratio',\n",
       " 'horsepower',\n",
       " 'symboling',\n",
       " 'wheelbase',\n",
       " 'stroke',\n",
       " 'curbweight',\n",
       " 'peakrpm',\n",
       " 'carheight',\n",
       " 'citympg',\n",
       " 'price']"
      ]
     },
     "execution_count": 32,
     "metadata": {},
     "output_type": "execute_result"
    }
   ],
   "source": [
    "lst_object_ # List categorical\n",
    "lst_numeric # list numeric"
   ]
  },
  {
   "cell_type": "code",
   "execution_count": 33,
   "metadata": {},
   "outputs": [],
   "source": [
    "def Chi2(x,y,df):\n",
    "    # Input & Input have to Independent (2 biến đầu vô phải độc lập)\n",
    "#     print(i,'.',x,'&',y)\n",
    "    table = pd.crosstab(df[x],df[y])\n",
    "    stat,p,dof,expected = chi2_contingency(table)\n",
    "    print('dof=%d' %dof)\n",
    "    # print(f'expected = {expected}')\n",
    "    prob = 0.95\n",
    "    critical = chi2.ppf(prob,dof)\n",
    "    print(f'p_value={p}, critical={critical}, stat={stat}')\n",
    "    alpha = 1 - prob\n",
    "    if p <= alpha:\n",
    "        print('Dependent (reject H0)') # Có sự khác biệt giữa Observed & Expected -> 2 nhóm có quan hệ vs nhau\n",
    "        print(f'Dependent between {x} and {y} --> Bad')\n",
    "    else:\n",
    "        print('Independent (Fail to reject H0)')\n",
    "        print(f'Independent 2 input features {x} and {y} --> Good')"
   ]
  },
  {
   "cell_type": "code",
   "execution_count": 34,
   "metadata": {},
   "outputs": [],
   "source": [
    "# df[lst_object_].describe(include='all')"
   ]
  },
  {
   "cell_type": "code",
   "execution_count": 35,
   "metadata": {},
   "outputs": [
    {
     "name": "stdout",
     "output_type": "stream",
     "text": [
      "1. CarName & fueltype\n",
      "dof=21\n",
      "p_value=0.0004949847774322942, critical=32.670573340917315, stat=49.04260548148416\n",
      "Dependent (reject H0)\n",
      "Dependent between CarName and fueltype --> Bad\n",
      "********************************************************************************\n",
      "2. CarName & aspiration\n",
      "dof=21\n",
      "p_value=6.105578502077662e-05, critical=32.670573340917315, stat=55.43590067306586\n",
      "Dependent (reject H0)\n",
      "Dependent between CarName and aspiration --> Bad\n",
      "********************************************************************************\n",
      "3. CarName & doornumber\n",
      "dof=42\n",
      "p_value=0.08336062188320206, critical=58.12403768086803, stat=55.195612973413695\n",
      "Independent (Fail to reject H0)\n",
      "Independent 2 input features CarName and doornumber --> Good\n",
      "********************************************************************************\n",
      "4. CarName & carbody\n",
      "dof=84\n",
      "p_value=2.9479641914726965e-07, critical=106.39484024272251, stat=165.3613667422097\n",
      "Dependent (reject H0)\n",
      "Dependent between CarName and carbody --> Bad\n",
      "********************************************************************************\n",
      "5. CarName & drivewheel\n",
      "dof=42\n",
      "p_value=1.1636078017097655e-20, critical=58.12403768086803, stat=189.68447978606645\n",
      "Dependent (reject H0)\n",
      "Dependent between CarName and drivewheel --> Bad\n",
      "********************************************************************************\n",
      "6. CarName & enginelocation\n",
      "dof=21\n",
      "p_value=3.360727514998041e-16, critical=32.670573340917315, stat=121.78217821782177\n",
      "Dependent (reject H0)\n",
      "Dependent between CarName and enginelocation --> Bad\n",
      "********************************************************************************\n",
      "7. CarName & enginetype\n",
      "dof=126\n",
      "p_value=1.608789115098827e-62, critical=153.1979027439562, stat=598.1950890215596\n",
      "Dependent (reject H0)\n",
      "Dependent between CarName and enginetype --> Bad\n",
      "********************************************************************************\n",
      "8. CarName & cylindernumber\n",
      "dof=126\n",
      "p_value=1.0972157709896226e-42, critical=153.1979027439562, stat=479.58588457109545\n",
      "Dependent (reject H0)\n",
      "Dependent between CarName and cylindernumber --> Bad\n",
      "********************************************************************************\n",
      "9. CarName & fuelsystem\n",
      "dof=147\n",
      "p_value=2.696343089960398e-41, critical=176.29382259957035, stat=508.2313187434727\n",
      "Dependent (reject H0)\n",
      "Dependent between CarName and fuelsystem --> Bad\n",
      "********************************************************************************\n",
      "10. CarName & car_ID\n",
      "dof=105\n",
      "p_value=7.028090158481688e-21, critical=129.91795528622893, stat=301.4669174205296\n",
      "Dependent (reject H0)\n",
      "Dependent between CarName and car_ID --> Bad\n",
      "********************************************************************************\n",
      "11. fueltype & aspiration\n",
      "dof=1\n",
      "p_value=5.2947382636786724e-08, critical=3.841458820694124, stat=29.605759385109046\n",
      "Dependent (reject H0)\n",
      "Dependent between fueltype and aspiration --> Bad\n",
      "********************************************************************************\n",
      "12. fueltype & doornumber\n",
      "dof=2\n",
      "p_value=0.006184582355706422, critical=5.991464547107979, stat=10.171391601536488\n",
      "Dependent (reject H0)\n",
      "Dependent between fueltype and doornumber --> Bad\n",
      "********************************************************************************\n",
      "13. fueltype & carbody\n",
      "dof=4\n",
      "p_value=0.038304347063053835, critical=9.487729036781154, stat=10.129344835907338\n",
      "Dependent (reject H0)\n",
      "Dependent between fueltype and carbody --> Bad\n",
      "********************************************************************************\n",
      "14. fueltype & drivewheel\n",
      "dof=2\n",
      "p_value=0.16630492889908455, critical=5.991464547107979, stat=3.5878645092460872\n",
      "Independent (Fail to reject H0)\n",
      "Independent 2 input features fueltype and drivewheel --> Good\n",
      "********************************************************************************\n",
      "15. fueltype & enginelocation\n",
      "dof=1\n",
      "p_value=0.6844659145015766, critical=3.841458820694124, stat=0.16514193649094647\n",
      "Independent (Fail to reject H0)\n",
      "Independent 2 input features fueltype and enginelocation --> Good\n",
      "********************************************************************************\n",
      "16. fueltype & enginetype\n",
      "dof=6\n",
      "p_value=0.004574004556642926, critical=12.591587243743977, stat=18.76795714633553\n",
      "Dependent (reject H0)\n",
      "Dependent between fueltype and enginetype --> Bad\n",
      "********************************************************************************\n",
      "17. fueltype & cylindernumber\n",
      "dof=6\n",
      "p_value=0.09136455582612629, critical=12.591587243743977, stat=10.904771355832677\n",
      "Independent (Fail to reject H0)\n",
      "Independent 2 input features fueltype and cylindernumber --> Good\n",
      "********************************************************************************\n",
      "18. fueltype & fuelsystem\n",
      "dof=7\n",
      "p_value=1.0015359060100295e-40, critical=14.067140449340169, stat=205.0\n",
      "Dependent (reject H0)\n",
      "Dependent between fueltype and fuelsystem --> Bad\n",
      "********************************************************************************\n",
      "19. fueltype & car_ID\n",
      "dof=5\n",
      "p_value=0.011908603064136864, critical=11.070497693516351, stat=14.661986305759628\n",
      "Dependent (reject H0)\n",
      "Dependent between fueltype and car_ID --> Bad\n",
      "********************************************************************************\n",
      "20. aspiration & doornumber\n",
      "dof=2\n",
      "p_value=0.40169141521617163, critical=5.991464547107979, stat=1.8241422179550506\n",
      "Independent (Fail to reject H0)\n",
      "Independent 2 input features aspiration and doornumber --> Good\n",
      "********************************************************************************\n",
      "21. aspiration & carbody\n",
      "dof=4\n",
      "p_value=0.80930506676834, critical=9.487729036781154, stat=1.597145615002758\n",
      "Independent (Fail to reject H0)\n",
      "Independent 2 input features aspiration and carbody --> Good\n",
      "********************************************************************************\n",
      "22. aspiration & drivewheel\n",
      "dof=2\n",
      "p_value=0.08815883261521054, critical=5.991464547107979, stat=4.857230350651403\n",
      "Independent (Fail to reject H0)\n",
      "Independent 2 input features aspiration and drivewheel --> Good\n",
      "********************************************************************************\n",
      "23. aspiration & enginelocation\n",
      "dof=1\n",
      "p_value=0.9500012009090527, critical=3.841458820694124, stat=0.003931950868832054\n",
      "Independent (Fail to reject H0)\n",
      "Independent 2 input features aspiration and enginelocation --> Good\n",
      "********************************************************************************\n",
      "24. aspiration & enginetype\n",
      "dof=6\n",
      "p_value=0.10189216579455926, critical=12.591587243743977, stat=10.590366688339662\n",
      "Independent (Fail to reject H0)\n",
      "Independent 2 input features aspiration and enginetype --> Good\n",
      "********************************************************************************\n",
      "25. aspiration & cylindernumber\n",
      "dof=6\n",
      "p_value=0.03119265340373247, critical=12.591587243743977, stat=13.864013256701936\n",
      "Dependent (reject H0)\n",
      "Dependent between aspiration and cylindernumber --> Bad\n",
      "********************************************************************************\n",
      "26. aspiration & fuelsystem\n",
      "dof=7\n",
      "p_value=3.3623838234128203e-15, critical=14.067140449340169, stat=82.99991148062956\n",
      "Dependent (reject H0)\n",
      "Dependent between aspiration and fuelsystem --> Bad\n",
      "********************************************************************************\n",
      "27. aspiration & car_ID\n",
      "dof=5\n",
      "p_value=0.034956780754813205, critical=11.070497693516351, stat=11.987694726733904\n",
      "Dependent (reject H0)\n",
      "Dependent between aspiration and car_ID --> Bad\n",
      "********************************************************************************\n",
      "28. doornumber & carbody\n",
      "dof=8\n",
      "p_value=3.6366863445161826e-22, critical=15.50731305586545, stat=119.80537794040346\n",
      "Dependent (reject H0)\n",
      "Dependent between doornumber and carbody --> Bad\n",
      "********************************************************************************\n",
      "29. doornumber & drivewheel\n",
      "dof=4\n",
      "p_value=0.4074043819744607, critical=9.487729036781154, stat=3.9896794807506324\n",
      "Independent (Fail to reject H0)\n",
      "Independent 2 input features doornumber and drivewheel --> Good\n",
      "********************************************************************************\n",
      "30. doornumber & enginelocation\n",
      "dof=2\n",
      "p_value=0.13750545807207193, critical=5.991464547107979, stat=3.968183335187451\n",
      "Independent (Fail to reject H0)\n",
      "Independent 2 input features doornumber and enginelocation --> Good\n",
      "********************************************************************************\n",
      "31. doornumber & enginetype\n",
      "dof=12\n",
      "p_value=0.2339900542960011, critical=21.02606981748307, stat=15.137741691334242\n",
      "Independent (Fail to reject H0)\n",
      "Independent 2 input features doornumber and enginetype --> Good\n",
      "********************************************************************************\n",
      "32. doornumber & cylindernumber\n",
      "dof=12\n",
      "p_value=0.5839254495293078, critical=21.02606981748307, stat=10.365540812823461\n",
      "Independent (Fail to reject H0)\n",
      "Independent 2 input features doornumber and cylindernumber --> Good\n",
      "********************************************************************************\n",
      "33. doornumber & fuelsystem\n"
     ]
    },
    {
     "name": "stdout",
     "output_type": "stream",
     "text": [
      "dof=14\n",
      "p_value=0.0642664434881839, critical=23.684791304840576, stat=22.76129612853288\n",
      "Independent (Fail to reject H0)\n",
      "Independent 2 input features doornumber and fuelsystem --> Good\n",
      "********************************************************************************\n",
      "34. doornumber & car_ID\n",
      "dof=10\n",
      "p_value=3.569901820947718e-17, critical=18.307038053275146, stat=100.91760813815365\n",
      "Dependent (reject H0)\n",
      "Dependent between doornumber and car_ID --> Bad\n",
      "********************************************************************************\n",
      "35. carbody & drivewheel\n",
      "dof=8\n",
      "p_value=0.0008317943771481919, critical=15.50731305586545, stat=26.59036353905597\n",
      "Dependent (reject H0)\n",
      "Dependent between carbody and drivewheel --> Bad\n",
      "********************************************************************************\n",
      "36. carbody & enginelocation\n",
      "dof=4\n",
      "p_value=9.460793882389761e-09, critical=9.487729036781154, stat=43.187568756875685\n",
      "Dependent (reject H0)\n",
      "Dependent between carbody and enginelocation --> Bad\n",
      "********************************************************************************\n",
      "37. carbody & enginetype\n",
      "dof=24\n",
      "p_value=0.034034776735517504, critical=36.41502850180731, stat=38.07866839710589\n",
      "Dependent (reject H0)\n",
      "Dependent between carbody and enginetype --> Bad\n",
      "********************************************************************************\n",
      "38. carbody & cylindernumber\n",
      "dof=24\n",
      "p_value=0.2692583400595563, critical=36.41502850180731, stat=27.783943226911976\n",
      "Independent (Fail to reject H0)\n",
      "Independent 2 input features carbody and cylindernumber --> Good\n",
      "********************************************************************************\n",
      "39. carbody & fuelsystem\n",
      "dof=28\n",
      "p_value=0.023647078325253548, critical=41.33713815142739, stat=44.701585443467096\n",
      "Dependent (reject H0)\n",
      "Dependent between carbody and fuelsystem --> Bad\n",
      "********************************************************************************\n",
      "40. carbody & car_ID\n",
      "dof=20\n",
      "p_value=2.140420588694039e-14, critical=31.410432844230918, stat=109.79516737537959\n",
      "Dependent (reject H0)\n",
      "Dependent between carbody and car_ID --> Bad\n",
      "********************************************************************************\n",
      "41. drivewheel & enginelocation\n",
      "dof=2\n",
      "p_value=0.07548168050977574, critical=5.991464547107979, stat=5.167730588848357\n",
      "Independent (Fail to reject H0)\n",
      "Independent 2 input features drivewheel and enginelocation --> Good\n",
      "********************************************************************************\n",
      "42. drivewheel & enginetype\n",
      "dof=12\n",
      "p_value=3.5907827981018015e-13, critical=21.02606981748307, stat=85.5353575235154\n",
      "Dependent (reject H0)\n",
      "Dependent between drivewheel and enginetype --> Bad\n",
      "********************************************************************************\n",
      "43. drivewheel & cylindernumber\n",
      "dof=12\n",
      "p_value=5.4515053312469285e-08, critical=21.02606981748307, stat=57.89238112045646\n",
      "Dependent (reject H0)\n",
      "Dependent between drivewheel and cylindernumber --> Bad\n",
      "********************************************************************************\n",
      "44. drivewheel & fuelsystem\n",
      "dof=14\n",
      "p_value=2.4232182891787724e-10, critical=23.684791304840576, stat=74.94383474065025\n",
      "Dependent (reject H0)\n",
      "Dependent between drivewheel and fuelsystem --> Bad\n",
      "********************************************************************************\n",
      "45. drivewheel & car_ID\n",
      "dof=10\n",
      "p_value=2.8636085046401262e-05, critical=18.307038053275146, stat=38.70120304081665\n",
      "Dependent (reject H0)\n",
      "Dependent between drivewheel and car_ID --> Bad\n",
      "********************************************************************************\n",
      "46. enginelocation & enginetype\n",
      "dof=6\n",
      "p_value=8.711843169176373e-07, critical=12.591587243743977, stat=38.56435643564355\n",
      "Dependent (reject H0)\n",
      "Dependent between enginelocation and enginetype --> Bad\n",
      "********************************************************************************\n",
      "47. enginelocation & cylindernumber\n",
      "dof=6\n",
      "p_value=0.0008096414382534125, critical=12.591587243743977, stat=22.961014851485153\n",
      "Dependent (reject H0)\n",
      "Dependent between enginelocation and cylindernumber --> Bad\n",
      "********************************************************************************\n",
      "48. enginelocation & fuelsystem\n",
      "dof=7\n",
      "p_value=0.8250452998651658, critical=14.067140449340169, stat=3.5951653676005906\n",
      "Independent (Fail to reject H0)\n",
      "Independent 2 input features enginelocation and fuelsystem --> Good\n",
      "********************************************************************************\n",
      "49. enginelocation & car_ID\n",
      "dof=5\n",
      "p_value=0.0012116980892061633, critical=11.070497693516351, stat=20.07150715071507\n",
      "Dependent (reject H0)\n",
      "Dependent between enginelocation and car_ID --> Bad\n",
      "********************************************************************************\n",
      "50. enginetype & cylindernumber\n",
      "dof=36\n",
      "p_value=2.535375748012419e-61, critical=50.99846016571065, stat=391.6507177079111\n",
      "Dependent (reject H0)\n",
      "Dependent between enginetype and cylindernumber --> Bad\n",
      "********************************************************************************\n",
      "51. enginetype & fuelsystem\n",
      "dof=42\n",
      "p_value=1.660731890909705e-24, critical=58.12403768086803, stat=211.74036584940842\n",
      "Dependent (reject H0)\n",
      "Dependent between enginetype and fuelsystem --> Bad\n",
      "********************************************************************************\n",
      "52. enginetype & car_ID\n",
      "dof=30\n",
      "p_value=2.3098153521525766e-06, critical=43.77297182574219, stat=79.5272612472939\n",
      "Dependent (reject H0)\n",
      "Dependent between enginetype and car_ID --> Bad\n",
      "********************************************************************************\n",
      "53. cylindernumber & fuelsystem\n",
      "dof=42\n",
      "p_value=6.002218582462869e-24, critical=58.12403768086803, stat=208.57502982960884\n",
      "Dependent (reject H0)\n",
      "Dependent between cylindernumber and fuelsystem --> Bad\n",
      "********************************************************************************\n",
      "54. cylindernumber & car_ID\n",
      "dof=30\n",
      "p_value=0.002836375289908036, critical=43.77297182574219, stat=55.855752968658095\n",
      "Dependent (reject H0)\n",
      "Dependent between cylindernumber and car_ID --> Bad\n",
      "********************************************************************************\n",
      "55. fuelsystem & car_ID\n",
      "dof=35\n",
      "p_value=4.862419527300756e-09, critical=49.80184956820181, stat=105.8045747254933\n",
      "Dependent (reject H0)\n",
      "Dependent between fuelsystem and car_ID --> Bad\n",
      "********************************************************************************\n"
     ]
    }
   ],
   "source": [
    "c=1\n",
    "for i in range(len(lst_object_)-1):\n",
    "    for j in range(i+1,len(lst_object_)):\n",
    "        print(f'{c}. {lst_object_[i]} & {lst_object_[j]}')\n",
    "        Chi2(lst_object_[i],lst_object_[j],df)\n",
    "        c = c + 1\n",
    "        print('*'*80)"
   ]
  },
  {
   "cell_type": "code",
   "execution_count": 36,
   "metadata": {},
   "outputs": [],
   "source": [
    "def ANOVA(x,y,df):\n",
    "    lm = ols(f'{x} ~ C({y})',data=df[[x,y]].reset_index(drop=True)).fit()\n",
    "    a = sm.stats.anova_lm(lm,typ=2)\n",
    "#     print(a)\n",
    "    return a"
   ]
  },
  {
   "cell_type": "code",
   "execution_count": 37,
   "metadata": {},
   "outputs": [],
   "source": [
    "count = 0\n",
    "c = True\n",
    "while c == True:\n",
    "    try:\n",
    "        a = ANOVA('price','doornumber',df)\n",
    "        print(a)\n",
    "        if a['PR(>F)'].iloc[0] < 0.05:\n",
    "            m_comp = pairwise_tukeyhsd(endog=df['doornumber'], groups=df['price'], alpha=0.05)\n",
    "        print(m_comp)\n",
    "        c = False\n",
    "    except:\n",
    "#         print(count,'Fail -> Continue')\n",
    "        count = count + 1\n",
    "        if count == 1:\n",
    "            break"
   ]
  },
  {
   "cell_type": "code",
   "execution_count": 38,
   "metadata": {},
   "outputs": [
    {
     "name": "stdout",
     "output_type": "stream",
     "text": [
      "1. CarName - ANOVA\n",
      "                  sum_sq     df          F        PR(>F)\n",
      "C(CarName)  9.678682e+09   21.0  28.248436  1.963969e-46\n",
      "Residual    2.985751e+09  183.0        NaN           NaN\n",
      "************************************************************\n",
      "2. fueltype - ANOVA\n",
      "                   sum_sq     df         F    PR(>F)\n",
      "C(fueltype)  1.601105e+08    1.0  2.599296  0.108465\n",
      "Residual     1.250432e+10  203.0       NaN       NaN\n",
      "************************************************************\n",
      "3. aspiration - ANOVA\n",
      "                     sum_sq     df         F    PR(>F)\n",
      "C(aspiration)  3.911573e+08    1.0  6.469743  0.011717\n",
      "Residual       1.227328e+10  203.0       NaN       NaN\n",
      "************************************************************\n",
      "4. doornumber - ANOVA\n",
      "                     sum_sq     df         F    PR(>F)\n",
      "C(doornumber)  5.667279e+07    2.0  0.454002  0.635728\n",
      "Residual       1.260776e+10  202.0       NaN       NaN\n",
      "************************************************************\n",
      "5. carbody - ANOVA\n",
      "                  sum_sq     df        F        PR(>F)\n",
      "C(carbody)  1.982717e+09    4.0  9.28089  6.715744e-07\n",
      "Residual    1.068172e+10  200.0      NaN           NaN\n",
      "************************************************************\n",
      "6. drivewheel - ANOVA\n",
      "                     sum_sq     df          F        PR(>F)\n",
      "C(drivewheel)  5.083897e+09    2.0  67.735798  3.079843e-23\n",
      "Residual       7.580536e+09  202.0        NaN           NaN\n",
      "************************************************************\n",
      "7. enginelocation - ANOVA\n",
      "                         sum_sq     df          F    PR(>F)\n",
      "C(enginelocation)  1.391379e+09    1.0  25.055315  0.000001\n",
      "Residual           1.127305e+10  203.0        NaN       NaN\n",
      "************************************************************\n",
      "8. enginetype - ANOVA\n",
      "                     sum_sq     df         F        PR(>F)\n",
      "C(enginetype)  2.574413e+09    6.0  8.419767  3.826456e-08\n",
      "Residual       1.009002e+10  198.0       NaN           NaN\n",
      "************************************************************\n",
      "9. cylindernumber - ANOVA\n",
      "                         sum_sq     df          F        PR(>F)\n",
      "C(cylindernumber)  7.205677e+09    6.0  43.560715  1.087269e-33\n",
      "Residual           5.458756e+09  198.0        NaN           NaN\n",
      "************************************************************\n",
      "10. fuelsystem - ANOVA\n",
      "                     sum_sq     df          F        PR(>F)\n",
      "C(fuelsystem)  4.368050e+09    7.0  14.817229  1.786601e-15\n",
      "Residual       8.296383e+09  197.0        NaN           NaN\n",
      "************************************************************\n",
      "11. car_ID - ANOVA\n",
      "                 sum_sq     df         F    PR(>F)\n",
      "C(car_ID)  1.886434e+09    5.0  6.966049  0.000005\n",
      "Residual   1.077800e+10  199.0       NaN       NaN\n",
      "************************************************************\n"
     ]
    }
   ],
   "source": [
    "time = 1\n",
    "for i in lst_object_[0:11]:\n",
    "    print(f'{time}. {i} - ANOVA')\n",
    "    a = ANOVA('price',i,df)\n",
    "    print(a)\n",
    "    print('*'*60)\n",
    "    time+=1"
   ]
  },
  {
   "cell_type": "code",
   "execution_count": 39,
   "metadata": {},
   "outputs": [
    {
     "data": {
      "text/plain": [
       "['CarName',\n",
       " 'aspiration',\n",
       " 'carbody',\n",
       " 'drivewheel',\n",
       " 'enginelocation',\n",
       " 'enginetype',\n",
       " 'cylindernumber',\n",
       " 'fuelsystem',\n",
       " 'car_ID']"
      ]
     },
     "execution_count": 39,
     "metadata": {},
     "output_type": "execute_result"
    }
   ],
   "source": [
    "lst_cat_relationship = []\n",
    "for i in lst_object_:\n",
    "    a = ANOVA('price',i,df)\n",
    "    if a['PR(>F)'].iloc[0] < 0.05:\n",
    "        lst_cat_relationship.append(i)\n",
    "lst_cat_relationship # ==> Các biến Categorical có liên quan đến 'Price'"
   ]
  },
  {
   "cell_type": "code",
   "execution_count": 40,
   "metadata": {},
   "outputs": [
    {
     "name": "stdout",
     "output_type": "stream",
     "text": [
      "            highwaympg     price\n",
      "highwaympg    1.000000 -0.693037\n",
      "price        -0.693037  1.000000\n",
      "          carwidth     price\n",
      "carwidth  1.000000  0.724558\n",
      "price     0.724558  1.000000\n",
      "           carlength     price\n",
      "carlength   1.000000  0.686567\n",
      "price       0.686567  1.000000\n",
      "            enginesize     price\n",
      "enginesize    1.000000  0.860343\n",
      "price         0.860343  1.000000\n",
      "                  compressionratio    price\n",
      "compressionratio           1.00000  0.07289\n",
      "price                      0.07289  1.00000\n",
      "           boreratio     price\n",
      "boreratio   1.000000  0.532861\n",
      "price       0.532861  1.000000\n",
      "            horsepower     price\n",
      "horsepower    1.000000  0.749919\n",
      "price         0.749919  1.000000\n",
      "           symboling     price\n",
      "symboling   1.000000  0.095489\n",
      "price       0.095489  1.000000\n",
      "           wheelbase     price\n",
      "wheelbase   1.000000  0.584847\n",
      "price       0.584847  1.000000\n",
      "          stroke     price\n",
      "stroke  1.000000  0.083627\n",
      "price   0.083627  1.000000\n",
      "            curbweight     price\n",
      "curbweight    1.000000  0.819817\n",
      "price         0.819817  1.000000\n",
      "          peakrpm     price\n",
      "peakrpm  1.000000 -0.107283\n",
      "price   -0.107283  1.000000\n",
      "           carheight     price\n",
      "carheight   1.000000  0.140439\n",
      "price       0.140439  1.000000\n",
      "          citympg     price\n",
      "citympg  1.000000 -0.668822\n",
      "price   -0.668822  1.000000\n",
      "       price  price\n",
      "price    1.0    1.0\n",
      "price    1.0    1.0\n"
     ]
    }
   ],
   "source": [
    "for i in lst_numeric:\n",
    "    a = df[[i,'price']].corr()\n",
    "    print(a)"
   ]
  },
  {
   "cell_type": "code",
   "execution_count": 41,
   "metadata": {},
   "outputs": [
    {
     "data": {
      "text/plain": [
       "0.584846838972225"
      ]
     },
     "execution_count": 41,
     "metadata": {},
     "output_type": "execute_result"
    }
   ],
   "source": [
    "a = df[['wheelbase','price']].corr()\n",
    "a['price'][0]"
   ]
  },
  {
   "cell_type": "code",
   "execution_count": 42,
   "metadata": {},
   "outputs": [
    {
     "data": {
      "text/plain": [
       "0.5848468389722248"
      ]
     },
     "execution_count": 42,
     "metadata": {},
     "output_type": "execute_result"
    }
   ],
   "source": [
    "np.corrcoef(df['wheelbase'], df['price'])[0, 1]"
   ]
  },
  {
   "cell_type": "code",
   "execution_count": 43,
   "metadata": {},
   "outputs": [
    {
     "data": {
      "text/plain": [
       "['carwidth', 'carlength', 'enginesize', 'horsepower', 'curbweight', 'price']"
      ]
     },
     "execution_count": 43,
     "metadata": {},
     "output_type": "execute_result"
    }
   ],
   "source": [
    "lst_num_relationship = []\n",
    "for i in lst_numeric:\n",
    "    a = np.corrcoef(df[i], df['price'])[0, 1]\n",
    "    if a > 0.6:\n",
    "        lst_num_relationship.append(i)\n",
    "lst_num_relationship"
   ]
  },
  {
   "cell_type": "markdown",
   "metadata": {},
   "source": [
    "# *Build Model"
   ]
  },
  {
   "cell_type": "code",
   "execution_count": 44,
   "metadata": {},
   "outputs": [
    {
     "data": {
      "text/plain": [
       "['CarName',\n",
       " 'aspiration',\n",
       " 'carbody',\n",
       " 'drivewheel',\n",
       " 'enginelocation',\n",
       " 'enginetype',\n",
       " 'cylindernumber',\n",
       " 'fuelsystem',\n",
       " 'car_ID',\n",
       " 'carwidth',\n",
       " 'carlength',\n",
       " 'enginesize',\n",
       " 'horsepower',\n",
       " 'curbweight',\n",
       " 'price']"
      ]
     },
     "execution_count": 44,
     "metadata": {},
     "output_type": "execute_result"
    }
   ],
   "source": [
    "vars_analysis = lst_cat_relationship+lst_num_relationship\n",
    "vars_analysis"
   ]
  },
  {
   "cell_type": "code",
   "execution_count": 45,
   "metadata": {},
   "outputs": [
    {
     "data": {
      "text/html": [
       "<div>\n",
       "<style scoped>\n",
       "    .dataframe tbody tr th:only-of-type {\n",
       "        vertical-align: middle;\n",
       "    }\n",
       "\n",
       "    .dataframe tbody tr th {\n",
       "        vertical-align: top;\n",
       "    }\n",
       "\n",
       "    .dataframe thead th {\n",
       "        text-align: right;\n",
       "    }\n",
       "</style>\n",
       "<table border=\"1\" class=\"dataframe\">\n",
       "  <thead>\n",
       "    <tr style=\"text-align: right;\">\n",
       "      <th></th>\n",
       "      <th>CarName</th>\n",
       "      <th>aspiration</th>\n",
       "      <th>carbody</th>\n",
       "      <th>drivewheel</th>\n",
       "      <th>enginelocation</th>\n",
       "      <th>enginetype</th>\n",
       "      <th>cylindernumber</th>\n",
       "      <th>fuelsystem</th>\n",
       "      <th>car_ID</th>\n",
       "      <th>carwidth</th>\n",
       "      <th>carlength</th>\n",
       "      <th>enginesize</th>\n",
       "      <th>horsepower</th>\n",
       "      <th>curbweight</th>\n",
       "      <th>price</th>\n",
       "    </tr>\n",
       "  </thead>\n",
       "  <tbody>\n",
       "    <tr>\n",
       "      <th>0</th>\n",
       "      <td>alfa-romero</td>\n",
       "      <td>std</td>\n",
       "      <td>convertible</td>\n",
       "      <td>rwd</td>\n",
       "      <td>front</td>\n",
       "      <td>dohc</td>\n",
       "      <td>four</td>\n",
       "      <td>mpfi</td>\n",
       "      <td>3</td>\n",
       "      <td>64.1</td>\n",
       "      <td>168.8</td>\n",
       "      <td>130</td>\n",
       "      <td>111.0</td>\n",
       "      <td>2548</td>\n",
       "      <td>13495.0</td>\n",
       "    </tr>\n",
       "    <tr>\n",
       "      <th>1</th>\n",
       "      <td>alfa-romero</td>\n",
       "      <td>std</td>\n",
       "      <td>convertible</td>\n",
       "      <td>rwd</td>\n",
       "      <td>front</td>\n",
       "      <td>dohc</td>\n",
       "      <td>four</td>\n",
       "      <td>mpfi</td>\n",
       "      <td>3</td>\n",
       "      <td>64.1</td>\n",
       "      <td>168.8</td>\n",
       "      <td>130</td>\n",
       "      <td>111.0</td>\n",
       "      <td>2548</td>\n",
       "      <td>16500.0</td>\n",
       "    </tr>\n",
       "    <tr>\n",
       "      <th>2</th>\n",
       "      <td>alfa-romero</td>\n",
       "      <td>std</td>\n",
       "      <td>hatchback</td>\n",
       "      <td>rwd</td>\n",
       "      <td>front</td>\n",
       "      <td>ohcv</td>\n",
       "      <td>six</td>\n",
       "      <td>mpfi</td>\n",
       "      <td>1</td>\n",
       "      <td>65.5</td>\n",
       "      <td>171.2</td>\n",
       "      <td>152</td>\n",
       "      <td>154.0</td>\n",
       "      <td>2823</td>\n",
       "      <td>16500.0</td>\n",
       "    </tr>\n",
       "    <tr>\n",
       "      <th>3</th>\n",
       "      <td>audi</td>\n",
       "      <td>std</td>\n",
       "      <td>sedan</td>\n",
       "      <td>fwd</td>\n",
       "      <td>front</td>\n",
       "      <td>ohc</td>\n",
       "      <td>four</td>\n",
       "      <td>mpfi</td>\n",
       "      <td>2</td>\n",
       "      <td>66.2</td>\n",
       "      <td>176.6</td>\n",
       "      <td>109</td>\n",
       "      <td>102.0</td>\n",
       "      <td>2337</td>\n",
       "      <td>13950.0</td>\n",
       "    </tr>\n",
       "    <tr>\n",
       "      <th>4</th>\n",
       "      <td>audi</td>\n",
       "      <td>std</td>\n",
       "      <td>sedan</td>\n",
       "      <td>4wd</td>\n",
       "      <td>front</td>\n",
       "      <td>ohc</td>\n",
       "      <td>five</td>\n",
       "      <td>mpfi</td>\n",
       "      <td>2</td>\n",
       "      <td>66.4</td>\n",
       "      <td>176.6</td>\n",
       "      <td>136</td>\n",
       "      <td>115.0</td>\n",
       "      <td>2824</td>\n",
       "      <td>17450.0</td>\n",
       "    </tr>\n",
       "  </tbody>\n",
       "</table>\n",
       "</div>"
      ],
      "text/plain": [
       "       CarName aspiration      carbody drivewheel enginelocation enginetype  \\\n",
       "0  alfa-romero        std  convertible        rwd          front       dohc   \n",
       "1  alfa-romero        std  convertible        rwd          front       dohc   \n",
       "2  alfa-romero        std    hatchback        rwd          front       ohcv   \n",
       "3         audi        std        sedan        fwd          front        ohc   \n",
       "4         audi        std        sedan        4wd          front        ohc   \n",
       "\n",
       "  cylindernumber fuelsystem  car_ID  carwidth  carlength  enginesize  \\\n",
       "0           four       mpfi       3      64.1      168.8         130   \n",
       "1           four       mpfi       3      64.1      168.8         130   \n",
       "2            six       mpfi       1      65.5      171.2         152   \n",
       "3           four       mpfi       2      66.2      176.6         109   \n",
       "4           five       mpfi       2      66.4      176.6         136   \n",
       "\n",
       "   horsepower  curbweight    price  \n",
       "0       111.0        2548  13495.0  \n",
       "1       111.0        2548  16500.0  \n",
       "2       154.0        2823  16500.0  \n",
       "3       102.0        2337  13950.0  \n",
       "4       115.0        2824  17450.0  "
      ]
     },
     "execution_count": 45,
     "metadata": {},
     "output_type": "execute_result"
    }
   ],
   "source": [
    "df_ = df[vars_analysis]\n",
    "df_.head()"
   ]
  },
  {
   "cell_type": "code",
   "execution_count": 46,
   "metadata": {},
   "outputs": [],
   "source": [
    "def dummies(x,df):\n",
    "    temp = pd.get_dummies(df[x], drop_first = True)\n",
    "    df = pd.concat([df, temp], axis = 1)\n",
    "    df.drop([x], axis = 1, inplace = True)\n",
    "    return df"
   ]
  },
  {
   "cell_type": "code",
   "execution_count": 47,
   "metadata": {},
   "outputs": [
    {
     "data": {
      "text/plain": [
       "array(['convertible', 'hatchback', 'sedan', 'wagon', 'hardtop'],\n",
       "      dtype=object)"
      ]
     },
     "execution_count": 47,
     "metadata": {},
     "output_type": "execute_result"
    }
   ],
   "source": [
    "df_['carbody'].unique()"
   ]
  },
  {
   "cell_type": "code",
   "execution_count": 48,
   "metadata": {},
   "outputs": [
    {
     "data": {
      "text/plain": [
       "['CarName',\n",
       " 'aspiration',\n",
       " 'carbody',\n",
       " 'drivewheel',\n",
       " 'enginelocation',\n",
       " 'enginetype',\n",
       " 'cylindernumber',\n",
       " 'fuelsystem',\n",
       " 'car_ID']"
      ]
     },
     "execution_count": 48,
     "metadata": {},
     "output_type": "execute_result"
    }
   ],
   "source": [
    "lst_cat_relationship"
   ]
  },
  {
   "cell_type": "code",
   "execution_count": 49,
   "metadata": {},
   "outputs": [],
   "source": [
    "df_ = dummies('CarName',df_)\n",
    "df_ = dummies('aspiration',df_)\n",
    "df_ = dummies('carbody',df_)\n",
    "df_ = dummies('drivewheel',df_)\n",
    "df_ = dummies('enginelocation',df_)\n",
    "df_ = dummies('enginetype',df_)\n",
    "df_ = dummies('cylindernumber',df_)\n",
    "df_ = dummies('fuelsystem',df_)"
   ]
  },
  {
   "cell_type": "code",
   "execution_count": 50,
   "metadata": {},
   "outputs": [
    {
     "data": {
      "text/html": [
       "<div>\n",
       "<style scoped>\n",
       "    .dataframe tbody tr th:only-of-type {\n",
       "        vertical-align: middle;\n",
       "    }\n",
       "\n",
       "    .dataframe tbody tr th {\n",
       "        vertical-align: top;\n",
       "    }\n",
       "\n",
       "    .dataframe thead th {\n",
       "        text-align: right;\n",
       "    }\n",
       "</style>\n",
       "<table border=\"1\" class=\"dataframe\">\n",
       "  <thead>\n",
       "    <tr style=\"text-align: right;\">\n",
       "      <th></th>\n",
       "      <th>car_ID</th>\n",
       "      <th>carwidth</th>\n",
       "      <th>carlength</th>\n",
       "      <th>enginesize</th>\n",
       "      <th>horsepower</th>\n",
       "      <th>curbweight</th>\n",
       "      <th>price</th>\n",
       "      <th>audi</th>\n",
       "      <th>bmw</th>\n",
       "      <th>chevrolet</th>\n",
       "      <th>...</th>\n",
       "      <th>three</th>\n",
       "      <th>twelve</th>\n",
       "      <th>two</th>\n",
       "      <th>2bbl</th>\n",
       "      <th>4bbl</th>\n",
       "      <th>idi</th>\n",
       "      <th>mfi</th>\n",
       "      <th>mpfi</th>\n",
       "      <th>spdi</th>\n",
       "      <th>spfi</th>\n",
       "    </tr>\n",
       "  </thead>\n",
       "  <tbody>\n",
       "    <tr>\n",
       "      <th>0</th>\n",
       "      <td>3</td>\n",
       "      <td>64.1</td>\n",
       "      <td>168.8</td>\n",
       "      <td>130</td>\n",
       "      <td>111.0</td>\n",
       "      <td>2548</td>\n",
       "      <td>13495.0</td>\n",
       "      <td>0</td>\n",
       "      <td>0</td>\n",
       "      <td>0</td>\n",
       "      <td>...</td>\n",
       "      <td>0</td>\n",
       "      <td>0</td>\n",
       "      <td>0</td>\n",
       "      <td>0</td>\n",
       "      <td>0</td>\n",
       "      <td>0</td>\n",
       "      <td>0</td>\n",
       "      <td>1</td>\n",
       "      <td>0</td>\n",
       "      <td>0</td>\n",
       "    </tr>\n",
       "    <tr>\n",
       "      <th>1</th>\n",
       "      <td>3</td>\n",
       "      <td>64.1</td>\n",
       "      <td>168.8</td>\n",
       "      <td>130</td>\n",
       "      <td>111.0</td>\n",
       "      <td>2548</td>\n",
       "      <td>16500.0</td>\n",
       "      <td>0</td>\n",
       "      <td>0</td>\n",
       "      <td>0</td>\n",
       "      <td>...</td>\n",
       "      <td>0</td>\n",
       "      <td>0</td>\n",
       "      <td>0</td>\n",
       "      <td>0</td>\n",
       "      <td>0</td>\n",
       "      <td>0</td>\n",
       "      <td>0</td>\n",
       "      <td>1</td>\n",
       "      <td>0</td>\n",
       "      <td>0</td>\n",
       "    </tr>\n",
       "    <tr>\n",
       "      <th>2</th>\n",
       "      <td>1</td>\n",
       "      <td>65.5</td>\n",
       "      <td>171.2</td>\n",
       "      <td>152</td>\n",
       "      <td>154.0</td>\n",
       "      <td>2823</td>\n",
       "      <td>16500.0</td>\n",
       "      <td>0</td>\n",
       "      <td>0</td>\n",
       "      <td>0</td>\n",
       "      <td>...</td>\n",
       "      <td>0</td>\n",
       "      <td>0</td>\n",
       "      <td>0</td>\n",
       "      <td>0</td>\n",
       "      <td>0</td>\n",
       "      <td>0</td>\n",
       "      <td>0</td>\n",
       "      <td>1</td>\n",
       "      <td>0</td>\n",
       "      <td>0</td>\n",
       "    </tr>\n",
       "    <tr>\n",
       "      <th>3</th>\n",
       "      <td>2</td>\n",
       "      <td>66.2</td>\n",
       "      <td>176.6</td>\n",
       "      <td>109</td>\n",
       "      <td>102.0</td>\n",
       "      <td>2337</td>\n",
       "      <td>13950.0</td>\n",
       "      <td>1</td>\n",
       "      <td>0</td>\n",
       "      <td>0</td>\n",
       "      <td>...</td>\n",
       "      <td>0</td>\n",
       "      <td>0</td>\n",
       "      <td>0</td>\n",
       "      <td>0</td>\n",
       "      <td>0</td>\n",
       "      <td>0</td>\n",
       "      <td>0</td>\n",
       "      <td>1</td>\n",
       "      <td>0</td>\n",
       "      <td>0</td>\n",
       "    </tr>\n",
       "    <tr>\n",
       "      <th>4</th>\n",
       "      <td>2</td>\n",
       "      <td>66.4</td>\n",
       "      <td>176.6</td>\n",
       "      <td>136</td>\n",
       "      <td>115.0</td>\n",
       "      <td>2824</td>\n",
       "      <td>17450.0</td>\n",
       "      <td>1</td>\n",
       "      <td>0</td>\n",
       "      <td>0</td>\n",
       "      <td>...</td>\n",
       "      <td>0</td>\n",
       "      <td>0</td>\n",
       "      <td>0</td>\n",
       "      <td>0</td>\n",
       "      <td>0</td>\n",
       "      <td>0</td>\n",
       "      <td>0</td>\n",
       "      <td>1</td>\n",
       "      <td>0</td>\n",
       "      <td>0</td>\n",
       "    </tr>\n",
       "  </tbody>\n",
       "</table>\n",
       "<p>5 rows × 55 columns</p>\n",
       "</div>"
      ],
      "text/plain": [
       "   car_ID  carwidth  carlength  enginesize  horsepower  curbweight    price  \\\n",
       "0       3      64.1      168.8         130       111.0        2548  13495.0   \n",
       "1       3      64.1      168.8         130       111.0        2548  16500.0   \n",
       "2       1      65.5      171.2         152       154.0        2823  16500.0   \n",
       "3       2      66.2      176.6         109       102.0        2337  13950.0   \n",
       "4       2      66.4      176.6         136       115.0        2824  17450.0   \n",
       "\n",
       "   audi  bmw  chevrolet  ...  three  twelve  two  2bbl  4bbl  idi  mfi  mpfi  \\\n",
       "0     0    0          0  ...      0       0    0     0     0    0    0     1   \n",
       "1     0    0          0  ...      0       0    0     0     0    0    0     1   \n",
       "2     0    0          0  ...      0       0    0     0     0    0    0     1   \n",
       "3     1    0          0  ...      0       0    0     0     0    0    0     1   \n",
       "4     1    0          0  ...      0       0    0     0     0    0    0     1   \n",
       "\n",
       "   spdi  spfi  \n",
       "0     0     0  \n",
       "1     0     0  \n",
       "2     0     0  \n",
       "3     0     0  \n",
       "4     0     0  \n",
       "\n",
       "[5 rows x 55 columns]"
      ]
     },
     "execution_count": 50,
     "metadata": {},
     "output_type": "execute_result"
    }
   ],
   "source": [
    "df_.head()"
   ]
  },
  {
   "cell_type": "code",
   "execution_count": 51,
   "metadata": {},
   "outputs": [
    {
     "data": {
      "text/plain": [
       "Index(['car_ID', 'carwidth', 'carlength', 'enginesize', 'horsepower',\n",
       "       'curbweight', 'price', 'audi', 'bmw', 'chevrolet', 'dodge', 'honda',\n",
       "       'isuzu', 'jaguar', 'mazda', 'mercedes-benz', 'mercury', 'mitsubishi',\n",
       "       'nissan', 'peugot', 'plymouth', 'porsche', 'renault', 'saab', 'subaru',\n",
       "       'toyota', 'volkswagen', 'volvo', 'turbo', 'hardtop', 'hatchback',\n",
       "       'sedan', 'wagon', 'fwd', 'rwd', 'rear', 'dohcv', 'l', 'ohc', 'ohcf',\n",
       "       'ohcv', 'rotor', 'five', 'four', 'six', 'three', 'twelve', 'two',\n",
       "       '2bbl', '4bbl', 'idi', 'mfi', 'mpfi', 'spdi', 'spfi'],\n",
       "      dtype='object')"
      ]
     },
     "execution_count": 51,
     "metadata": {},
     "output_type": "execute_result"
    }
   ],
   "source": [
    "df_.columns"
   ]
  },
  {
   "cell_type": "code",
   "execution_count": 52,
   "metadata": {},
   "outputs": [
    {
     "data": {
      "text/plain": [
       "Index(['car_ID', 'carwidth', 'carlength', 'enginesize', 'horsepower',\n",
       "       'curbweight', 'price', 'audi', 'bmw', 'chevrolet', 'dodge', 'honda',\n",
       "       'isuzu', 'jaguar', 'mazda', 'mercedes-benz', 'mercury', 'mitsubishi',\n",
       "       'nissan', 'peugot', 'plymouth', 'porsche', 'renault', 'saab', 'subaru',\n",
       "       'toyota', 'volkswagen', 'volvo', 'turbo', 'hardtop', 'hatchback',\n",
       "       'sedan', 'wagon', 'fwd', 'rwd', 'rear', 'dohcv', 'l', 'ohc', 'ohcf',\n",
       "       'ohcv', 'rotor', 'five', 'four', 'six', 'three', 'twelve', 'two',\n",
       "       '2bbl', '4bbl', 'idi', 'mfi', 'mpfi', 'spdi', 'spfi'],\n",
       "      dtype='object')"
      ]
     },
     "execution_count": 52,
     "metadata": {},
     "output_type": "execute_result"
    }
   ],
   "source": [
    "df_.columns"
   ]
  },
  {
   "cell_type": "code",
   "execution_count": 53,
   "metadata": {},
   "outputs": [],
   "source": [
    "from sklearn.model_selection import train_test_split\n",
    "np.random.seed(0)\n",
    "df_train, df_test = train_test_split(df_, train_size = 0.7, test_size = 0.3, random_state = 100)"
   ]
  },
  {
   "cell_type": "code",
   "execution_count": 58,
   "metadata": {},
   "outputs": [
    {
     "data": {
      "text/html": [
       "<div>\n",
       "<style scoped>\n",
       "    .dataframe tbody tr th:only-of-type {\n",
       "        vertical-align: middle;\n",
       "    }\n",
       "\n",
       "    .dataframe tbody tr th {\n",
       "        vertical-align: top;\n",
       "    }\n",
       "\n",
       "    .dataframe thead th {\n",
       "        text-align: right;\n",
       "    }\n",
       "</style>\n",
       "<table border=\"1\" class=\"dataframe\">\n",
       "  <thead>\n",
       "    <tr style=\"text-align: right;\">\n",
       "      <th></th>\n",
       "      <th>car_ID</th>\n",
       "      <th>carwidth</th>\n",
       "      <th>carlength</th>\n",
       "      <th>enginesize</th>\n",
       "      <th>horsepower</th>\n",
       "      <th>curbweight</th>\n",
       "      <th>price</th>\n",
       "      <th>audi</th>\n",
       "      <th>bmw</th>\n",
       "      <th>chevrolet</th>\n",
       "      <th>...</th>\n",
       "      <th>three</th>\n",
       "      <th>twelve</th>\n",
       "      <th>two</th>\n",
       "      <th>2bbl</th>\n",
       "      <th>4bbl</th>\n",
       "      <th>idi</th>\n",
       "      <th>mfi</th>\n",
       "      <th>mpfi</th>\n",
       "      <th>spdi</th>\n",
       "      <th>spfi</th>\n",
       "    </tr>\n",
       "  </thead>\n",
       "  <tbody>\n",
       "    <tr>\n",
       "      <th>122</th>\n",
       "      <td>1</td>\n",
       "      <td>63.8</td>\n",
       "      <td>167.3</td>\n",
       "      <td>98</td>\n",
       "      <td>68.0</td>\n",
       "      <td>2191</td>\n",
       "      <td>7609.0</td>\n",
       "      <td>0</td>\n",
       "      <td>0</td>\n",
       "      <td>0</td>\n",
       "      <td>...</td>\n",
       "      <td>0</td>\n",
       "      <td>0</td>\n",
       "      <td>0</td>\n",
       "      <td>1</td>\n",
       "      <td>0</td>\n",
       "      <td>0</td>\n",
       "      <td>0</td>\n",
       "      <td>0</td>\n",
       "      <td>0</td>\n",
       "      <td>0</td>\n",
       "    </tr>\n",
       "    <tr>\n",
       "      <th>125</th>\n",
       "      <td>3</td>\n",
       "      <td>68.3</td>\n",
       "      <td>168.9</td>\n",
       "      <td>151</td>\n",
       "      <td>143.0</td>\n",
       "      <td>2778</td>\n",
       "      <td>22018.0</td>\n",
       "      <td>0</td>\n",
       "      <td>0</td>\n",
       "      <td>0</td>\n",
       "      <td>...</td>\n",
       "      <td>0</td>\n",
       "      <td>0</td>\n",
       "      <td>0</td>\n",
       "      <td>0</td>\n",
       "      <td>0</td>\n",
       "      <td>0</td>\n",
       "      <td>0</td>\n",
       "      <td>1</td>\n",
       "      <td>0</td>\n",
       "      <td>0</td>\n",
       "    </tr>\n",
       "    <tr>\n",
       "      <th>166</th>\n",
       "      <td>1</td>\n",
       "      <td>64.0</td>\n",
       "      <td>168.7</td>\n",
       "      <td>98</td>\n",
       "      <td>112.0</td>\n",
       "      <td>2300</td>\n",
       "      <td>9538.0</td>\n",
       "      <td>0</td>\n",
       "      <td>0</td>\n",
       "      <td>0</td>\n",
       "      <td>...</td>\n",
       "      <td>0</td>\n",
       "      <td>0</td>\n",
       "      <td>0</td>\n",
       "      <td>0</td>\n",
       "      <td>0</td>\n",
       "      <td>0</td>\n",
       "      <td>0</td>\n",
       "      <td>1</td>\n",
       "      <td>0</td>\n",
       "      <td>0</td>\n",
       "    </tr>\n",
       "    <tr>\n",
       "      <th>1</th>\n",
       "      <td>3</td>\n",
       "      <td>64.1</td>\n",
       "      <td>168.8</td>\n",
       "      <td>130</td>\n",
       "      <td>111.0</td>\n",
       "      <td>2548</td>\n",
       "      <td>16500.0</td>\n",
       "      <td>0</td>\n",
       "      <td>0</td>\n",
       "      <td>0</td>\n",
       "      <td>...</td>\n",
       "      <td>0</td>\n",
       "      <td>0</td>\n",
       "      <td>0</td>\n",
       "      <td>0</td>\n",
       "      <td>0</td>\n",
       "      <td>0</td>\n",
       "      <td>0</td>\n",
       "      <td>1</td>\n",
       "      <td>0</td>\n",
       "      <td>0</td>\n",
       "    </tr>\n",
       "    <tr>\n",
       "      <th>199</th>\n",
       "      <td>-1</td>\n",
       "      <td>67.2</td>\n",
       "      <td>188.8</td>\n",
       "      <td>130</td>\n",
       "      <td>162.0</td>\n",
       "      <td>3157</td>\n",
       "      <td>18950.0</td>\n",
       "      <td>0</td>\n",
       "      <td>0</td>\n",
       "      <td>0</td>\n",
       "      <td>...</td>\n",
       "      <td>0</td>\n",
       "      <td>0</td>\n",
       "      <td>0</td>\n",
       "      <td>0</td>\n",
       "      <td>0</td>\n",
       "      <td>0</td>\n",
       "      <td>0</td>\n",
       "      <td>1</td>\n",
       "      <td>0</td>\n",
       "      <td>0</td>\n",
       "    </tr>\n",
       "  </tbody>\n",
       "</table>\n",
       "<p>5 rows × 55 columns</p>\n",
       "</div>"
      ],
      "text/plain": [
       "     car_ID  carwidth  carlength  enginesize  horsepower  curbweight    price  \\\n",
       "122       1      63.8      167.3          98        68.0        2191   7609.0   \n",
       "125       3      68.3      168.9         151       143.0        2778  22018.0   \n",
       "166       1      64.0      168.7          98       112.0        2300   9538.0   \n",
       "1         3      64.1      168.8         130       111.0        2548  16500.0   \n",
       "199      -1      67.2      188.8         130       162.0        3157  18950.0   \n",
       "\n",
       "     audi  bmw  chevrolet  ...  three  twelve  two  2bbl  4bbl  idi  mfi  \\\n",
       "122     0    0          0  ...      0       0    0     1     0    0    0   \n",
       "125     0    0          0  ...      0       0    0     0     0    0    0   \n",
       "166     0    0          0  ...      0       0    0     0     0    0    0   \n",
       "1       0    0          0  ...      0       0    0     0     0    0    0   \n",
       "199     0    0          0  ...      0       0    0     0     0    0    0   \n",
       "\n",
       "     mpfi  spdi  spfi  \n",
       "122     0     0     0  \n",
       "125     1     0     0  \n",
       "166     1     0     0  \n",
       "1       1     0     0  \n",
       "199     1     0     0  \n",
       "\n",
       "[5 rows x 55 columns]"
      ]
     },
     "execution_count": 58,
     "metadata": {},
     "output_type": "execute_result"
    }
   ],
   "source": [
    "df_train.head()"
   ]
  },
  {
   "cell_type": "code",
   "execution_count": 57,
   "metadata": {},
   "outputs": [
    {
     "data": {
      "text/plain": [
       "['CarName',\n",
       " 'aspiration',\n",
       " 'carbody',\n",
       " 'drivewheel',\n",
       " 'enginelocation',\n",
       " 'enginetype',\n",
       " 'cylindernumber',\n",
       " 'fuelsystem',\n",
       " 'car_ID',\n",
       " 'carwidth',\n",
       " 'carlength',\n",
       " 'enginesize',\n",
       " 'horsepower',\n",
       " 'curbweight',\n",
       " 'price']"
      ]
     },
     "execution_count": 57,
     "metadata": {},
     "output_type": "execute_result"
    }
   ],
   "source": [
    "vars_analysis"
   ]
  },
  {
   "cell_type": "code",
   "execution_count": 56,
   "metadata": {},
   "outputs": [
    {
     "data": {
      "text/plain": [
       "Index(['car_ID', 'carwidth', 'carlength', 'enginesize', 'horsepower',\n",
       "       'curbweight', 'price', 'audi', 'bmw', 'chevrolet', 'dodge', 'honda',\n",
       "       'isuzu', 'jaguar', 'mazda', 'mercedes-benz', 'mercury', 'mitsubishi',\n",
       "       'nissan', 'peugot', 'plymouth', 'porsche', 'renault', 'saab', 'subaru',\n",
       "       'toyota', 'volkswagen', 'volvo', 'turbo', 'hardtop', 'hatchback',\n",
       "       'sedan', 'wagon', 'fwd', 'rwd', 'rear', 'dohcv', 'l', 'ohc', 'ohcf',\n",
       "       'ohcv', 'rotor', 'five', 'four', 'six', 'three', 'twelve', 'two',\n",
       "       '2bbl', '4bbl', 'idi', 'mfi', 'mpfi', 'spdi', 'spfi'],\n",
       "      dtype='object')"
      ]
     },
     "execution_count": 56,
     "metadata": {},
     "output_type": "execute_result"
    }
   ],
   "source": [
    "df_train.columns"
   ]
  },
  {
   "cell_type": "code",
   "execution_count": 60,
   "metadata": {},
   "outputs": [
    {
     "name": "stderr",
     "output_type": "stream",
     "text": [
      "C:\\Users\\lenovo\\AppData\\Roaming\\Python\\Python37\\site-packages\\ipykernel_launcher.py:5: SettingWithCopyWarning: \n",
      "A value is trying to be set on a copy of a slice from a DataFrame.\n",
      "Try using .loc[row_indexer,col_indexer] = value instead\n",
      "\n",
      "See the caveats in the documentation: https://pandas.pydata.org/pandas-docs/stable/user_guide/indexing.html#returning-a-view-versus-a-copy\n",
      "  \"\"\"\n",
      "C:\\Users\\lenovo\\AppData\\Roaming\\Python\\Python37\\site-packages\\pandas\\core\\indexing.py:1736: SettingWithCopyWarning: \n",
      "A value is trying to be set on a copy of a slice from a DataFrame.\n",
      "Try using .loc[row_indexer,col_indexer] = value instead\n",
      "\n",
      "See the caveats in the documentation: https://pandas.pydata.org/pandas-docs/stable/user_guide/indexing.html#returning-a-view-versus-a-copy\n",
      "  isetter(loc, value[:, i].tolist())\n",
      "C:\\Users\\lenovo\\AppData\\Roaming\\Python\\Python37\\site-packages\\ipykernel_launcher.py:6: SettingWithCopyWarning: \n",
      "A value is trying to be set on a copy of a slice from a DataFrame.\n",
      "Try using .loc[row_indexer,col_indexer] = value instead\n",
      "\n",
      "See the caveats in the documentation: https://pandas.pydata.org/pandas-docs/stable/user_guide/indexing.html#returning-a-view-versus-a-copy\n",
      "  \n",
      "C:\\Users\\lenovo\\AppData\\Roaming\\Python\\Python37\\site-packages\\pandas\\core\\indexing.py:1736: SettingWithCopyWarning: \n",
      "A value is trying to be set on a copy of a slice from a DataFrame.\n",
      "Try using .loc[row_indexer,col_indexer] = value instead\n",
      "\n",
      "See the caveats in the documentation: https://pandas.pydata.org/pandas-docs/stable/user_guide/indexing.html#returning-a-view-versus-a-copy\n",
      "  isetter(loc, value[:, i].tolist())\n"
     ]
    }
   ],
   "source": [
    "from sklearn.preprocessing import MinMaxScaler\n",
    "scaler = MinMaxScaler()\n",
    "num_vars = ['curbweight', 'enginesize', 'horsepower','carlength','carwidth','price']\n",
    "# num_vars = vars_analysis\n",
    "df_train[num_vars] = scaler.fit_transform(df_train[num_vars])\n",
    "df_test[num_vars] = scaler.fit_transform(df_test[num_vars])"
   ]
  },
  {
   "cell_type": "code",
   "execution_count": 61,
   "metadata": {},
   "outputs": [],
   "source": [
    "#Dividing data into X and y variables\n",
    "y_train = df_train.pop('price')\n",
    "X_train = df_train"
   ]
  },
  {
   "cell_type": "code",
   "execution_count": 62,
   "metadata": {},
   "outputs": [],
   "source": [
    "from sklearn.feature_selection import RFE\n",
    "from sklearn.linear_model import LinearRegression\n",
    "import statsmodels.api as sm \n",
    "from statsmodels.stats.outliers_influence import variance_inflation_factor"
   ]
  },
  {
   "cell_type": "code",
   "execution_count": 63,
   "metadata": {},
   "outputs": [
    {
     "data": {
      "text/plain": [
       "122    0.068818\n",
       "125    0.466890\n",
       "166    0.122110\n",
       "1      0.314446\n",
       "199    0.382131\n",
       "         ...   \n",
       "87     0.114954\n",
       "103    0.231539\n",
       "67     0.564522\n",
       "24     0.030693\n",
       "8      0.518192\n",
       "Name: price, Length: 143, dtype: float64"
      ]
     },
     "execution_count": 63,
     "metadata": {},
     "output_type": "execute_result"
    }
   ],
   "source": [
    "X_train\n",
    "y_train"
   ]
  },
  {
   "cell_type": "code",
   "execution_count": 64,
   "metadata": {},
   "outputs": [],
   "source": [
    "# X_train.columns"
   ]
  },
  {
   "cell_type": "code",
   "execution_count": 65,
   "metadata": {},
   "outputs": [
    {
     "data": {
      "text/html": [
       "<div>\n",
       "<style scoped>\n",
       "    .dataframe tbody tr th:only-of-type {\n",
       "        vertical-align: middle;\n",
       "    }\n",
       "\n",
       "    .dataframe tbody tr th {\n",
       "        vertical-align: top;\n",
       "    }\n",
       "\n",
       "    .dataframe thead th {\n",
       "        text-align: right;\n",
       "    }\n",
       "</style>\n",
       "<table border=\"1\" class=\"dataframe\">\n",
       "  <thead>\n",
       "    <tr style=\"text-align: right;\">\n",
       "      <th></th>\n",
       "      <th>car_ID</th>\n",
       "      <th>carwidth</th>\n",
       "      <th>carlength</th>\n",
       "      <th>enginesize</th>\n",
       "      <th>horsepower</th>\n",
       "      <th>curbweight</th>\n",
       "      <th>audi</th>\n",
       "      <th>bmw</th>\n",
       "      <th>chevrolet</th>\n",
       "      <th>dodge</th>\n",
       "      <th>...</th>\n",
       "      <th>three</th>\n",
       "      <th>twelve</th>\n",
       "      <th>two</th>\n",
       "      <th>2bbl</th>\n",
       "      <th>4bbl</th>\n",
       "      <th>idi</th>\n",
       "      <th>mfi</th>\n",
       "      <th>mpfi</th>\n",
       "      <th>spdi</th>\n",
       "      <th>spfi</th>\n",
       "    </tr>\n",
       "  </thead>\n",
       "  <tbody>\n",
       "    <tr>\n",
       "      <th>122</th>\n",
       "      <td>1</td>\n",
       "      <td>0.291667</td>\n",
       "      <td>0.426016</td>\n",
       "      <td>0.139623</td>\n",
       "      <td>0.083333</td>\n",
       "      <td>0.272692</td>\n",
       "      <td>0</td>\n",
       "      <td>0</td>\n",
       "      <td>0</td>\n",
       "      <td>0</td>\n",
       "      <td>...</td>\n",
       "      <td>0</td>\n",
       "      <td>0</td>\n",
       "      <td>0</td>\n",
       "      <td>1</td>\n",
       "      <td>0</td>\n",
       "      <td>0</td>\n",
       "      <td>0</td>\n",
       "      <td>0</td>\n",
       "      <td>0</td>\n",
       "      <td>0</td>\n",
       "    </tr>\n",
       "    <tr>\n",
       "      <th>125</th>\n",
       "      <td>3</td>\n",
       "      <td>0.666667</td>\n",
       "      <td>0.452033</td>\n",
       "      <td>0.339623</td>\n",
       "      <td>0.395833</td>\n",
       "      <td>0.500388</td>\n",
       "      <td>0</td>\n",
       "      <td>0</td>\n",
       "      <td>0</td>\n",
       "      <td>0</td>\n",
       "      <td>...</td>\n",
       "      <td>0</td>\n",
       "      <td>0</td>\n",
       "      <td>0</td>\n",
       "      <td>0</td>\n",
       "      <td>0</td>\n",
       "      <td>0</td>\n",
       "      <td>0</td>\n",
       "      <td>1</td>\n",
       "      <td>0</td>\n",
       "      <td>0</td>\n",
       "    </tr>\n",
       "    <tr>\n",
       "      <th>166</th>\n",
       "      <td>1</td>\n",
       "      <td>0.308333</td>\n",
       "      <td>0.448780</td>\n",
       "      <td>0.139623</td>\n",
       "      <td>0.266667</td>\n",
       "      <td>0.314973</td>\n",
       "      <td>0</td>\n",
       "      <td>0</td>\n",
       "      <td>0</td>\n",
       "      <td>0</td>\n",
       "      <td>...</td>\n",
       "      <td>0</td>\n",
       "      <td>0</td>\n",
       "      <td>0</td>\n",
       "      <td>0</td>\n",
       "      <td>0</td>\n",
       "      <td>0</td>\n",
       "      <td>0</td>\n",
       "      <td>1</td>\n",
       "      <td>0</td>\n",
       "      <td>0</td>\n",
       "    </tr>\n",
       "    <tr>\n",
       "      <th>1</th>\n",
       "      <td>3</td>\n",
       "      <td>0.316667</td>\n",
       "      <td>0.450407</td>\n",
       "      <td>0.260377</td>\n",
       "      <td>0.262500</td>\n",
       "      <td>0.411171</td>\n",
       "      <td>0</td>\n",
       "      <td>0</td>\n",
       "      <td>0</td>\n",
       "      <td>0</td>\n",
       "      <td>...</td>\n",
       "      <td>0</td>\n",
       "      <td>0</td>\n",
       "      <td>0</td>\n",
       "      <td>0</td>\n",
       "      <td>0</td>\n",
       "      <td>0</td>\n",
       "      <td>0</td>\n",
       "      <td>1</td>\n",
       "      <td>0</td>\n",
       "      <td>0</td>\n",
       "    </tr>\n",
       "    <tr>\n",
       "      <th>199</th>\n",
       "      <td>-1</td>\n",
       "      <td>0.575000</td>\n",
       "      <td>0.775610</td>\n",
       "      <td>0.260377</td>\n",
       "      <td>0.475000</td>\n",
       "      <td>0.647401</td>\n",
       "      <td>0</td>\n",
       "      <td>0</td>\n",
       "      <td>0</td>\n",
       "      <td>0</td>\n",
       "      <td>...</td>\n",
       "      <td>0</td>\n",
       "      <td>0</td>\n",
       "      <td>0</td>\n",
       "      <td>0</td>\n",
       "      <td>0</td>\n",
       "      <td>0</td>\n",
       "      <td>0</td>\n",
       "      <td>1</td>\n",
       "      <td>0</td>\n",
       "      <td>0</td>\n",
       "    </tr>\n",
       "    <tr>\n",
       "      <th>...</th>\n",
       "      <td>...</td>\n",
       "      <td>...</td>\n",
       "      <td>...</td>\n",
       "      <td>...</td>\n",
       "      <td>...</td>\n",
       "      <td>...</td>\n",
       "      <td>...</td>\n",
       "      <td>...</td>\n",
       "      <td>...</td>\n",
       "      <td>...</td>\n",
       "      <td>...</td>\n",
       "      <td>...</td>\n",
       "      <td>...</td>\n",
       "      <td>...</td>\n",
       "      <td>...</td>\n",
       "      <td>...</td>\n",
       "      <td>...</td>\n",
       "      <td>...</td>\n",
       "      <td>...</td>\n",
       "      <td>...</td>\n",
       "      <td>...</td>\n",
       "    </tr>\n",
       "    <tr>\n",
       "      <th>87</th>\n",
       "      <td>1</td>\n",
       "      <td>0.425000</td>\n",
       "      <td>0.508943</td>\n",
       "      <td>0.184906</td>\n",
       "      <td>0.283333</td>\n",
       "      <td>0.354926</td>\n",
       "      <td>0</td>\n",
       "      <td>0</td>\n",
       "      <td>0</td>\n",
       "      <td>0</td>\n",
       "      <td>...</td>\n",
       "      <td>0</td>\n",
       "      <td>0</td>\n",
       "      <td>0</td>\n",
       "      <td>0</td>\n",
       "      <td>0</td>\n",
       "      <td>0</td>\n",
       "      <td>0</td>\n",
       "      <td>0</td>\n",
       "      <td>1</td>\n",
       "      <td>0</td>\n",
       "    </tr>\n",
       "    <tr>\n",
       "      <th>103</th>\n",
       "      <td>0</td>\n",
       "      <td>0.516667</td>\n",
       "      <td>0.707317</td>\n",
       "      <td>0.452830</td>\n",
       "      <td>0.433333</td>\n",
       "      <td>0.609775</td>\n",
       "      <td>0</td>\n",
       "      <td>0</td>\n",
       "      <td>0</td>\n",
       "      <td>0</td>\n",
       "      <td>...</td>\n",
       "      <td>0</td>\n",
       "      <td>0</td>\n",
       "      <td>0</td>\n",
       "      <td>0</td>\n",
       "      <td>0</td>\n",
       "      <td>0</td>\n",
       "      <td>0</td>\n",
       "      <td>1</td>\n",
       "      <td>0</td>\n",
       "      <td>0</td>\n",
       "    </tr>\n",
       "    <tr>\n",
       "      <th>67</th>\n",
       "      <td>-1</td>\n",
       "      <td>0.833333</td>\n",
       "      <td>0.809756</td>\n",
       "      <td>0.460377</td>\n",
       "      <td>0.312500</td>\n",
       "      <td>0.786268</td>\n",
       "      <td>0</td>\n",
       "      <td>0</td>\n",
       "      <td>0</td>\n",
       "      <td>0</td>\n",
       "      <td>...</td>\n",
       "      <td>0</td>\n",
       "      <td>0</td>\n",
       "      <td>0</td>\n",
       "      <td>0</td>\n",
       "      <td>0</td>\n",
       "      <td>1</td>\n",
       "      <td>0</td>\n",
       "      <td>0</td>\n",
       "      <td>0</td>\n",
       "      <td>0</td>\n",
       "    </tr>\n",
       "    <tr>\n",
       "      <th>24</th>\n",
       "      <td>1</td>\n",
       "      <td>0.291667</td>\n",
       "      <td>0.263415</td>\n",
       "      <td>0.109434</td>\n",
       "      <td>0.083333</td>\n",
       "      <td>0.185803</td>\n",
       "      <td>0</td>\n",
       "      <td>0</td>\n",
       "      <td>0</td>\n",
       "      <td>1</td>\n",
       "      <td>...</td>\n",
       "      <td>0</td>\n",
       "      <td>0</td>\n",
       "      <td>0</td>\n",
       "      <td>1</td>\n",
       "      <td>0</td>\n",
       "      <td>0</td>\n",
       "      <td>0</td>\n",
       "      <td>0</td>\n",
       "      <td>0</td>\n",
       "      <td>0</td>\n",
       "    </tr>\n",
       "    <tr>\n",
       "      <th>8</th>\n",
       "      <td>1</td>\n",
       "      <td>0.925000</td>\n",
       "      <td>0.839024</td>\n",
       "      <td>0.264151</td>\n",
       "      <td>0.383333</td>\n",
       "      <td>0.619860</td>\n",
       "      <td>1</td>\n",
       "      <td>0</td>\n",
       "      <td>0</td>\n",
       "      <td>0</td>\n",
       "      <td>...</td>\n",
       "      <td>0</td>\n",
       "      <td>0</td>\n",
       "      <td>0</td>\n",
       "      <td>0</td>\n",
       "      <td>0</td>\n",
       "      <td>0</td>\n",
       "      <td>0</td>\n",
       "      <td>1</td>\n",
       "      <td>0</td>\n",
       "      <td>0</td>\n",
       "    </tr>\n",
       "  </tbody>\n",
       "</table>\n",
       "<p>143 rows × 54 columns</p>\n",
       "</div>"
      ],
      "text/plain": [
       "     car_ID  carwidth  carlength  enginesize  horsepower  curbweight  audi  \\\n",
       "122       1  0.291667   0.426016    0.139623    0.083333    0.272692     0   \n",
       "125       3  0.666667   0.452033    0.339623    0.395833    0.500388     0   \n",
       "166       1  0.308333   0.448780    0.139623    0.266667    0.314973     0   \n",
       "1         3  0.316667   0.450407    0.260377    0.262500    0.411171     0   \n",
       "199      -1  0.575000   0.775610    0.260377    0.475000    0.647401     0   \n",
       "..      ...       ...        ...         ...         ...         ...   ...   \n",
       "87        1  0.425000   0.508943    0.184906    0.283333    0.354926     0   \n",
       "103       0  0.516667   0.707317    0.452830    0.433333    0.609775     0   \n",
       "67       -1  0.833333   0.809756    0.460377    0.312500    0.786268     0   \n",
       "24        1  0.291667   0.263415    0.109434    0.083333    0.185803     0   \n",
       "8         1  0.925000   0.839024    0.264151    0.383333    0.619860     1   \n",
       "\n",
       "     bmw  chevrolet  dodge  ...  three  twelve  two  2bbl  4bbl  idi  mfi  \\\n",
       "122    0          0      0  ...      0       0    0     1     0    0    0   \n",
       "125    0          0      0  ...      0       0    0     0     0    0    0   \n",
       "166    0          0      0  ...      0       0    0     0     0    0    0   \n",
       "1      0          0      0  ...      0       0    0     0     0    0    0   \n",
       "199    0          0      0  ...      0       0    0     0     0    0    0   \n",
       "..   ...        ...    ...  ...    ...     ...  ...   ...   ...  ...  ...   \n",
       "87     0          0      0  ...      0       0    0     0     0    0    0   \n",
       "103    0          0      0  ...      0       0    0     0     0    0    0   \n",
       "67     0          0      0  ...      0       0    0     0     0    1    0   \n",
       "24     0          0      1  ...      0       0    0     1     0    0    0   \n",
       "8      0          0      0  ...      0       0    0     0     0    0    0   \n",
       "\n",
       "     mpfi  spdi  spfi  \n",
       "122     0     0     0  \n",
       "125     1     0     0  \n",
       "166     1     0     0  \n",
       "1       1     0     0  \n",
       "199     1     0     0  \n",
       "..    ...   ...   ...  \n",
       "87      0     1     0  \n",
       "103     1     0     0  \n",
       "67      0     0     0  \n",
       "24      0     0     0  \n",
       "8       1     0     0  \n",
       "\n",
       "[143 rows x 54 columns]"
      ]
     },
     "execution_count": 65,
     "metadata": {},
     "output_type": "execute_result"
    }
   ],
   "source": [
    "# X_train = X_train.drop(['fueltype','doornumber'],axis=1)\n",
    "X_train"
   ]
  },
  {
   "cell_type": "code",
   "execution_count": 66,
   "metadata": {},
   "outputs": [
    {
     "data": {
      "text/plain": [
       "LinearRegression()"
      ]
     },
     "execution_count": 66,
     "metadata": {},
     "output_type": "execute_result"
    }
   ],
   "source": [
    "lm = LinearRegression()\n",
    "lm.fit(X_train,y_train)\n",
    "# rfe = RFE(lm, 10)\n",
    "# rfe = rfe.fit(X_train, y_train)"
   ]
  },
  {
   "cell_type": "code",
   "execution_count": 67,
   "metadata": {},
   "outputs": [],
   "source": [
    "# list(zip(X_train.columns,rfe.support_,rfe.ranking_))"
   ]
  },
  {
   "cell_type": "code",
   "execution_count": 68,
   "metadata": {},
   "outputs": [
    {
     "name": "stdout",
     "output_type": "stream",
     "text": [
      "                            OLS Regression Results                            \n",
      "==============================================================================\n",
      "Dep. Variable:                  price   R-squared:                       0.951\n",
      "Model:                            OLS   Adj. R-squared:                  0.927\n",
      "Method:                 Least Squares   F-statistic:                     38.39\n",
      "Date:                Sat, 26 Dec 2020   Prob (F-statistic):           1.03e-44\n",
      "Time:                        18:29:39   Log-Likelihood:                 236.37\n",
      "No. Observations:                 143   AIC:                            -374.7\n",
      "Df Residuals:                      94   BIC:                            -229.6\n",
      "Df Model:                          48                                         \n",
      "Covariance Type:            nonrobust                                         \n",
      "=================================================================================\n",
      "                    coef    std err          t      P>|t|      [0.025      0.975]\n",
      "---------------------------------------------------------------------------------\n",
      "const             0.1729      0.131      1.318      0.191      -0.088       0.434\n",
      "car_ID            0.0077      0.009      0.895      0.373      -0.009       0.025\n",
      "carwidth          0.4954      0.106      4.691      0.000       0.286       0.705\n",
      "carlength        -0.1888      0.113     -1.670      0.098      -0.413       0.036\n",
      "enginesize        0.1335      0.215      0.621      0.536      -0.293       0.560\n",
      "horsepower        0.2378      0.190      1.254      0.213      -0.139       0.614\n",
      "curbweight        0.2687      0.153      1.759      0.082      -0.035       0.572\n",
      "audi             -0.1015      0.090     -1.126      0.263      -0.281       0.078\n",
      "bmw               0.1874      0.068      2.754      0.007       0.052       0.322\n",
      "chevrolet        -0.0995      0.067     -1.496      0.138      -0.232       0.033\n",
      "dodge            -0.1126      0.058     -1.934      0.056      -0.228       0.003\n",
      "honda            -0.1564      0.082     -1.904      0.060      -0.319       0.007\n",
      "isuzu            -0.0296      0.062     -0.481      0.632      -0.152       0.093\n",
      "jaguar            0.1316      0.092      1.429      0.156      -0.051       0.314\n",
      "mazda            -0.1159      0.055     -2.117      0.037      -0.225      -0.007\n",
      "mercedes-benz    -0.0037      0.095     -0.039      0.969      -0.193       0.185\n",
      "mercury        -9.27e-16   4.15e-16     -2.231      0.028   -1.75e-15   -1.02e-16\n",
      "mitsubishi       -0.1696      0.060     -2.808      0.006      -0.290      -0.050\n",
      "nissan           -0.0998      0.052     -1.911      0.059      -0.204       0.004\n",
      "peugot           -0.0958      0.058     -1.641      0.104      -0.212       0.020\n",
      "plymouth         -0.1063      0.060     -1.782      0.078      -0.225       0.012\n",
      "porsche          -0.0165      0.089     -0.186      0.853      -0.193       0.160\n",
      "renault          -0.1678      0.070     -2.382      0.019      -0.308      -0.028\n",
      "saab             -0.0423      0.070     -0.602      0.549      -0.182       0.097\n",
      "subaru           -0.2037      0.055     -3.723      0.000      -0.312      -0.095\n",
      "toyota           -0.1034      0.051     -2.029      0.045      -0.204      -0.002\n",
      "volkswagen       -0.1016      0.057     -1.776      0.079      -0.215       0.012\n",
      "volvo            -0.0397      0.060     -0.667      0.507      -0.158       0.079\n",
      "turbo             0.0088      0.030      0.296      0.768      -0.050       0.068\n",
      "hardtop          -0.0429      0.064     -0.667      0.506      -0.171       0.085\n",
      "hatchback        -0.0513      0.050     -1.028      0.306      -0.150       0.048\n",
      "sedan            -0.0187      0.053     -0.351      0.726      -0.124       0.087\n",
      "wagon            -0.0099      0.056     -0.176      0.861      -0.122       0.102\n",
      "fwd               0.0163      0.030      0.538      0.592      -0.044       0.076\n",
      "rwd               0.0258      0.040      0.645      0.521      -0.054       0.105\n",
      "rear              0.2951      0.076      3.892      0.000       0.145       0.446\n",
      "dohcv            -0.8366      0.152     -5.498      0.000      -1.139      -0.535\n",
      "l                -0.0572      0.051     -1.121      0.265      -0.158       0.044\n",
      "ohc               0.0204      0.042      0.490      0.626      -0.062       0.103\n",
      "ohcf              0.0914      0.043      2.104      0.038       0.005       0.178\n",
      "ohcv             -0.0415      0.045     -0.925      0.357      -0.130       0.048\n",
      "rotor            -0.0245      0.069     -0.358      0.721      -0.161       0.112\n",
      "five             -0.1842      0.080     -2.313      0.023      -0.342      -0.026\n",
      "four             -0.1731      0.104     -1.671      0.098      -0.379       0.033\n",
      "six              -0.1624      0.096     -1.692      0.094      -0.353       0.028\n",
      "three             0.0386      0.086      0.450      0.654      -0.132       0.209\n",
      "twelve           -0.2359      0.136     -1.729      0.087      -0.507       0.035\n",
      "two              -0.0245      0.069     -0.358      0.721      -0.161       0.112\n",
      "2bbl             -0.0342      0.064     -0.535      0.594      -0.161       0.093\n",
      "4bbl             -0.0988      0.094     -1.054      0.295      -0.285       0.087\n",
      "idi              -0.0028      0.070     -0.041      0.968      -0.142       0.136\n",
      "mfi                    0          0        nan        nan           0           0\n",
      "mpfi             -0.0532      0.070     -0.761      0.448      -0.192       0.085\n",
      "spdi             -0.0356      0.077     -0.464      0.643      -0.188       0.117\n",
      "spfi                   0          0        nan        nan           0           0\n",
      "==============================================================================\n",
      "Omnibus:                       55.629   Durbin-Watson:                   2.192\n",
      "Prob(Omnibus):                  0.000   Jarque-Bera (JB):              465.895\n",
      "Skew:                           1.074   Prob(JB):                    6.80e-102\n",
      "Kurtosis:                      11.578   Cond. No.                     1.16e+16\n",
      "==============================================================================\n",
      "\n",
      "Warnings:\n",
      "[1] Standard Errors assume that the covariance matrix of the errors is correctly specified.\n",
      "[2] The smallest eigenvalue is 5.32e-30. This might indicate that there are\n",
      "strong multicollinearity problems or that the design matrix is singular.\n"
     ]
    },
    {
     "name": "stderr",
     "output_type": "stream",
     "text": [
      "C:\\Users\\lenovo\\AppData\\Roaming\\Python\\Python37\\site-packages\\statsmodels\\base\\model.py:1362: RuntimeWarning: invalid value encountered in true_divide\n",
      "  return self.params / self.bse\n"
     ]
    }
   ],
   "source": [
    "X = X_train\n",
    "y = y_train\n",
    "X = sm.add_constant(X) #Adding the constant\n",
    "lm = sm.OLS(y,X).fit() # fitting the model\n",
    "print(lm.summary()) # model summary"
   ]
  },
  {
   "cell_type": "code",
   "execution_count": 69,
   "metadata": {},
   "outputs": [],
   "source": [
    "lm = sm.OLS(y_train,X_train).fit()\n",
    "y_train_price = lm.predict(X_train)"
   ]
  },
  {
   "cell_type": "code",
   "execution_count": 70,
   "metadata": {
    "scrolled": true
   },
   "outputs": [
    {
     "name": "stderr",
     "output_type": "stream",
     "text": [
      "C:\\Users\\lenovo\\AppData\\Roaming\\Python\\Python37\\site-packages\\ipykernel_launcher.py:1: SettingWithCopyWarning: \n",
      "A value is trying to be set on a copy of a slice from a DataFrame.\n",
      "Try using .loc[row_indexer,col_indexer] = value instead\n",
      "\n",
      "See the caveats in the documentation: https://pandas.pydata.org/pandas-docs/stable/user_guide/indexing.html#returning-a-view-versus-a-copy\n",
      "  \"\"\"Entry point for launching an IPython kernel.\n",
      "C:\\Users\\lenovo\\AppData\\Roaming\\Python\\Python37\\site-packages\\pandas\\core\\indexing.py:1736: SettingWithCopyWarning: \n",
      "A value is trying to be set on a copy of a slice from a DataFrame.\n",
      "Try using .loc[row_indexer,col_indexer] = value instead\n",
      "\n",
      "See the caveats in the documentation: https://pandas.pydata.org/pandas-docs/stable/user_guide/indexing.html#returning-a-view-versus-a-copy\n",
      "  isetter(loc, value[:, i].tolist())\n"
     ]
    }
   ],
   "source": [
    "df_test[num_vars] = scaler.fit_transform(df_test[num_vars])"
   ]
  },
  {
   "cell_type": "code",
   "execution_count": 71,
   "metadata": {},
   "outputs": [],
   "source": [
    "y_test = df_test.pop('price')\n",
    "X_test = df_test"
   ]
  },
  {
   "cell_type": "code",
   "execution_count": 72,
   "metadata": {},
   "outputs": [],
   "source": [
    "# Creating X_test_new dataframe by dropping variables from X_test\n",
    "X_test_new = X_test[X_train.columns]\n",
    "# Adding a constant variable \n",
    "X_test_new = sm.add_constant(X_test_new)\n",
    "X_test_new = X_test_new.drop('const',axis=1)"
   ]
  },
  {
   "cell_type": "code",
   "execution_count": 73,
   "metadata": {},
   "outputs": [],
   "source": [
    "# X_test_new"
   ]
  },
  {
   "cell_type": "code",
   "execution_count": 74,
   "metadata": {},
   "outputs": [
    {
     "name": "stdout",
     "output_type": "stream",
     "text": [
      "Index(['car_ID', 'carwidth', 'carlength', 'enginesize', 'horsepower',\n",
      "       'curbweight', 'audi', 'bmw', 'chevrolet', 'dodge', 'honda', 'isuzu',\n",
      "       'jaguar', 'mazda', 'mercedes-benz', 'mercury', 'mitsubishi', 'nissan',\n",
      "       'peugot', 'plymouth', 'porsche', 'renault', 'saab', 'subaru', 'toyota',\n",
      "       'volkswagen', 'volvo', 'turbo', 'hardtop', 'hatchback', 'sedan',\n",
      "       'wagon', 'fwd', 'rwd', 'rear', 'dohcv', 'l', 'ohc', 'ohcf', 'ohcv',\n",
      "       'rotor', 'five', 'four', 'six', 'three', 'twelve', 'two', '2bbl',\n",
      "       '4bbl', 'idi', 'mfi', 'mpfi', 'spdi', 'spfi'],\n",
      "      dtype='object')\n"
     ]
    },
    {
     "data": {
      "text/plain": [
       "Index(['car_ID', 'carwidth', 'carlength', 'enginesize', 'horsepower',\n",
       "       'curbweight', 'audi', 'bmw', 'chevrolet', 'dodge', 'honda', 'isuzu',\n",
       "       'jaguar', 'mazda', 'mercedes-benz', 'mercury', 'mitsubishi', 'nissan',\n",
       "       'peugot', 'plymouth', 'porsche', 'renault', 'saab', 'subaru', 'toyota',\n",
       "       'volkswagen', 'volvo', 'turbo', 'hardtop', 'hatchback', 'sedan',\n",
       "       'wagon', 'fwd', 'rwd', 'rear', 'dohcv', 'l', 'ohc', 'ohcf', 'ohcv',\n",
       "       'rotor', 'five', 'four', 'six', 'three', 'twelve', 'two', '2bbl',\n",
       "       '4bbl', 'idi', 'mfi', 'mpfi', 'spdi', 'spfi'],\n",
       "      dtype='object')"
      ]
     },
     "execution_count": 74,
     "metadata": {},
     "output_type": "execute_result"
    }
   ],
   "source": [
    "print(X_test_new.columns)\n",
    "X_train.columns"
   ]
  },
  {
   "cell_type": "code",
   "execution_count": 75,
   "metadata": {},
   "outputs": [],
   "source": [
    "y_pred = lm.predict(X_test_new)"
   ]
  },
  {
   "cell_type": "code",
   "execution_count": 76,
   "metadata": {},
   "outputs": [
    {
     "data": {
      "text/plain": [
       "0.829975095349874"
      ]
     },
     "execution_count": 76,
     "metadata": {},
     "output_type": "execute_result"
    }
   ],
   "source": [
    "from sklearn.metrics import r2_score \n",
    "r2_score(y_test, y_pred)"
   ]
  },
  {
   "cell_type": "code",
   "execution_count": null,
   "metadata": {},
   "outputs": [],
   "source": []
  }
 ],
 "metadata": {
  "kernelspec": {
   "display_name": "Python 3",
   "language": "python",
   "name": "python3"
  },
  "language_info": {
   "codemirror_mode": {
    "name": "ipython",
    "version": 3
   },
   "file_extension": ".py",
   "mimetype": "text/x-python",
   "name": "python",
   "nbconvert_exporter": "python",
   "pygments_lexer": "ipython3",
   "version": "3.8.3"
  }
 },
 "nbformat": 4,
 "nbformat_minor": 2
}
