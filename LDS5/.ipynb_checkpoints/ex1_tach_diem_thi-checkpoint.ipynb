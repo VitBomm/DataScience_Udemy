{
 "cells": [
  {
   "cell_type": "code",
   "execution_count": 30,
   "metadata": {},
   "outputs": [],
   "source": [
    "import pandas as pd\n",
    "import numpy as np"
   ]
  },
  {
   "cell_type": "code",
   "execution_count": 2,
   "metadata": {},
   "outputs": [],
   "source": [
    "df = pd.read_excel('Diemthi_thpt_quocgia_2016.xlsx', sheet_name='Export Worksheet')"
   ]
  },
  {
   "cell_type": "code",
   "execution_count": 3,
   "metadata": {},
   "outputs": [
    {
     "data": {
      "text/plain": [
       "(34826, 6)"
      ]
     },
     "execution_count": 3,
     "metadata": {},
     "output_type": "execute_result"
    }
   ],
   "source": [
    "df.shape"
   ]
  },
  {
   "cell_type": "code",
   "execution_count": 4,
   "metadata": {},
   "outputs": [
    {
     "name": "stdout",
     "output_type": "stream",
     "text": [
      "<class 'pandas.core.frame.DataFrame'>\n",
      "RangeIndex: 34826 entries, 0 to 34825\n",
      "Data columns (total 6 columns):\n",
      "SOBAODANH     34826 non-null object\n",
      "HO_TEN        34826 non-null object\n",
      "NGAY_SINH     34826 non-null object\n",
      "TEN_CUMTHI    34826 non-null object\n",
      "GIOI_TINH     34826 non-null object\n",
      "DIEM_THI      34826 non-null object\n",
      "dtypes: object(6)\n",
      "memory usage: 1.6+ MB\n"
     ]
    }
   ],
   "source": [
    "df.info()"
   ]
  },
  {
   "cell_type": "code",
   "execution_count": 5,
   "metadata": {},
   "outputs": [
    {
     "data": {
      "text/html": [
       "<div>\n",
       "<style scoped>\n",
       "    .dataframe tbody tr th:only-of-type {\n",
       "        vertical-align: middle;\n",
       "    }\n",
       "\n",
       "    .dataframe tbody tr th {\n",
       "        vertical-align: top;\n",
       "    }\n",
       "\n",
       "    .dataframe thead th {\n",
       "        text-align: right;\n",
       "    }\n",
       "</style>\n",
       "<table border=\"1\" class=\"dataframe\">\n",
       "  <thead>\n",
       "    <tr style=\"text-align: right;\">\n",
       "      <th></th>\n",
       "      <th>SOBAODANH</th>\n",
       "      <th>HO_TEN</th>\n",
       "      <th>NGAY_SINH</th>\n",
       "      <th>TEN_CUMTHI</th>\n",
       "      <th>GIOI_TINH</th>\n",
       "      <th>DIEM_THI</th>\n",
       "    </tr>\n",
       "  </thead>\n",
       "  <tbody>\n",
       "    <tr>\n",
       "      <th>0</th>\n",
       "      <td>018000001</td>\n",
       "      <td>DƯƠNG VIỆT AN</td>\n",
       "      <td>12/03/1998</td>\n",
       "      <td>Sở GDĐT Bắc Giang</td>\n",
       "      <td>Nam</td>\n",
       "      <td>Toán:   2.00   Ngữ văn:   5.50   Lịch sử:   3....</td>\n",
       "    </tr>\n",
       "    <tr>\n",
       "      <th>1</th>\n",
       "      <td>018000002</td>\n",
       "      <td>ĐỖ VĂN AN</td>\n",
       "      <td>09/12/1998</td>\n",
       "      <td>Sở GDĐT Bắc Giang</td>\n",
       "      <td>Nam</td>\n",
       "      <td>Toán:   5.50   Ngữ văn:   5.25   Địa lí:   5.5...</td>\n",
       "    </tr>\n",
       "    <tr>\n",
       "      <th>2</th>\n",
       "      <td>018000003</td>\n",
       "      <td>ĐỖ XUÂN AN</td>\n",
       "      <td>12/08/1997</td>\n",
       "      <td>Sở GDĐT Bắc Giang</td>\n",
       "      <td>Nam</td>\n",
       "      <td>Toán:   4.50   Ngữ văn:   5.50   Địa lí:   3.7...</td>\n",
       "    </tr>\n",
       "    <tr>\n",
       "      <th>3</th>\n",
       "      <td>018000004</td>\n",
       "      <td>ĐẶNG PHÚC AN</td>\n",
       "      <td>19/03/1998</td>\n",
       "      <td>Sở GDĐT Bắc Giang</td>\n",
       "      <td>Nữ</td>\n",
       "      <td>Toán:   3.00   Ngữ văn:   6.00   Địa lí:   5.5...</td>\n",
       "    </tr>\n",
       "    <tr>\n",
       "      <th>4</th>\n",
       "      <td>018000005</td>\n",
       "      <td>ĐẶNG VĂN AN</td>\n",
       "      <td>25/10/1998</td>\n",
       "      <td>Sở GDĐT Bắc Giang</td>\n",
       "      <td>Nam</td>\n",
       "      <td>Toán:   2.25   Ngữ văn:   4.75   Địa lí:   5.2...</td>\n",
       "    </tr>\n",
       "  </tbody>\n",
       "</table>\n",
       "</div>"
      ],
      "text/plain": [
       "   SOBAODANH         HO_TEN   NGAY_SINH         TEN_CUMTHI GIOI_TINH  \\\n",
       "0  018000001  DƯƠNG VIỆT AN  12/03/1998  Sở GDĐT Bắc Giang       Nam   \n",
       "1  018000002      ĐỖ VĂN AN  09/12/1998  Sở GDĐT Bắc Giang       Nam   \n",
       "2  018000003     ĐỖ XUÂN AN  12/08/1997  Sở GDĐT Bắc Giang       Nam   \n",
       "3  018000004   ĐẶNG PHÚC AN  19/03/1998  Sở GDĐT Bắc Giang        Nữ   \n",
       "4  018000005    ĐẶNG VĂN AN  25/10/1998  Sở GDĐT Bắc Giang       Nam   \n",
       "\n",
       "                                            DIEM_THI  \n",
       "0  Toán:   2.00   Ngữ văn:   5.50   Lịch sử:   3....  \n",
       "1  Toán:   5.50   Ngữ văn:   5.25   Địa lí:   5.5...  \n",
       "2  Toán:   4.50   Ngữ văn:   5.50   Địa lí:   3.7...  \n",
       "3  Toán:   3.00   Ngữ văn:   6.00   Địa lí:   5.5...  \n",
       "4  Toán:   2.25   Ngữ văn:   4.75   Địa lí:   5.2...  "
      ]
     },
     "execution_count": 5,
     "metadata": {},
     "output_type": "execute_result"
    }
   ],
   "source": [
    "df.head()"
   ]
  },
  {
   "cell_type": "code",
   "execution_count": 6,
   "metadata": {},
   "outputs": [
    {
     "data": {
      "text/html": [
       "<div>\n",
       "<style scoped>\n",
       "    .dataframe tbody tr th:only-of-type {\n",
       "        vertical-align: middle;\n",
       "    }\n",
       "\n",
       "    .dataframe tbody tr th {\n",
       "        vertical-align: top;\n",
       "    }\n",
       "\n",
       "    .dataframe thead th {\n",
       "        text-align: right;\n",
       "    }\n",
       "</style>\n",
       "<table border=\"1\" class=\"dataframe\">\n",
       "  <thead>\n",
       "    <tr style=\"text-align: right;\">\n",
       "      <th></th>\n",
       "      <th>SOBAODANH</th>\n",
       "      <th>HO_TEN</th>\n",
       "      <th>NGAY_SINH</th>\n",
       "      <th>TEN_CUMTHI</th>\n",
       "      <th>GIOI_TINH</th>\n",
       "      <th>DIEM_THI</th>\n",
       "    </tr>\n",
       "  </thead>\n",
       "  <tbody>\n",
       "    <tr>\n",
       "      <th>34821</th>\n",
       "      <td>HUI014539</td>\n",
       "      <td>VÒNG NGỌC YẾN</td>\n",
       "      <td>15/05/1998</td>\n",
       "      <td>Trường Đại học Công nghiệp Tp. HCM</td>\n",
       "      <td>Nữ</td>\n",
       "      <td>Toán:   0.75   Ngữ văn:   5.00   Hóa học:   4....</td>\n",
       "    </tr>\n",
       "    <tr>\n",
       "      <th>34822</th>\n",
       "      <td>HUI014540</td>\n",
       "      <td>VÒNG THANH YẾN</td>\n",
       "      <td>09/09/1998</td>\n",
       "      <td>Trường Đại học Công nghiệp Tp. HCM</td>\n",
       "      <td>Nữ</td>\n",
       "      <td>Toán:   4.75   Ngữ văn:   5.75   Vật lí:   6.8...</td>\n",
       "    </tr>\n",
       "    <tr>\n",
       "      <th>34823</th>\n",
       "      <td>HUI014541</td>\n",
       "      <td>VŨ THỊ BẢO YẾN</td>\n",
       "      <td>19/05/1998</td>\n",
       "      <td>Trường Đại học Công nghiệp Tp. HCM</td>\n",
       "      <td>Nữ</td>\n",
       "      <td>Toán:   4.00   Ngữ văn:   5.50   Vật lí:   5.6...</td>\n",
       "    </tr>\n",
       "    <tr>\n",
       "      <th>34824</th>\n",
       "      <td>HUI014542</td>\n",
       "      <td>VŨ THỊ YẾN</td>\n",
       "      <td>13/01/1998</td>\n",
       "      <td>Trường Đại học Công nghiệp Tp. HCM</td>\n",
       "      <td>Nữ</td>\n",
       "      <td>Toán:   5.75   Ngữ văn:   6.00   Vật lí:   7.4...</td>\n",
       "    </tr>\n",
       "    <tr>\n",
       "      <th>34825</th>\n",
       "      <td>HUI014543</td>\n",
       "      <td>VƯƠNG THỊ YẾN</td>\n",
       "      <td>05/02/1998</td>\n",
       "      <td>Trường Đại học Công nghiệp Tp. HCM</td>\n",
       "      <td>Nữ</td>\n",
       "      <td>Toán:   2.50   Ngữ văn:   4.25   Vật lí:   4.2...</td>\n",
       "    </tr>\n",
       "  </tbody>\n",
       "</table>\n",
       "</div>"
      ],
      "text/plain": [
       "       SOBAODANH          HO_TEN   NGAY_SINH  \\\n",
       "34821  HUI014539   VÒNG NGỌC YẾN  15/05/1998   \n",
       "34822  HUI014540  VÒNG THANH YẾN  09/09/1998   \n",
       "34823  HUI014541  VŨ THỊ BẢO YẾN  19/05/1998   \n",
       "34824  HUI014542      VŨ THỊ YẾN  13/01/1998   \n",
       "34825  HUI014543   VƯƠNG THỊ YẾN  05/02/1998   \n",
       "\n",
       "                               TEN_CUMTHI GIOI_TINH  \\\n",
       "34821  Trường Đại học Công nghiệp Tp. HCM        Nữ   \n",
       "34822  Trường Đại học Công nghiệp Tp. HCM        Nữ   \n",
       "34823  Trường Đại học Công nghiệp Tp. HCM        Nữ   \n",
       "34824  Trường Đại học Công nghiệp Tp. HCM        Nữ   \n",
       "34825  Trường Đại học Công nghiệp Tp. HCM        Nữ   \n",
       "\n",
       "                                                DIEM_THI  \n",
       "34821  Toán:   0.75   Ngữ văn:   5.00   Hóa học:   4....  \n",
       "34822  Toán:   4.75   Ngữ văn:   5.75   Vật lí:   6.8...  \n",
       "34823  Toán:   4.00   Ngữ văn:   5.50   Vật lí:   5.6...  \n",
       "34824  Toán:   5.75   Ngữ văn:   6.00   Vật lí:   7.4...  \n",
       "34825  Toán:   2.50   Ngữ văn:   4.25   Vật lí:   4.2...  "
      ]
     },
     "execution_count": 6,
     "metadata": {},
     "output_type": "execute_result"
    }
   ],
   "source": [
    "df.tail()"
   ]
  },
  {
   "cell_type": "code",
   "execution_count": 8,
   "metadata": {},
   "outputs": [
    {
     "data": {
      "text/html": [
       "<div>\n",
       "<style scoped>\n",
       "    .dataframe tbody tr th:only-of-type {\n",
       "        vertical-align: middle;\n",
       "    }\n",
       "\n",
       "    .dataframe tbody tr th {\n",
       "        vertical-align: top;\n",
       "    }\n",
       "\n",
       "    .dataframe thead th {\n",
       "        text-align: right;\n",
       "    }\n",
       "</style>\n",
       "<table border=\"1\" class=\"dataframe\">\n",
       "  <thead>\n",
       "    <tr style=\"text-align: right;\">\n",
       "      <th></th>\n",
       "      <th>SOBAODANH</th>\n",
       "      <th>HO_TEN</th>\n",
       "      <th>NGAY_SINH</th>\n",
       "      <th>TEN_CUMTHI</th>\n",
       "      <th>GIOI_TINH</th>\n",
       "      <th>DIEM_THI</th>\n",
       "    </tr>\n",
       "  </thead>\n",
       "  <tbody>\n",
       "    <tr>\n",
       "      <th>count</th>\n",
       "      <td>34826</td>\n",
       "      <td>34826</td>\n",
       "      <td>34826</td>\n",
       "      <td>34826</td>\n",
       "      <td>34826</td>\n",
       "      <td>34826</td>\n",
       "    </tr>\n",
       "    <tr>\n",
       "      <th>unique</th>\n",
       "      <td>34826</td>\n",
       "      <td>23763</td>\n",
       "      <td>2040</td>\n",
       "      <td>4</td>\n",
       "      <td>2</td>\n",
       "      <td>33945</td>\n",
       "    </tr>\n",
       "    <tr>\n",
       "      <th>top</th>\n",
       "      <td>023004212</td>\n",
       "      <td>NGUYỄN THỊ HẰNG</td>\n",
       "      <td>01/01/1998</td>\n",
       "      <td>Trường Đại học Công nghiệp Tp. HCM</td>\n",
       "      <td>Nữ</td>\n",
       "      <td>Ngữ văn:   6.00</td>\n",
       "    </tr>\n",
       "    <tr>\n",
       "      <th>freq</th>\n",
       "      <td>1</td>\n",
       "      <td>58</td>\n",
       "      <td>225</td>\n",
       "      <td>14410</td>\n",
       "      <td>17833</td>\n",
       "      <td>5</td>\n",
       "    </tr>\n",
       "  </tbody>\n",
       "</table>\n",
       "</div>"
      ],
      "text/plain": [
       "        SOBAODANH           HO_TEN   NGAY_SINH  \\\n",
       "count       34826            34826       34826   \n",
       "unique      34826            23763        2040   \n",
       "top     023004212  NGUYỄN THỊ HẰNG  01/01/1998   \n",
       "freq            1               58         225   \n",
       "\n",
       "                                TEN_CUMTHI GIOI_TINH         DIEM_THI  \n",
       "count                                34826     34826            34826  \n",
       "unique                                   4         2            33945  \n",
       "top     Trường Đại học Công nghiệp Tp. HCM        Nữ  Ngữ văn:   6.00  \n",
       "freq                                 14410     17833                5  "
      ]
     },
     "execution_count": 8,
     "metadata": {},
     "output_type": "execute_result"
    }
   ],
   "source": [
    "df.describe(include='all')"
   ]
  },
  {
   "cell_type": "code",
   "execution_count": 9,
   "metadata": {},
   "outputs": [
    {
     "data": {
      "text/plain": [
       "'Toán:   2.00   Ngữ văn:   5.50   Lịch sử:   3.00   Địa lí:   5.00'"
      ]
     },
     "execution_count": 9,
     "metadata": {},
     "output_type": "execute_result"
    }
   ],
   "source": [
    "diem = df.loc[0, 'DIEM_THI']\n",
    "diem"
   ]
  },
  {
   "cell_type": "code",
   "execution_count": 10,
   "metadata": {},
   "outputs": [],
   "source": [
    "lst=diem.replace(':','').split('   ')"
   ]
  },
  {
   "cell_type": "code",
   "execution_count": 11,
   "metadata": {},
   "outputs": [
    {
     "data": {
      "text/plain": [
       "['Toán', '2.00', 'Ngữ văn', '5.50', 'Lịch sử', '3.00', 'Địa lí', '5.00']"
      ]
     },
     "execution_count": 11,
     "metadata": {},
     "output_type": "execute_result"
    }
   ],
   "source": [
    "lst"
   ]
  },
  {
   "cell_type": "code",
   "execution_count": 13,
   "metadata": {},
   "outputs": [
    {
     "data": {
      "text/plain": [
       "'5.50'"
      ]
     },
     "execution_count": 13,
     "metadata": {},
     "output_type": "execute_result"
    }
   ],
   "source": [
    "i = lst.index('Ngữ văn')\n",
    "lst[i+1]"
   ]
  },
  {
   "cell_type": "code",
   "execution_count": 14,
   "metadata": {},
   "outputs": [],
   "source": [
    "ds_mon = ['Toán', 'Ngữ văn', 'Địa lí', 'Lịch sử', 'Tiếng Anh', 'Sinh học', 'Vật lí', 'Hóa học']"
   ]
  },
  {
   "cell_type": "code",
   "execution_count": 18,
   "metadata": {},
   "outputs": [],
   "source": [
    "df['DIEM_THI_List'] = df['DIEM_THI'].str.replace(':','').str.split('   ')"
   ]
  },
  {
   "cell_type": "code",
   "execution_count": 19,
   "metadata": {},
   "outputs": [
    {
     "data": {
      "text/html": [
       "<div>\n",
       "<style scoped>\n",
       "    .dataframe tbody tr th:only-of-type {\n",
       "        vertical-align: middle;\n",
       "    }\n",
       "\n",
       "    .dataframe tbody tr th {\n",
       "        vertical-align: top;\n",
       "    }\n",
       "\n",
       "    .dataframe thead th {\n",
       "        text-align: right;\n",
       "    }\n",
       "</style>\n",
       "<table border=\"1\" class=\"dataframe\">\n",
       "  <thead>\n",
       "    <tr style=\"text-align: right;\">\n",
       "      <th></th>\n",
       "      <th>SOBAODANH</th>\n",
       "      <th>HO_TEN</th>\n",
       "      <th>NGAY_SINH</th>\n",
       "      <th>TEN_CUMTHI</th>\n",
       "      <th>GIOI_TINH</th>\n",
       "      <th>DIEM_THI</th>\n",
       "      <th>DIEM_THI_List</th>\n",
       "    </tr>\n",
       "  </thead>\n",
       "  <tbody>\n",
       "    <tr>\n",
       "      <th>0</th>\n",
       "      <td>018000001</td>\n",
       "      <td>DƯƠNG VIỆT AN</td>\n",
       "      <td>12/03/1998</td>\n",
       "      <td>Sở GDĐT Bắc Giang</td>\n",
       "      <td>Nam</td>\n",
       "      <td>Toán:   2.00   Ngữ văn:   5.50   Lịch sử:   3....</td>\n",
       "      <td>[Toán, 2.00, Ngữ văn, 5.50, Lịch sử, 3.00, Địa...</td>\n",
       "    </tr>\n",
       "    <tr>\n",
       "      <th>1</th>\n",
       "      <td>018000002</td>\n",
       "      <td>ĐỖ VĂN AN</td>\n",
       "      <td>09/12/1998</td>\n",
       "      <td>Sở GDĐT Bắc Giang</td>\n",
       "      <td>Nam</td>\n",
       "      <td>Toán:   5.50   Ngữ văn:   5.25   Địa lí:   5.5...</td>\n",
       "      <td>[Toán, 5.50, Ngữ văn, 5.25, Địa lí, 5.50, Tiến...</td>\n",
       "    </tr>\n",
       "    <tr>\n",
       "      <th>2</th>\n",
       "      <td>018000003</td>\n",
       "      <td>ĐỖ XUÂN AN</td>\n",
       "      <td>12/08/1997</td>\n",
       "      <td>Sở GDĐT Bắc Giang</td>\n",
       "      <td>Nam</td>\n",
       "      <td>Toán:   4.50   Ngữ văn:   5.50   Địa lí:   3.7...</td>\n",
       "      <td>[Toán, 4.50, Ngữ văn, 5.50, Địa lí, 3.75, Tiến...</td>\n",
       "    </tr>\n",
       "    <tr>\n",
       "      <th>3</th>\n",
       "      <td>018000004</td>\n",
       "      <td>ĐẶNG PHÚC AN</td>\n",
       "      <td>19/03/1998</td>\n",
       "      <td>Sở GDĐT Bắc Giang</td>\n",
       "      <td>Nữ</td>\n",
       "      <td>Toán:   3.00   Ngữ văn:   6.00   Địa lí:   5.5...</td>\n",
       "      <td>[Toán, 3.00, Ngữ văn, 6.00, Địa lí, 5.50, Tiến...</td>\n",
       "    </tr>\n",
       "    <tr>\n",
       "      <th>4</th>\n",
       "      <td>018000005</td>\n",
       "      <td>ĐẶNG VĂN AN</td>\n",
       "      <td>25/10/1998</td>\n",
       "      <td>Sở GDĐT Bắc Giang</td>\n",
       "      <td>Nam</td>\n",
       "      <td>Toán:   2.25   Ngữ văn:   4.75   Địa lí:   5.2...</td>\n",
       "      <td>[Toán, 2.25, Ngữ văn, 4.75, Địa lí, 5.25, Tiến...</td>\n",
       "    </tr>\n",
       "  </tbody>\n",
       "</table>\n",
       "</div>"
      ],
      "text/plain": [
       "   SOBAODANH         HO_TEN   NGAY_SINH         TEN_CUMTHI GIOI_TINH  \\\n",
       "0  018000001  DƯƠNG VIỆT AN  12/03/1998  Sở GDĐT Bắc Giang       Nam   \n",
       "1  018000002      ĐỖ VĂN AN  09/12/1998  Sở GDĐT Bắc Giang       Nam   \n",
       "2  018000003     ĐỖ XUÂN AN  12/08/1997  Sở GDĐT Bắc Giang       Nam   \n",
       "3  018000004   ĐẶNG PHÚC AN  19/03/1998  Sở GDĐT Bắc Giang        Nữ   \n",
       "4  018000005    ĐẶNG VĂN AN  25/10/1998  Sở GDĐT Bắc Giang       Nam   \n",
       "\n",
       "                                            DIEM_THI  \\\n",
       "0  Toán:   2.00   Ngữ văn:   5.50   Lịch sử:   3....   \n",
       "1  Toán:   5.50   Ngữ văn:   5.25   Địa lí:   5.5...   \n",
       "2  Toán:   4.50   Ngữ văn:   5.50   Địa lí:   3.7...   \n",
       "3  Toán:   3.00   Ngữ văn:   6.00   Địa lí:   5.5...   \n",
       "4  Toán:   2.25   Ngữ văn:   4.75   Địa lí:   5.2...   \n",
       "\n",
       "                                       DIEM_THI_List  \n",
       "0  [Toán, 2.00, Ngữ văn, 5.50, Lịch sử, 3.00, Địa...  \n",
       "1  [Toán, 5.50, Ngữ văn, 5.25, Địa lí, 5.50, Tiến...  \n",
       "2  [Toán, 4.50, Ngữ văn, 5.50, Địa lí, 3.75, Tiến...  \n",
       "3  [Toán, 3.00, Ngữ văn, 6.00, Địa lí, 5.50, Tiến...  \n",
       "4  [Toán, 2.25, Ngữ văn, 4.75, Địa lí, 5.25, Tiến...  "
      ]
     },
     "execution_count": 19,
     "metadata": {},
     "output_type": "execute_result"
    }
   ],
   "source": [
    "df.head()"
   ]
  },
  {
   "cell_type": "markdown",
   "metadata": {},
   "source": [
    "## cách 1: dùng replace và split "
   ]
  },
  {
   "cell_type": "code",
   "execution_count": 31,
   "metadata": {},
   "outputs": [],
   "source": [
    "def lay_diem(ten_mon, ds_diem):\n",
    "    if ten_mon in ds_diem:\n",
    "        vitri = ds_diem.index(ten_mon)\n",
    "        diem_thi = ds_diem[vitri + 1]\n",
    "        return diem_thi\n",
    "    else:\n",
    "        return np.nan"
   ]
  },
  {
   "cell_type": "code",
   "execution_count": 32,
   "metadata": {},
   "outputs": [],
   "source": [
    "for mon in ds_mon:\n",
    "    df[mon] = df['DIEM_THI_List'].apply(lambda x: lay_diem(mon, x))"
   ]
  },
  {
   "cell_type": "code",
   "execution_count": 33,
   "metadata": {},
   "outputs": [
    {
     "data": {
      "text/html": [
       "<div>\n",
       "<style scoped>\n",
       "    .dataframe tbody tr th:only-of-type {\n",
       "        vertical-align: middle;\n",
       "    }\n",
       "\n",
       "    .dataframe tbody tr th {\n",
       "        vertical-align: top;\n",
       "    }\n",
       "\n",
       "    .dataframe thead th {\n",
       "        text-align: right;\n",
       "    }\n",
       "</style>\n",
       "<table border=\"1\" class=\"dataframe\">\n",
       "  <thead>\n",
       "    <tr style=\"text-align: right;\">\n",
       "      <th></th>\n",
       "      <th>SOBAODANH</th>\n",
       "      <th>HO_TEN</th>\n",
       "      <th>NGAY_SINH</th>\n",
       "      <th>TEN_CUMTHI</th>\n",
       "      <th>GIOI_TINH</th>\n",
       "      <th>DIEM_THI</th>\n",
       "      <th>DIEM_THI_List</th>\n",
       "      <th>Toán</th>\n",
       "      <th>Ngữ văn</th>\n",
       "      <th>Địa lí</th>\n",
       "      <th>Lịch sử</th>\n",
       "      <th>Tiếng Anh</th>\n",
       "      <th>Sinh học</th>\n",
       "      <th>Vật lí</th>\n",
       "      <th>Hóa học</th>\n",
       "    </tr>\n",
       "  </thead>\n",
       "  <tbody>\n",
       "    <tr>\n",
       "      <th>0</th>\n",
       "      <td>018000001</td>\n",
       "      <td>DƯƠNG VIỆT AN</td>\n",
       "      <td>12/03/1998</td>\n",
       "      <td>Sở GDĐT Bắc Giang</td>\n",
       "      <td>Nam</td>\n",
       "      <td>Toán:   2.00   Ngữ văn:   5.50   Lịch sử:   3....</td>\n",
       "      <td>[Toán, 2.00, Ngữ văn, 5.50, Lịch sử, 3.00, Địa...</td>\n",
       "      <td>2.00</td>\n",
       "      <td>5.50</td>\n",
       "      <td>5.00</td>\n",
       "      <td>3.00</td>\n",
       "      <td>NaN</td>\n",
       "      <td>NaN</td>\n",
       "      <td>NaN</td>\n",
       "      <td>NaN</td>\n",
       "    </tr>\n",
       "    <tr>\n",
       "      <th>1</th>\n",
       "      <td>018000002</td>\n",
       "      <td>ĐỖ VĂN AN</td>\n",
       "      <td>09/12/1998</td>\n",
       "      <td>Sở GDĐT Bắc Giang</td>\n",
       "      <td>Nam</td>\n",
       "      <td>Toán:   5.50   Ngữ văn:   5.25   Địa lí:   5.5...</td>\n",
       "      <td>[Toán, 5.50, Ngữ văn, 5.25, Địa lí, 5.50, Tiến...</td>\n",
       "      <td>5.50</td>\n",
       "      <td>5.25</td>\n",
       "      <td>5.50</td>\n",
       "      <td>NaN</td>\n",
       "      <td>3.68</td>\n",
       "      <td>NaN</td>\n",
       "      <td>NaN</td>\n",
       "      <td>NaN</td>\n",
       "    </tr>\n",
       "    <tr>\n",
       "      <th>2</th>\n",
       "      <td>018000003</td>\n",
       "      <td>ĐỖ XUÂN AN</td>\n",
       "      <td>12/08/1997</td>\n",
       "      <td>Sở GDĐT Bắc Giang</td>\n",
       "      <td>Nam</td>\n",
       "      <td>Toán:   4.50   Ngữ văn:   5.50   Địa lí:   3.7...</td>\n",
       "      <td>[Toán, 4.50, Ngữ văn, 5.50, Địa lí, 3.75, Tiến...</td>\n",
       "      <td>4.50</td>\n",
       "      <td>5.50</td>\n",
       "      <td>3.75</td>\n",
       "      <td>NaN</td>\n",
       "      <td>2.25</td>\n",
       "      <td>NaN</td>\n",
       "      <td>NaN</td>\n",
       "      <td>NaN</td>\n",
       "    </tr>\n",
       "    <tr>\n",
       "      <th>3</th>\n",
       "      <td>018000004</td>\n",
       "      <td>ĐẶNG PHÚC AN</td>\n",
       "      <td>19/03/1998</td>\n",
       "      <td>Sở GDĐT Bắc Giang</td>\n",
       "      <td>Nữ</td>\n",
       "      <td>Toán:   3.00   Ngữ văn:   6.00   Địa lí:   5.5...</td>\n",
       "      <td>[Toán, 3.00, Ngữ văn, 6.00, Địa lí, 5.50, Tiến...</td>\n",
       "      <td>3.00</td>\n",
       "      <td>6.00</td>\n",
       "      <td>5.50</td>\n",
       "      <td>NaN</td>\n",
       "      <td>1.50</td>\n",
       "      <td>NaN</td>\n",
       "      <td>NaN</td>\n",
       "      <td>NaN</td>\n",
       "    </tr>\n",
       "    <tr>\n",
       "      <th>4</th>\n",
       "      <td>018000005</td>\n",
       "      <td>ĐẶNG VĂN AN</td>\n",
       "      <td>25/10/1998</td>\n",
       "      <td>Sở GDĐT Bắc Giang</td>\n",
       "      <td>Nam</td>\n",
       "      <td>Toán:   2.25   Ngữ văn:   4.75   Địa lí:   5.2...</td>\n",
       "      <td>[Toán, 2.25, Ngữ văn, 4.75, Địa lí, 5.25, Tiến...</td>\n",
       "      <td>2.25</td>\n",
       "      <td>4.75</td>\n",
       "      <td>5.25</td>\n",
       "      <td>NaN</td>\n",
       "      <td>2.00</td>\n",
       "      <td>NaN</td>\n",
       "      <td>NaN</td>\n",
       "      <td>NaN</td>\n",
       "    </tr>\n",
       "  </tbody>\n",
       "</table>\n",
       "</div>"
      ],
      "text/plain": [
       "   SOBAODANH         HO_TEN   NGAY_SINH         TEN_CUMTHI GIOI_TINH  \\\n",
       "0  018000001  DƯƠNG VIỆT AN  12/03/1998  Sở GDĐT Bắc Giang       Nam   \n",
       "1  018000002      ĐỖ VĂN AN  09/12/1998  Sở GDĐT Bắc Giang       Nam   \n",
       "2  018000003     ĐỖ XUÂN AN  12/08/1997  Sở GDĐT Bắc Giang       Nam   \n",
       "3  018000004   ĐẶNG PHÚC AN  19/03/1998  Sở GDĐT Bắc Giang        Nữ   \n",
       "4  018000005    ĐẶNG VĂN AN  25/10/1998  Sở GDĐT Bắc Giang       Nam   \n",
       "\n",
       "                                            DIEM_THI  \\\n",
       "0  Toán:   2.00   Ngữ văn:   5.50   Lịch sử:   3....   \n",
       "1  Toán:   5.50   Ngữ văn:   5.25   Địa lí:   5.5...   \n",
       "2  Toán:   4.50   Ngữ văn:   5.50   Địa lí:   3.7...   \n",
       "3  Toán:   3.00   Ngữ văn:   6.00   Địa lí:   5.5...   \n",
       "4  Toán:   2.25   Ngữ văn:   4.75   Địa lí:   5.2...   \n",
       "\n",
       "                                       DIEM_THI_List  Toán Ngữ văn Địa lí  \\\n",
       "0  [Toán, 2.00, Ngữ văn, 5.50, Lịch sử, 3.00, Địa...  2.00    5.50   5.00   \n",
       "1  [Toán, 5.50, Ngữ văn, 5.25, Địa lí, 5.50, Tiến...  5.50    5.25   5.50   \n",
       "2  [Toán, 4.50, Ngữ văn, 5.50, Địa lí, 3.75, Tiến...  4.50    5.50   3.75   \n",
       "3  [Toán, 3.00, Ngữ văn, 6.00, Địa lí, 5.50, Tiến...  3.00    6.00   5.50   \n",
       "4  [Toán, 2.25, Ngữ văn, 4.75, Địa lí, 5.25, Tiến...  2.25    4.75   5.25   \n",
       "\n",
       "  Lịch sử Tiếng Anh Sinh học Vật lí Hóa học  \n",
       "0    3.00       NaN      NaN    NaN     NaN  \n",
       "1     NaN      3.68      NaN    NaN     NaN  \n",
       "2     NaN      2.25      NaN    NaN     NaN  \n",
       "3     NaN      1.50      NaN    NaN     NaN  \n",
       "4     NaN      2.00      NaN    NaN     NaN  "
      ]
     },
     "execution_count": 33,
     "metadata": {},
     "output_type": "execute_result"
    }
   ],
   "source": [
    "df.head()"
   ]
  },
  {
   "cell_type": "code",
   "execution_count": 34,
   "metadata": {},
   "outputs": [],
   "source": [
    "df.drop(['DIEM_THI','DIEM_THI_List'], axis=1, inplace=True)\n",
    "# df = df.drop(['DIEM_THI','DIEM_THI_List'], axis=1)"
   ]
  },
  {
   "cell_type": "code",
   "execution_count": 35,
   "metadata": {},
   "outputs": [
    {
     "data": {
      "text/html": [
       "<div>\n",
       "<style scoped>\n",
       "    .dataframe tbody tr th:only-of-type {\n",
       "        vertical-align: middle;\n",
       "    }\n",
       "\n",
       "    .dataframe tbody tr th {\n",
       "        vertical-align: top;\n",
       "    }\n",
       "\n",
       "    .dataframe thead th {\n",
       "        text-align: right;\n",
       "    }\n",
       "</style>\n",
       "<table border=\"1\" class=\"dataframe\">\n",
       "  <thead>\n",
       "    <tr style=\"text-align: right;\">\n",
       "      <th></th>\n",
       "      <th>SOBAODANH</th>\n",
       "      <th>HO_TEN</th>\n",
       "      <th>NGAY_SINH</th>\n",
       "      <th>TEN_CUMTHI</th>\n",
       "      <th>GIOI_TINH</th>\n",
       "      <th>Toán</th>\n",
       "      <th>Ngữ văn</th>\n",
       "      <th>Địa lí</th>\n",
       "      <th>Lịch sử</th>\n",
       "      <th>Tiếng Anh</th>\n",
       "      <th>Sinh học</th>\n",
       "      <th>Vật lí</th>\n",
       "      <th>Hóa học</th>\n",
       "    </tr>\n",
       "  </thead>\n",
       "  <tbody>\n",
       "    <tr>\n",
       "      <th>0</th>\n",
       "      <td>018000001</td>\n",
       "      <td>DƯƠNG VIỆT AN</td>\n",
       "      <td>12/03/1998</td>\n",
       "      <td>Sở GDĐT Bắc Giang</td>\n",
       "      <td>Nam</td>\n",
       "      <td>2.00</td>\n",
       "      <td>5.50</td>\n",
       "      <td>5.00</td>\n",
       "      <td>3.00</td>\n",
       "      <td>NaN</td>\n",
       "      <td>NaN</td>\n",
       "      <td>NaN</td>\n",
       "      <td>NaN</td>\n",
       "    </tr>\n",
       "    <tr>\n",
       "      <th>1</th>\n",
       "      <td>018000002</td>\n",
       "      <td>ĐỖ VĂN AN</td>\n",
       "      <td>09/12/1998</td>\n",
       "      <td>Sở GDĐT Bắc Giang</td>\n",
       "      <td>Nam</td>\n",
       "      <td>5.50</td>\n",
       "      <td>5.25</td>\n",
       "      <td>5.50</td>\n",
       "      <td>NaN</td>\n",
       "      <td>3.68</td>\n",
       "      <td>NaN</td>\n",
       "      <td>NaN</td>\n",
       "      <td>NaN</td>\n",
       "    </tr>\n",
       "    <tr>\n",
       "      <th>2</th>\n",
       "      <td>018000003</td>\n",
       "      <td>ĐỖ XUÂN AN</td>\n",
       "      <td>12/08/1997</td>\n",
       "      <td>Sở GDĐT Bắc Giang</td>\n",
       "      <td>Nam</td>\n",
       "      <td>4.50</td>\n",
       "      <td>5.50</td>\n",
       "      <td>3.75</td>\n",
       "      <td>NaN</td>\n",
       "      <td>2.25</td>\n",
       "      <td>NaN</td>\n",
       "      <td>NaN</td>\n",
       "      <td>NaN</td>\n",
       "    </tr>\n",
       "    <tr>\n",
       "      <th>3</th>\n",
       "      <td>018000004</td>\n",
       "      <td>ĐẶNG PHÚC AN</td>\n",
       "      <td>19/03/1998</td>\n",
       "      <td>Sở GDĐT Bắc Giang</td>\n",
       "      <td>Nữ</td>\n",
       "      <td>3.00</td>\n",
       "      <td>6.00</td>\n",
       "      <td>5.50</td>\n",
       "      <td>NaN</td>\n",
       "      <td>1.50</td>\n",
       "      <td>NaN</td>\n",
       "      <td>NaN</td>\n",
       "      <td>NaN</td>\n",
       "    </tr>\n",
       "    <tr>\n",
       "      <th>4</th>\n",
       "      <td>018000005</td>\n",
       "      <td>ĐẶNG VĂN AN</td>\n",
       "      <td>25/10/1998</td>\n",
       "      <td>Sở GDĐT Bắc Giang</td>\n",
       "      <td>Nam</td>\n",
       "      <td>2.25</td>\n",
       "      <td>4.75</td>\n",
       "      <td>5.25</td>\n",
       "      <td>NaN</td>\n",
       "      <td>2.00</td>\n",
       "      <td>NaN</td>\n",
       "      <td>NaN</td>\n",
       "      <td>NaN</td>\n",
       "    </tr>\n",
       "  </tbody>\n",
       "</table>\n",
       "</div>"
      ],
      "text/plain": [
       "   SOBAODANH         HO_TEN   NGAY_SINH         TEN_CUMTHI GIOI_TINH  Toán  \\\n",
       "0  018000001  DƯƠNG VIỆT AN  12/03/1998  Sở GDĐT Bắc Giang       Nam  2.00   \n",
       "1  018000002      ĐỖ VĂN AN  09/12/1998  Sở GDĐT Bắc Giang       Nam  5.50   \n",
       "2  018000003     ĐỖ XUÂN AN  12/08/1997  Sở GDĐT Bắc Giang       Nam  4.50   \n",
       "3  018000004   ĐẶNG PHÚC AN  19/03/1998  Sở GDĐT Bắc Giang        Nữ  3.00   \n",
       "4  018000005    ĐẶNG VĂN AN  25/10/1998  Sở GDĐT Bắc Giang       Nam  2.25   \n",
       "\n",
       "  Ngữ văn Địa lí Lịch sử Tiếng Anh Sinh học Vật lí Hóa học  \n",
       "0    5.50   5.00    3.00       NaN      NaN    NaN     NaN  \n",
       "1    5.25   5.50     NaN      3.68      NaN    NaN     NaN  \n",
       "2    5.50   3.75     NaN      2.25      NaN    NaN     NaN  \n",
       "3    6.00   5.50     NaN      1.50      NaN    NaN     NaN  \n",
       "4    4.75   5.25     NaN      2.00      NaN    NaN     NaN  "
      ]
     },
     "execution_count": 35,
     "metadata": {},
     "output_type": "execute_result"
    }
   ],
   "source": [
    "df.head()"
   ]
  },
  {
   "cell_type": "markdown",
   "metadata": {},
   "source": [
    "## cách 2: dùng Regular Expression"
   ]
  },
  {
   "cell_type": "code",
   "execution_count": 36,
   "metadata": {},
   "outputs": [],
   "source": [
    "import re"
   ]
  },
  {
   "cell_type": "code",
   "execution_count": 37,
   "metadata": {},
   "outputs": [],
   "source": [
    "df2 = pd.read_excel('Diemthi_thpt_quocgia_2016.xlsx', sheet_name='Export Worksheet')"
   ]
  },
  {
   "cell_type": "code",
   "execution_count": 38,
   "metadata": {},
   "outputs": [
    {
     "data": {
      "text/plain": [
       "'Toán:   2.00   Ngữ văn:   5.50   Lịch sử:   3.00   Địa lí:   5.00'"
      ]
     },
     "execution_count": 38,
     "metadata": {},
     "output_type": "execute_result"
    }
   ],
   "source": [
    "diem = df2.loc[0, 'DIEM_THI']\n",
    "diem"
   ]
  },
  {
   "cell_type": "code",
   "execution_count": 45,
   "metadata": {},
   "outputs": [],
   "source": [
    "mau = 'Toán:\\s\\s\\s\\d+.\\d+'"
   ]
  },
  {
   "cell_type": "code",
   "execution_count": 49,
   "metadata": {},
   "outputs": [
    {
     "data": {
      "text/plain": [
       "('Toán', '2.00')"
      ]
     },
     "execution_count": 49,
     "metadata": {},
     "output_type": "execute_result"
    }
   ],
   "source": [
    "result = re.search(mau, diem)\n",
    "a = result.group().partition(':   ')\n",
    "a[0], a[2]"
   ]
  },
  {
   "cell_type": "code",
   "execution_count": 55,
   "metadata": {},
   "outputs": [],
   "source": [
    "for mon in ds_mon:\n",
    "    df2[mon] = df2['DIEM_THI'].str.extract('(' + mon + ':\\s\\s\\s\\d+.\\d+)', expand=True)[0].str.split(':   ', expand=True)[1]"
   ]
  },
  {
   "cell_type": "code",
   "execution_count": 56,
   "metadata": {},
   "outputs": [
    {
     "data": {
      "text/html": [
       "<div>\n",
       "<style scoped>\n",
       "    .dataframe tbody tr th:only-of-type {\n",
       "        vertical-align: middle;\n",
       "    }\n",
       "\n",
       "    .dataframe tbody tr th {\n",
       "        vertical-align: top;\n",
       "    }\n",
       "\n",
       "    .dataframe thead th {\n",
       "        text-align: right;\n",
       "    }\n",
       "</style>\n",
       "<table border=\"1\" class=\"dataframe\">\n",
       "  <thead>\n",
       "    <tr style=\"text-align: right;\">\n",
       "      <th></th>\n",
       "      <th>SOBAODANH</th>\n",
       "      <th>HO_TEN</th>\n",
       "      <th>NGAY_SINH</th>\n",
       "      <th>TEN_CUMTHI</th>\n",
       "      <th>GIOI_TINH</th>\n",
       "      <th>DIEM_THI</th>\n",
       "      <th>Toán</th>\n",
       "      <th>Ngữ văn</th>\n",
       "      <th>Địa lí</th>\n",
       "      <th>Lịch sử</th>\n",
       "      <th>Tiếng Anh</th>\n",
       "      <th>Sinh học</th>\n",
       "      <th>Vật lí</th>\n",
       "      <th>Hóa học</th>\n",
       "    </tr>\n",
       "  </thead>\n",
       "  <tbody>\n",
       "    <tr>\n",
       "      <th>0</th>\n",
       "      <td>018000001</td>\n",
       "      <td>DƯƠNG VIỆT AN</td>\n",
       "      <td>12/03/1998</td>\n",
       "      <td>Sở GDĐT Bắc Giang</td>\n",
       "      <td>Nam</td>\n",
       "      <td>Toán:   2.00   Ngữ văn:   5.50   Lịch sử:   3....</td>\n",
       "      <td>2.00</td>\n",
       "      <td>5.50</td>\n",
       "      <td>5.00</td>\n",
       "      <td>3.00</td>\n",
       "      <td>NaN</td>\n",
       "      <td>NaN</td>\n",
       "      <td>NaN</td>\n",
       "      <td>NaN</td>\n",
       "    </tr>\n",
       "    <tr>\n",
       "      <th>1</th>\n",
       "      <td>018000002</td>\n",
       "      <td>ĐỖ VĂN AN</td>\n",
       "      <td>09/12/1998</td>\n",
       "      <td>Sở GDĐT Bắc Giang</td>\n",
       "      <td>Nam</td>\n",
       "      <td>Toán:   5.50   Ngữ văn:   5.25   Địa lí:   5.5...</td>\n",
       "      <td>5.50</td>\n",
       "      <td>5.25</td>\n",
       "      <td>5.50</td>\n",
       "      <td>NaN</td>\n",
       "      <td>3.68</td>\n",
       "      <td>NaN</td>\n",
       "      <td>NaN</td>\n",
       "      <td>NaN</td>\n",
       "    </tr>\n",
       "    <tr>\n",
       "      <th>2</th>\n",
       "      <td>018000003</td>\n",
       "      <td>ĐỖ XUÂN AN</td>\n",
       "      <td>12/08/1997</td>\n",
       "      <td>Sở GDĐT Bắc Giang</td>\n",
       "      <td>Nam</td>\n",
       "      <td>Toán:   4.50   Ngữ văn:   5.50   Địa lí:   3.7...</td>\n",
       "      <td>4.50</td>\n",
       "      <td>5.50</td>\n",
       "      <td>3.75</td>\n",
       "      <td>NaN</td>\n",
       "      <td>2.25</td>\n",
       "      <td>NaN</td>\n",
       "      <td>NaN</td>\n",
       "      <td>NaN</td>\n",
       "    </tr>\n",
       "    <tr>\n",
       "      <th>3</th>\n",
       "      <td>018000004</td>\n",
       "      <td>ĐẶNG PHÚC AN</td>\n",
       "      <td>19/03/1998</td>\n",
       "      <td>Sở GDĐT Bắc Giang</td>\n",
       "      <td>Nữ</td>\n",
       "      <td>Toán:   3.00   Ngữ văn:   6.00   Địa lí:   5.5...</td>\n",
       "      <td>3.00</td>\n",
       "      <td>6.00</td>\n",
       "      <td>5.50</td>\n",
       "      <td>NaN</td>\n",
       "      <td>1.50</td>\n",
       "      <td>NaN</td>\n",
       "      <td>NaN</td>\n",
       "      <td>NaN</td>\n",
       "    </tr>\n",
       "    <tr>\n",
       "      <th>4</th>\n",
       "      <td>018000005</td>\n",
       "      <td>ĐẶNG VĂN AN</td>\n",
       "      <td>25/10/1998</td>\n",
       "      <td>Sở GDĐT Bắc Giang</td>\n",
       "      <td>Nam</td>\n",
       "      <td>Toán:   2.25   Ngữ văn:   4.75   Địa lí:   5.2...</td>\n",
       "      <td>2.25</td>\n",
       "      <td>4.75</td>\n",
       "      <td>5.25</td>\n",
       "      <td>NaN</td>\n",
       "      <td>2.00</td>\n",
       "      <td>NaN</td>\n",
       "      <td>NaN</td>\n",
       "      <td>NaN</td>\n",
       "    </tr>\n",
       "  </tbody>\n",
       "</table>\n",
       "</div>"
      ],
      "text/plain": [
       "   SOBAODANH         HO_TEN   NGAY_SINH         TEN_CUMTHI GIOI_TINH  \\\n",
       "0  018000001  DƯƠNG VIỆT AN  12/03/1998  Sở GDĐT Bắc Giang       Nam   \n",
       "1  018000002      ĐỖ VĂN AN  09/12/1998  Sở GDĐT Bắc Giang       Nam   \n",
       "2  018000003     ĐỖ XUÂN AN  12/08/1997  Sở GDĐT Bắc Giang       Nam   \n",
       "3  018000004   ĐẶNG PHÚC AN  19/03/1998  Sở GDĐT Bắc Giang        Nữ   \n",
       "4  018000005    ĐẶNG VĂN AN  25/10/1998  Sở GDĐT Bắc Giang       Nam   \n",
       "\n",
       "                                            DIEM_THI  Toán Ngữ văn Địa lí  \\\n",
       "0  Toán:   2.00   Ngữ văn:   5.50   Lịch sử:   3....  2.00    5.50   5.00   \n",
       "1  Toán:   5.50   Ngữ văn:   5.25   Địa lí:   5.5...  5.50    5.25   5.50   \n",
       "2  Toán:   4.50   Ngữ văn:   5.50   Địa lí:   3.7...  4.50    5.50   3.75   \n",
       "3  Toán:   3.00   Ngữ văn:   6.00   Địa lí:   5.5...  3.00    6.00   5.50   \n",
       "4  Toán:   2.25   Ngữ văn:   4.75   Địa lí:   5.2...  2.25    4.75   5.25   \n",
       "\n",
       "  Lịch sử Tiếng Anh Sinh học Vật lí Hóa học  \n",
       "0    3.00       NaN      NaN    NaN     NaN  \n",
       "1     NaN      3.68      NaN    NaN     NaN  \n",
       "2     NaN      2.25      NaN    NaN     NaN  \n",
       "3     NaN      1.50      NaN    NaN     NaN  \n",
       "4     NaN      2.00      NaN    NaN     NaN  "
      ]
     },
     "execution_count": 56,
     "metadata": {},
     "output_type": "execute_result"
    }
   ],
   "source": [
    "df2.head()"
   ]
  },
  {
   "cell_type": "code",
   "execution_count": 59,
   "metadata": {},
   "outputs": [],
   "source": [
    "df2.drop(['DIEM_THI'], axis=1, inplace=True)"
   ]
  },
  {
   "cell_type": "code",
   "execution_count": 60,
   "metadata": {},
   "outputs": [
    {
     "data": {
      "text/html": [
       "<div>\n",
       "<style scoped>\n",
       "    .dataframe tbody tr th:only-of-type {\n",
       "        vertical-align: middle;\n",
       "    }\n",
       "\n",
       "    .dataframe tbody tr th {\n",
       "        vertical-align: top;\n",
       "    }\n",
       "\n",
       "    .dataframe thead th {\n",
       "        text-align: right;\n",
       "    }\n",
       "</style>\n",
       "<table border=\"1\" class=\"dataframe\">\n",
       "  <thead>\n",
       "    <tr style=\"text-align: right;\">\n",
       "      <th></th>\n",
       "      <th>SOBAODANH</th>\n",
       "      <th>HO_TEN</th>\n",
       "      <th>NGAY_SINH</th>\n",
       "      <th>TEN_CUMTHI</th>\n",
       "      <th>GIOI_TINH</th>\n",
       "      <th>Toán</th>\n",
       "      <th>Ngữ văn</th>\n",
       "      <th>Địa lí</th>\n",
       "      <th>Lịch sử</th>\n",
       "      <th>Tiếng Anh</th>\n",
       "      <th>Sinh học</th>\n",
       "      <th>Vật lí</th>\n",
       "      <th>Hóa học</th>\n",
       "    </tr>\n",
       "  </thead>\n",
       "  <tbody>\n",
       "    <tr>\n",
       "      <th>0</th>\n",
       "      <td>018000001</td>\n",
       "      <td>DƯƠNG VIỆT AN</td>\n",
       "      <td>12/03/1998</td>\n",
       "      <td>Sở GDĐT Bắc Giang</td>\n",
       "      <td>Nam</td>\n",
       "      <td>2.00</td>\n",
       "      <td>5.50</td>\n",
       "      <td>5.00</td>\n",
       "      <td>3.00</td>\n",
       "      <td>NaN</td>\n",
       "      <td>NaN</td>\n",
       "      <td>NaN</td>\n",
       "      <td>NaN</td>\n",
       "    </tr>\n",
       "    <tr>\n",
       "      <th>1</th>\n",
       "      <td>018000002</td>\n",
       "      <td>ĐỖ VĂN AN</td>\n",
       "      <td>09/12/1998</td>\n",
       "      <td>Sở GDĐT Bắc Giang</td>\n",
       "      <td>Nam</td>\n",
       "      <td>5.50</td>\n",
       "      <td>5.25</td>\n",
       "      <td>5.50</td>\n",
       "      <td>NaN</td>\n",
       "      <td>3.68</td>\n",
       "      <td>NaN</td>\n",
       "      <td>NaN</td>\n",
       "      <td>NaN</td>\n",
       "    </tr>\n",
       "    <tr>\n",
       "      <th>2</th>\n",
       "      <td>018000003</td>\n",
       "      <td>ĐỖ XUÂN AN</td>\n",
       "      <td>12/08/1997</td>\n",
       "      <td>Sở GDĐT Bắc Giang</td>\n",
       "      <td>Nam</td>\n",
       "      <td>4.50</td>\n",
       "      <td>5.50</td>\n",
       "      <td>3.75</td>\n",
       "      <td>NaN</td>\n",
       "      <td>2.25</td>\n",
       "      <td>NaN</td>\n",
       "      <td>NaN</td>\n",
       "      <td>NaN</td>\n",
       "    </tr>\n",
       "    <tr>\n",
       "      <th>3</th>\n",
       "      <td>018000004</td>\n",
       "      <td>ĐẶNG PHÚC AN</td>\n",
       "      <td>19/03/1998</td>\n",
       "      <td>Sở GDĐT Bắc Giang</td>\n",
       "      <td>Nữ</td>\n",
       "      <td>3.00</td>\n",
       "      <td>6.00</td>\n",
       "      <td>5.50</td>\n",
       "      <td>NaN</td>\n",
       "      <td>1.50</td>\n",
       "      <td>NaN</td>\n",
       "      <td>NaN</td>\n",
       "      <td>NaN</td>\n",
       "    </tr>\n",
       "    <tr>\n",
       "      <th>4</th>\n",
       "      <td>018000005</td>\n",
       "      <td>ĐẶNG VĂN AN</td>\n",
       "      <td>25/10/1998</td>\n",
       "      <td>Sở GDĐT Bắc Giang</td>\n",
       "      <td>Nam</td>\n",
       "      <td>2.25</td>\n",
       "      <td>4.75</td>\n",
       "      <td>5.25</td>\n",
       "      <td>NaN</td>\n",
       "      <td>2.00</td>\n",
       "      <td>NaN</td>\n",
       "      <td>NaN</td>\n",
       "      <td>NaN</td>\n",
       "    </tr>\n",
       "  </tbody>\n",
       "</table>\n",
       "</div>"
      ],
      "text/plain": [
       "   SOBAODANH         HO_TEN   NGAY_SINH         TEN_CUMTHI GIOI_TINH  Toán  \\\n",
       "0  018000001  DƯƠNG VIỆT AN  12/03/1998  Sở GDĐT Bắc Giang       Nam  2.00   \n",
       "1  018000002      ĐỖ VĂN AN  09/12/1998  Sở GDĐT Bắc Giang       Nam  5.50   \n",
       "2  018000003     ĐỖ XUÂN AN  12/08/1997  Sở GDĐT Bắc Giang       Nam  4.50   \n",
       "3  018000004   ĐẶNG PHÚC AN  19/03/1998  Sở GDĐT Bắc Giang        Nữ  3.00   \n",
       "4  018000005    ĐẶNG VĂN AN  25/10/1998  Sở GDĐT Bắc Giang       Nam  2.25   \n",
       "\n",
       "  Ngữ văn Địa lí Lịch sử Tiếng Anh Sinh học Vật lí Hóa học  \n",
       "0    5.50   5.00    3.00       NaN      NaN    NaN     NaN  \n",
       "1    5.25   5.50     NaN      3.68      NaN    NaN     NaN  \n",
       "2    5.50   3.75     NaN      2.25      NaN    NaN     NaN  \n",
       "3    6.00   5.50     NaN      1.50      NaN    NaN     NaN  \n",
       "4    4.75   5.25     NaN      2.00      NaN    NaN     NaN  "
      ]
     },
     "execution_count": 60,
     "metadata": {},
     "output_type": "execute_result"
    }
   ],
   "source": [
    "df2.head()"
   ]
  },
  {
   "cell_type": "markdown",
   "metadata": {},
   "source": [
    "## cách 3: dùng thư viện re"
   ]
  },
  {
   "cell_type": "code",
   "execution_count": 61,
   "metadata": {},
   "outputs": [],
   "source": [
    "import re"
   ]
  },
  {
   "cell_type": "code",
   "execution_count": 64,
   "metadata": {},
   "outputs": [],
   "source": [
    "def lay_diem_re(ten_mon, ds_diem):\n",
    "    chuoi_mau = ten_mon + ':\\s\\s\\s\\d+.\\d+'\n",
    "    match = re.search(mau, diem)\n",
    "    if match:\n",
    "        return match.group().partition(':   ')[2]\n",
    "    else:\n",
    "        return np.nan"
   ]
  },
  {
   "cell_type": "code",
   "execution_count": 63,
   "metadata": {},
   "outputs": [],
   "source": [
    "df3 = pd.read_excel('Diemthi_thpt_quocgia_2016.xlsx', sheet_name='Export Worksheet')"
   ]
  },
  {
   "cell_type": "code",
   "execution_count": 65,
   "metadata": {},
   "outputs": [],
   "source": [
    "for mon in ds_mon:\n",
    "    df3[mon] = df3['DIEM_THI'].apply(lambda x: lay_diem_re(mon, x))"
   ]
  },
  {
   "cell_type": "code",
   "execution_count": 66,
   "metadata": {},
   "outputs": [
    {
     "data": {
      "text/html": [
       "<div>\n",
       "<style scoped>\n",
       "    .dataframe tbody tr th:only-of-type {\n",
       "        vertical-align: middle;\n",
       "    }\n",
       "\n",
       "    .dataframe tbody tr th {\n",
       "        vertical-align: top;\n",
       "    }\n",
       "\n",
       "    .dataframe thead th {\n",
       "        text-align: right;\n",
       "    }\n",
       "</style>\n",
       "<table border=\"1\" class=\"dataframe\">\n",
       "  <thead>\n",
       "    <tr style=\"text-align: right;\">\n",
       "      <th></th>\n",
       "      <th>SOBAODANH</th>\n",
       "      <th>HO_TEN</th>\n",
       "      <th>NGAY_SINH</th>\n",
       "      <th>TEN_CUMTHI</th>\n",
       "      <th>GIOI_TINH</th>\n",
       "      <th>DIEM_THI</th>\n",
       "      <th>Toán</th>\n",
       "      <th>Ngữ văn</th>\n",
       "      <th>Địa lí</th>\n",
       "      <th>Lịch sử</th>\n",
       "      <th>Tiếng Anh</th>\n",
       "      <th>Sinh học</th>\n",
       "      <th>Vật lí</th>\n",
       "      <th>Hóa học</th>\n",
       "    </tr>\n",
       "  </thead>\n",
       "  <tbody>\n",
       "    <tr>\n",
       "      <th>0</th>\n",
       "      <td>018000001</td>\n",
       "      <td>DƯƠNG VIỆT AN</td>\n",
       "      <td>12/03/1998</td>\n",
       "      <td>Sở GDĐT Bắc Giang</td>\n",
       "      <td>Nam</td>\n",
       "      <td>Toán:   2.00   Ngữ văn:   5.50   Lịch sử:   3....</td>\n",
       "      <td>2.00</td>\n",
       "      <td>2.00</td>\n",
       "      <td>2.00</td>\n",
       "      <td>2.00</td>\n",
       "      <td>2.00</td>\n",
       "      <td>2.00</td>\n",
       "      <td>2.00</td>\n",
       "      <td>2.00</td>\n",
       "    </tr>\n",
       "    <tr>\n",
       "      <th>1</th>\n",
       "      <td>018000002</td>\n",
       "      <td>ĐỖ VĂN AN</td>\n",
       "      <td>09/12/1998</td>\n",
       "      <td>Sở GDĐT Bắc Giang</td>\n",
       "      <td>Nam</td>\n",
       "      <td>Toán:   5.50   Ngữ văn:   5.25   Địa lí:   5.5...</td>\n",
       "      <td>2.00</td>\n",
       "      <td>2.00</td>\n",
       "      <td>2.00</td>\n",
       "      <td>2.00</td>\n",
       "      <td>2.00</td>\n",
       "      <td>2.00</td>\n",
       "      <td>2.00</td>\n",
       "      <td>2.00</td>\n",
       "    </tr>\n",
       "    <tr>\n",
       "      <th>2</th>\n",
       "      <td>018000003</td>\n",
       "      <td>ĐỖ XUÂN AN</td>\n",
       "      <td>12/08/1997</td>\n",
       "      <td>Sở GDĐT Bắc Giang</td>\n",
       "      <td>Nam</td>\n",
       "      <td>Toán:   4.50   Ngữ văn:   5.50   Địa lí:   3.7...</td>\n",
       "      <td>2.00</td>\n",
       "      <td>2.00</td>\n",
       "      <td>2.00</td>\n",
       "      <td>2.00</td>\n",
       "      <td>2.00</td>\n",
       "      <td>2.00</td>\n",
       "      <td>2.00</td>\n",
       "      <td>2.00</td>\n",
       "    </tr>\n",
       "    <tr>\n",
       "      <th>3</th>\n",
       "      <td>018000004</td>\n",
       "      <td>ĐẶNG PHÚC AN</td>\n",
       "      <td>19/03/1998</td>\n",
       "      <td>Sở GDĐT Bắc Giang</td>\n",
       "      <td>Nữ</td>\n",
       "      <td>Toán:   3.00   Ngữ văn:   6.00   Địa lí:   5.5...</td>\n",
       "      <td>2.00</td>\n",
       "      <td>2.00</td>\n",
       "      <td>2.00</td>\n",
       "      <td>2.00</td>\n",
       "      <td>2.00</td>\n",
       "      <td>2.00</td>\n",
       "      <td>2.00</td>\n",
       "      <td>2.00</td>\n",
       "    </tr>\n",
       "    <tr>\n",
       "      <th>4</th>\n",
       "      <td>018000005</td>\n",
       "      <td>ĐẶNG VĂN AN</td>\n",
       "      <td>25/10/1998</td>\n",
       "      <td>Sở GDĐT Bắc Giang</td>\n",
       "      <td>Nam</td>\n",
       "      <td>Toán:   2.25   Ngữ văn:   4.75   Địa lí:   5.2...</td>\n",
       "      <td>2.00</td>\n",
       "      <td>2.00</td>\n",
       "      <td>2.00</td>\n",
       "      <td>2.00</td>\n",
       "      <td>2.00</td>\n",
       "      <td>2.00</td>\n",
       "      <td>2.00</td>\n",
       "      <td>2.00</td>\n",
       "    </tr>\n",
       "  </tbody>\n",
       "</table>\n",
       "</div>"
      ],
      "text/plain": [
       "   SOBAODANH         HO_TEN   NGAY_SINH         TEN_CUMTHI GIOI_TINH  \\\n",
       "0  018000001  DƯƠNG VIỆT AN  12/03/1998  Sở GDĐT Bắc Giang       Nam   \n",
       "1  018000002      ĐỖ VĂN AN  09/12/1998  Sở GDĐT Bắc Giang       Nam   \n",
       "2  018000003     ĐỖ XUÂN AN  12/08/1997  Sở GDĐT Bắc Giang       Nam   \n",
       "3  018000004   ĐẶNG PHÚC AN  19/03/1998  Sở GDĐT Bắc Giang        Nữ   \n",
       "4  018000005    ĐẶNG VĂN AN  25/10/1998  Sở GDĐT Bắc Giang       Nam   \n",
       "\n",
       "                                            DIEM_THI  Toán Ngữ văn Địa lí  \\\n",
       "0  Toán:   2.00   Ngữ văn:   5.50   Lịch sử:   3....  2.00    2.00   2.00   \n",
       "1  Toán:   5.50   Ngữ văn:   5.25   Địa lí:   5.5...  2.00    2.00   2.00   \n",
       "2  Toán:   4.50   Ngữ văn:   5.50   Địa lí:   3.7...  2.00    2.00   2.00   \n",
       "3  Toán:   3.00   Ngữ văn:   6.00   Địa lí:   5.5...  2.00    2.00   2.00   \n",
       "4  Toán:   2.25   Ngữ văn:   4.75   Địa lí:   5.2...  2.00    2.00   2.00   \n",
       "\n",
       "  Lịch sử Tiếng Anh Sinh học Vật lí Hóa học  \n",
       "0    2.00      2.00     2.00   2.00    2.00  \n",
       "1    2.00      2.00     2.00   2.00    2.00  \n",
       "2    2.00      2.00     2.00   2.00    2.00  \n",
       "3    2.00      2.00     2.00   2.00    2.00  \n",
       "4    2.00      2.00     2.00   2.00    2.00  "
      ]
     },
     "execution_count": 66,
     "metadata": {},
     "output_type": "execute_result"
    }
   ],
   "source": [
    "df3.head()"
   ]
  },
  {
   "cell_type": "code",
   "execution_count": 68,
   "metadata": {},
   "outputs": [
    {
     "name": "stdout",
     "output_type": "stream",
     "text": [
      "<class 'pandas.core.frame.DataFrame'>\n",
      "RangeIndex: 34826 entries, 0 to 34825\n",
      "Data columns (total 13 columns):\n",
      "SOBAODANH     34826 non-null object\n",
      "HO_TEN        34826 non-null object\n",
      "NGAY_SINH     34826 non-null object\n",
      "TEN_CUMTHI    34826 non-null object\n",
      "GIOI_TINH     34826 non-null object\n",
      "Toán          34500 non-null object\n",
      "Ngữ văn       33894 non-null object\n",
      "Địa lí        22171 non-null object\n",
      "Lịch sử       3235 non-null object\n",
      "Tiếng Anh     30200 non-null object\n",
      "Sinh học      3571 non-null object\n",
      "Vật lí        10157 non-null object\n",
      "Hóa học       8097 non-null object\n",
      "dtypes: object(13)\n",
      "memory usage: 3.5+ MB\n"
     ]
    }
   ],
   "source": [
    "df2.info()"
   ]
  },
  {
   "cell_type": "code",
   "execution_count": 69,
   "metadata": {},
   "outputs": [],
   "source": [
    "df2['Toán'] = df2['Toán'].astype(float)"
   ]
  },
  {
   "cell_type": "code",
   "execution_count": 70,
   "metadata": {},
   "outputs": [
    {
     "data": {
      "text/plain": [
       "(4.230152173913043, 4.25)"
      ]
     },
     "execution_count": 70,
     "metadata": {},
     "output_type": "execute_result"
    }
   ],
   "source": [
    "df2['Toán'].mean(),df2['Toán'].median()"
   ]
  },
  {
   "cell_type": "code",
   "execution_count": 71,
   "metadata": {},
   "outputs": [],
   "source": [
    "import matplotlib.pyplot as plt\n",
    "import seaborn as sns"
   ]
  },
  {
   "cell_type": "code",
   "execution_count": 72,
   "metadata": {},
   "outputs": [
    {
     "name": "stderr",
     "output_type": "stream",
     "text": [
      "c:\\program files\\python36\\lib\\site-packages\\numpy\\lib\\histograms.py:754: RuntimeWarning: invalid value encountered in greater_equal\n",
      "  keep = (tmp_a >= first_edge)\n",
      "c:\\program files\\python36\\lib\\site-packages\\numpy\\lib\\histograms.py:755: RuntimeWarning: invalid value encountered in less_equal\n",
      "  keep &= (tmp_a <= last_edge)\n"
     ]
    },
    {
     "data": {
      "image/png": "[encoded data removed]",
      "text/plain": [
       "<Figure size 432x288 with 1 Axes>"
      ]
     },
     "metadata": {
      "needs_background": "light"
     },
     "output_type": "display_data"
    }
   ],
   "source": [
    "plt.hist(df2['Toán'])\n",
    "plt.show()"
   ]
  },
  {
   "cell_type": "code",
   "execution_count": 74,
   "metadata": {},
   "outputs": [
    {
     "name": "stderr",
     "output_type": "stream",
     "text": [
      "c:\\program files\\python36\\lib\\site-packages\\scipy\\stats\\stats.py:1713: FutureWarning: Using a non-tuple sequence for multidimensional indexing is deprecated; use `arr[tuple(seq)]` instead of `arr[seq]`. In the future this will be interpreted as an array index, `arr[np.array(seq)]`, which will result either in an error or a different result.\n",
      "  return np.add.reduce(sorted[indexer] * weights, axis=axis) / sumval\n"
     ]
    },
    {
     "data": {
      "image/png": "[encoded data removed]",
      "text/plain": [
       "<Figure size 432x288 with 1 Axes>"
      ]
     },
     "metadata": {
      "needs_background": "light"
     },
     "output_type": "display_data"
    }
   ],
   "source": [
    "sns.distplot(df2['Toán'].dropna())\n",
    "plt.show()"
   ]
  },
  {
   "cell_type": "code",
   "execution_count": null,
   "metadata": {},
   "outputs": [],
   "source": []
  }
 ],
 "metadata": {
  "kernelspec": {
   "display_name": "Python 3",
   "language": "python",
   "name": "python3"
  },
  "language_info": {
   "codemirror_mode": {
    "name": "ipython",
    "version": 3
   },
   "file_extension": ".py",
   "mimetype": "text/x-python",
   "name": "python",
   "nbconvert_exporter": "python",
   "pygments_lexer": "ipython3",
   "version": "3.8.3"
  }
 },
 "nbformat": 4,
 "nbformat_minor": 2
}
