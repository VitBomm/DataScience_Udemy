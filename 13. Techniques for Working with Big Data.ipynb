{
 "cells": [
  {
   "cell_type": "markdown",
   "metadata": {},
   "source": [
    "## 13. Techniques for Working with Big Data\n",
    "\n",
    "#### Techniques \n",
    "1. **class labeling**\n",
    "    - number\n",
    "    - text\n",
    "    - digital(images)\n",
    "    - digital(video data)\n",
    "    - digital(audio data)\n",
    "2. **data cleansing = data cleaning = data scrubbing**<br/>\n",
    "Verify that a digital image observation is ready for processing and specific approaches exist that can ensure the audio quality of your file is adaquate to proceed\n",
    "3. **missing values**<br>\n",
    "Big data have a big missing values.<br>\n",
    "\n",
    "#### Data Mining\n",
    "Example: Text data mining<br>\n",
    "the process of deriving valuable, unstructured data from a text.\n",
    "Think of the huge amount of text that is stored in digital format. There are many scientific projects in progress which aim to extract specific text information from digital sources \n",
    "#### Data Masking\n",
    "If you want to maintain a credible business or governmental activity you must preserve confidential infomation. However when personal information is shared online it doesn't mean that it can't be touched or used for analysis. Instead you must apploy some data masking techniques so you can analyze the information without compromising private details like data shuffling.\n",
    "* It conceals the original data with random and false data\n",
    "* conduct analysis \n",
    "* keep all confidential information in a secure place"
   ]
  }
 ],
 "metadata": {
  "kernelspec": {
   "display_name": "Python 3",
   "language": "python",
   "name": "python3"
  },
  "language_info": {
   "codemirror_mode": {
    "name": "ipython",
    "version": 3
   },
   "file_extension": ".py",
   "mimetype": "text/x-python",
   "name": "python",
   "nbconvert_exporter": "python",
   "pygments_lexer": "ipython3",
   "version": "3.8.3"
  }
 },
 "nbformat": 4,
 "nbformat_minor": 4
}
