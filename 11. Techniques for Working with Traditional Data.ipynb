{
 "cells": [
  {
   "cell_type": "markdown",
   "metadata": {},
   "source": [
    "## 11. Techiques for Working with Traditional Data\n",
    "\n",
    "RAW DATA -> DATA PRE-PROCESSING -> PROCESSING -> INFORMATION\n",
    "\n",
    "####            1. RAW DATA = raw facts = primary data\n",
    "* Cannot be analysed straight away\n",
    "* It is untouched data you have accumulated and stored on the server\n",
    "* Data collection\n",
    "\n",
    "<b>DATA COLLECTION</b><br>\n",
    "On a scale of 1 to 10, how much do you like our product?<br>\n",
    "1 2 3 4 5 6 7 8 9 10\n",
    "\n",
    "<b>GATHER DATA AUTOMATIC</b><br>\n",
    "Cookies are common example of this. They provide companies with detailed information about a user's activity on a Web site.\n",
    "\n",
    "**Both -> improve customer satisfaction**\n",
    "\n",
    "####           2. DATA PRE-PROCESSING\n",
    "\n",
    "* Convert your raw data into a format that is more understandable\n",
    "* Useful for further processing\n",
    "* Attempts to fix the problems that can inevitably occur with data gathering a problem\n",
    "\n",
    "#### Techniques \n",
    "1. **class labeling**\n",
    "     1. Numerical\n",
    "    - Example: Number of goods sold\n",
    "    - Can be manipulated\n",
    "     2. Categorical\n",
    "    - New York, USA\n",
    "    - Cannot be manipulated\n",
    "2. **data cleansing = data cleaning = data scrubbing**<br/>\n",
    "Example: Provided with a data set containing the US states and a quarter of the names are misspelled\n",
    "Nwe York -> New York and Washington CD -> Washington DC\n",
    "3. **missing values**<br>\n",
    "missing some value -> entire record be disregarded or enter the average value\n",
    "\n",
    "#### Balacing\n",
    "Example:<br>\n",
    "Complied a survey to gather data on the shopping habits of men and women. You want to ascertain who spends more money during the weekend for example. However when you have your data you'll notice that 80% percent of repsondents were female and only 20% percent male. The trends you may notice are not going to be towards men as much as they are to women to counteract this problem applying balancing techniques would be the best thing to do such as taking an equal number.<br>\n",
    "8/2 -> 2/2 (female/male) So the ratio is 50/50\n",
    "\n",
    "#### Data Shuffling\n",
    "Shuffling is a way to randomize data\n",
    "* Prevents unwanted patterns\n",
    "* Improves predictive performance\n",
    "* Helps avoid misleading results"
   ]
  },
  {
   "cell_type": "code",
   "execution_count": null,
   "metadata": {},
   "outputs": [],
   "source": []
  }
 ],
 "metadata": {
  "kernelspec": {
   "display_name": "Python 3",
   "language": "python",
   "name": "python3"
  },
  "language_info": {
   "codemirror_mode": {
    "name": "ipython",
    "version": 3
   },
   "file_extension": ".py",
   "mimetype": "text/x-python",
   "name": "python",
   "nbconvert_exporter": "python",
   "pygments_lexer": "ipython3",
   "version": "3.8.3"
  }
 },
 "nbformat": 4,
 "nbformat_minor": 4
}
